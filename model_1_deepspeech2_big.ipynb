{
 "cells": [
  {
   "cell_type": "code",
   "execution_count": 37,
   "metadata": {},
   "outputs": [],
   "source": [
    "import pandas as pd \n",
    "import numpy as np\n",
    "from tensorflow import keras\n",
    "import matplotlib.pyplot as plt\n",
    "from IPython import display\n",
    "from jiwer import wer\n",
    "import tensorflow as tf\n",
    "from tensorflow.keras import layers"
   ]
  },
  {
   "cell_type": "code",
   "execution_count": 38,
   "metadata": {},
   "outputs": [],
   "source": [
    "import os\n",
    "os.environ[\"CUDA_VISIBLE_DEVICES\"] = \"-1\"\n"
   ]
  },
  {
   "cell_type": "code",
   "execution_count": 39,
   "metadata": {},
   "outputs": [],
   "source": [
    "data_path = './dataset_1/train'\n",
    "wavs_path = data_path + '/audio/'\n",
    "transcript_path = data_path + '/transcription.txt'"
   ]
  },
  {
   "cell_type": "code",
   "execution_count": 40,
   "metadata": {},
   "outputs": [],
   "source": [
    "with open(transcript_path, 'r', encoding='utf-8') as file:\n",
    "    data = file.read()"
   ]
  },
  {
   "cell_type": "code",
   "execution_count": 41,
   "metadata": {},
   "outputs": [
    {
     "name": "stdout",
     "output_type": "stream",
     "text": [
      "      file_name                           transcription\n",
      "0      0001_030                         यह है मोटा राजा\n",
      "1      0001_043                         यह है मोटा राजा\n",
      "2      0002_002            मोटे राजा का है दुबला कुत्ता\n",
      "3      0002_019            मोटे राजा का है दुबला कुत्ता\n",
      "4      0002_039            मोटे राजा का है दुबला कुत्ता\n",
      "...         ...                                     ...\n",
      "99920  6049_047  हम बुलबुलें हैं इसकी यह गुलसिताँ हमारा\n",
      "99921  6049_050  हम बुलबुलें हैं इसकी यह गुलसिताँ हमारा\n",
      "99922  6049_078  हम बुलबुलें हैं इसकी यह गुलसिताँ हमारा\n",
      "99923  6049_080  हम बुलबुलें हैं इसकी यह गुलसिताँ हमारा\n",
      "99924  6049_097  हम बुलबुलें हैं इसकी यह गुलसिताँ हमारा\n",
      "\n",
      "[99925 rows x 2 columns]\n"
     ]
    }
   ],
   "source": [
    "file_names = []\n",
    "transcriptions = []\n",
    "\n",
    "with open(transcript_path, 'r', encoding='utf-8') as file:\n",
    "    data = file.readlines()\n",
    "\n",
    "for line in data:\n",
    "    line = line.strip()  \n",
    "    if line: \n",
    "        parts = line.split(maxsplit=1) \n",
    "        if len(parts) == 2:\n",
    "            file_names.append(parts[0])\n",
    "            transcriptions.append(parts[1])\n",
    "\n",
    "df = pd.DataFrame({\n",
    "    'file_name': file_names,\n",
    "    'transcription': transcriptions\n",
    "})\n",
    "\n",
    "print(df)\n",
    "df.to_csv(data_path + 'transcriptions.csv', index=False, encoding='utf-8-sig')"
   ]
  },
  {
   "cell_type": "code",
   "execution_count": 42,
   "metadata": {},
   "outputs": [
    {
     "data": {
      "text/html": [
       "<div>\n",
       "<style scoped>\n",
       "    .dataframe tbody tr th:only-of-type {\n",
       "        vertical-align: middle;\n",
       "    }\n",
       "\n",
       "    .dataframe tbody tr th {\n",
       "        vertical-align: top;\n",
       "    }\n",
       "\n",
       "    .dataframe thead th {\n",
       "        text-align: right;\n",
       "    }\n",
       "</style>\n",
       "<table border=\"1\" class=\"dataframe\">\n",
       "  <thead>\n",
       "    <tr style=\"text-align: right;\">\n",
       "      <th></th>\n",
       "      <th>file_name</th>\n",
       "      <th>transcription</th>\n",
       "    </tr>\n",
       "  </thead>\n",
       "  <tbody>\n",
       "    <tr>\n",
       "      <th>0</th>\n",
       "      <td>2125_046</td>\n",
       "      <td>जरा मुझे बाहर निकाल कर देखो कि मेरा कुंवर ठीक ...</td>\n",
       "    </tr>\n",
       "    <tr>\n",
       "      <th>1</th>\n",
       "      <td>3126_077</td>\n",
       "      <td>सिद्धेश्वरीने पूछा</td>\n",
       "    </tr>\n",
       "    <tr>\n",
       "      <th>2</th>\n",
       "      <td>2971_019</td>\n",
       "      <td>रामचंद्र बिगड़ उठा</td>\n",
       "    </tr>\n",
       "    <tr>\n",
       "      <th>3</th>\n",
       "      <td>5960_037</td>\n",
       "      <td>जब वह स्वयं मंत्रिमंडल में सम्मिलित होता है</td>\n",
       "    </tr>\n",
       "    <tr>\n",
       "      <th>4</th>\n",
       "      <td>0026_027</td>\n",
       "      <td>माँ हँस दीं</td>\n",
       "    </tr>\n",
       "  </tbody>\n",
       "</table>\n",
       "</div>"
      ],
      "text/plain": [
       "  file_name                                      transcription\n",
       "0  2125_046  जरा मुझे बाहर निकाल कर देखो कि मेरा कुंवर ठीक ...\n",
       "1  3126_077                                 सिद्धेश्वरीने पूछा\n",
       "2  2971_019                                 रामचंद्र बिगड़ उठा\n",
       "3  5960_037        जब वह स्वयं मंत्रिमंडल में सम्मिलित होता है\n",
       "4  0026_027                                        माँ हँस दीं"
      ]
     },
     "execution_count": 42,
     "metadata": {},
     "output_type": "execute_result"
    }
   ],
   "source": [
    "df = df.sample(frac=1).reset_index(drop=True)\n",
    "df.head()"
   ]
  },
  {
   "cell_type": "code",
   "execution_count": 43,
   "metadata": {},
   "outputs": [
    {
     "name": "stdout",
     "output_type": "stream",
     "text": [
      "Size of the training set : 89932\n",
      "Size of the validation set : 9993\n"
     ]
    }
   ],
   "source": [
    "split = int(len(df)*0.9)\n",
    "df_train=df[:split]\n",
    "df_val=df[split:]\n",
    "print(f\"Size of the training set : {len(df_train)}\")\n",
    "print(f\"Size of the validation set : {len(df_val)}\")"
   ]
  },
  {
   "cell_type": "markdown",
   "metadata": {},
   "source": [
    "# Preprocessing"
   ]
  },
  {
   "cell_type": "code",
   "execution_count": 44,
   "metadata": {},
   "outputs": [
    {
     "name": "stdout",
     "output_type": "stream",
     "text": [
      "The vocabulary size is : ['', ' ', '!', \"'\", '?', 'ँ', 'ं', 'ः', 'अ', 'आ', 'इ', 'ई', 'उ', 'ऊ', 'ऋ', 'ए', 'ऐ', 'ओ', 'औ', 'क', 'ख', 'ग', 'घ', 'ङ', 'च', 'छ', 'ज', 'झ', 'ञ', 'ट', 'ठ', 'ड', 'ढ', 'ण', 'त', 'थ', 'द', 'ध', 'न', 'प', 'फ', 'ब', 'भ', 'म', 'य', 'र', 'ल', 'व', 'श', 'ष', 'स', 'ह', 'ा', 'ि', 'ी', 'ु', 'ू', 'ृ', 'े', 'ै', 'ो', 'ौ', '्', '।', '०', '१', '२', '३', '४', '५', '६', '७', '८', '९']\n",
      "size = : 74\n"
     ]
    }
   ],
   "source": [
    "import numpy as np\n",
    "from tensorflow import keras\n",
    "\n",
    "characters = sorted(set(\"अआइईउऊऋएऐओऔकखगघङचछजझञटठडढणतथदधनपफबभमयरलवशषसहाि ी ु ू ृ े ै ो ौ ं ः ् ँ०१२३४५६७८९'?!। \"))\n",
    "\n",
    "char_to_num = keras.layers.StringLookup(vocabulary=characters, oov_token=\"\")\n",
    "num_to_char = keras.layers.StringLookup(vocabulary=char_to_num.get_vocabulary(), oov_token=\"\", invert=True)\n",
    "print(f\"The vocabulary size is : {char_to_num.get_vocabulary()}\")\n",
    "print(f\"size = : {char_to_num.vocabulary_size()}\")"
   ]
  },
  {
   "cell_type": "code",
   "execution_count": 45,
   "metadata": {},
   "outputs": [],
   "source": [
    "frame_length=256\n",
    "frame_step=160\n",
    "fft_length=384"
   ]
  },
  {
   "cell_type": "code",
   "execution_count": 46,
   "metadata": {},
   "outputs": [
    {
     "name": "stdout",
     "output_type": "stream",
     "text": [
      "Size of the training set: 50000\n",
      "Size of the validation set: 5000\n"
     ]
    }
   ],
   "source": [
    "# Random sampling\n",
    "train_sample_size = 50000\n",
    "test_sample_size = 5000\n",
    "\n",
    "df = df.sample(frac=1, random_state=42).reset_index(drop=True)  # Shuffle the dataset\n",
    "df_train = df[:train_sample_size]\n",
    "df_val = df[train_sample_size:train_sample_size + test_sample_size]\n",
    "\n",
    "print(f\"Size of the training set: {len(df_train)}\")\n",
    "print(f\"Size of the validation set: {len(df_val)}\")\n"
   ]
  },
  {
   "cell_type": "code",
   "execution_count": 47,
   "metadata": {},
   "outputs": [],
   "source": [
    "def encode_single_sample(wav_file, label):\n",
    "    file=tf.io.read_file(wavs_path+wav_file+\".wav\")\n",
    "    audio,_=tf.audio.decode_wav(file)\n",
    "    audio=tf.squeeze(audio, axis=-1)\n",
    "    audio=tf.cast(audio, tf.float32)\n",
    "    spectogram=tf.signal.stft(audio,frame_length=frame_length,frame_step=frame_step,fft_length=fft_length)\n",
    "    spectogram=tf.abs(spectogram)\n",
    "    spectogram=tf.math.pow(spectogram, 0.5)\n",
    "    means=tf.math.reduce_mean(spectogram,1,keepdims=True)\n",
    "    stddevs=tf.math.reduce_std(spectogram,1,keepdims=True)\n",
    "    spectogram=(spectogram-means)/(stddevs + 1e-10)\n",
    "    label=tf.strings.lower(label)\n",
    "    label=tf.strings.unicode_split(label, input_encoding=\"UTF-8\")\n",
    "    label=char_to_num(label)\n",
    "    return spectogram, label"
   ]
  },
  {
   "cell_type": "code",
   "execution_count": 48,
   "metadata": {},
   "outputs": [],
   "source": [
    "batch_size=16\n",
    "\n",
    "train_dataset=tf.data.Dataset.from_tensor_slices((list(df_train['file_name']), list(df_train['transcription'])))\n",
    "train_dataset=(train_dataset.map(encode_single_sample, num_parallel_calls=tf.data.AUTOTUNE).padded_batch(batch_size).prefetch(buffer_size=tf.data.AUTOTUNE))\n",
    "\n",
    "\n",
    "val_dataset=tf.data.Dataset.from_tensor_slices((list(df_val['file_name']), list(df_val['transcription'])))\n",
    "val_dataset=(val_dataset.map(encode_single_sample, num_parallel_calls=tf.data.AUTOTUNE).padded_batch(batch_size).prefetch(buffer_size=tf.data.AUTOTUNE))"
   ]
  },
  {
   "cell_type": "code",
   "execution_count": 49,
   "metadata": {},
   "outputs": [
    {
     "data": {
      "text/html": [
       "\n",
       "                <audio  controls=\"controls\" >\n",
       "                    <source src=\"data:audio/wav;base64,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\" type=\"audio/wav\" />\n",
       "                    Your browser does not support the audio element.\n",
       "                </audio>\n",
       "              "
      ],
      "text/plain": [
       "<IPython.lib.display.Audio object>"
      ]
     },
     "metadata": {},
     "output_type": "display_data"
    },
    {
     "name": "stderr",
     "output_type": "stream",
     "text": [
      "/home/money_heist_435601/.local/lib/python3.10/site-packages/IPython/core/pylabtools.py:170: UserWarning: Glyph 2348 (\\N{DEVANAGARI LETTER BA}) missing from font(s) DejaVu Sans.\n",
      "  fig.canvas.print_figure(bytes_io, **kw)\n",
      "/home/money_heist_435601/.local/lib/python3.10/site-packages/IPython/core/pylabtools.py:170: UserWarning: Matplotlib currently does not support Devanagari natively.\n",
      "  fig.canvas.print_figure(bytes_io, **kw)\n",
      "/home/money_heist_435601/.local/lib/python3.10/site-packages/IPython/core/pylabtools.py:170: UserWarning: Glyph 2360 (\\N{DEVANAGARI LETTER SA}) missing from font(s) DejaVu Sans.\n",
      "  fig.canvas.print_figure(bytes_io, **kw)\n",
      "/home/money_heist_435601/.local/lib/python3.10/site-packages/IPython/core/pylabtools.py:170: UserWarning: Glyph 2351 (\\N{DEVANAGARI LETTER YA}) missing from font(s) DejaVu Sans.\n",
      "  fig.canvas.print_figure(bytes_io, **kw)\n",
      "/home/money_heist_435601/.local/lib/python3.10/site-packages/IPython/core/pylabtools.py:170: UserWarning: Glyph 2361 (\\N{DEVANAGARI LETTER HA}) missing from font(s) DejaVu Sans.\n",
      "  fig.canvas.print_figure(bytes_io, **kw)\n",
      "/home/money_heist_435601/.local/lib/python3.10/site-packages/IPython/core/pylabtools.py:170: UserWarning: Glyph 2368 (\\N{DEVANAGARI VOWEL SIGN II}) missing from font(s) DejaVu Sans.\n",
      "  fig.canvas.print_figure(bytes_io, **kw)\n",
      "/home/money_heist_435601/.local/lib/python3.10/site-packages/IPython/core/pylabtools.py:170: UserWarning: Glyph 2350 (\\N{DEVANAGARI LETTER MA}) missing from font(s) DejaVu Sans.\n",
      "  fig.canvas.print_figure(bytes_io, **kw)\n",
      "/home/money_heist_435601/.local/lib/python3.10/site-packages/IPython/core/pylabtools.py:170: UserWarning: Glyph 2366 (\\N{DEVANAGARI VOWEL SIGN AA}) missing from font(s) DejaVu Sans.\n",
      "  fig.canvas.print_figure(bytes_io, **kw)\n",
      "/home/money_heist_435601/.local/lib/python3.10/site-packages/IPython/core/pylabtools.py:170: UserWarning: Glyph 2352 (\\N{DEVANAGARI LETTER RA}) missing from font(s) DejaVu Sans.\n",
      "  fig.canvas.print_figure(bytes_io, **kw)\n",
      "/home/money_heist_435601/.local/lib/python3.10/site-packages/IPython/core/pylabtools.py:170: UserWarning: Glyph 2347 (\\N{DEVANAGARI LETTER PHA}) missing from font(s) DejaVu Sans.\n",
      "  fig.canvas.print_figure(bytes_io, **kw)\n",
      "/home/money_heist_435601/.local/lib/python3.10/site-packages/IPython/core/pylabtools.py:170: UserWarning: Glyph 2376 (\\N{DEVANAGARI VOWEL SIGN AI}) missing from font(s) DejaVu Sans.\n",
      "  fig.canvas.print_figure(bytes_io, **kw)\n",
      "/home/money_heist_435601/.local/lib/python3.10/site-packages/IPython/core/pylabtools.py:170: UserWarning: Glyph 2354 (\\N{DEVANAGARI LETTER LA}) missing from font(s) DejaVu Sans.\n",
      "  fig.canvas.print_figure(bytes_io, **kw)\n"
     ]
    },
    {
     "data": {
      "image/png": "[encoded data removed]",
      "text/plain": [
       "<Figure size 800x500 with 2 Axes>"
      ]
     },
     "metadata": {},
     "output_type": "display_data"
    }
   ],
   "source": [
    "fig=plt.figure(figsize=(8,5))\n",
    "for batch in train_dataset.take(1):\n",
    "    spectogram=batch[0][0].numpy()\n",
    "    spectogram=np.array([np.trim_zeros(x) for x in np.transpose(spectogram)])\n",
    "    label=batch[1][0]\n",
    "\n",
    "    label=tf.strings.reduce_join(num_to_char(label)).numpy().decode(\"utf-8\")\n",
    "    ax=plt.subplot(2,1,1)\n",
    "    ax.imshow(spectogram, vmax=1)\n",
    "    ax.set_title(label)\n",
    "    ax.axis(\"off\")\n",
    "\n",
    "    file=tf.io.read_file(wavs_path+list(df_train[\"file_name\"])[0]+\".wav\")\n",
    "    audio,_=tf.audio.decode_wav(file)\n",
    "    audio=audio.numpy()\n",
    "    ax=plt.subplot(2,1,2)\n",
    "    plt.plot(audio)\n",
    "    ax.set_title(\"Signal Wave\")\n",
    "    ax.set_xlim(0, len(audio))\n",
    "    display.display(display.Audio(np.transpose(audio), rate=16000))\n",
    "plt.show()\n"
   ]
  },
  {
   "cell_type": "markdown",
   "metadata": {},
   "source": [
    "# Model"
   ]
  },
  {
   "cell_type": "code",
   "execution_count": 50,
   "metadata": {},
   "outputs": [],
   "source": [
    "def CTCLoss(y_true, y_pred):\n",
    "    batch_len=tf.cast(tf.shape(y_true)[0], dtype=\"int64\")\n",
    "    input_length=tf.cast(tf.shape(y_pred)[1],dtype=\"int64\")\n",
    "    label_length=tf.cast(tf.shape(y_true)[1], dtype=\"int64\")\n",
    "\n",
    "    input_length=input_length*tf.ones(shape=(batch_len,1),dtype=\"int64\")\n",
    "    label_length=label_length*tf.ones(shape=(batch_len,1),dtype=\"int64\")\n",
    "\n",
    "    loss=keras.backend.ctc_batch_cost(y_true, y_pred, input_length, label_length)\n",
    "    return loss"
   ]
  },
  {
   "cell_type": "code",
   "execution_count": 51,
   "metadata": {},
   "outputs": [],
   "source": [
    "def build_model(input_dim, output_dim, rnn_layers=5, rnn_units=128):\n",
    "    input_spectogram = layers.Input((None, input_dim), name=\"input\")\n",
    "    x = layers.Reshape((-1, input_dim, 1), name=\"expand_dim\")(input_spectogram)\n",
    "    \n",
    "    x = layers.Conv2D(filters=32, kernel_size=[11, 41], strides=[2, 2], padding='same', use_bias=False, name=\"conv_1\")(x)\n",
    "    x = layers.BatchNormalization(name='conv_1_bn')(x)\n",
    "    x = layers.ReLU(name='conv_1_relu')(x)\n",
    "\n",
    "    x = layers.Conv2D(filters=32, kernel_size=[11, 21], strides=[1, 2], padding='same', use_bias=False, name=\"conv_2\")(x)\n",
    "    x = layers.BatchNormalization(name='conv_2_bn')(x)\n",
    "    x = layers.ReLU(name='conv_2_relu')(x)\n",
    "\n",
    "    x = layers.Reshape((-1, x.shape[-2] * x.shape[-1]))(x)\n",
    "\n",
    "    for i in range(1, rnn_layers + 1):\n",
    "        recurrent = layers.GRU(units=rnn_units, activation='tanh', recurrent_activation='sigmoid', use_bias=True, return_sequences=True, reset_after=True, name=f\"gru_{i}\")\n",
    "        x = layers.Bidirectional(recurrent, name=f\"bidirectional_{i}\", merge_mode='concat')(x)\n",
    "        if i < rnn_layers:\n",
    "            x = layers.Dropout(rate=0.5)(x)\n",
    "\n",
    "    x = layers.Dense(units=rnn_units * 2, name='dense_1')(x)\n",
    "    x = layers.ReLU(name='dense_1_relu')(x)\n",
    "    x = layers.Dropout(rate=0.5)(x)\n",
    "\n",
    "    output = layers.Dense(units=output_dim + 1, activation='softmax', name='dense_output')(x)\n",
    "    model = keras.Model(input_spectogram, output, name='DeepSpeech2')\n",
    "    opt = keras.optimizers.Adam(learning_rate=1e-4)  # Corrected line\n",
    "    model.compile(optimizer=opt, loss=CTCLoss)\n",
    "    return model\n"
   ]
  },
  {
   "cell_type": "code",
   "execution_count": 52,
   "metadata": {},
   "outputs": [
    {
     "data": {
      "text/html": [
       "<pre style=\"white-space:pre;overflow-x:auto;line-height:normal;font-family:Menlo,'DejaVu Sans Mono',consolas,'Courier New',monospace\"><span style=\"font-weight: bold\">Model: \"DeepSpeech2\"</span>\n",
       "</pre>\n"
      ],
      "text/plain": [
       "\u001b[1mModel: \"DeepSpeech2\"\u001b[0m\n"
      ]
     },
     "metadata": {},
     "output_type": "display_data"
    },
    {
     "data": {
      "text/html": [
       "<pre style=\"white-space:pre;overflow-x:auto;line-height:normal;font-family:Menlo,'DejaVu Sans Mono',consolas,'Courier New',monospace\">┏━━━━━━━━━━━━━━━━━━━━━━━━━━━━━━━━━━━━━━━━━━━━━━━━┳━━━━━━━━━━━━━━━━━━━━━━━━━━━━━━━━━━━━━┳━━━━━━━━━━━━━━━━━━━━━┓\n",
       "┃<span style=\"font-weight: bold\"> Layer (type)                                   </span>┃<span style=\"font-weight: bold\"> Output Shape                        </span>┃<span style=\"font-weight: bold\">             Param # </span>┃\n",
       "┡━━━━━━━━━━━━━━━━━━━━━━━━━━━━━━━━━━━━━━━━━━━━━━━━╇━━━━━━━━━━━━━━━━━━━━━━━━━━━━━━━━━━━━━╇━━━━━━━━━━━━━━━━━━━━━┩\n",
       "│ input (<span style=\"color: #0087ff; text-decoration-color: #0087ff\">InputLayer</span>)                             │ (<span style=\"color: #00d7ff; text-decoration-color: #00d7ff\">None</span>, <span style=\"color: #00d7ff; text-decoration-color: #00d7ff\">None</span>, <span style=\"color: #00af00; text-decoration-color: #00af00\">193</span>)                   │                   <span style=\"color: #00af00; text-decoration-color: #00af00\">0</span> │\n",
       "├────────────────────────────────────────────────┼─────────────────────────────────────┼─────────────────────┤\n",
       "│ expand_dim (<span style=\"color: #0087ff; text-decoration-color: #0087ff\">Reshape</span>)                           │ (<span style=\"color: #00d7ff; text-decoration-color: #00d7ff\">None</span>, <span style=\"color: #00d7ff; text-decoration-color: #00d7ff\">None</span>, <span style=\"color: #00af00; text-decoration-color: #00af00\">193</span>, <span style=\"color: #00af00; text-decoration-color: #00af00\">1</span>)                │                   <span style=\"color: #00af00; text-decoration-color: #00af00\">0</span> │\n",
       "├────────────────────────────────────────────────┼─────────────────────────────────────┼─────────────────────┤\n",
       "│ conv_1 (<span style=\"color: #0087ff; text-decoration-color: #0087ff\">Conv2D</span>)                                │ (<span style=\"color: #00d7ff; text-decoration-color: #00d7ff\">None</span>, <span style=\"color: #00d7ff; text-decoration-color: #00d7ff\">None</span>, <span style=\"color: #00af00; text-decoration-color: #00af00\">97</span>, <span style=\"color: #00af00; text-decoration-color: #00af00\">32</span>)                │              <span style=\"color: #00af00; text-decoration-color: #00af00\">14,432</span> │\n",
       "├────────────────────────────────────────────────┼─────────────────────────────────────┼─────────────────────┤\n",
       "│ conv_1_bn (<span style=\"color: #0087ff; text-decoration-color: #0087ff\">BatchNormalization</span>)                 │ (<span style=\"color: #00d7ff; text-decoration-color: #00d7ff\">None</span>, <span style=\"color: #00d7ff; text-decoration-color: #00d7ff\">None</span>, <span style=\"color: #00af00; text-decoration-color: #00af00\">97</span>, <span style=\"color: #00af00; text-decoration-color: #00af00\">32</span>)                │                 <span style=\"color: #00af00; text-decoration-color: #00af00\">128</span> │\n",
       "├────────────────────────────────────────────────┼─────────────────────────────────────┼─────────────────────┤\n",
       "│ conv_1_relu (<span style=\"color: #0087ff; text-decoration-color: #0087ff\">ReLU</span>)                             │ (<span style=\"color: #00d7ff; text-decoration-color: #00d7ff\">None</span>, <span style=\"color: #00d7ff; text-decoration-color: #00d7ff\">None</span>, <span style=\"color: #00af00; text-decoration-color: #00af00\">97</span>, <span style=\"color: #00af00; text-decoration-color: #00af00\">32</span>)                │                   <span style=\"color: #00af00; text-decoration-color: #00af00\">0</span> │\n",
       "├────────────────────────────────────────────────┼─────────────────────────────────────┼─────────────────────┤\n",
       "│ conv_2 (<span style=\"color: #0087ff; text-decoration-color: #0087ff\">Conv2D</span>)                                │ (<span style=\"color: #00d7ff; text-decoration-color: #00d7ff\">None</span>, <span style=\"color: #00d7ff; text-decoration-color: #00d7ff\">None</span>, <span style=\"color: #00af00; text-decoration-color: #00af00\">49</span>, <span style=\"color: #00af00; text-decoration-color: #00af00\">32</span>)                │             <span style=\"color: #00af00; text-decoration-color: #00af00\">236,544</span> │\n",
       "├────────────────────────────────────────────────┼─────────────────────────────────────┼─────────────────────┤\n",
       "│ conv_2_bn (<span style=\"color: #0087ff; text-decoration-color: #0087ff\">BatchNormalization</span>)                 │ (<span style=\"color: #00d7ff; text-decoration-color: #00d7ff\">None</span>, <span style=\"color: #00d7ff; text-decoration-color: #00d7ff\">None</span>, <span style=\"color: #00af00; text-decoration-color: #00af00\">49</span>, <span style=\"color: #00af00; text-decoration-color: #00af00\">32</span>)                │                 <span style=\"color: #00af00; text-decoration-color: #00af00\">128</span> │\n",
       "├────────────────────────────────────────────────┼─────────────────────────────────────┼─────────────────────┤\n",
       "│ conv_2_relu (<span style=\"color: #0087ff; text-decoration-color: #0087ff\">ReLU</span>)                             │ (<span style=\"color: #00d7ff; text-decoration-color: #00d7ff\">None</span>, <span style=\"color: #00d7ff; text-decoration-color: #00d7ff\">None</span>, <span style=\"color: #00af00; text-decoration-color: #00af00\">49</span>, <span style=\"color: #00af00; text-decoration-color: #00af00\">32</span>)                │                   <span style=\"color: #00af00; text-decoration-color: #00af00\">0</span> │\n",
       "├────────────────────────────────────────────────┼─────────────────────────────────────┼─────────────────────┤\n",
       "│ reshape_2 (<span style=\"color: #0087ff; text-decoration-color: #0087ff\">Reshape</span>)                            │ (<span style=\"color: #00d7ff; text-decoration-color: #00d7ff\">None</span>, <span style=\"color: #00d7ff; text-decoration-color: #00d7ff\">None</span>, <span style=\"color: #00af00; text-decoration-color: #00af00\">1568</span>)                  │                   <span style=\"color: #00af00; text-decoration-color: #00af00\">0</span> │\n",
       "├────────────────────────────────────────────────┼─────────────────────────────────────┼─────────────────────┤\n",
       "│ bidirectional_1 (<span style=\"color: #0087ff; text-decoration-color: #0087ff\">Bidirectional</span>)                │ (<span style=\"color: #00d7ff; text-decoration-color: #00d7ff\">None</span>, <span style=\"color: #00d7ff; text-decoration-color: #00d7ff\">None</span>, <span style=\"color: #00af00; text-decoration-color: #00af00\">1024</span>)                  │           <span style=\"color: #00af00; text-decoration-color: #00af00\">6,395,904</span> │\n",
       "├────────────────────────────────────────────────┼─────────────────────────────────────┼─────────────────────┤\n",
       "│ dropout_10 (<span style=\"color: #0087ff; text-decoration-color: #0087ff\">Dropout</span>)                           │ (<span style=\"color: #00d7ff; text-decoration-color: #00d7ff\">None</span>, <span style=\"color: #00d7ff; text-decoration-color: #00d7ff\">None</span>, <span style=\"color: #00af00; text-decoration-color: #00af00\">1024</span>)                  │                   <span style=\"color: #00af00; text-decoration-color: #00af00\">0</span> │\n",
       "├────────────────────────────────────────────────┼─────────────────────────────────────┼─────────────────────┤\n",
       "│ bidirectional_2 (<span style=\"color: #0087ff; text-decoration-color: #0087ff\">Bidirectional</span>)                │ (<span style=\"color: #00d7ff; text-decoration-color: #00d7ff\">None</span>, <span style=\"color: #00d7ff; text-decoration-color: #00d7ff\">None</span>, <span style=\"color: #00af00; text-decoration-color: #00af00\">1024</span>)                  │           <span style=\"color: #00af00; text-decoration-color: #00af00\">4,724,736</span> │\n",
       "├────────────────────────────────────────────────┼─────────────────────────────────────┼─────────────────────┤\n",
       "│ dropout_11 (<span style=\"color: #0087ff; text-decoration-color: #0087ff\">Dropout</span>)                           │ (<span style=\"color: #00d7ff; text-decoration-color: #00d7ff\">None</span>, <span style=\"color: #00d7ff; text-decoration-color: #00d7ff\">None</span>, <span style=\"color: #00af00; text-decoration-color: #00af00\">1024</span>)                  │                   <span style=\"color: #00af00; text-decoration-color: #00af00\">0</span> │\n",
       "├────────────────────────────────────────────────┼─────────────────────────────────────┼─────────────────────┤\n",
       "│ bidirectional_3 (<span style=\"color: #0087ff; text-decoration-color: #0087ff\">Bidirectional</span>)                │ (<span style=\"color: #00d7ff; text-decoration-color: #00d7ff\">None</span>, <span style=\"color: #00d7ff; text-decoration-color: #00d7ff\">None</span>, <span style=\"color: #00af00; text-decoration-color: #00af00\">1024</span>)                  │           <span style=\"color: #00af00; text-decoration-color: #00af00\">4,724,736</span> │\n",
       "├────────────────────────────────────────────────┼─────────────────────────────────────┼─────────────────────┤\n",
       "│ dropout_12 (<span style=\"color: #0087ff; text-decoration-color: #0087ff\">Dropout</span>)                           │ (<span style=\"color: #00d7ff; text-decoration-color: #00d7ff\">None</span>, <span style=\"color: #00d7ff; text-decoration-color: #00d7ff\">None</span>, <span style=\"color: #00af00; text-decoration-color: #00af00\">1024</span>)                  │                   <span style=\"color: #00af00; text-decoration-color: #00af00\">0</span> │\n",
       "├────────────────────────────────────────────────┼─────────────────────────────────────┼─────────────────────┤\n",
       "│ bidirectional_4 (<span style=\"color: #0087ff; text-decoration-color: #0087ff\">Bidirectional</span>)                │ (<span style=\"color: #00d7ff; text-decoration-color: #00d7ff\">None</span>, <span style=\"color: #00d7ff; text-decoration-color: #00d7ff\">None</span>, <span style=\"color: #00af00; text-decoration-color: #00af00\">1024</span>)                  │           <span style=\"color: #00af00; text-decoration-color: #00af00\">4,724,736</span> │\n",
       "├────────────────────────────────────────────────┼─────────────────────────────────────┼─────────────────────┤\n",
       "│ dropout_13 (<span style=\"color: #0087ff; text-decoration-color: #0087ff\">Dropout</span>)                           │ (<span style=\"color: #00d7ff; text-decoration-color: #00d7ff\">None</span>, <span style=\"color: #00d7ff; text-decoration-color: #00d7ff\">None</span>, <span style=\"color: #00af00; text-decoration-color: #00af00\">1024</span>)                  │                   <span style=\"color: #00af00; text-decoration-color: #00af00\">0</span> │\n",
       "├────────────────────────────────────────────────┼─────────────────────────────────────┼─────────────────────┤\n",
       "│ bidirectional_5 (<span style=\"color: #0087ff; text-decoration-color: #0087ff\">Bidirectional</span>)                │ (<span style=\"color: #00d7ff; text-decoration-color: #00d7ff\">None</span>, <span style=\"color: #00d7ff; text-decoration-color: #00d7ff\">None</span>, <span style=\"color: #00af00; text-decoration-color: #00af00\">1024</span>)                  │           <span style=\"color: #00af00; text-decoration-color: #00af00\">4,724,736</span> │\n",
       "├────────────────────────────────────────────────┼─────────────────────────────────────┼─────────────────────┤\n",
       "│ dense_1 (<span style=\"color: #0087ff; text-decoration-color: #0087ff\">Dense</span>)                                │ (<span style=\"color: #00d7ff; text-decoration-color: #00d7ff\">None</span>, <span style=\"color: #00d7ff; text-decoration-color: #00d7ff\">None</span>, <span style=\"color: #00af00; text-decoration-color: #00af00\">1024</span>)                  │           <span style=\"color: #00af00; text-decoration-color: #00af00\">1,049,600</span> │\n",
       "├────────────────────────────────────────────────┼─────────────────────────────────────┼─────────────────────┤\n",
       "│ dense_1_relu (<span style=\"color: #0087ff; text-decoration-color: #0087ff\">ReLU</span>)                            │ (<span style=\"color: #00d7ff; text-decoration-color: #00d7ff\">None</span>, <span style=\"color: #00d7ff; text-decoration-color: #00d7ff\">None</span>, <span style=\"color: #00af00; text-decoration-color: #00af00\">1024</span>)                  │                   <span style=\"color: #00af00; text-decoration-color: #00af00\">0</span> │\n",
       "├────────────────────────────────────────────────┼─────────────────────────────────────┼─────────────────────┤\n",
       "│ dropout_14 (<span style=\"color: #0087ff; text-decoration-color: #0087ff\">Dropout</span>)                           │ (<span style=\"color: #00d7ff; text-decoration-color: #00d7ff\">None</span>, <span style=\"color: #00d7ff; text-decoration-color: #00d7ff\">None</span>, <span style=\"color: #00af00; text-decoration-color: #00af00\">1024</span>)                  │                   <span style=\"color: #00af00; text-decoration-color: #00af00\">0</span> │\n",
       "├────────────────────────────────────────────────┼─────────────────────────────────────┼─────────────────────┤\n",
       "│ dense_output (<span style=\"color: #0087ff; text-decoration-color: #0087ff\">Dense</span>)                           │ (<span style=\"color: #00d7ff; text-decoration-color: #00d7ff\">None</span>, <span style=\"color: #00d7ff; text-decoration-color: #00d7ff\">None</span>, <span style=\"color: #00af00; text-decoration-color: #00af00\">75</span>)                    │              <span style=\"color: #00af00; text-decoration-color: #00af00\">76,875</span> │\n",
       "└────────────────────────────────────────────────┴─────────────────────────────────────┴─────────────────────┘\n",
       "</pre>\n"
      ],
      "text/plain": [
       "┏━━━━━━━━━━━━━━━━━━━━━━━━━━━━━━━━━━━━━━━━━━━━━━━━┳━━━━━━━━━━━━━━━━━━━━━━━━━━━━━━━━━━━━━┳━━━━━━━━━━━━━━━━━━━━━┓\n",
       "┃\u001b[1m \u001b[0m\u001b[1mLayer (type)                                  \u001b[0m\u001b[1m \u001b[0m┃\u001b[1m \u001b[0m\u001b[1mOutput Shape                       \u001b[0m\u001b[1m \u001b[0m┃\u001b[1m \u001b[0m\u001b[1m            Param #\u001b[0m\u001b[1m \u001b[0m┃\n",
       "┡━━━━━━━━━━━━━━━━━━━━━━━━━━━━━━━━━━━━━━━━━━━━━━━━╇━━━━━━━━━━━━━━━━━━━━━━━━━━━━━━━━━━━━━╇━━━━━━━━━━━━━━━━━━━━━┩\n",
       "│ input (\u001b[38;5;33mInputLayer\u001b[0m)                             │ (\u001b[38;5;45mNone\u001b[0m, \u001b[38;5;45mNone\u001b[0m, \u001b[38;5;34m193\u001b[0m)                   │                   \u001b[38;5;34m0\u001b[0m │\n",
       "├────────────────────────────────────────────────┼─────────────────────────────────────┼─────────────────────┤\n",
       "│ expand_dim (\u001b[38;5;33mReshape\u001b[0m)                           │ (\u001b[38;5;45mNone\u001b[0m, \u001b[38;5;45mNone\u001b[0m, \u001b[38;5;34m193\u001b[0m, \u001b[38;5;34m1\u001b[0m)                │                   \u001b[38;5;34m0\u001b[0m │\n",
       "├────────────────────────────────────────────────┼─────────────────────────────────────┼─────────────────────┤\n",
       "│ conv_1 (\u001b[38;5;33mConv2D\u001b[0m)                                │ (\u001b[38;5;45mNone\u001b[0m, \u001b[38;5;45mNone\u001b[0m, \u001b[38;5;34m97\u001b[0m, \u001b[38;5;34m32\u001b[0m)                │              \u001b[38;5;34m14,432\u001b[0m │\n",
       "├────────────────────────────────────────────────┼─────────────────────────────────────┼─────────────────────┤\n",
       "│ conv_1_bn (\u001b[38;5;33mBatchNormalization\u001b[0m)                 │ (\u001b[38;5;45mNone\u001b[0m, \u001b[38;5;45mNone\u001b[0m, \u001b[38;5;34m97\u001b[0m, \u001b[38;5;34m32\u001b[0m)                │                 \u001b[38;5;34m128\u001b[0m │\n",
       "├────────────────────────────────────────────────┼─────────────────────────────────────┼─────────────────────┤\n",
       "│ conv_1_relu (\u001b[38;5;33mReLU\u001b[0m)                             │ (\u001b[38;5;45mNone\u001b[0m, \u001b[38;5;45mNone\u001b[0m, \u001b[38;5;34m97\u001b[0m, \u001b[38;5;34m32\u001b[0m)                │                   \u001b[38;5;34m0\u001b[0m │\n",
       "├────────────────────────────────────────────────┼─────────────────────────────────────┼─────────────────────┤\n",
       "│ conv_2 (\u001b[38;5;33mConv2D\u001b[0m)                                │ (\u001b[38;5;45mNone\u001b[0m, \u001b[38;5;45mNone\u001b[0m, \u001b[38;5;34m49\u001b[0m, \u001b[38;5;34m32\u001b[0m)                │             \u001b[38;5;34m236,544\u001b[0m │\n",
       "├────────────────────────────────────────────────┼─────────────────────────────────────┼─────────────────────┤\n",
       "│ conv_2_bn (\u001b[38;5;33mBatchNormalization\u001b[0m)                 │ (\u001b[38;5;45mNone\u001b[0m, \u001b[38;5;45mNone\u001b[0m, \u001b[38;5;34m49\u001b[0m, \u001b[38;5;34m32\u001b[0m)                │                 \u001b[38;5;34m128\u001b[0m │\n",
       "├────────────────────────────────────────────────┼─────────────────────────────────────┼─────────────────────┤\n",
       "│ conv_2_relu (\u001b[38;5;33mReLU\u001b[0m)                             │ (\u001b[38;5;45mNone\u001b[0m, \u001b[38;5;45mNone\u001b[0m, \u001b[38;5;34m49\u001b[0m, \u001b[38;5;34m32\u001b[0m)                │                   \u001b[38;5;34m0\u001b[0m │\n",
       "├────────────────────────────────────────────────┼─────────────────────────────────────┼─────────────────────┤\n",
       "│ reshape_2 (\u001b[38;5;33mReshape\u001b[0m)                            │ (\u001b[38;5;45mNone\u001b[0m, \u001b[38;5;45mNone\u001b[0m, \u001b[38;5;34m1568\u001b[0m)                  │                   \u001b[38;5;34m0\u001b[0m │\n",
       "├────────────────────────────────────────────────┼─────────────────────────────────────┼─────────────────────┤\n",
       "│ bidirectional_1 (\u001b[38;5;33mBidirectional\u001b[0m)                │ (\u001b[38;5;45mNone\u001b[0m, \u001b[38;5;45mNone\u001b[0m, \u001b[38;5;34m1024\u001b[0m)                  │           \u001b[38;5;34m6,395,904\u001b[0m │\n",
       "├────────────────────────────────────────────────┼─────────────────────────────────────┼─────────────────────┤\n",
       "│ dropout_10 (\u001b[38;5;33mDropout\u001b[0m)                           │ (\u001b[38;5;45mNone\u001b[0m, \u001b[38;5;45mNone\u001b[0m, \u001b[38;5;34m1024\u001b[0m)                  │                   \u001b[38;5;34m0\u001b[0m │\n",
       "├────────────────────────────────────────────────┼─────────────────────────────────────┼─────────────────────┤\n",
       "│ bidirectional_2 (\u001b[38;5;33mBidirectional\u001b[0m)                │ (\u001b[38;5;45mNone\u001b[0m, \u001b[38;5;45mNone\u001b[0m, \u001b[38;5;34m1024\u001b[0m)                  │           \u001b[38;5;34m4,724,736\u001b[0m │\n",
       "├────────────────────────────────────────────────┼─────────────────────────────────────┼─────────────────────┤\n",
       "│ dropout_11 (\u001b[38;5;33mDropout\u001b[0m)                           │ (\u001b[38;5;45mNone\u001b[0m, \u001b[38;5;45mNone\u001b[0m, \u001b[38;5;34m1024\u001b[0m)                  │                   \u001b[38;5;34m0\u001b[0m │\n",
       "├────────────────────────────────────────────────┼─────────────────────────────────────┼─────────────────────┤\n",
       "│ bidirectional_3 (\u001b[38;5;33mBidirectional\u001b[0m)                │ (\u001b[38;5;45mNone\u001b[0m, \u001b[38;5;45mNone\u001b[0m, \u001b[38;5;34m1024\u001b[0m)                  │           \u001b[38;5;34m4,724,736\u001b[0m │\n",
       "├────────────────────────────────────────────────┼─────────────────────────────────────┼─────────────────────┤\n",
       "│ dropout_12 (\u001b[38;5;33mDropout\u001b[0m)                           │ (\u001b[38;5;45mNone\u001b[0m, \u001b[38;5;45mNone\u001b[0m, \u001b[38;5;34m1024\u001b[0m)                  │                   \u001b[38;5;34m0\u001b[0m │\n",
       "├────────────────────────────────────────────────┼─────────────────────────────────────┼─────────────────────┤\n",
       "│ bidirectional_4 (\u001b[38;5;33mBidirectional\u001b[0m)                │ (\u001b[38;5;45mNone\u001b[0m, \u001b[38;5;45mNone\u001b[0m, \u001b[38;5;34m1024\u001b[0m)                  │           \u001b[38;5;34m4,724,736\u001b[0m │\n",
       "├────────────────────────────────────────────────┼─────────────────────────────────────┼─────────────────────┤\n",
       "│ dropout_13 (\u001b[38;5;33mDropout\u001b[0m)                           │ (\u001b[38;5;45mNone\u001b[0m, \u001b[38;5;45mNone\u001b[0m, \u001b[38;5;34m1024\u001b[0m)                  │                   \u001b[38;5;34m0\u001b[0m │\n",
       "├────────────────────────────────────────────────┼─────────────────────────────────────┼─────────────────────┤\n",
       "│ bidirectional_5 (\u001b[38;5;33mBidirectional\u001b[0m)                │ (\u001b[38;5;45mNone\u001b[0m, \u001b[38;5;45mNone\u001b[0m, \u001b[38;5;34m1024\u001b[0m)                  │           \u001b[38;5;34m4,724,736\u001b[0m │\n",
       "├────────────────────────────────────────────────┼─────────────────────────────────────┼─────────────────────┤\n",
       "│ dense_1 (\u001b[38;5;33mDense\u001b[0m)                                │ (\u001b[38;5;45mNone\u001b[0m, \u001b[38;5;45mNone\u001b[0m, \u001b[38;5;34m1024\u001b[0m)                  │           \u001b[38;5;34m1,049,600\u001b[0m │\n",
       "├────────────────────────────────────────────────┼─────────────────────────────────────┼─────────────────────┤\n",
       "│ dense_1_relu (\u001b[38;5;33mReLU\u001b[0m)                            │ (\u001b[38;5;45mNone\u001b[0m, \u001b[38;5;45mNone\u001b[0m, \u001b[38;5;34m1024\u001b[0m)                  │                   \u001b[38;5;34m0\u001b[0m │\n",
       "├────────────────────────────────────────────────┼─────────────────────────────────────┼─────────────────────┤\n",
       "│ dropout_14 (\u001b[38;5;33mDropout\u001b[0m)                           │ (\u001b[38;5;45mNone\u001b[0m, \u001b[38;5;45mNone\u001b[0m, \u001b[38;5;34m1024\u001b[0m)                  │                   \u001b[38;5;34m0\u001b[0m │\n",
       "├────────────────────────────────────────────────┼─────────────────────────────────────┼─────────────────────┤\n",
       "│ dense_output (\u001b[38;5;33mDense\u001b[0m)                           │ (\u001b[38;5;45mNone\u001b[0m, \u001b[38;5;45mNone\u001b[0m, \u001b[38;5;34m75\u001b[0m)                    │              \u001b[38;5;34m76,875\u001b[0m │\n",
       "└────────────────────────────────────────────────┴─────────────────────────────────────┴─────────────────────┘\n"
      ]
     },
     "metadata": {},
     "output_type": "display_data"
    },
    {
     "data": {
      "text/html": [
       "<pre style=\"white-space:pre;overflow-x:auto;line-height:normal;font-family:Menlo,'DejaVu Sans Mono',consolas,'Courier New',monospace\"><span style=\"font-weight: bold\"> Total params: </span><span style=\"color: #00af00; text-decoration-color: #00af00\">26,672,555</span> (101.75 MB)\n",
       "</pre>\n"
      ],
      "text/plain": [
       "\u001b[1m Total params: \u001b[0m\u001b[38;5;34m26,672,555\u001b[0m (101.75 MB)\n"
      ]
     },
     "metadata": {},
     "output_type": "display_data"
    },
    {
     "data": {
      "text/html": [
       "<pre style=\"white-space:pre;overflow-x:auto;line-height:normal;font-family:Menlo,'DejaVu Sans Mono',consolas,'Courier New',monospace\"><span style=\"font-weight: bold\"> Trainable params: </span><span style=\"color: #00af00; text-decoration-color: #00af00\">26,672,427</span> (101.75 MB)\n",
       "</pre>\n"
      ],
      "text/plain": [
       "\u001b[1m Trainable params: \u001b[0m\u001b[38;5;34m26,672,427\u001b[0m (101.75 MB)\n"
      ]
     },
     "metadata": {},
     "output_type": "display_data"
    },
    {
     "data": {
      "text/html": [
       "<pre style=\"white-space:pre;overflow-x:auto;line-height:normal;font-family:Menlo,'DejaVu Sans Mono',consolas,'Courier New',monospace\"><span style=\"font-weight: bold\"> Non-trainable params: </span><span style=\"color: #00af00; text-decoration-color: #00af00\">128</span> (512.00 B)\n",
       "</pre>\n"
      ],
      "text/plain": [
       "\u001b[1m Non-trainable params: \u001b[0m\u001b[38;5;34m128\u001b[0m (512.00 B)\n"
      ]
     },
     "metadata": {},
     "output_type": "display_data"
    }
   ],
   "source": [
    "model=build_model(input_dim=fft_length//2+1, output_dim=char_to_num.vocabulary_size(), rnn_units=512,)\n",
    "model.summary(line_length=110)"
   ]
  },
  {
   "cell_type": "markdown",
   "metadata": {},
   "source": [
    "# Training"
   ]
  },
  {
   "cell_type": "code",
   "execution_count": 53,
   "metadata": {},
   "outputs": [],
   "source": [
    "def decode_batch_predictions(pred):\n",
    "    input_len = np.ones(pred.shape[0])*pred.shape[1]\n",
    "    results = keras.backend.ctc_decode(pred, input_length=input_len, greedy=True)[0][0]\n",
    "    output_text = []\n",
    "    for result in results:\n",
    "        result = tf.strings.reduce_join(num_to_char(result)).numpy().decode(\"utf-8\")\n",
    "        output_text.append(result)\n",
    "    return output_text"
   ]
  },
  {
   "cell_type": "code",
   "execution_count": 54,
   "metadata": {},
   "outputs": [],
   "source": [
    "class CallbackEval(keras.callbacks.Callback):\n",
    "    def __init__(self, dataset):\n",
    "        super().__init__()\n",
    "        self.dataset = dataset\n",
    "    def on_epoch_end(self, epoch: int, logs=None):\n",
    "        predictions=[]\n",
    "        targets=[]\n",
    "        for batch in self.dataset:\n",
    "            X,y = batch\n",
    "            batch_predictions = model.predict(X)\n",
    "            batch_predictions = decode_batch_predictions(batch_predictions)\n",
    "            predictions.extend(batch_predictions)\n",
    "            for label in y:\n",
    "                label = (tf.strings.reduce_join(num_to_char(label)).numpy().decode(\"utf-8\"))\n",
    "                targets.append(label)\n",
    "        wer_score = wer(targets, predictions)\n",
    "        print(\"*\"*100)\n",
    "        print(f\"Word Error Rate : {wer_score:.4f}\")\n",
    "        print(\"*\"*100)\n",
    "        for i in np.random.randint(0, len(predictions), 2):\n",
    "            print(f\"Target : {targets[i]}\")\n",
    "            print(f\"Prediction : {predictions[i]}\")\n",
    "            print(\"*\"*100)"
   ]
  },
  {
   "cell_type": "code",
   "execution_count": 55,
   "metadata": {},
   "outputs": [
    {
     "name": "stdout",
     "output_type": "stream",
     "text": [
      "Epoch 1/5\n",
      "\u001b[1m 436/3125\u001b[0m \u001b[32m━━\u001b[0m\u001b[37m━━━━━━━━━━━━━━━━━━\u001b[0m \u001b[1m9:08:28\u001b[0m 12s/step - loss: 143.9327"
     ]
    },
    {
     "name": "stderr",
     "output_type": "stream",
     "text": [
      "2024-11-22 14:02:23.635516: W ./tensorflow/core/util/ctc/ctc_loss_calculator.h:499] No valid path found.\n",
      "2024-11-22 14:02:23.635659: W ./tensorflow/core/util/ctc/ctc_loss_calculator.h:499] No valid path found.\n",
      "2024-11-22 14:02:23.635715: W ./tensorflow/core/util/ctc/ctc_loss_calculator.h:499] No valid path found.\n",
      "2024-11-22 14:02:23.635783: W ./tensorflow/core/util/ctc/ctc_loss_calculator.h:499] No valid path found.\n",
      "2024-11-22 14:02:23.635811: W ./tensorflow/core/util/ctc/ctc_loss_calculator.h:499] No valid path found.\n",
      "2024-11-22 14:02:23.635834: W ./tensorflow/core/util/ctc/ctc_loss_calculator.h:499] No valid path found.\n",
      "2024-11-22 14:02:23.635858: W ./tensorflow/core/util/ctc/ctc_loss_calculator.h:499] No valid path found.\n",
      "2024-11-22 14:02:23.635882: W ./tensorflow/core/util/ctc/ctc_loss_calculator.h:499] No valid path found.\n",
      "2024-11-22 14:02:23.635909: W ./tensorflow/core/util/ctc/ctc_loss_calculator.h:499] No valid path found.\n",
      "2024-11-22 14:02:23.635928: W ./tensorflow/core/util/ctc/ctc_loss_calculator.h:499] No valid path found.\n",
      "2024-11-22 14:02:23.635947: W ./tensorflow/core/util/ctc/ctc_loss_calculator.h:499] No valid path found.\n",
      "2024-11-22 14:02:23.635970: W ./tensorflow/core/util/ctc/ctc_loss_calculator.h:499] No valid path found.\n",
      "2024-11-22 14:02:23.636065: W ./tensorflow/core/util/ctc/ctc_loss_calculator.h:499] No valid path found.\n"
     ]
    },
    {
     "name": "stdout",
     "output_type": "stream",
     "text": [
      "\u001b[1m 441/3125\u001b[0m \u001b[32m━━\u001b[0m\u001b[37m━━━━━━━━━━━━━━━━━━\u001b[0m \u001b[1m9:07:30\u001b[0m 12s/step - loss: inf "
     ]
    },
    {
     "name": "stderr",
     "output_type": "stream",
     "text": [
      "2024-11-22 14:03:25.357254: W ./tensorflow/core/util/ctc/ctc_loss_calculator.h:499] No valid path found.\n"
     ]
    },
    {
     "name": "stdout",
     "output_type": "stream",
     "text": [
      "\u001b[1m 502/3125\u001b[0m \u001b[32m━━━\u001b[0m\u001b[37m━━━━━━━━━━━━━━━━━\u001b[0m \u001b[1m8:51:54\u001b[0m 12s/step - loss: inf"
     ]
    },
    {
     "name": "stderr",
     "output_type": "stream",
     "text": [
      "2024-11-22 14:15:15.747797: W ./tensorflow/core/util/ctc/ctc_loss_calculator.h:499] No valid path found.\n"
     ]
    },
    {
     "name": "stdout",
     "output_type": "stream",
     "text": [
      "\u001b[1m 517/3125\u001b[0m \u001b[32m━━━\u001b[0m\u001b[37m━━━━━━━━━━━━━━━━━\u001b[0m \u001b[1m8:49:41\u001b[0m 12s/step - loss: inf"
     ]
    },
    {
     "name": "stderr",
     "output_type": "stream",
     "text": [
      "2024-11-22 14:18:28.161986: W ./tensorflow/core/util/ctc/ctc_loss_calculator.h:499] No valid path found.\n",
      "2024-11-22 14:18:28.162051: W ./tensorflow/core/util/ctc/ctc_loss_calculator.h:499] No valid path found.\n",
      "2024-11-22 14:18:28.162115: W ./tensorflow/core/util/ctc/ctc_loss_calculator.h:499] No valid path found.\n",
      "2024-11-22 14:18:28.162270: W ./tensorflow/core/util/ctc/ctc_loss_calculator.h:499] No valid path found.\n"
     ]
    },
    {
     "name": "stdout",
     "output_type": "stream",
     "text": [
      "\u001b[1m 857/3125\u001b[0m \u001b[32m━━━━━\u001b[0m\u001b[37m━━━━━━━━━━━━━━━\u001b[0m \u001b[1m7:41:12\u001b[0m 12s/step - loss: inf"
     ]
    },
    {
     "name": "stderr",
     "output_type": "stream",
     "text": [
      "2024-11-22 15:27:44.285323: W ./tensorflow/core/util/ctc/ctc_loss_calculator.h:499] No valid path found.\n"
     ]
    },
    {
     "name": "stdout",
     "output_type": "stream",
     "text": [
      "\u001b[1m 906/3125\u001b[0m \u001b[32m━━━━━\u001b[0m\u001b[37m━━━━━━━━━━━━━━━\u001b[0m \u001b[1m7:29:58\u001b[0m 12s/step - loss: inf"
     ]
    },
    {
     "name": "stderr",
     "output_type": "stream",
     "text": [
      "2024-11-22 15:37:11.164641: W ./tensorflow/core/util/ctc/ctc_loss_calculator.h:499] No valid path found.\n",
      "2024-11-22 15:37:11.164714: W ./tensorflow/core/util/ctc/ctc_loss_calculator.h:499] No valid path found.\n",
      "2024-11-22 15:37:11.164769: W ./tensorflow/core/util/ctc/ctc_loss_calculator.h:499] No valid path found.\n",
      "2024-11-22 15:37:11.164799: W ./tensorflow/core/util/ctc/ctc_loss_calculator.h:499] No valid path found.\n",
      "2024-11-22 15:37:11.164823: W ./tensorflow/core/util/ctc/ctc_loss_calculator.h:499] No valid path found.\n",
      "2024-11-22 15:37:11.164845: W ./tensorflow/core/util/ctc/ctc_loss_calculator.h:499] No valid path found.\n",
      "2024-11-22 15:37:11.164871: W ./tensorflow/core/util/ctc/ctc_loss_calculator.h:499] No valid path found.\n",
      "2024-11-22 15:37:11.164898: W ./tensorflow/core/util/ctc/ctc_loss_calculator.h:499] No valid path found.\n",
      "2024-11-22 15:37:11.164924: W ./tensorflow/core/util/ctc/ctc_loss_calculator.h:499] No valid path found.\n",
      "2024-11-22 15:37:11.164947: W ./tensorflow/core/util/ctc/ctc_loss_calculator.h:499] No valid path found.\n",
      "2024-11-22 15:37:11.165064: W ./tensorflow/core/util/ctc/ctc_loss_calculator.h:499] No valid path found.\n"
     ]
    },
    {
     "name": "stdout",
     "output_type": "stream",
     "text": [
      "\u001b[1m 951/3125\u001b[0m \u001b[32m━━━━━━\u001b[0m\u001b[37m━━━━━━━━━━━━━━\u001b[0m \u001b[1m7:20:21\u001b[0m 12s/step - loss: inf"
     ]
    },
    {
     "name": "stderr",
     "output_type": "stream",
     "text": [
      "2024-11-22 15:46:05.753300: W ./tensorflow/core/util/ctc/ctc_loss_calculator.h:499] No valid path found.\n",
      "2024-11-22 15:46:05.753497: W ./tensorflow/core/util/ctc/ctc_loss_calculator.h:499] No valid path found.\n",
      "2024-11-22 15:46:05.753519: W ./tensorflow/core/util/ctc/ctc_loss_calculator.h:499] No valid path found.\n",
      "2024-11-22 15:46:05.753546: W ./tensorflow/core/util/ctc/ctc_loss_calculator.h:499] No valid path found.\n",
      "2024-11-22 15:46:05.753595: W ./tensorflow/core/util/ctc/ctc_loss_calculator.h:499] No valid path found.\n",
      "2024-11-22 15:46:05.753624: W ./tensorflow/core/util/ctc/ctc_loss_calculator.h:499] No valid path found.\n",
      "2024-11-22 15:46:05.753651: W ./tensorflow/core/util/ctc/ctc_loss_calculator.h:499] No valid path found.\n"
     ]
    },
    {
     "name": "stdout",
     "output_type": "stream",
     "text": [
      "\u001b[1m1101/3125\u001b[0m \u001b[32m━━━━━━━\u001b[0m\u001b[37m━━━━━━━━━━━━━\u001b[0m \u001b[1m6:50:30\u001b[0m 12s/step - loss: inf"
     ]
    },
    {
     "name": "stderr",
     "output_type": "stream",
     "text": [
      "2024-11-22 16:16:45.610097: W ./tensorflow/core/util/ctc/ctc_loss_calculator.h:499] No valid path found.\n",
      "2024-11-22 16:16:45.610154: W ./tensorflow/core/util/ctc/ctc_loss_calculator.h:499] No valid path found.\n"
     ]
    },
    {
     "name": "stdout",
     "output_type": "stream",
     "text": [
      "\u001b[1m1173/3125\u001b[0m \u001b[32m━━━━━━━\u001b[0m\u001b[37m━━━━━━━━━━━━━\u001b[0m \u001b[1m6:36:03\u001b[0m 12s/step - loss: inf"
     ]
    },
    {
     "name": "stderr",
     "output_type": "stream",
     "text": [
      "2024-11-22 16:31:27.795551: W ./tensorflow/core/util/ctc/ctc_loss_calculator.h:499] No valid path found.\n",
      "2024-11-22 16:31:27.795783: W ./tensorflow/core/util/ctc/ctc_loss_calculator.h:499] No valid path found.\n",
      "2024-11-22 16:31:27.795962: W ./tensorflow/core/util/ctc/ctc_loss_calculator.h:499] No valid path found.\n"
     ]
    },
    {
     "name": "stdout",
     "output_type": "stream",
     "text": [
      "\u001b[1m1212/3125\u001b[0m \u001b[32m━━━━━━━\u001b[0m\u001b[37m━━━━━━━━━━━━━\u001b[0m \u001b[1m6:28:31\u001b[0m 12s/step - loss: inf"
     ]
    },
    {
     "name": "stderr",
     "output_type": "stream",
     "text": [
      "2024-11-22 16:39:37.168190: W ./tensorflow/core/util/ctc/ctc_loss_calculator.h:499] No valid path found.\n"
     ]
    },
    {
     "name": "stdout",
     "output_type": "stream",
     "text": [
      "\u001b[1m1239/3125\u001b[0m \u001b[32m━━━━━━━\u001b[0m\u001b[37m━━━━━━━━━━━━━\u001b[0m \u001b[1m6:22:23\u001b[0m 12s/step - loss: inf"
     ]
    },
    {
     "name": "stderr",
     "output_type": "stream",
     "text": [
      "2024-11-22 16:44:40.583088: W ./tensorflow/core/util/ctc/ctc_loss_calculator.h:499] No valid path found.\n",
      "2024-11-22 16:44:40.583141: W ./tensorflow/core/util/ctc/ctc_loss_calculator.h:499] No valid path found.\n",
      "2024-11-22 16:44:40.583158: W ./tensorflow/core/util/ctc/ctc_loss_calculator.h:499] No valid path found.\n",
      "2024-11-22 16:44:40.583177: W ./tensorflow/core/util/ctc/ctc_loss_calculator.h:499] No valid path found.\n",
      "2024-11-22 16:44:40.583191: W ./tensorflow/core/util/ctc/ctc_loss_calculator.h:499] No valid path found.\n",
      "2024-11-22 16:44:40.583212: W ./tensorflow/core/util/ctc/ctc_loss_calculator.h:499] No valid path found.\n",
      "2024-11-22 16:44:40.583233: W ./tensorflow/core/util/ctc/ctc_loss_calculator.h:499] No valid path found.\n",
      "2024-11-22 16:44:40.583680: W ./tensorflow/core/util/ctc/ctc_loss_calculator.h:499] No valid path found.\n"
     ]
    },
    {
     "name": "stdout",
     "output_type": "stream",
     "text": [
      "\u001b[1m1480/3125\u001b[0m \u001b[32m━━━━━━━━━\u001b[0m\u001b[37m━━━━━━━━━━━\u001b[0m \u001b[1m5:32:56\u001b[0m 12s/step - loss: inf"
     ]
    },
    {
     "name": "stderr",
     "output_type": "stream",
     "text": [
      "2024-11-22 17:33:00.234125: W ./tensorflow/core/util/ctc/ctc_loss_calculator.h:499] No valid path found.\n",
      "2024-11-22 17:33:00.234184: W ./tensorflow/core/util/ctc/ctc_loss_calculator.h:499] No valid path found.\n",
      "2024-11-22 17:33:00.234217: W ./tensorflow/core/util/ctc/ctc_loss_calculator.h:499] No valid path found.\n",
      "2024-11-22 17:33:00.234239: W ./tensorflow/core/util/ctc/ctc_loss_calculator.h:499] No valid path found.\n",
      "2024-11-22 17:33:00.234258: W ./tensorflow/core/util/ctc/ctc_loss_calculator.h:499] No valid path found.\n",
      "2024-11-22 17:33:00.234281: W ./tensorflow/core/util/ctc/ctc_loss_calculator.h:499] No valid path found.\n",
      "2024-11-22 17:33:00.234296: W ./tensorflow/core/util/ctc/ctc_loss_calculator.h:499] No valid path found.\n",
      "2024-11-22 17:33:00.234320: W ./tensorflow/core/util/ctc/ctc_loss_calculator.h:499] No valid path found.\n",
      "2024-11-22 17:33:00.234390: W ./tensorflow/core/util/ctc/ctc_loss_calculator.h:499] No valid path found.\n",
      "2024-11-22 17:33:00.234409: W ./tensorflow/core/util/ctc/ctc_loss_calculator.h:499] No valid path found.\n",
      "2024-11-22 17:33:00.234450: W ./tensorflow/core/util/ctc/ctc_loss_calculator.h:499] No valid path found.\n"
     ]
    },
    {
     "name": "stdout",
     "output_type": "stream",
     "text": [
      "\u001b[1m1642/3125\u001b[0m \u001b[32m━━━━━━━━━━\u001b[0m\u001b[37m━━━━━━━━━━\u001b[0m \u001b[1m5:00:05\u001b[0m 12s/step - loss: inf"
     ]
    },
    {
     "name": "stderr",
     "output_type": "stream",
     "text": [
      "2024-11-22 18:05:43.871484: W ./tensorflow/core/util/ctc/ctc_loss_calculator.h:499] No valid path found.\n"
     ]
    },
    {
     "name": "stdout",
     "output_type": "stream",
     "text": [
      "\u001b[1m1740/3125\u001b[0m \u001b[32m━━━━━━━━━━━\u001b[0m\u001b[37m━━━━━━━━━\u001b[0m \u001b[1m4:40:55\u001b[0m 12s/step - loss: inf"
     ]
    },
    {
     "name": "stderr",
     "output_type": "stream",
     "text": [
      "2024-11-22 18:26:23.340092: W ./tensorflow/core/util/ctc/ctc_loss_calculator.h:499] No valid path found.\n"
     ]
    },
    {
     "name": "stdout",
     "output_type": "stream",
     "text": [
      "\u001b[1m1841/3125\u001b[0m \u001b[32m━━━━━━━━━━━\u001b[0m\u001b[37m━━━━━━━━━\u001b[0m \u001b[1m4:20:36\u001b[0m 12s/step - loss: inf"
     ]
    },
    {
     "name": "stderr",
     "output_type": "stream",
     "text": [
      "2024-11-22 18:47:07.038591: W ./tensorflow/core/util/ctc/ctc_loss_calculator.h:499] No valid path found.\n",
      "2024-11-22 18:47:07.038683: W ./tensorflow/core/util/ctc/ctc_loss_calculator.h:499] No valid path found.\n",
      "2024-11-22 18:47:07.038878: W ./tensorflow/core/util/ctc/ctc_loss_calculator.h:499] No valid path found.\n"
     ]
    },
    {
     "name": "stdout",
     "output_type": "stream",
     "text": [
      "\u001b[1m1906/3125\u001b[0m \u001b[32m━━━━━━━━━━━━\u001b[0m\u001b[37m━━━━━━━━\u001b[0m \u001b[1m4:07:10\u001b[0m 12s/step - loss: inf"
     ]
    },
    {
     "name": "stderr",
     "output_type": "stream",
     "text": [
      "2024-11-22 18:59:56.396511: W ./tensorflow/core/util/ctc/ctc_loss_calculator.h:499] No valid path found.\n",
      "2024-11-22 18:59:56.396734: W ./tensorflow/core/util/ctc/ctc_loss_calculator.h:499] No valid path found.\n"
     ]
    },
    {
     "name": "stdout",
     "output_type": "stream",
     "text": [
      "\u001b[1m1934/3125\u001b[0m \u001b[32m━━━━━━━━━━━━\u001b[0m\u001b[37m━━━━━━━━\u001b[0m \u001b[1m4:01:32\u001b[0m 12s/step - loss: inf"
     ]
    },
    {
     "name": "stderr",
     "output_type": "stream",
     "text": [
      "2024-11-22 19:05:41.652327: W ./tensorflow/core/util/ctc/ctc_loss_calculator.h:499] No valid path found.\n"
     ]
    },
    {
     "name": "stdout",
     "output_type": "stream",
     "text": [
      "\u001b[1m2027/3125\u001b[0m \u001b[32m━━━━━━━━━━━━\u001b[0m\u001b[37m━━━━━━━━\u001b[0m \u001b[1m3:42:39\u001b[0m 12s/step - loss: inf"
     ]
    },
    {
     "name": "stderr",
     "output_type": "stream",
     "text": [
      "2024-11-22 19:24:29.973460: W ./tensorflow/core/util/ctc/ctc_loss_calculator.h:499] No valid path found.\n",
      "2024-11-22 19:24:29.973660: W ./tensorflow/core/util/ctc/ctc_loss_calculator.h:499] No valid path found.\n"
     ]
    },
    {
     "name": "stdout",
     "output_type": "stream",
     "text": [
      "\u001b[1m2205/3125\u001b[0m \u001b[32m━━━━━━━━━━━━━━\u001b[0m\u001b[37m━━━━━━\u001b[0m \u001b[1m3:06:29\u001b[0m 12s/step - loss: inf"
     ]
    },
    {
     "name": "stderr",
     "output_type": "stream",
     "text": [
      "2024-11-22 20:00:25.444521: W ./tensorflow/core/util/ctc/ctc_loss_calculator.h:499] No valid path found.\n",
      "2024-11-22 20:00:25.444800: W ./tensorflow/core/util/ctc/ctc_loss_calculator.h:499] No valid path found.\n",
      "2024-11-22 20:00:25.444833: W ./tensorflow/core/util/ctc/ctc_loss_calculator.h:499] No valid path found.\n",
      "2024-11-22 20:00:25.444925: W ./tensorflow/core/util/ctc/ctc_loss_calculator.h:499] No valid path found.\n",
      "2024-11-22 20:00:25.444950: W ./tensorflow/core/util/ctc/ctc_loss_calculator.h:499] No valid path found.\n",
      "2024-11-22 20:00:25.445418: W ./tensorflow/core/util/ctc/ctc_loss_calculator.h:499] No valid path found.\n"
     ]
    },
    {
     "name": "stdout",
     "output_type": "stream",
     "text": [
      "\u001b[1m2626/3125\u001b[0m \u001b[32m━━━━━━━━━━━━━━━━\u001b[0m\u001b[37m━━━━\u001b[0m \u001b[1m1:41:40\u001b[0m 12s/step - loss: inf"
     ]
    },
    {
     "name": "stderr",
     "output_type": "stream",
     "text": [
      "2024-11-22 21:28:34.047695: W ./tensorflow/core/util/ctc/ctc_loss_calculator.h:499] No valid path found.\n",
      "2024-11-22 21:28:34.047774: W ./tensorflow/core/util/ctc/ctc_loss_calculator.h:499] No valid path found.\n",
      "2024-11-22 21:28:34.047795: W ./tensorflow/core/util/ctc/ctc_loss_calculator.h:499] No valid path found.\n",
      "2024-11-22 21:28:34.047821: W ./tensorflow/core/util/ctc/ctc_loss_calculator.h:499] No valid path found.\n",
      "2024-11-22 21:28:34.047875: W ./tensorflow/core/util/ctc/ctc_loss_calculator.h:499] No valid path found.\n",
      "2024-11-22 21:28:34.047903: W ./tensorflow/core/util/ctc/ctc_loss_calculator.h:499] No valid path found.\n",
      "2024-11-22 21:28:34.047929: W ./tensorflow/core/util/ctc/ctc_loss_calculator.h:499] No valid path found.\n",
      "2024-11-22 21:28:34.047956: W ./tensorflow/core/util/ctc/ctc_loss_calculator.h:499] No valid path found.\n"
     ]
    },
    {
     "name": "stdout",
     "output_type": "stream",
     "text": [
      "\u001b[1m2789/3125\u001b[0m \u001b[32m━━━━━━━━━━━━━━━━━\u001b[0m\u001b[37m━━━\u001b[0m \u001b[1m1:08:32\u001b[0m 12s/step - loss: inf"
     ]
    },
    {
     "name": "stderr",
     "output_type": "stream",
     "text": [
      "2024-11-22 22:02:23.080257: W ./tensorflow/core/util/ctc/ctc_loss_calculator.h:499] No valid path found.\n",
      "2024-11-22 22:02:23.080333: W ./tensorflow/core/util/ctc/ctc_loss_calculator.h:499] No valid path found.\n",
      "2024-11-22 22:02:23.080829: W ./tensorflow/core/util/ctc/ctc_loss_calculator.h:499] No valid path found.\n"
     ]
    },
    {
     "name": "stdout",
     "output_type": "stream",
     "text": [
      "\u001b[1m2824/3125\u001b[0m \u001b[32m━━━━━━━━━━━━━━━━━━\u001b[0m\u001b[37m━━\u001b[0m \u001b[1m1:01:23\u001b[0m 12s/step - loss: inf"
     ]
    },
    {
     "name": "stderr",
     "output_type": "stream",
     "text": [
      "2024-11-22 22:09:23.392580: W ./tensorflow/core/util/ctc/ctc_loss_calculator.h:499] No valid path found.\n",
      "2024-11-22 22:09:23.392641: W ./tensorflow/core/util/ctc/ctc_loss_calculator.h:499] No valid path found.\n",
      "2024-11-22 22:09:23.392690: W ./tensorflow/core/util/ctc/ctc_loss_calculator.h:499] No valid path found.\n"
     ]
    },
    {
     "name": "stdout",
     "output_type": "stream",
     "text": [
      "\u001b[1m2856/3125\u001b[0m \u001b[32m━━━━━━━━━━━━━━━━━━\u001b[0m\u001b[37m━━\u001b[0m \u001b[1m54:48\u001b[0m 12s/step - loss: inf"
     ]
    },
    {
     "name": "stderr",
     "output_type": "stream",
     "text": [
      "2024-11-22 22:15:21.979142: W ./tensorflow/core/util/ctc/ctc_loss_calculator.h:499] No valid path found.\n"
     ]
    },
    {
     "name": "stdout",
     "output_type": "stream",
     "text": [
      "\u001b[1m2988/3125\u001b[0m \u001b[32m━━━━━━━━━━━━━━━━━━━\u001b[0m\u001b[37m━\u001b[0m \u001b[1m27:54\u001b[0m 12s/step - loss: inf"
     ]
    },
    {
     "name": "stderr",
     "output_type": "stream",
     "text": [
      "2024-11-22 22:42:15.295820: W ./tensorflow/core/util/ctc/ctc_loss_calculator.h:499] No valid path found.\n",
      "2024-11-22 22:42:15.295946: W ./tensorflow/core/util/ctc/ctc_loss_calculator.h:499] No valid path found.\n",
      "2024-11-22 22:42:15.296009: W ./tensorflow/core/util/ctc/ctc_loss_calculator.h:499] No valid path found.\n",
      "2024-11-22 22:42:15.296058: W ./tensorflow/core/util/ctc/ctc_loss_calculator.h:499] No valid path found.\n",
      "2024-11-22 22:42:15.296777: W ./tensorflow/core/util/ctc/ctc_loss_calculator.h:499] No valid path found.\n"
     ]
    },
    {
     "name": "stdout",
     "output_type": "stream",
     "text": [
      "\u001b[1m3009/3125\u001b[0m \u001b[32m━━━━━━━━━━━━━━━━━━━\u001b[0m\u001b[37m━\u001b[0m \u001b[1m23:37\u001b[0m 12s/step - loss: inf"
     ]
    },
    {
     "name": "stderr",
     "output_type": "stream",
     "text": [
      "2024-11-22 22:46:19.761807: W ./tensorflow/core/util/ctc/ctc_loss_calculator.h:499] No valid path found.\n",
      "2024-11-22 22:46:19.761924: W ./tensorflow/core/util/ctc/ctc_loss_calculator.h:499] No valid path found.\n",
      "2024-11-22 22:46:19.761971: W ./tensorflow/core/util/ctc/ctc_loss_calculator.h:499] No valid path found.\n",
      "2024-11-22 22:46:19.762183: W ./tensorflow/core/util/ctc/ctc_loss_calculator.h:499] No valid path found.\n",
      "2024-11-22 22:46:19.762212: W ./tensorflow/core/util/ctc/ctc_loss_calculator.h:499] No valid path found.\n",
      "2024-11-22 22:46:19.762266: W ./tensorflow/core/util/ctc/ctc_loss_calculator.h:499] No valid path found.\n",
      "2024-11-22 22:46:19.762329: W ./tensorflow/core/util/ctc/ctc_loss_calculator.h:499] No valid path found.\n",
      "2024-11-22 22:46:19.762348: W ./tensorflow/core/util/ctc/ctc_loss_calculator.h:499] No valid path found.\n",
      "2024-11-22 22:46:19.762387: W ./tensorflow/core/util/ctc/ctc_loss_calculator.h:499] No valid path found.\n",
      "2024-11-22 22:46:19.762407: W ./tensorflow/core/util/ctc/ctc_loss_calculator.h:499] No valid path found.\n",
      "2024-11-22 22:46:19.762435: W ./tensorflow/core/util/ctc/ctc_loss_calculator.h:499] No valid path found.\n",
      "2024-11-22 22:46:19.762469: W ./tensorflow/core/util/ctc/ctc_loss_calculator.h:499] No valid path found.\n"
     ]
    },
    {
     "name": "stdout",
     "output_type": "stream",
     "text": [
      "\u001b[1m3124/3125\u001b[0m \u001b[32m━━━━━━━━━━━━━━━━━━━\u001b[0m\u001b[37m━\u001b[0m \u001b[1m12s\u001b[0m 12s/step - loss: inf"
     ]
    },
    {
     "name": "stderr",
     "output_type": "stream",
     "text": [
      "2024-11-22 23:10:00.513006: W ./tensorflow/core/util/ctc/ctc_loss_calculator.h:499] No valid path found.\n",
      "2024-11-22 23:10:00.513054: W ./tensorflow/core/util/ctc/ctc_loss_calculator.h:499] No valid path found.\n",
      "2024-11-22 23:10:00.513109: W ./tensorflow/core/util/ctc/ctc_loss_calculator.h:499] No valid path found.\n",
      "2024-11-22 23:10:00.513174: W ./tensorflow/core/util/ctc/ctc_loss_calculator.h:499] No valid path found.\n",
      "2024-11-22 23:10:00.513206: W ./tensorflow/core/util/ctc/ctc_loss_calculator.h:499] No valid path found.\n",
      "2024-11-22 23:10:00.513235: W ./tensorflow/core/util/ctc/ctc_loss_calculator.h:499] No valid path found.\n",
      "2024-11-22 23:10:00.513256: W ./tensorflow/core/util/ctc/ctc_loss_calculator.h:499] No valid path found.\n",
      "2024-11-22 23:10:00.513281: W ./tensorflow/core/util/ctc/ctc_loss_calculator.h:499] No valid path found.\n",
      "2024-11-22 23:10:00.513303: W ./tensorflow/core/util/ctc/ctc_loss_calculator.h:499] No valid path found.\n",
      "2024-11-22 23:10:00.513334: W ./tensorflow/core/util/ctc/ctc_loss_calculator.h:499] No valid path found.\n",
      "2024-11-22 23:10:00.513355: W ./tensorflow/core/util/ctc/ctc_loss_calculator.h:499] No valid path found.\n",
      "2024-11-22 23:10:00.513366: W ./tensorflow/core/util/ctc/ctc_loss_calculator.h:499] No valid path found.\n",
      "2024-11-22 23:10:00.513386: W ./tensorflow/core/util/ctc/ctc_loss_calculator.h:499] No valid path found.\n",
      "2024-11-22 23:10:00.513402: W ./tensorflow/core/util/ctc/ctc_loss_calculator.h:499] No valid path found.\n",
      "2024-11-22 23:10:00.513415: W ./tensorflow/core/util/ctc/ctc_loss_calculator.h:499] No valid path found.\n"
     ]
    },
    {
     "name": "stdout",
     "output_type": "stream",
     "text": [
      "\u001b[1m3125/3125\u001b[0m \u001b[32m━━━━━━━━━━━━━━━━━━━━\u001b[0m\u001b[37m\u001b[0m \u001b[1m0s\u001b[0m 12s/step - loss: inf "
     ]
    },
    {
     "name": "stderr",
     "output_type": "stream",
     "text": [
      "2024-11-22 23:11:33.405886: W ./tensorflow/core/util/ctc/ctc_loss_calculator.h:499] No valid path found.\n",
      "2024-11-22 23:14:35.839197: W ./tensorflow/core/util/ctc/ctc_loss_calculator.h:499] No valid path found.\n",
      "2024-11-22 23:14:35.839253: W ./tensorflow/core/util/ctc/ctc_loss_calculator.h:499] No valid path found.\n",
      "2024-11-22 23:14:35.839297: W ./tensorflow/core/util/ctc/ctc_loss_calculator.h:499] No valid path found.\n",
      "2024-11-22 23:14:35.839312: W ./tensorflow/core/util/ctc/ctc_loss_calculator.h:499] No valid path found.\n",
      "2024-11-22 23:14:35.839336: W ./tensorflow/core/util/ctc/ctc_loss_calculator.h:499] No valid path found.\n",
      "2024-11-22 23:14:35.839359: W ./tensorflow/core/util/ctc/ctc_loss_calculator.h:499] No valid path found.\n",
      "2024-11-22 23:14:35.839378: W ./tensorflow/core/util/ctc/ctc_loss_calculator.h:499] No valid path found.\n",
      "2024-11-22 23:14:35.839402: W ./tensorflow/core/util/ctc/ctc_loss_calculator.h:499] No valid path found.\n",
      "2024-11-22 23:14:35.839424: W ./tensorflow/core/util/ctc/ctc_loss_calculator.h:499] No valid path found.\n",
      "2024-11-22 23:14:35.839473: W ./tensorflow/core/util/ctc/ctc_loss_calculator.h:499] No valid path found.\n",
      "2024-11-22 23:14:35.839489: W ./tensorflow/core/util/ctc/ctc_loss_calculator.h:499] No valid path found.\n",
      "2024-11-22 23:14:35.839539: W ./tensorflow/core/util/ctc/ctc_loss_calculator.h:499] No valid path found.\n",
      "2024-11-22 23:14:35.839573: W ./tensorflow/core/util/ctc/ctc_loss_calculator.h:499] No valid path found.\n"
     ]
    },
    {
     "name": "stdout",
     "output_type": "stream",
     "text": [
      "\u001b[1m1/1\u001b[0m \u001b[32m━━━━━━━━━━━━━━━━━━━━\u001b[0m\u001b[37m\u001b[0m \u001b[1m2s\u001b[0m 2s/step\n",
      "\u001b[1m1/1\u001b[0m \u001b[32m━━━━━━━━━━━━━━━━━━━━\u001b[0m\u001b[37m\u001b[0m \u001b[1m2s\u001b[0m 2s/step\n",
      "\u001b[1m1/1\u001b[0m \u001b[32m━━━━━━━━━━━━━━━━━━━━\u001b[0m\u001b[37m\u001b[0m \u001b[1m1s\u001b[0m 1s/step\n",
      "\u001b[1m1/1\u001b[0m \u001b[32m━━━━━━━━━━━━━━━━━━━━\u001b[0m\u001b[37m\u001b[0m \u001b[1m1s\u001b[0m 1s/step\n",
      "\u001b[1m1/1\u001b[0m \u001b[32m━━━━━━━━━━━━━━━━━━━━\u001b[0m\u001b[37m\u001b[0m \u001b[1m1s\u001b[0m 1s/step\n",
      "\u001b[1m1/1\u001b[0m \u001b[32m━━━━━━━━━━━━━━━━━━━━\u001b[0m\u001b[37m\u001b[0m \u001b[1m1s\u001b[0m 1s/step\n",
      "\u001b[1m1/1\u001b[0m \u001b[32m━━━━━━━━━━━━━━━━━━━━\u001b[0m\u001b[37m\u001b[0m \u001b[1m3s\u001b[0m 3s/step\n",
      "\u001b[1m1/1\u001b[0m \u001b[32m━━━━━━━━━━━━━━━━━━━━\u001b[0m\u001b[37m\u001b[0m \u001b[1m2s\u001b[0m 2s/step\n",
      "\u001b[1m1/1\u001b[0m \u001b[32m━━━━━━━━━━━━━━━━━━━━\u001b[0m\u001b[37m\u001b[0m \u001b[1m1s\u001b[0m 1s/step\n",
      "\u001b[1m1/1\u001b[0m \u001b[32m━━━━━━━━━━━━━━━━━━━━\u001b[0m\u001b[37m\u001b[0m \u001b[1m1s\u001b[0m 1s/step\n",
      "\u001b[1m1/1\u001b[0m \u001b[32m━━━━━━━━━━━━━━━━━━━━\u001b[0m\u001b[37m\u001b[0m \u001b[1m1s\u001b[0m 1s/step\n",
      "\u001b[1m1/1\u001b[0m \u001b[32m━━━━━━━━━━━━━━━━━━━━\u001b[0m\u001b[37m\u001b[0m \u001b[1m1s\u001b[0m 1s/step\n",
      "\u001b[1m1/1\u001b[0m \u001b[32m━━━━━━━━━━━━━━━━━━━━\u001b[0m\u001b[37m\u001b[0m \u001b[1m1s\u001b[0m 1s/step\n",
      "\u001b[1m1/1\u001b[0m \u001b[32m━━━━━━━━━━━━━━━━━━━━\u001b[0m\u001b[37m\u001b[0m \u001b[1m1s\u001b[0m 1s/step\n",
      "\u001b[1m1/1\u001b[0m \u001b[32m━━━━━━━━━━━━━━━━━━━━\u001b[0m\u001b[37m\u001b[0m \u001b[1m1s\u001b[0m 1s/step\n",
      "\u001b[1m1/1\u001b[0m \u001b[32m━━━━━━━━━━━━━━━━━━━━\u001b[0m\u001b[37m\u001b[0m \u001b[1m1s\u001b[0m 1s/step\n",
      "\u001b[1m1/1\u001b[0m \u001b[32m━━━━━━━━━━━━━━━━━━━━\u001b[0m\u001b[37m\u001b[0m \u001b[1m1s\u001b[0m 1s/step\n",
      "\u001b[1m1/1\u001b[0m \u001b[32m━━━━━━━━━━━━━━━━━━━━\u001b[0m\u001b[37m\u001b[0m \u001b[1m2s\u001b[0m 2s/step\n",
      "\u001b[1m1/1\u001b[0m \u001b[32m━━━━━━━━━━━━━━━━━━━━\u001b[0m\u001b[37m\u001b[0m \u001b[1m1s\u001b[0m 1s/step\n",
      "\u001b[1m1/1\u001b[0m \u001b[32m━━━━━━━━━━━━━━━━━━━━\u001b[0m\u001b[37m\u001b[0m \u001b[1m1s\u001b[0m 1s/step\n",
      "\u001b[1m1/1\u001b[0m \u001b[32m━━━━━━━━━━━━━━━━━━━━\u001b[0m\u001b[37m\u001b[0m \u001b[1m1s\u001b[0m 1s/step\n",
      "\u001b[1m1/1\u001b[0m \u001b[32m━━━━━━━━━━━━━━━━━━━━\u001b[0m\u001b[37m\u001b[0m \u001b[1m1s\u001b[0m 1s/step\n",
      "\u001b[1m1/1\u001b[0m \u001b[32m━━━━━━━━━━━━━━━━━━━━\u001b[0m\u001b[37m\u001b[0m \u001b[1m2s\u001b[0m 2s/step\n",
      "\u001b[1m1/1\u001b[0m \u001b[32m━━━━━━━━━━━━━━━━━━━━\u001b[0m\u001b[37m\u001b[0m \u001b[1m1s\u001b[0m 1s/step\n",
      "\u001b[1m1/1\u001b[0m \u001b[32m━━━━━━━━━━━━━━━━━━━━\u001b[0m\u001b[37m\u001b[0m \u001b[1m2s\u001b[0m 2s/step\n",
      "\u001b[1m1/1\u001b[0m \u001b[32m━━━━━━━━━━━━━━━━━━━━\u001b[0m\u001b[37m\u001b[0m \u001b[1m1s\u001b[0m 1s/step\n",
      "\u001b[1m1/1\u001b[0m \u001b[32m━━━━━━━━━━━━━━━━━━━━\u001b[0m\u001b[37m\u001b[0m \u001b[1m1s\u001b[0m 1s/step\n",
      "\u001b[1m1/1\u001b[0m \u001b[32m━━━━━━━━━━━━━━━━━━━━\u001b[0m\u001b[37m\u001b[0m \u001b[1m1s\u001b[0m 1s/step\n",
      "\u001b[1m1/1\u001b[0m \u001b[32m━━━━━━━━━━━━━━━━━━━━\u001b[0m\u001b[37m\u001b[0m \u001b[1m2s\u001b[0m 2s/step\n",
      "\u001b[1m1/1\u001b[0m \u001b[32m━━━━━━━━━━━━━━━━━━━━\u001b[0m\u001b[37m\u001b[0m \u001b[1m2s\u001b[0m 2s/step\n",
      "\u001b[1m1/1\u001b[0m \u001b[32m━━━━━━━━━━━━━━━━━━━━\u001b[0m\u001b[37m\u001b[0m \u001b[1m1s\u001b[0m 1s/step\n",
      "\u001b[1m1/1\u001b[0m \u001b[32m━━━━━━━━━━━━━━━━━━━━\u001b[0m\u001b[37m\u001b[0m \u001b[1m2s\u001b[0m 2s/step\n",
      "\u001b[1m1/1\u001b[0m \u001b[32m━━━━━━━━━━━━━━━━━━━━\u001b[0m\u001b[37m\u001b[0m \u001b[1m2s\u001b[0m 2s/step\n",
      "\u001b[1m1/1\u001b[0m \u001b[32m━━━━━━━━━━━━━━━━━━━━\u001b[0m\u001b[37m\u001b[0m \u001b[1m1s\u001b[0m 1s/step\n",
      "\u001b[1m1/1\u001b[0m \u001b[32m━━━━━━━━━━━━━━━━━━━━\u001b[0m\u001b[37m\u001b[0m \u001b[1m1s\u001b[0m 1s/step\n",
      "\u001b[1m1/1\u001b[0m \u001b[32m━━━━━━━━━━━━━━━━━━━━\u001b[0m\u001b[37m\u001b[0m \u001b[1m1s\u001b[0m 1s/step\n",
      "\u001b[1m1/1\u001b[0m \u001b[32m━━━━━━━━━━━━━━━━━━━━\u001b[0m\u001b[37m\u001b[0m \u001b[1m1s\u001b[0m 1s/step\n",
      "\u001b[1m1/1\u001b[0m \u001b[32m━━━━━━━━━━━━━━━━━━━━\u001b[0m\u001b[37m\u001b[0m \u001b[1m2s\u001b[0m 2s/step\n",
      "\u001b[1m1/1\u001b[0m \u001b[32m━━━━━━━━━━━━━━━━━━━━\u001b[0m\u001b[37m\u001b[0m \u001b[1m2s\u001b[0m 2s/step\n",
      "\u001b[1m1/1\u001b[0m \u001b[32m━━━━━━━━━━━━━━━━━━━━\u001b[0m\u001b[37m\u001b[0m \u001b[1m2s\u001b[0m 2s/step\n",
      "\u001b[1m1/1\u001b[0m \u001b[32m━━━━━━━━━━━━━━━━━━━━\u001b[0m\u001b[37m\u001b[0m \u001b[1m1s\u001b[0m 1s/step\n",
      "\u001b[1m1/1\u001b[0m \u001b[32m━━━━━━━━━━━━━━━━━━━━\u001b[0m\u001b[37m\u001b[0m \u001b[1m1s\u001b[0m 1s/step\n",
      "\u001b[1m1/1\u001b[0m \u001b[32m━━━━━━━━━━━━━━━━━━━━\u001b[0m\u001b[37m\u001b[0m \u001b[1m1s\u001b[0m 893ms/step\n",
      "\u001b[1m1/1\u001b[0m \u001b[32m━━━━━━━━━━━━━━━━━━━━\u001b[0m\u001b[37m\u001b[0m \u001b[1m1s\u001b[0m 1s/step\n",
      "\u001b[1m1/1\u001b[0m \u001b[32m━━━━━━━━━━━━━━━━━━━━\u001b[0m\u001b[37m\u001b[0m \u001b[1m1s\u001b[0m 1s/step\n",
      "\u001b[1m1/1\u001b[0m \u001b[32m━━━━━━━━━━━━━━━━━━━━\u001b[0m\u001b[37m\u001b[0m \u001b[1m2s\u001b[0m 2s/step\n",
      "\u001b[1m1/1\u001b[0m \u001b[32m━━━━━━━━━━━━━━━━━━━━\u001b[0m\u001b[37m\u001b[0m \u001b[1m1s\u001b[0m 1s/step\n",
      "\u001b[1m1/1\u001b[0m \u001b[32m━━━━━━━━━━━━━━━━━━━━\u001b[0m\u001b[37m\u001b[0m \u001b[1m2s\u001b[0m 2s/step\n",
      "\u001b[1m1/1\u001b[0m \u001b[32m━━━━━━━━━━━━━━━━━━━━\u001b[0m\u001b[37m\u001b[0m \u001b[1m2s\u001b[0m 2s/step\n",
      "\u001b[1m1/1\u001b[0m \u001b[32m━━━━━━━━━━━━━━━━━━━━\u001b[0m\u001b[37m\u001b[0m \u001b[1m1s\u001b[0m 1s/step\n",
      "\u001b[1m1/1\u001b[0m \u001b[32m━━━━━━━━━━━━━━━━━━━━\u001b[0m\u001b[37m\u001b[0m \u001b[1m2s\u001b[0m 2s/step\n",
      "\u001b[1m1/1\u001b[0m \u001b[32m━━━━━━━━━━━━━━━━━━━━\u001b[0m\u001b[37m\u001b[0m \u001b[1m2s\u001b[0m 2s/step\n",
      "\u001b[1m1/1\u001b[0m \u001b[32m━━━━━━━━━━━━━━━━━━━━\u001b[0m\u001b[37m\u001b[0m \u001b[1m1s\u001b[0m 1s/step\n",
      "\u001b[1m1/1\u001b[0m \u001b[32m━━━━━━━━━━━━━━━━━━━━\u001b[0m\u001b[37m\u001b[0m \u001b[1m1s\u001b[0m 1s/step\n",
      "\u001b[1m1/1\u001b[0m \u001b[32m━━━━━━━━━━━━━━━━━━━━\u001b[0m\u001b[37m\u001b[0m \u001b[1m1s\u001b[0m 1s/step\n",
      "\u001b[1m1/1\u001b[0m \u001b[32m━━━━━━━━━━━━━━━━━━━━\u001b[0m\u001b[37m\u001b[0m \u001b[1m1s\u001b[0m 1s/step\n",
      "\u001b[1m1/1\u001b[0m \u001b[32m━━━━━━━━━━━━━━━━━━━━\u001b[0m\u001b[37m\u001b[0m \u001b[1m1s\u001b[0m 1s/step\n",
      "\u001b[1m1/1\u001b[0m \u001b[32m━━━━━━━━━━━━━━━━━━━━\u001b[0m\u001b[37m\u001b[0m \u001b[1m1s\u001b[0m 1s/step\n",
      "\u001b[1m1/1\u001b[0m \u001b[32m━━━━━━━━━━━━━━━━━━━━\u001b[0m\u001b[37m\u001b[0m \u001b[1m2s\u001b[0m 2s/step\n",
      "\u001b[1m1/1\u001b[0m \u001b[32m━━━━━━━━━━━━━━━━━━━━\u001b[0m\u001b[37m\u001b[0m \u001b[1m1s\u001b[0m 1s/step\n",
      "\u001b[1m1/1\u001b[0m \u001b[32m━━━━━━━━━━━━━━━━━━━━\u001b[0m\u001b[37m\u001b[0m \u001b[1m2s\u001b[0m 2s/step\n",
      "\u001b[1m1/1\u001b[0m \u001b[32m━━━━━━━━━━━━━━━━━━━━\u001b[0m\u001b[37m\u001b[0m \u001b[1m1s\u001b[0m 1s/step\n",
      "\u001b[1m1/1\u001b[0m \u001b[32m━━━━━━━━━━━━━━━━━━━━\u001b[0m\u001b[37m\u001b[0m \u001b[1m2s\u001b[0m 2s/step\n",
      "\u001b[1m1/1\u001b[0m \u001b[32m━━━━━━━━━━━━━━━━━━━━\u001b[0m\u001b[37m\u001b[0m \u001b[1m2s\u001b[0m 2s/step\n",
      "\u001b[1m1/1\u001b[0m \u001b[32m━━━━━━━━━━━━━━━━━━━━\u001b[0m\u001b[37m\u001b[0m \u001b[1m1s\u001b[0m 1s/step\n",
      "\u001b[1m1/1\u001b[0m \u001b[32m━━━━━━━━━━━━━━━━━━━━\u001b[0m\u001b[37m\u001b[0m \u001b[1m2s\u001b[0m 2s/step\n",
      "\u001b[1m1/1\u001b[0m \u001b[32m━━━━━━━━━━━━━━━━━━━━\u001b[0m\u001b[37m\u001b[0m \u001b[1m2s\u001b[0m 2s/step\n",
      "\u001b[1m1/1\u001b[0m \u001b[32m━━━━━━━━━━━━━━━━━━━━\u001b[0m\u001b[37m\u001b[0m \u001b[1m1s\u001b[0m 1s/step\n",
      "\u001b[1m1/1\u001b[0m \u001b[32m━━━━━━━━━━━━━━━━━━━━\u001b[0m\u001b[37m\u001b[0m \u001b[1m2s\u001b[0m 2s/step\n",
      "\u001b[1m1/1\u001b[0m \u001b[32m━━━━━━━━━━━━━━━━━━━━\u001b[0m\u001b[37m\u001b[0m \u001b[1m1s\u001b[0m 1s/step\n",
      "\u001b[1m1/1\u001b[0m \u001b[32m━━━━━━━━━━━━━━━━━━━━\u001b[0m\u001b[37m\u001b[0m \u001b[1m2s\u001b[0m 2s/step\n",
      "\u001b[1m1/1\u001b[0m \u001b[32m━━━━━━━━━━━━━━━━━━━━\u001b[0m\u001b[37m\u001b[0m \u001b[1m1s\u001b[0m 1s/step\n",
      "\u001b[1m1/1\u001b[0m \u001b[32m━━━━━━━━━━━━━━━━━━━━\u001b[0m\u001b[37m\u001b[0m \u001b[1m1s\u001b[0m 957ms/step\n",
      "\u001b[1m1/1\u001b[0m \u001b[32m━━━━━━━━━━━━━━━━━━━━\u001b[0m\u001b[37m\u001b[0m \u001b[1m2s\u001b[0m 2s/step\n",
      "\u001b[1m1/1\u001b[0m \u001b[32m━━━━━━━━━━━━━━━━━━━━\u001b[0m\u001b[37m\u001b[0m \u001b[1m1s\u001b[0m 1s/step\n",
      "\u001b[1m1/1\u001b[0m \u001b[32m━━━━━━━━━━━━━━━━━━━━\u001b[0m\u001b[37m\u001b[0m \u001b[1m1s\u001b[0m 1s/step\n",
      "\u001b[1m1/1\u001b[0m \u001b[32m━━━━━━━━━━━━━━━━━━━━\u001b[0m\u001b[37m\u001b[0m \u001b[1m2s\u001b[0m 2s/step\n",
      "\u001b[1m1/1\u001b[0m \u001b[32m━━━━━━━━━━━━━━━━━━━━\u001b[0m\u001b[37m\u001b[0m \u001b[1m1s\u001b[0m 1s/step\n",
      "\u001b[1m1/1\u001b[0m \u001b[32m━━━━━━━━━━━━━━━━━━━━\u001b[0m\u001b[37m\u001b[0m \u001b[1m1s\u001b[0m 947ms/step\n",
      "\u001b[1m1/1\u001b[0m \u001b[32m━━━━━━━━━━━━━━━━━━━━\u001b[0m\u001b[37m\u001b[0m \u001b[1m1s\u001b[0m 1s/step\n",
      "\u001b[1m1/1\u001b[0m \u001b[32m━━━━━━━━━━━━━━━━━━━━\u001b[0m\u001b[37m\u001b[0m \u001b[1m1s\u001b[0m 1s/step\n",
      "\u001b[1m1/1\u001b[0m \u001b[32m━━━━━━━━━━━━━━━━━━━━\u001b[0m\u001b[37m\u001b[0m \u001b[1m1s\u001b[0m 945ms/step\n",
      "\u001b[1m1/1\u001b[0m \u001b[32m━━━━━━━━━━━━━━━━━━━━\u001b[0m\u001b[37m\u001b[0m \u001b[1m1s\u001b[0m 1s/step\n",
      "\u001b[1m1/1\u001b[0m \u001b[32m━━━━━━━━━━━━━━━━━━━━\u001b[0m\u001b[37m\u001b[0m \u001b[1m1s\u001b[0m 1s/step\n",
      "\u001b[1m1/1\u001b[0m \u001b[32m━━━━━━━━━━━━━━━━━━━━\u001b[0m\u001b[37m\u001b[0m \u001b[1m2s\u001b[0m 2s/step\n",
      "\u001b[1m1/1\u001b[0m \u001b[32m━━━━━━━━━━━━━━━━━━━━\u001b[0m\u001b[37m\u001b[0m \u001b[1m2s\u001b[0m 2s/step\n",
      "\u001b[1m1/1\u001b[0m \u001b[32m━━━━━━━━━━━━━━━━━━━━\u001b[0m\u001b[37m\u001b[0m \u001b[1m2s\u001b[0m 2s/step\n",
      "\u001b[1m1/1\u001b[0m \u001b[32m━━━━━━━━━━━━━━━━━━━━\u001b[0m\u001b[37m\u001b[0m \u001b[1m1s\u001b[0m 1s/step\n",
      "\u001b[1m1/1\u001b[0m \u001b[32m━━━━━━━━━━━━━━━━━━━━\u001b[0m\u001b[37m\u001b[0m \u001b[1m1s\u001b[0m 1s/step\n",
      "\u001b[1m1/1\u001b[0m \u001b[32m━━━━━━━━━━━━━━━━━━━━\u001b[0m\u001b[37m\u001b[0m \u001b[1m2s\u001b[0m 2s/step\n",
      "\u001b[1m1/1\u001b[0m \u001b[32m━━━━━━━━━━━━━━━━━━━━\u001b[0m\u001b[37m\u001b[0m \u001b[1m3s\u001b[0m 3s/step\n",
      "\u001b[1m1/1\u001b[0m \u001b[32m━━━━━━━━━━━━━━━━━━━━\u001b[0m\u001b[37m\u001b[0m \u001b[1m1s\u001b[0m 1s/step\n",
      "\u001b[1m1/1\u001b[0m \u001b[32m━━━━━━━━━━━━━━━━━━━━\u001b[0m\u001b[37m\u001b[0m \u001b[1m1s\u001b[0m 1s/step\n",
      "\u001b[1m1/1\u001b[0m \u001b[32m━━━━━━━━━━━━━━━━━━━━\u001b[0m\u001b[37m\u001b[0m \u001b[1m2s\u001b[0m 2s/step\n",
      "\u001b[1m1/1\u001b[0m \u001b[32m━━━━━━━━━━━━━━━━━━━━\u001b[0m\u001b[37m\u001b[0m \u001b[1m1s\u001b[0m 1s/step\n",
      "\u001b[1m1/1\u001b[0m \u001b[32m━━━━━━━━━━━━━━━━━━━━\u001b[0m\u001b[37m\u001b[0m \u001b[1m2s\u001b[0m 2s/step\n",
      "\u001b[1m1/1\u001b[0m \u001b[32m━━━━━━━━━━━━━━━━━━━━\u001b[0m\u001b[37m\u001b[0m \u001b[1m2s\u001b[0m 2s/step\n",
      "\u001b[1m1/1\u001b[0m \u001b[32m━━━━━━━━━━━━━━━━━━━━\u001b[0m\u001b[37m\u001b[0m \u001b[1m1s\u001b[0m 1s/step\n",
      "\u001b[1m1/1\u001b[0m \u001b[32m━━━━━━━━━━━━━━━━━━━━\u001b[0m\u001b[37m\u001b[0m \u001b[1m1s\u001b[0m 1s/step\n",
      "\u001b[1m1/1\u001b[0m \u001b[32m━━━━━━━━━━━━━━━━━━━━\u001b[0m\u001b[37m\u001b[0m \u001b[1m1s\u001b[0m 1s/step\n",
      "\u001b[1m1/1\u001b[0m \u001b[32m━━━━━━━━━━━━━━━━━━━━\u001b[0m\u001b[37m\u001b[0m \u001b[1m1s\u001b[0m 1s/step\n",
      "\u001b[1m1/1\u001b[0m \u001b[32m━━━━━━━━━━━━━━━━━━━━\u001b[0m\u001b[37m\u001b[0m \u001b[1m1s\u001b[0m 1s/step\n",
      "\u001b[1m1/1\u001b[0m \u001b[32m━━━━━━━━━━━━━━━━━━━━\u001b[0m\u001b[37m\u001b[0m \u001b[1m2s\u001b[0m 2s/step\n",
      "\u001b[1m1/1\u001b[0m \u001b[32m━━━━━━━━━━━━━━━━━━━━\u001b[0m\u001b[37m\u001b[0m \u001b[1m1s\u001b[0m 1s/step\n",
      "\u001b[1m1/1\u001b[0m \u001b[32m━━━━━━━━━━━━━━━━━━━━\u001b[0m\u001b[37m\u001b[0m \u001b[1m2s\u001b[0m 2s/step\n",
      "\u001b[1m1/1\u001b[0m \u001b[32m━━━━━━━━━━━━━━━━━━━━\u001b[0m\u001b[37m\u001b[0m \u001b[1m1s\u001b[0m 1s/step\n",
      "\u001b[1m1/1\u001b[0m \u001b[32m━━━━━━━━━━━━━━━━━━━━\u001b[0m\u001b[37m\u001b[0m \u001b[1m1s\u001b[0m 1s/step\n",
      "\u001b[1m1/1\u001b[0m \u001b[32m━━━━━━━━━━━━━━━━━━━━\u001b[0m\u001b[37m\u001b[0m \u001b[1m2s\u001b[0m 2s/step\n",
      "\u001b[1m1/1\u001b[0m \u001b[32m━━━━━━━━━━━━━━━━━━━━\u001b[0m\u001b[37m\u001b[0m \u001b[1m2s\u001b[0m 2s/step\n",
      "\u001b[1m1/1\u001b[0m \u001b[32m━━━━━━━━━━━━━━━━━━━━\u001b[0m\u001b[37m\u001b[0m \u001b[1m2s\u001b[0m 2s/step\n",
      "\u001b[1m1/1\u001b[0m \u001b[32m━━━━━━━━━━━━━━━━━━━━\u001b[0m\u001b[37m\u001b[0m \u001b[1m1s\u001b[0m 1s/step\n",
      "\u001b[1m1/1\u001b[0m \u001b[32m━━━━━━━━━━━━━━━━━━━━\u001b[0m\u001b[37m\u001b[0m \u001b[1m1s\u001b[0m 1s/step\n",
      "\u001b[1m1/1\u001b[0m \u001b[32m━━━━━━━━━━━━━━━━━━━━\u001b[0m\u001b[37m\u001b[0m \u001b[1m2s\u001b[0m 2s/step\n",
      "\u001b[1m1/1\u001b[0m \u001b[32m━━━━━━━━━━━━━━━━━━━━\u001b[0m\u001b[37m\u001b[0m \u001b[1m1s\u001b[0m 1s/step\n",
      "\u001b[1m1/1\u001b[0m \u001b[32m━━━━━━━━━━━━━━━━━━━━\u001b[0m\u001b[37m\u001b[0m \u001b[1m2s\u001b[0m 2s/step\n",
      "\u001b[1m1/1\u001b[0m \u001b[32m━━━━━━━━━━━━━━━━━━━━\u001b[0m\u001b[37m\u001b[0m \u001b[1m2s\u001b[0m 2s/step\n",
      "\u001b[1m1/1\u001b[0m \u001b[32m━━━━━━━━━━━━━━━━━━━━\u001b[0m\u001b[37m\u001b[0m \u001b[1m1s\u001b[0m 1s/step\n",
      "\u001b[1m1/1\u001b[0m \u001b[32m━━━━━━━━━━━━━━━━━━━━\u001b[0m\u001b[37m\u001b[0m \u001b[1m1s\u001b[0m 1s/step\n",
      "\u001b[1m1/1\u001b[0m \u001b[32m━━━━━━━━━━━━━━━━━━━━\u001b[0m\u001b[37m\u001b[0m \u001b[1m1s\u001b[0m 1s/step\n",
      "\u001b[1m1/1\u001b[0m \u001b[32m━━━━━━━━━━━━━━━━━━━━\u001b[0m\u001b[37m\u001b[0m \u001b[1m1s\u001b[0m 1s/step\n",
      "\u001b[1m1/1\u001b[0m \u001b[32m━━━━━━━━━━━━━━━━━━━━\u001b[0m\u001b[37m\u001b[0m \u001b[1m2s\u001b[0m 2s/step\n",
      "\u001b[1m1/1\u001b[0m \u001b[32m━━━━━━━━━━━━━━━━━━━━\u001b[0m\u001b[37m\u001b[0m \u001b[1m2s\u001b[0m 2s/step\n",
      "\u001b[1m1/1\u001b[0m \u001b[32m━━━━━━━━━━━━━━━━━━━━\u001b[0m\u001b[37m\u001b[0m \u001b[1m1s\u001b[0m 1s/step\n",
      "\u001b[1m1/1\u001b[0m \u001b[32m━━━━━━━━━━━━━━━━━━━━\u001b[0m\u001b[37m\u001b[0m \u001b[1m1s\u001b[0m 1s/step\n",
      "\u001b[1m1/1\u001b[0m \u001b[32m━━━━━━━━━━━━━━━━━━━━\u001b[0m\u001b[37m\u001b[0m \u001b[1m2s\u001b[0m 2s/step\n",
      "\u001b[1m1/1\u001b[0m \u001b[32m━━━━━━━━━━━━━━━━━━━━\u001b[0m\u001b[37m\u001b[0m \u001b[1m2s\u001b[0m 2s/step\n",
      "\u001b[1m1/1\u001b[0m \u001b[32m━━━━━━━━━━━━━━━━━━━━\u001b[0m\u001b[37m\u001b[0m \u001b[1m1s\u001b[0m 1s/step\n",
      "\u001b[1m1/1\u001b[0m \u001b[32m━━━━━━━━━━━━━━━━━━━━\u001b[0m\u001b[37m\u001b[0m \u001b[1m1s\u001b[0m 1s/step\n",
      "\u001b[1m1/1\u001b[0m \u001b[32m━━━━━━━━━━━━━━━━━━━━\u001b[0m\u001b[37m\u001b[0m \u001b[1m1s\u001b[0m 1s/step\n",
      "\u001b[1m1/1\u001b[0m \u001b[32m━━━━━━━━━━━━━━━━━━━━\u001b[0m\u001b[37m\u001b[0m \u001b[1m1s\u001b[0m 1s/step\n",
      "\u001b[1m1/1\u001b[0m \u001b[32m━━━━━━━━━━━━━━━━━━━━\u001b[0m\u001b[37m\u001b[0m \u001b[1m1s\u001b[0m 1s/step\n",
      "\u001b[1m1/1\u001b[0m \u001b[32m━━━━━━━━━━━━━━━━━━━━\u001b[0m\u001b[37m\u001b[0m \u001b[1m2s\u001b[0m 2s/step\n",
      "\u001b[1m1/1\u001b[0m \u001b[32m━━━━━━━━━━━━━━━━━━━━\u001b[0m\u001b[37m\u001b[0m \u001b[1m1s\u001b[0m 1s/step\n",
      "\u001b[1m1/1\u001b[0m \u001b[32m━━━━━━━━━━━━━━━━━━━━\u001b[0m\u001b[37m\u001b[0m \u001b[1m1s\u001b[0m 1s/step\n",
      "\u001b[1m1/1\u001b[0m \u001b[32m━━━━━━━━━━━━━━━━━━━━\u001b[0m\u001b[37m\u001b[0m \u001b[1m2s\u001b[0m 2s/step\n",
      "\u001b[1m1/1\u001b[0m \u001b[32m━━━━━━━━━━━━━━━━━━━━\u001b[0m\u001b[37m\u001b[0m \u001b[1m2s\u001b[0m 2s/step\n",
      "\u001b[1m1/1\u001b[0m \u001b[32m━━━━━━━━━━━━━━━━━━━━\u001b[0m\u001b[37m\u001b[0m \u001b[1m1s\u001b[0m 1s/step\n",
      "\u001b[1m1/1\u001b[0m \u001b[32m━━━━━━━━━━━━━━━━━━━━\u001b[0m\u001b[37m\u001b[0m \u001b[1m1s\u001b[0m 1s/step\n",
      "\u001b[1m1/1\u001b[0m \u001b[32m━━━━━━━━━━━━━━━━━━━━\u001b[0m\u001b[37m\u001b[0m \u001b[1m1s\u001b[0m 1s/step\n",
      "\u001b[1m1/1\u001b[0m \u001b[32m━━━━━━━━━━━━━━━━━━━━\u001b[0m\u001b[37m\u001b[0m \u001b[1m1s\u001b[0m 1s/step\n",
      "\u001b[1m1/1\u001b[0m \u001b[32m━━━━━━━━━━━━━━━━━━━━\u001b[0m\u001b[37m\u001b[0m \u001b[1m1s\u001b[0m 1s/step\n",
      "\u001b[1m1/1\u001b[0m \u001b[32m━━━━━━━━━━━━━━━━━━━━\u001b[0m\u001b[37m\u001b[0m \u001b[1m1s\u001b[0m 1s/step\n",
      "\u001b[1m1/1\u001b[0m \u001b[32m━━━━━━━━━━━━━━━━━━━━\u001b[0m\u001b[37m\u001b[0m \u001b[1m2s\u001b[0m 2s/step\n",
      "\u001b[1m1/1\u001b[0m \u001b[32m━━━━━━━━━━━━━━━━━━━━\u001b[0m\u001b[37m\u001b[0m \u001b[1m2s\u001b[0m 2s/step\n",
      "\u001b[1m1/1\u001b[0m \u001b[32m━━━━━━━━━━━━━━━━━━━━\u001b[0m\u001b[37m\u001b[0m \u001b[1m1s\u001b[0m 1s/step\n",
      "\u001b[1m1/1\u001b[0m \u001b[32m━━━━━━━━━━━━━━━━━━━━\u001b[0m\u001b[37m\u001b[0m \u001b[1m1s\u001b[0m 1s/step\n",
      "\u001b[1m1/1\u001b[0m \u001b[32m━━━━━━━━━━━━━━━━━━━━\u001b[0m\u001b[37m\u001b[0m \u001b[1m1s\u001b[0m 1s/step\n",
      "\u001b[1m1/1\u001b[0m \u001b[32m━━━━━━━━━━━━━━━━━━━━\u001b[0m\u001b[37m\u001b[0m \u001b[1m1s\u001b[0m 1s/step\n",
      "\u001b[1m1/1\u001b[0m \u001b[32m━━━━━━━━━━━━━━━━━━━━\u001b[0m\u001b[37m\u001b[0m \u001b[1m1s\u001b[0m 1s/step\n",
      "\u001b[1m1/1\u001b[0m \u001b[32m━━━━━━━━━━━━━━━━━━━━\u001b[0m\u001b[37m\u001b[0m \u001b[1m1s\u001b[0m 1s/step\n",
      "\u001b[1m1/1\u001b[0m \u001b[32m━━━━━━━━━━━━━━━━━━━━\u001b[0m\u001b[37m\u001b[0m \u001b[1m1s\u001b[0m 1s/step\n",
      "\u001b[1m1/1\u001b[0m \u001b[32m━━━━━━━━━━━━━━━━━━━━\u001b[0m\u001b[37m\u001b[0m \u001b[1m2s\u001b[0m 2s/step\n",
      "\u001b[1m1/1\u001b[0m \u001b[32m━━━━━━━━━━━━━━━━━━━━\u001b[0m\u001b[37m\u001b[0m \u001b[1m1s\u001b[0m 1s/step\n",
      "\u001b[1m1/1\u001b[0m \u001b[32m━━━━━━━━━━━━━━━━━━━━\u001b[0m\u001b[37m\u001b[0m \u001b[1m1s\u001b[0m 1s/step\n",
      "\u001b[1m1/1\u001b[0m \u001b[32m━━━━━━━━━━━━━━━━━━━━\u001b[0m\u001b[37m\u001b[0m \u001b[1m1s\u001b[0m 1s/step\n",
      "\u001b[1m1/1\u001b[0m \u001b[32m━━━━━━━━━━━━━━━━━━━━\u001b[0m\u001b[37m\u001b[0m \u001b[1m1s\u001b[0m 1s/step\n",
      "\u001b[1m1/1\u001b[0m \u001b[32m━━━━━━━━━━━━━━━━━━━━\u001b[0m\u001b[37m\u001b[0m \u001b[1m2s\u001b[0m 2s/step\n",
      "\u001b[1m1/1\u001b[0m \u001b[32m━━━━━━━━━━━━━━━━━━━━\u001b[0m\u001b[37m\u001b[0m \u001b[1m1s\u001b[0m 1s/step\n",
      "\u001b[1m1/1\u001b[0m \u001b[32m━━━━━━━━━━━━━━━━━━━━\u001b[0m\u001b[37m\u001b[0m \u001b[1m2s\u001b[0m 2s/step\n",
      "\u001b[1m1/1\u001b[0m \u001b[32m━━━━━━━━━━━━━━━━━━━━\u001b[0m\u001b[37m\u001b[0m \u001b[1m1s\u001b[0m 1s/step\n",
      "\u001b[1m1/1\u001b[0m \u001b[32m━━━━━━━━━━━━━━━━━━━━\u001b[0m\u001b[37m\u001b[0m \u001b[1m1s\u001b[0m 1s/step\n",
      "\u001b[1m1/1\u001b[0m \u001b[32m━━━━━━━━━━━━━━━━━━━━\u001b[0m\u001b[37m\u001b[0m \u001b[1m1s\u001b[0m 1s/step\n",
      "\u001b[1m1/1\u001b[0m \u001b[32m━━━━━━━━━━━━━━━━━━━━\u001b[0m\u001b[37m\u001b[0m \u001b[1m2s\u001b[0m 2s/step\n",
      "\u001b[1m1/1\u001b[0m \u001b[32m━━━━━━━━━━━━━━━━━━━━\u001b[0m\u001b[37m\u001b[0m \u001b[1m1s\u001b[0m 1s/step\n",
      "\u001b[1m1/1\u001b[0m \u001b[32m━━━━━━━━━━━━━━━━━━━━\u001b[0m\u001b[37m\u001b[0m \u001b[1m2s\u001b[0m 2s/step\n",
      "\u001b[1m1/1\u001b[0m \u001b[32m━━━━━━━━━━━━━━━━━━━━\u001b[0m\u001b[37m\u001b[0m \u001b[1m1s\u001b[0m 1s/step\n",
      "\u001b[1m1/1\u001b[0m \u001b[32m━━━━━━━━━━━━━━━━━━━━\u001b[0m\u001b[37m\u001b[0m \u001b[1m2s\u001b[0m 2s/step\n",
      "\u001b[1m1/1\u001b[0m \u001b[32m━━━━━━━━━━━━━━━━━━━━\u001b[0m\u001b[37m\u001b[0m \u001b[1m1s\u001b[0m 1s/step\n",
      "\u001b[1m1/1\u001b[0m \u001b[32m━━━━━━━━━━━━━━━━━━━━\u001b[0m\u001b[37m\u001b[0m \u001b[1m1s\u001b[0m 1s/step\n",
      "\u001b[1m1/1\u001b[0m \u001b[32m━━━━━━━━━━━━━━━━━━━━\u001b[0m\u001b[37m\u001b[0m \u001b[1m2s\u001b[0m 2s/step\n",
      "\u001b[1m1/1\u001b[0m \u001b[32m━━━━━━━━━━━━━━━━━━━━\u001b[0m\u001b[37m\u001b[0m \u001b[1m1s\u001b[0m 1s/step\n",
      "\u001b[1m1/1\u001b[0m \u001b[32m━━━━━━━━━━━━━━━━━━━━\u001b[0m\u001b[37m\u001b[0m \u001b[1m2s\u001b[0m 2s/step\n",
      "\u001b[1m1/1\u001b[0m \u001b[32m━━━━━━━━━━━━━━━━━━━━\u001b[0m\u001b[37m\u001b[0m \u001b[1m2s\u001b[0m 2s/step\n",
      "\u001b[1m1/1\u001b[0m \u001b[32m━━━━━━━━━━━━━━━━━━━━\u001b[0m\u001b[37m\u001b[0m \u001b[1m1s\u001b[0m 1s/step\n",
      "\u001b[1m1/1\u001b[0m \u001b[32m━━━━━━━━━━━━━━━━━━━━\u001b[0m\u001b[37m\u001b[0m \u001b[1m1s\u001b[0m 1s/step\n",
      "\u001b[1m1/1\u001b[0m \u001b[32m━━━━━━━━━━━━━━━━━━━━\u001b[0m\u001b[37m\u001b[0m \u001b[1m2s\u001b[0m 2s/step\n",
      "\u001b[1m1/1\u001b[0m \u001b[32m━━━━━━━━━━━━━━━━━━━━\u001b[0m\u001b[37m\u001b[0m \u001b[1m1s\u001b[0m 1s/step\n",
      "\u001b[1m1/1\u001b[0m \u001b[32m━━━━━━━━━━━━━━━━━━━━\u001b[0m\u001b[37m\u001b[0m \u001b[1m1s\u001b[0m 1s/step\n",
      "\u001b[1m1/1\u001b[0m \u001b[32m━━━━━━━━━━━━━━━━━━━━\u001b[0m\u001b[37m\u001b[0m \u001b[1m1s\u001b[0m 1s/step\n",
      "\u001b[1m1/1\u001b[0m \u001b[32m━━━━━━━━━━━━━━━━━━━━\u001b[0m\u001b[37m\u001b[0m \u001b[1m1s\u001b[0m 1s/step\n",
      "\u001b[1m1/1\u001b[0m \u001b[32m━━━━━━━━━━━━━━━━━━━━\u001b[0m\u001b[37m\u001b[0m \u001b[1m1s\u001b[0m 1s/step\n",
      "\u001b[1m1/1\u001b[0m \u001b[32m━━━━━━━━━━━━━━━━━━━━\u001b[0m\u001b[37m\u001b[0m \u001b[1m1s\u001b[0m 993ms/step\n",
      "\u001b[1m1/1\u001b[0m \u001b[32m━━━━━━━━━━━━━━━━━━━━\u001b[0m\u001b[37m\u001b[0m \u001b[1m1s\u001b[0m 1s/step\n",
      "\u001b[1m1/1\u001b[0m \u001b[32m━━━━━━━━━━━━━━━━━━━━\u001b[0m\u001b[37m\u001b[0m \u001b[1m1s\u001b[0m 949ms/step\n",
      "\u001b[1m1/1\u001b[0m \u001b[32m━━━━━━━━━━━━━━━━━━━━\u001b[0m\u001b[37m\u001b[0m \u001b[1m1s\u001b[0m 1s/step\n",
      "\u001b[1m1/1\u001b[0m \u001b[32m━━━━━━━━━━━━━━━━━━━━\u001b[0m\u001b[37m\u001b[0m \u001b[1m2s\u001b[0m 2s/step\n",
      "\u001b[1m1/1\u001b[0m \u001b[32m━━━━━━━━━━━━━━━━━━━━\u001b[0m\u001b[37m\u001b[0m \u001b[1m2s\u001b[0m 2s/step\n",
      "\u001b[1m1/1\u001b[0m \u001b[32m━━━━━━━━━━━━━━━━━━━━\u001b[0m\u001b[37m\u001b[0m \u001b[1m2s\u001b[0m 2s/step\n",
      "\u001b[1m1/1\u001b[0m \u001b[32m━━━━━━━━━━━━━━━━━━━━\u001b[0m\u001b[37m\u001b[0m \u001b[1m1s\u001b[0m 1s/step\n",
      "\u001b[1m1/1\u001b[0m \u001b[32m━━━━━━━━━━━━━━━━━━━━\u001b[0m\u001b[37m\u001b[0m \u001b[1m1s\u001b[0m 1s/step\n",
      "\u001b[1m1/1\u001b[0m \u001b[32m━━━━━━━━━━━━━━━━━━━━\u001b[0m\u001b[37m\u001b[0m \u001b[1m1s\u001b[0m 1s/step\n",
      "\u001b[1m1/1\u001b[0m \u001b[32m━━━━━━━━━━━━━━━━━━━━\u001b[0m\u001b[37m\u001b[0m \u001b[1m1s\u001b[0m 922ms/step\n",
      "\u001b[1m1/1\u001b[0m \u001b[32m━━━━━━━━━━━━━━━━━━━━\u001b[0m\u001b[37m\u001b[0m \u001b[1m2s\u001b[0m 2s/step\n",
      "\u001b[1m1/1\u001b[0m \u001b[32m━━━━━━━━━━━━━━━━━━━━\u001b[0m\u001b[37m\u001b[0m \u001b[1m1s\u001b[0m 1s/step\n",
      "\u001b[1m1/1\u001b[0m \u001b[32m━━━━━━━━━━━━━━━━━━━━\u001b[0m\u001b[37m\u001b[0m \u001b[1m3s\u001b[0m 3s/step\n",
      "\u001b[1m1/1\u001b[0m \u001b[32m━━━━━━━━━━━━━━━━━━━━\u001b[0m\u001b[37m\u001b[0m \u001b[1m2s\u001b[0m 2s/step\n",
      "\u001b[1m1/1\u001b[0m \u001b[32m━━━━━━━━━━━━━━━━━━━━\u001b[0m\u001b[37m\u001b[0m \u001b[1m1s\u001b[0m 1s/step\n",
      "\u001b[1m1/1\u001b[0m \u001b[32m━━━━━━━━━━━━━━━━━━━━\u001b[0m\u001b[37m\u001b[0m \u001b[1m2s\u001b[0m 2s/step\n",
      "\u001b[1m1/1\u001b[0m \u001b[32m━━━━━━━━━━━━━━━━━━━━\u001b[0m\u001b[37m\u001b[0m \u001b[1m2s\u001b[0m 2s/step\n",
      "\u001b[1m1/1\u001b[0m \u001b[32m━━━━━━━━━━━━━━━━━━━━\u001b[0m\u001b[37m\u001b[0m \u001b[1m1s\u001b[0m 963ms/step\n",
      "\u001b[1m1/1\u001b[0m \u001b[32m━━━━━━━━━━━━━━━━━━━━\u001b[0m\u001b[37m\u001b[0m \u001b[1m1s\u001b[0m 1s/step\n",
      "\u001b[1m1/1\u001b[0m \u001b[32m━━━━━━━━━━━━━━━━━━━━\u001b[0m\u001b[37m\u001b[0m \u001b[1m1s\u001b[0m 1s/step\n",
      "\u001b[1m1/1\u001b[0m \u001b[32m━━━━━━━━━━━━━━━━━━━━\u001b[0m\u001b[37m\u001b[0m \u001b[1m1s\u001b[0m 1s/step\n",
      "\u001b[1m1/1\u001b[0m \u001b[32m━━━━━━━━━━━━━━━━━━━━\u001b[0m\u001b[37m\u001b[0m \u001b[1m1s\u001b[0m 1s/step\n",
      "\u001b[1m1/1\u001b[0m \u001b[32m━━━━━━━━━━━━━━━━━━━━\u001b[0m\u001b[37m\u001b[0m \u001b[1m2s\u001b[0m 2s/step\n",
      "\u001b[1m1/1\u001b[0m \u001b[32m━━━━━━━━━━━━━━━━━━━━\u001b[0m\u001b[37m\u001b[0m \u001b[1m1s\u001b[0m 1s/step\n",
      "\u001b[1m1/1\u001b[0m \u001b[32m━━━━━━━━━━━━━━━━━━━━\u001b[0m\u001b[37m\u001b[0m \u001b[1m1s\u001b[0m 1s/step\n",
      "\u001b[1m1/1\u001b[0m \u001b[32m━━━━━━━━━━━━━━━━━━━━\u001b[0m\u001b[37m\u001b[0m \u001b[1m1s\u001b[0m 1s/step\n",
      "\u001b[1m1/1\u001b[0m \u001b[32m━━━━━━━━━━━━━━━━━━━━\u001b[0m\u001b[37m\u001b[0m \u001b[1m1s\u001b[0m 1s/step\n",
      "\u001b[1m1/1\u001b[0m \u001b[32m━━━━━━━━━━━━━━━━━━━━\u001b[0m\u001b[37m\u001b[0m \u001b[1m2s\u001b[0m 2s/step\n",
      "\u001b[1m1/1\u001b[0m \u001b[32m━━━━━━━━━━━━━━━━━━━━\u001b[0m\u001b[37m\u001b[0m \u001b[1m2s\u001b[0m 2s/step\n",
      "\u001b[1m1/1\u001b[0m \u001b[32m━━━━━━━━━━━━━━━━━━━━\u001b[0m\u001b[37m\u001b[0m \u001b[1m1s\u001b[0m 878ms/step\n",
      "\u001b[1m1/1\u001b[0m \u001b[32m━━━━━━━━━━━━━━━━━━━━\u001b[0m\u001b[37m\u001b[0m \u001b[1m1s\u001b[0m 1s/step\n",
      "\u001b[1m1/1\u001b[0m \u001b[32m━━━━━━━━━━━━━━━━━━━━\u001b[0m\u001b[37m\u001b[0m \u001b[1m2s\u001b[0m 2s/step\n",
      "\u001b[1m1/1\u001b[0m \u001b[32m━━━━━━━━━━━━━━━━━━━━\u001b[0m\u001b[37m\u001b[0m \u001b[1m1s\u001b[0m 1s/step\n",
      "\u001b[1m1/1\u001b[0m \u001b[32m━━━━━━━━━━━━━━━━━━━━\u001b[0m\u001b[37m\u001b[0m \u001b[1m1s\u001b[0m 1s/step\n",
      "\u001b[1m1/1\u001b[0m \u001b[32m━━━━━━━━━━━━━━━━━━━━\u001b[0m\u001b[37m\u001b[0m \u001b[1m1s\u001b[0m 1s/step\n",
      "\u001b[1m1/1\u001b[0m \u001b[32m━━━━━━━━━━━━━━━━━━━━\u001b[0m\u001b[37m\u001b[0m \u001b[1m2s\u001b[0m 2s/step\n",
      "\u001b[1m1/1\u001b[0m \u001b[32m━━━━━━━━━━━━━━━━━━━━\u001b[0m\u001b[37m\u001b[0m \u001b[1m1s\u001b[0m 942ms/step\n",
      "\u001b[1m1/1\u001b[0m \u001b[32m━━━━━━━━━━━━━━━━━━━━\u001b[0m\u001b[37m\u001b[0m \u001b[1m1s\u001b[0m 1s/step\n",
      "\u001b[1m1/1\u001b[0m \u001b[32m━━━━━━━━━━━━━━━━━━━━\u001b[0m\u001b[37m\u001b[0m \u001b[1m2s\u001b[0m 2s/step\n",
      "\u001b[1m1/1\u001b[0m \u001b[32m━━━━━━━━━━━━━━━━━━━━\u001b[0m\u001b[37m\u001b[0m \u001b[1m1s\u001b[0m 1s/step\n",
      "\u001b[1m1/1\u001b[0m \u001b[32m━━━━━━━━━━━━━━━━━━━━\u001b[0m\u001b[37m\u001b[0m \u001b[1m2s\u001b[0m 2s/step\n",
      "\u001b[1m1/1\u001b[0m \u001b[32m━━━━━━━━━━━━━━━━━━━━\u001b[0m\u001b[37m\u001b[0m \u001b[1m2s\u001b[0m 2s/step\n",
      "\u001b[1m1/1\u001b[0m \u001b[32m━━━━━━━━━━━━━━━━━━━━\u001b[0m\u001b[37m\u001b[0m \u001b[1m1s\u001b[0m 1s/step\n",
      "\u001b[1m1/1\u001b[0m \u001b[32m━━━━━━━━━━━━━━━━━━━━\u001b[0m\u001b[37m\u001b[0m \u001b[1m1s\u001b[0m 1s/step\n",
      "\u001b[1m1/1\u001b[0m \u001b[32m━━━━━━━━━━━━━━━━━━━━\u001b[0m\u001b[37m\u001b[0m \u001b[1m1s\u001b[0m 1s/step\n",
      "\u001b[1m1/1\u001b[0m \u001b[32m━━━━━━━━━━━━━━━━━━━━\u001b[0m\u001b[37m\u001b[0m \u001b[1m1s\u001b[0m 1s/step\n",
      "\u001b[1m1/1\u001b[0m \u001b[32m━━━━━━━━━━━━━━━━━━━━\u001b[0m\u001b[37m\u001b[0m \u001b[1m1s\u001b[0m 1s/step\n",
      "\u001b[1m1/1\u001b[0m \u001b[32m━━━━━━━━━━━━━━━━━━━━\u001b[0m\u001b[37m\u001b[0m \u001b[1m1s\u001b[0m 1s/step\n",
      "\u001b[1m1/1\u001b[0m \u001b[32m━━━━━━━━━━━━━━━━━━━━\u001b[0m\u001b[37m\u001b[0m \u001b[1m2s\u001b[0m 2s/step\n",
      "\u001b[1m1/1\u001b[0m \u001b[32m━━━━━━━━━━━━━━━━━━━━\u001b[0m\u001b[37m\u001b[0m \u001b[1m1s\u001b[0m 1s/step\n",
      "\u001b[1m1/1\u001b[0m \u001b[32m━━━━━━━━━━━━━━━━━━━━\u001b[0m\u001b[37m\u001b[0m \u001b[1m2s\u001b[0m 2s/step\n",
      "\u001b[1m1/1\u001b[0m \u001b[32m━━━━━━━━━━━━━━━━━━━━\u001b[0m\u001b[37m\u001b[0m \u001b[1m1s\u001b[0m 1s/step\n",
      "\u001b[1m1/1\u001b[0m \u001b[32m━━━━━━━━━━━━━━━━━━━━\u001b[0m\u001b[37m\u001b[0m \u001b[1m1s\u001b[0m 894ms/step\n",
      "\u001b[1m1/1\u001b[0m \u001b[32m━━━━━━━━━━━━━━━━━━━━\u001b[0m\u001b[37m\u001b[0m \u001b[1m1s\u001b[0m 1s/step\n",
      "\u001b[1m1/1\u001b[0m \u001b[32m━━━━━━━━━━━━━━━━━━━━\u001b[0m\u001b[37m\u001b[0m \u001b[1m2s\u001b[0m 2s/step\n",
      "\u001b[1m1/1\u001b[0m \u001b[32m━━━━━━━━━━━━━━━━━━━━\u001b[0m\u001b[37m\u001b[0m \u001b[1m1s\u001b[0m 1s/step\n",
      "\u001b[1m1/1\u001b[0m \u001b[32m━━━━━━━━━━━━━━━━━━━━\u001b[0m\u001b[37m\u001b[0m \u001b[1m1s\u001b[0m 1s/step\n",
      "\u001b[1m1/1\u001b[0m \u001b[32m━━━━━━━━━━━━━━━━━━━━\u001b[0m\u001b[37m\u001b[0m \u001b[1m1s\u001b[0m 1s/step\n",
      "\u001b[1m1/1\u001b[0m \u001b[32m━━━━━━━━━━━━━━━━━━━━\u001b[0m\u001b[37m\u001b[0m \u001b[1m2s\u001b[0m 2s/step\n",
      "\u001b[1m1/1\u001b[0m \u001b[32m━━━━━━━━━━━━━━━━━━━━\u001b[0m\u001b[37m\u001b[0m \u001b[1m1s\u001b[0m 1s/step\n",
      "\u001b[1m1/1\u001b[0m \u001b[32m━━━━━━━━━━━━━━━━━━━━\u001b[0m\u001b[37m\u001b[0m \u001b[1m2s\u001b[0m 2s/step\n",
      "\u001b[1m1/1\u001b[0m \u001b[32m━━━━━━━━━━━━━━━━━━━━\u001b[0m\u001b[37m\u001b[0m \u001b[1m1s\u001b[0m 1s/step\n",
      "\u001b[1m1/1\u001b[0m \u001b[32m━━━━━━━━━━━━━━━━━━━━\u001b[0m\u001b[37m\u001b[0m \u001b[1m1s\u001b[0m 1s/step\n",
      "\u001b[1m1/1\u001b[0m \u001b[32m━━━━━━━━━━━━━━━━━━━━\u001b[0m\u001b[37m\u001b[0m \u001b[1m1s\u001b[0m 1s/step\n",
      "\u001b[1m1/1\u001b[0m \u001b[32m━━━━━━━━━━━━━━━━━━━━\u001b[0m\u001b[37m\u001b[0m \u001b[1m1s\u001b[0m 1s/step\n",
      "\u001b[1m1/1\u001b[0m \u001b[32m━━━━━━━━━━━━━━━━━━━━\u001b[0m\u001b[37m\u001b[0m \u001b[1m1s\u001b[0m 1s/step\n",
      "\u001b[1m1/1\u001b[0m \u001b[32m━━━━━━━━━━━━━━━━━━━━\u001b[0m\u001b[37m\u001b[0m \u001b[1m1s\u001b[0m 969ms/step\n",
      "\u001b[1m1/1\u001b[0m \u001b[32m━━━━━━━━━━━━━━━━━━━━\u001b[0m\u001b[37m\u001b[0m \u001b[1m2s\u001b[0m 2s/step\n",
      "\u001b[1m1/1\u001b[0m \u001b[32m━━━━━━━━━━━━━━━━━━━━\u001b[0m\u001b[37m\u001b[0m \u001b[1m2s\u001b[0m 2s/step\n",
      "\u001b[1m1/1\u001b[0m \u001b[32m━━━━━━━━━━━━━━━━━━━━\u001b[0m\u001b[37m\u001b[0m \u001b[1m1s\u001b[0m 949ms/step\n",
      "\u001b[1m1/1\u001b[0m \u001b[32m━━━━━━━━━━━━━━━━━━━━\u001b[0m\u001b[37m\u001b[0m \u001b[1m1s\u001b[0m 884ms/step\n",
      "\u001b[1m1/1\u001b[0m \u001b[32m━━━━━━━━━━━━━━━━━━━━\u001b[0m\u001b[37m\u001b[0m \u001b[1m2s\u001b[0m 2s/step\n",
      "\u001b[1m1/1\u001b[0m \u001b[32m━━━━━━━━━━━━━━━━━━━━\u001b[0m\u001b[37m\u001b[0m \u001b[1m1s\u001b[0m 1s/step\n",
      "\u001b[1m1/1\u001b[0m \u001b[32m━━━━━━━━━━━━━━━━━━━━\u001b[0m\u001b[37m\u001b[0m \u001b[1m1s\u001b[0m 1s/step\n",
      "\u001b[1m1/1\u001b[0m \u001b[32m━━━━━━━━━━━━━━━━━━━━\u001b[0m\u001b[37m\u001b[0m \u001b[1m2s\u001b[0m 2s/step\n",
      "\u001b[1m1/1\u001b[0m \u001b[32m━━━━━━━━━━━━━━━━━━━━\u001b[0m\u001b[37m\u001b[0m \u001b[1m1s\u001b[0m 1s/step\n",
      "\u001b[1m1/1\u001b[0m \u001b[32m━━━━━━━━━━━━━━━━━━━━\u001b[0m\u001b[37m\u001b[0m \u001b[1m2s\u001b[0m 2s/step\n",
      "\u001b[1m1/1\u001b[0m \u001b[32m━━━━━━━━━━━━━━━━━━━━\u001b[0m\u001b[37m\u001b[0m \u001b[1m1s\u001b[0m 1s/step\n",
      "\u001b[1m1/1\u001b[0m \u001b[32m━━━━━━━━━━━━━━━━━━━━\u001b[0m\u001b[37m\u001b[0m \u001b[1m1s\u001b[0m 1s/step\n",
      "\u001b[1m1/1\u001b[0m \u001b[32m━━━━━━━━━━━━━━━━━━━━\u001b[0m\u001b[37m\u001b[0m \u001b[1m1s\u001b[0m 1s/step\n",
      "\u001b[1m1/1\u001b[0m \u001b[32m━━━━━━━━━━━━━━━━━━━━\u001b[0m\u001b[37m\u001b[0m \u001b[1m2s\u001b[0m 2s/step\n",
      "\u001b[1m1/1\u001b[0m \u001b[32m━━━━━━━━━━━━━━━━━━━━\u001b[0m\u001b[37m\u001b[0m \u001b[1m1s\u001b[0m 972ms/step\n",
      "\u001b[1m1/1\u001b[0m \u001b[32m━━━━━━━━━━━━━━━━━━━━\u001b[0m\u001b[37m\u001b[0m \u001b[1m1s\u001b[0m 1s/step\n",
      "\u001b[1m1/1\u001b[0m \u001b[32m━━━━━━━━━━━━━━━━━━━━\u001b[0m\u001b[37m\u001b[0m \u001b[1m1s\u001b[0m 1s/step\n",
      "\u001b[1m1/1\u001b[0m \u001b[32m━━━━━━━━━━━━━━━━━━━━\u001b[0m\u001b[37m\u001b[0m \u001b[1m1s\u001b[0m 1s/step\n",
      "\u001b[1m1/1\u001b[0m \u001b[32m━━━━━━━━━━━━━━━━━━━━\u001b[0m\u001b[37m\u001b[0m \u001b[1m2s\u001b[0m 2s/step\n",
      "\u001b[1m1/1\u001b[0m \u001b[32m━━━━━━━━━━━━━━━━━━━━\u001b[0m\u001b[37m\u001b[0m \u001b[1m1s\u001b[0m 1s/step\n",
      "\u001b[1m1/1\u001b[0m \u001b[32m━━━━━━━━━━━━━━━━━━━━\u001b[0m\u001b[37m\u001b[0m \u001b[1m2s\u001b[0m 2s/step\n",
      "\u001b[1m1/1\u001b[0m \u001b[32m━━━━━━━━━━━━━━━━━━━━\u001b[0m\u001b[37m\u001b[0m \u001b[1m1s\u001b[0m 1s/step\n",
      "\u001b[1m1/1\u001b[0m \u001b[32m━━━━━━━━━━━━━━━━━━━━\u001b[0m\u001b[37m\u001b[0m \u001b[1m1s\u001b[0m 1s/step\n",
      "\u001b[1m1/1\u001b[0m \u001b[32m━━━━━━━━━━━━━━━━━━━━\u001b[0m\u001b[37m\u001b[0m \u001b[1m2s\u001b[0m 2s/step\n",
      "\u001b[1m1/1\u001b[0m \u001b[32m━━━━━━━━━━━━━━━━━━━━\u001b[0m\u001b[37m\u001b[0m \u001b[1m1s\u001b[0m 1s/step\n",
      "\u001b[1m1/1\u001b[0m \u001b[32m━━━━━━━━━━━━━━━━━━━━\u001b[0m\u001b[37m\u001b[0m \u001b[1m1s\u001b[0m 902ms/step\n",
      "\u001b[1m1/1\u001b[0m \u001b[32m━━━━━━━━━━━━━━━━━━━━\u001b[0m\u001b[37m\u001b[0m \u001b[1m1s\u001b[0m 1s/step\n",
      "\u001b[1m1/1\u001b[0m \u001b[32m━━━━━━━━━━━━━━━━━━━━\u001b[0m\u001b[37m\u001b[0m \u001b[1m2s\u001b[0m 2s/step\n",
      "\u001b[1m1/1\u001b[0m \u001b[32m━━━━━━━━━━━━━━━━━━━━\u001b[0m\u001b[37m\u001b[0m \u001b[1m1s\u001b[0m 1s/step\n",
      "\u001b[1m1/1\u001b[0m \u001b[32m━━━━━━━━━━━━━━━━━━━━\u001b[0m\u001b[37m\u001b[0m \u001b[1m2s\u001b[0m 2s/step\n",
      "\u001b[1m1/1\u001b[0m \u001b[32m━━━━━━━━━━━━━━━━━━━━\u001b[0m\u001b[37m\u001b[0m \u001b[1m1s\u001b[0m 1s/step\n",
      "\u001b[1m1/1\u001b[0m \u001b[32m━━━━━━━━━━━━━━━━━━━━\u001b[0m\u001b[37m\u001b[0m \u001b[1m2s\u001b[0m 2s/step\n",
      "\u001b[1m1/1\u001b[0m \u001b[32m━━━━━━━━━━━━━━━━━━━━\u001b[0m\u001b[37m\u001b[0m \u001b[1m2s\u001b[0m 2s/step\n",
      "\u001b[1m1/1\u001b[0m \u001b[32m━━━━━━━━━━━━━━━━━━━━\u001b[0m\u001b[37m\u001b[0m \u001b[1m1s\u001b[0m 1s/step\n",
      "\u001b[1m1/1\u001b[0m \u001b[32m━━━━━━━━━━━━━━━━━━━━\u001b[0m\u001b[37m\u001b[0m \u001b[1m1s\u001b[0m 1s/step\n",
      "\u001b[1m1/1\u001b[0m \u001b[32m━━━━━━━━━━━━━━━━━━━━\u001b[0m\u001b[37m\u001b[0m \u001b[1m1s\u001b[0m 1s/step\n",
      "\u001b[1m1/1\u001b[0m \u001b[32m━━━━━━━━━━━━━━━━━━━━\u001b[0m\u001b[37m\u001b[0m \u001b[1m2s\u001b[0m 2s/step\n",
      "\u001b[1m1/1\u001b[0m \u001b[32m━━━━━━━━━━━━━━━━━━━━\u001b[0m\u001b[37m\u001b[0m \u001b[1m2s\u001b[0m 2s/step\n",
      "\u001b[1m1/1\u001b[0m \u001b[32m━━━━━━━━━━━━━━━━━━━━\u001b[0m\u001b[37m\u001b[0m \u001b[1m1s\u001b[0m 1s/step\n",
      "\u001b[1m1/1\u001b[0m \u001b[32m━━━━━━━━━━━━━━━━━━━━\u001b[0m\u001b[37m\u001b[0m \u001b[1m2s\u001b[0m 2s/step\n",
      "\u001b[1m1/1\u001b[0m \u001b[32m━━━━━━━━━━━━━━━━━━━━\u001b[0m\u001b[37m\u001b[0m \u001b[1m1s\u001b[0m 1s/step\n",
      "\u001b[1m1/1\u001b[0m \u001b[32m━━━━━━━━━━━━━━━━━━━━\u001b[0m\u001b[37m\u001b[0m \u001b[1m1s\u001b[0m 1s/step\n",
      "\u001b[1m1/1\u001b[0m \u001b[32m━━━━━━━━━━━━━━━━━━━━\u001b[0m\u001b[37m\u001b[0m \u001b[1m2s\u001b[0m 2s/step\n",
      "\u001b[1m1/1\u001b[0m \u001b[32m━━━━━━━━━━━━━━━━━━━━\u001b[0m\u001b[37m\u001b[0m \u001b[1m1s\u001b[0m 1s/step\n",
      "\u001b[1m1/1\u001b[0m \u001b[32m━━━━━━━━━━━━━━━━━━━━\u001b[0m\u001b[37m\u001b[0m \u001b[1m2s\u001b[0m 2s/step\n",
      "\u001b[1m1/1\u001b[0m \u001b[32m━━━━━━━━━━━━━━━━━━━━\u001b[0m\u001b[37m\u001b[0m \u001b[1m2s\u001b[0m 2s/step\n",
      "\u001b[1m1/1\u001b[0m \u001b[32m━━━━━━━━━━━━━━━━━━━━\u001b[0m\u001b[37m\u001b[0m \u001b[1m2s\u001b[0m 2s/step\n",
      "\u001b[1m1/1\u001b[0m \u001b[32m━━━━━━━━━━━━━━━━━━━━\u001b[0m\u001b[37m\u001b[0m \u001b[1m1s\u001b[0m 1s/step\n",
      "\u001b[1m1/1\u001b[0m \u001b[32m━━━━━━━━━━━━━━━━━━━━\u001b[0m\u001b[37m\u001b[0m \u001b[1m2s\u001b[0m 2s/step\n",
      "\u001b[1m1/1\u001b[0m \u001b[32m━━━━━━━━━━━━━━━━━━━━\u001b[0m\u001b[37m\u001b[0m \u001b[1m2s\u001b[0m 2s/step\n",
      "\u001b[1m1/1\u001b[0m \u001b[32m━━━━━━━━━━━━━━━━━━━━\u001b[0m\u001b[37m\u001b[0m \u001b[1m1s\u001b[0m 1s/step\n",
      "\u001b[1m1/1\u001b[0m \u001b[32m━━━━━━━━━━━━━━━━━━━━\u001b[0m\u001b[37m\u001b[0m \u001b[1m2s\u001b[0m 2s/step\n",
      "\u001b[1m1/1\u001b[0m \u001b[32m━━━━━━━━━━━━━━━━━━━━\u001b[0m\u001b[37m\u001b[0m \u001b[1m2s\u001b[0m 2s/step\n",
      "\u001b[1m1/1\u001b[0m \u001b[32m━━━━━━━━━━━━━━━━━━━━\u001b[0m\u001b[37m\u001b[0m \u001b[1m1s\u001b[0m 1s/step\n",
      "\u001b[1m1/1\u001b[0m \u001b[32m━━━━━━━━━━━━━━━━━━━━\u001b[0m\u001b[37m\u001b[0m \u001b[1m2s\u001b[0m 2s/step\n",
      "\u001b[1m1/1\u001b[0m \u001b[32m━━━━━━━━━━━━━━━━━━━━\u001b[0m\u001b[37m\u001b[0m \u001b[1m1s\u001b[0m 1s/step\n",
      "\u001b[1m1/1\u001b[0m \u001b[32m━━━━━━━━━━━━━━━━━━━━\u001b[0m\u001b[37m\u001b[0m \u001b[1m1s\u001b[0m 1s/step\n",
      "\u001b[1m1/1\u001b[0m \u001b[32m━━━━━━━━━━━━━━━━━━━━\u001b[0m\u001b[37m\u001b[0m \u001b[1m1s\u001b[0m 1s/step\n",
      "\u001b[1m1/1\u001b[0m \u001b[32m━━━━━━━━━━━━━━━━━━━━\u001b[0m\u001b[37m\u001b[0m \u001b[1m2s\u001b[0m 2s/step\n",
      "\u001b[1m1/1\u001b[0m \u001b[32m━━━━━━━━━━━━━━━━━━━━\u001b[0m\u001b[37m\u001b[0m \u001b[1m1s\u001b[0m 1s/step\n",
      "\u001b[1m1/1\u001b[0m \u001b[32m━━━━━━━━━━━━━━━━━━━━\u001b[0m\u001b[37m\u001b[0m \u001b[1m1s\u001b[0m 1s/step\n",
      "\u001b[1m1/1\u001b[0m \u001b[32m━━━━━━━━━━━━━━━━━━━━\u001b[0m\u001b[37m\u001b[0m \u001b[1m1s\u001b[0m 1s/step\n",
      "\u001b[1m1/1\u001b[0m \u001b[32m━━━━━━━━━━━━━━━━━━━━\u001b[0m\u001b[37m\u001b[0m \u001b[1m1s\u001b[0m 1s/step\n",
      "\u001b[1m1/1\u001b[0m \u001b[32m━━━━━━━━━━━━━━━━━━━━\u001b[0m\u001b[37m\u001b[0m \u001b[1m2s\u001b[0m 2s/step\n",
      "****************************************************************************************************\n",
      "Word Error Rate : 1.0267\n",
      "****************************************************************************************************\n",
      "Target : कौनसी तरकारियँ हैं\n",
      "Prediction : उ की कािया ै\n",
      "****************************************************************************************************\n",
      "Target : और गांधी को जेल से रिहा करने\n",
      "Prediction : औ े क  से या  े\n",
      "****************************************************************************************************\n",
      "\u001b[1m3125/3125\u001b[0m \u001b[32m━━━━━━━━━━━━━━━━━━━━\u001b[0m\u001b[37m\u001b[0m \u001b[1m39133s\u001b[0m 13s/step - loss: inf - val_loss: inf\n",
      "Epoch 2/5\n"
     ]
    },
    {
     "name": "stderr",
     "output_type": "stream",
     "text": [
      "2024-11-22 23:25:31.387894: I tensorflow/core/framework/local_rendezvous.cc:405] Local rendezvous is aborting with status: OUT_OF_RANGE: End of sequence\n"
     ]
    },
    {
     "name": "stdout",
     "output_type": "stream",
     "text": [
      "\u001b[1m 436/3125\u001b[0m \u001b[32m━━\u001b[0m\u001b[37m━━━━━━━━━━━━━━━━━━\u001b[0m \u001b[1m9:22:02\u001b[0m 13s/step - loss: 96.1046"
     ]
    },
    {
     "name": "stderr",
     "output_type": "stream",
     "text": [
      "2024-11-23 00:56:38.927555: W ./tensorflow/core/util/ctc/ctc_loss_calculator.h:499] No valid path found.\n",
      "2024-11-23 00:56:38.927618: W ./tensorflow/core/util/ctc/ctc_loss_calculator.h:499] No valid path found.\n",
      "2024-11-23 00:56:38.927695: W ./tensorflow/core/util/ctc/ctc_loss_calculator.h:499] No valid path found.\n",
      "2024-11-23 00:56:38.927791: W ./tensorflow/core/util/ctc/ctc_loss_calculator.h:499] No valid path found.\n",
      "2024-11-23 00:56:38.927829: W ./tensorflow/core/util/ctc/ctc_loss_calculator.h:499] No valid path found.\n",
      "2024-11-23 00:56:38.927860: W ./tensorflow/core/util/ctc/ctc_loss_calculator.h:499] No valid path found.\n",
      "2024-11-23 00:56:38.927873: W ./tensorflow/core/util/ctc/ctc_loss_calculator.h:499] No valid path found.\n",
      "2024-11-23 00:56:38.927900: W ./tensorflow/core/util/ctc/ctc_loss_calculator.h:499] No valid path found.\n",
      "2024-11-23 00:56:38.927927: W ./tensorflow/core/util/ctc/ctc_loss_calculator.h:499] No valid path found.\n",
      "2024-11-23 00:56:38.927957: W ./tensorflow/core/util/ctc/ctc_loss_calculator.h:499] No valid path found.\n",
      "2024-11-23 00:56:38.927981: W ./tensorflow/core/util/ctc/ctc_loss_calculator.h:499] No valid path found.\n",
      "2024-11-23 00:56:38.928123: W ./tensorflow/core/util/ctc/ctc_loss_calculator.h:499] No valid path found.\n",
      "2024-11-23 00:56:38.928278: W ./tensorflow/core/util/ctc/ctc_loss_calculator.h:499] No valid path found.\n"
     ]
    },
    {
     "name": "stdout",
     "output_type": "stream",
     "text": [
      "\u001b[1m 441/3125\u001b[0m \u001b[32m━━\u001b[0m\u001b[37m━━━━━━━━━━━━━━━━━━\u001b[0m \u001b[1m9:21:06\u001b[0m 13s/step - loss: inf"
     ]
    },
    {
     "name": "stderr",
     "output_type": "stream",
     "text": [
      "2024-11-23 00:57:42.740896: W ./tensorflow/core/util/ctc/ctc_loss_calculator.h:499] No valid path found.\n"
     ]
    },
    {
     "name": "stdout",
     "output_type": "stream",
     "text": [
      "\u001b[1m 502/3125\u001b[0m \u001b[32m━━━\u001b[0m\u001b[37m━━━━━━━━━━━━━━━━━\u001b[0m \u001b[1m9:05:19\u001b[0m 12s/step - loss: inf"
     ]
    },
    {
     "name": "stderr",
     "output_type": "stream",
     "text": [
      "2024-11-23 01:09:53.037347: W ./tensorflow/core/util/ctc/ctc_loss_calculator.h:499] No valid path found.\n"
     ]
    },
    {
     "name": "stdout",
     "output_type": "stream",
     "text": [
      "\u001b[1m 517/3125\u001b[0m \u001b[32m━━━\u001b[0m\u001b[37m━━━━━━━━━━━━━━━━━\u001b[0m \u001b[1m9:03:09\u001b[0m 12s/step - loss: inf"
     ]
    },
    {
     "name": "stderr",
     "output_type": "stream",
     "text": [
      "2024-11-23 01:13:11.351317: W ./tensorflow/core/util/ctc/ctc_loss_calculator.h:499] No valid path found.\n",
      "2024-11-23 01:13:11.351529: W ./tensorflow/core/util/ctc/ctc_loss_calculator.h:499] No valid path found.\n",
      "2024-11-23 01:13:11.351587: W ./tensorflow/core/util/ctc/ctc_loss_calculator.h:499] No valid path found.\n",
      "2024-11-23 01:13:11.351772: W ./tensorflow/core/util/ctc/ctc_loss_calculator.h:499] No valid path found.\n"
     ]
    },
    {
     "name": "stdout",
     "output_type": "stream",
     "text": [
      "\u001b[1m 857/3125\u001b[0m \u001b[32m━━━━━\u001b[0m\u001b[37m━━━━━━━━━━━━━━━\u001b[0m \u001b[1m7:52:51\u001b[0m 13s/step - loss: inf"
     ]
    },
    {
     "name": "stderr",
     "output_type": "stream",
     "text": [
      "2024-11-23 02:24:11.587571: W ./tensorflow/core/util/ctc/ctc_loss_calculator.h:499] No valid path found.\n"
     ]
    },
    {
     "name": "stdout",
     "output_type": "stream",
     "text": [
      "\u001b[1m 906/3125\u001b[0m \u001b[32m━━━━━\u001b[0m\u001b[37m━━━━━━━━━━━━━━━\u001b[0m \u001b[1m7:40:57\u001b[0m 12s/step - loss: inf"
     ]
    },
    {
     "name": "stderr",
     "output_type": "stream",
     "text": [
      "2024-11-23 02:33:43.657871: W ./tensorflow/core/util/ctc/ctc_loss_calculator.h:499] No valid path found.\n",
      "2024-11-23 02:33:43.658014: W ./tensorflow/core/util/ctc/ctc_loss_calculator.h:499] No valid path found.\n",
      "2024-11-23 02:33:43.658061: W ./tensorflow/core/util/ctc/ctc_loss_calculator.h:499] No valid path found.\n",
      "2024-11-23 02:33:43.658082: W ./tensorflow/core/util/ctc/ctc_loss_calculator.h:499] No valid path found.\n",
      "2024-11-23 02:33:43.658101: W ./tensorflow/core/util/ctc/ctc_loss_calculator.h:499] No valid path found.\n",
      "2024-11-23 02:33:43.658125: W ./tensorflow/core/util/ctc/ctc_loss_calculator.h:499] No valid path found.\n",
      "2024-11-23 02:33:43.658146: W ./tensorflow/core/util/ctc/ctc_loss_calculator.h:499] No valid path found.\n",
      "2024-11-23 02:33:43.658172: W ./tensorflow/core/util/ctc/ctc_loss_calculator.h:499] No valid path found.\n",
      "2024-11-23 02:33:43.658192: W ./tensorflow/core/util/ctc/ctc_loss_calculator.h:499] No valid path found.\n",
      "2024-11-23 02:33:43.658215: W ./tensorflow/core/util/ctc/ctc_loss_calculator.h:499] No valid path found.\n",
      "2024-11-23 02:33:43.658394: W ./tensorflow/core/util/ctc/ctc_loss_calculator.h:499] No valid path found.\n"
     ]
    },
    {
     "name": "stdout",
     "output_type": "stream",
     "text": [
      "\u001b[1m 951/3125\u001b[0m \u001b[32m━━━━━━\u001b[0m\u001b[37m━━━━━━━━━━━━━━\u001b[0m \u001b[1m7:30:48\u001b[0m 12s/step - loss: inf"
     ]
    },
    {
     "name": "stderr",
     "output_type": "stream",
     "text": [
      "2024-11-23 02:42:43.468306: W ./tensorflow/core/util/ctc/ctc_loss_calculator.h:499] No valid path found.\n",
      "2024-11-23 02:42:43.468516: W ./tensorflow/core/util/ctc/ctc_loss_calculator.h:499] No valid path found.\n",
      "2024-11-23 02:42:43.468546: W ./tensorflow/core/util/ctc/ctc_loss_calculator.h:499] No valid path found.\n",
      "2024-11-23 02:42:43.468567: W ./tensorflow/core/util/ctc/ctc_loss_calculator.h:499] No valid path found.\n",
      "2024-11-23 02:42:43.468596: W ./tensorflow/core/util/ctc/ctc_loss_calculator.h:499] No valid path found.\n",
      "2024-11-23 02:42:43.468643: W ./tensorflow/core/util/ctc/ctc_loss_calculator.h:499] No valid path found.\n",
      "2024-11-23 02:42:43.468845: W ./tensorflow/core/util/ctc/ctc_loss_calculator.h:499] No valid path found.\n"
     ]
    },
    {
     "name": "stdout",
     "output_type": "stream",
     "text": [
      "\u001b[1m1101/3125\u001b[0m \u001b[32m━━━━━━━\u001b[0m\u001b[37m━━━━━━━━━━━━━\u001b[0m \u001b[1m6:59:03\u001b[0m 12s/step - loss: inf"
     ]
    },
    {
     "name": "stderr",
     "output_type": "stream",
     "text": [
      "2024-11-23 03:13:27.864045: W ./tensorflow/core/util/ctc/ctc_loss_calculator.h:499] No valid path found.\n",
      "2024-11-23 03:13:27.864124: W ./tensorflow/core/util/ctc/ctc_loss_calculator.h:499] No valid path found.\n"
     ]
    },
    {
     "name": "stdout",
     "output_type": "stream",
     "text": [
      "\u001b[1m1173/3125\u001b[0m \u001b[32m━━━━━━━\u001b[0m\u001b[37m━━━━━━━━━━━━━\u001b[0m \u001b[1m6:43:49\u001b[0m 12s/step - loss: inf"
     ]
    },
    {
     "name": "stderr",
     "output_type": "stream",
     "text": [
      "2024-11-23 03:28:10.878879: W ./tensorflow/core/util/ctc/ctc_loss_calculator.h:499] No valid path found.\n",
      "2024-11-23 03:28:10.878934: W ./tensorflow/core/util/ctc/ctc_loss_calculator.h:499] No valid path found.\n",
      "2024-11-23 03:28:10.878955: W ./tensorflow/core/util/ctc/ctc_loss_calculator.h:499] No valid path found.\n"
     ]
    },
    {
     "name": "stdout",
     "output_type": "stream",
     "text": [
      "\u001b[1m1212/3125\u001b[0m \u001b[32m━━━━━━━\u001b[0m\u001b[37m━━━━━━━━━━━━━\u001b[0m \u001b[1m6:35:44\u001b[0m 12s/step - loss: inf"
     ]
    },
    {
     "name": "stderr",
     "output_type": "stream",
     "text": [
      "2024-11-23 03:36:14.418537: W ./tensorflow/core/util/ctc/ctc_loss_calculator.h:499] No valid path found.\n"
     ]
    },
    {
     "name": "stdout",
     "output_type": "stream",
     "text": [
      "\u001b[1m1239/3125\u001b[0m \u001b[32m━━━━━━━\u001b[0m\u001b[37m━━━━━━━━━━━━━\u001b[0m \u001b[1m6:29:14\u001b[0m 12s/step - loss: inf"
     ]
    },
    {
     "name": "stderr",
     "output_type": "stream",
     "text": [
      "2024-11-23 03:41:14.249013: W ./tensorflow/core/util/ctc/ctc_loss_calculator.h:499] No valid path found.\n",
      "2024-11-23 03:41:14.249303: W ./tensorflow/core/util/ctc/ctc_loss_calculator.h:499] No valid path found.\n",
      "2024-11-23 03:41:14.249323: W ./tensorflow/core/util/ctc/ctc_loss_calculator.h:499] No valid path found.\n",
      "2024-11-23 03:41:14.249345: W ./tensorflow/core/util/ctc/ctc_loss_calculator.h:499] No valid path found.\n",
      "2024-11-23 03:41:14.249374: W ./tensorflow/core/util/ctc/ctc_loss_calculator.h:499] No valid path found.\n",
      "2024-11-23 03:41:14.249426: W ./tensorflow/core/util/ctc/ctc_loss_calculator.h:499] No valid path found.\n",
      "2024-11-23 03:41:14.249456: W ./tensorflow/core/util/ctc/ctc_loss_calculator.h:499] No valid path found.\n",
      "2024-11-23 03:41:14.249485: W ./tensorflow/core/util/ctc/ctc_loss_calculator.h:499] No valid path found.\n"
     ]
    },
    {
     "name": "stdout",
     "output_type": "stream",
     "text": [
      "\u001b[1m1480/3125\u001b[0m \u001b[32m━━━━━━━━━\u001b[0m\u001b[37m━━━━━━━━━━━\u001b[0m \u001b[1m5:37:04\u001b[0m 12s/step - loss: inf"
     ]
    },
    {
     "name": "stderr",
     "output_type": "stream",
     "text": [
      "2024-11-23 04:28:46.196879: W ./tensorflow/core/util/ctc/ctc_loss_calculator.h:499] No valid path found.\n",
      "2024-11-23 04:28:46.196926: W ./tensorflow/core/util/ctc/ctc_loss_calculator.h:499] No valid path found.\n",
      "2024-11-23 04:28:46.196952: W ./tensorflow/core/util/ctc/ctc_loss_calculator.h:499] No valid path found.\n",
      "2024-11-23 04:28:46.196976: W ./tensorflow/core/util/ctc/ctc_loss_calculator.h:499] No valid path found.\n",
      "2024-11-23 04:28:46.197000: W ./tensorflow/core/util/ctc/ctc_loss_calculator.h:499] No valid path found.\n",
      "2024-11-23 04:28:46.197048: W ./tensorflow/core/util/ctc/ctc_loss_calculator.h:499] No valid path found.\n",
      "2024-11-23 04:28:46.197143: W ./tensorflow/core/util/ctc/ctc_loss_calculator.h:499] No valid path found.\n",
      "2024-11-23 04:28:46.197218: W ./tensorflow/core/util/ctc/ctc_loss_calculator.h:499] No valid path found.\n",
      "2024-11-23 04:28:46.197270: W ./tensorflow/core/util/ctc/ctc_loss_calculator.h:499] No valid path found.\n",
      "2024-11-23 04:28:46.197286: W ./tensorflow/core/util/ctc/ctc_loss_calculator.h:499] No valid path found.\n",
      "2024-11-23 04:28:46.197311: W ./tensorflow/core/util/ctc/ctc_loss_calculator.h:499] No valid path found.\n"
     ]
    },
    {
     "name": "stdout",
     "output_type": "stream",
     "text": [
      "\u001b[1m1642/3125\u001b[0m \u001b[32m━━━━━━━━━━\u001b[0m\u001b[37m━━━━━━━━━━\u001b[0m \u001b[1m5:03:30\u001b[0m 12s/step - loss: inf"
     ]
    },
    {
     "name": "stderr",
     "output_type": "stream",
     "text": [
      "2024-11-23 05:01:33.191387: W ./tensorflow/core/util/ctc/ctc_loss_calculator.h:499] No valid path found.\n"
     ]
    },
    {
     "name": "stdout",
     "output_type": "stream",
     "text": [
      "\u001b[1m1740/3125\u001b[0m \u001b[32m━━━━━━━━━━━\u001b[0m\u001b[37m━━━━━━━━━\u001b[0m \u001b[1m4:44:01\u001b[0m 12s/step - loss: inf"
     ]
    },
    {
     "name": "stderr",
     "output_type": "stream",
     "text": [
      "2024-11-23 05:22:20.533312: W ./tensorflow/core/util/ctc/ctc_loss_calculator.h:499] No valid path found.\n"
     ]
    },
    {
     "name": "stdout",
     "output_type": "stream",
     "text": [
      "\u001b[1m1841/3125\u001b[0m \u001b[32m━━━━━━━━━━━\u001b[0m\u001b[37m━━━━━━━━━\u001b[0m \u001b[1m4:23:33\u001b[0m 12s/step - loss: inf"
     ]
    },
    {
     "name": "stderr",
     "output_type": "stream",
     "text": [
      "2024-11-23 05:43:24.923054: W ./tensorflow/core/util/ctc/ctc_loss_calculator.h:499] No valid path found.\n",
      "2024-11-23 05:43:24.923118: W ./tensorflow/core/util/ctc/ctc_loss_calculator.h:499] No valid path found.\n",
      "2024-11-23 05:43:24.923295: W ./tensorflow/core/util/ctc/ctc_loss_calculator.h:499] No valid path found.\n"
     ]
    },
    {
     "name": "stdout",
     "output_type": "stream",
     "text": [
      "\u001b[1m1906/3125\u001b[0m \u001b[32m━━━━━━━━━━━━\u001b[0m\u001b[37m━━━━━━━━\u001b[0m \u001b[1m4:10:03\u001b[0m 12s/step - loss: inf"
     ]
    },
    {
     "name": "stderr",
     "output_type": "stream",
     "text": [
      "2024-11-23 05:56:30.063137: W ./tensorflow/core/util/ctc/ctc_loss_calculator.h:499] No valid path found.\n",
      "2024-11-23 05:56:30.063205: W ./tensorflow/core/util/ctc/ctc_loss_calculator.h:499] No valid path found.\n"
     ]
    },
    {
     "name": "stdout",
     "output_type": "stream",
     "text": [
      "\u001b[1m1934/3125\u001b[0m \u001b[32m━━━━━━━━━━━━\u001b[0m\u001b[37m━━━━━━━━\u001b[0m \u001b[1m4:04:24\u001b[0m 12s/step - loss: inf"
     ]
    },
    {
     "name": "stderr",
     "output_type": "stream",
     "text": [
      "2024-11-23 06:02:23.054117: W ./tensorflow/core/util/ctc/ctc_loss_calculator.h:499] No valid path found.\n"
     ]
    },
    {
     "name": "stdout",
     "output_type": "stream",
     "text": [
      "\u001b[1m2027/3125\u001b[0m \u001b[32m━━━━━━━━━━━━\u001b[0m\u001b[37m━━━━━━━━\u001b[0m \u001b[1m3:45:22\u001b[0m 12s/step - loss: inf"
     ]
    },
    {
     "name": "stderr",
     "output_type": "stream",
     "text": [
      "2024-11-23 06:21:35.294443: W ./tensorflow/core/util/ctc/ctc_loss_calculator.h:499] No valid path found.\n",
      "2024-11-23 06:21:35.294499: W ./tensorflow/core/util/ctc/ctc_loss_calculator.h:499] No valid path found.\n"
     ]
    },
    {
     "name": "stdout",
     "output_type": "stream",
     "text": [
      "\u001b[1m2205/3125\u001b[0m \u001b[32m━━━━━━━━━━━━━━\u001b[0m\u001b[37m━━━━━━\u001b[0m \u001b[1m3:08:50\u001b[0m 12s/step - loss: inf"
     ]
    },
    {
     "name": "stderr",
     "output_type": "stream",
     "text": [
      "2024-11-23 06:58:08.701908: W ./tensorflow/core/util/ctc/ctc_loss_calculator.h:499] No valid path found.\n",
      "2024-11-23 06:58:08.701967: W ./tensorflow/core/util/ctc/ctc_loss_calculator.h:499] No valid path found.\n",
      "2024-11-23 06:58:08.702023: W ./tensorflow/core/util/ctc/ctc_loss_calculator.h:499] No valid path found.\n",
      "2024-11-23 06:58:08.702049: W ./tensorflow/core/util/ctc/ctc_loss_calculator.h:499] No valid path found.\n",
      "2024-11-23 06:58:08.702073: W ./tensorflow/core/util/ctc/ctc_loss_calculator.h:499] No valid path found.\n",
      "2024-11-23 06:58:08.702546: W ./tensorflow/core/util/ctc/ctc_loss_calculator.h:499] No valid path found.\n"
     ]
    },
    {
     "name": "stdout",
     "output_type": "stream",
     "text": [
      "\u001b[1m2626/3125\u001b[0m \u001b[32m━━━━━━━━━━━━━━━━\u001b[0m\u001b[37m━━━━\u001b[0m \u001b[1m1:43:05\u001b[0m 12s/step - loss: inf"
     ]
    },
    {
     "name": "stderr",
     "output_type": "stream",
     "text": [
      "2024-11-23 08:28:02.464179: W ./tensorflow/core/util/ctc/ctc_loss_calculator.h:499] No valid path found.\n",
      "2024-11-23 08:28:02.464237: W ./tensorflow/core/util/ctc/ctc_loss_calculator.h:499] No valid path found.\n",
      "2024-11-23 08:28:02.464286: W ./tensorflow/core/util/ctc/ctc_loss_calculator.h:499] No valid path found.\n",
      "2024-11-23 08:28:02.464309: W ./tensorflow/core/util/ctc/ctc_loss_calculator.h:499] No valid path found.\n",
      "2024-11-23 08:28:02.464334: W ./tensorflow/core/util/ctc/ctc_loss_calculator.h:499] No valid path found.\n",
      "2024-11-23 08:28:02.464361: W ./tensorflow/core/util/ctc/ctc_loss_calculator.h:499] No valid path found.\n",
      "2024-11-23 08:28:02.464382: W ./tensorflow/core/util/ctc/ctc_loss_calculator.h:499] No valid path found.\n",
      "2024-11-23 08:28:02.464588: W ./tensorflow/core/util/ctc/ctc_loss_calculator.h:499] No valid path found.\n"
     ]
    },
    {
     "name": "stdout",
     "output_type": "stream",
     "text": [
      "\u001b[1m2789/3125\u001b[0m \u001b[32m━━━━━━━━━━━━━━━━━\u001b[0m\u001b[37m━━━\u001b[0m \u001b[1m1:09:28\u001b[0m 12s/step - loss: inf"
     ]
    },
    {
     "name": "stderr",
     "output_type": "stream",
     "text": [
      "2024-11-23 09:02:14.737475: W ./tensorflow/core/util/ctc/ctc_loss_calculator.h:499] No valid path found.\n",
      "2024-11-23 09:02:14.737535: W ./tensorflow/core/util/ctc/ctc_loss_calculator.h:499] No valid path found.\n",
      "2024-11-23 09:02:14.737557: W ./tensorflow/core/util/ctc/ctc_loss_calculator.h:499] No valid path found.\n"
     ]
    },
    {
     "name": "stdout",
     "output_type": "stream",
     "text": [
      "\u001b[1m2824/3125\u001b[0m \u001b[32m━━━━━━━━━━━━━━━━━━\u001b[0m\u001b[37m━━\u001b[0m \u001b[1m1:02:13\u001b[0m 12s/step - loss: inf"
     ]
    },
    {
     "name": "stderr",
     "output_type": "stream",
     "text": [
      "2024-11-23 09:09:17.240427: W ./tensorflow/core/util/ctc/ctc_loss_calculator.h:499] No valid path found.\n",
      "2024-11-23 09:09:17.240700: W ./tensorflow/core/util/ctc/ctc_loss_calculator.h:499] No valid path found.\n",
      "2024-11-23 09:09:17.240782: W ./tensorflow/core/util/ctc/ctc_loss_calculator.h:499] No valid path found.\n"
     ]
    },
    {
     "name": "stdout",
     "output_type": "stream",
     "text": [
      "\u001b[1m2856/3125\u001b[0m \u001b[32m━━━━━━━━━━━━━━━━━━\u001b[0m\u001b[37m━━\u001b[0m \u001b[1m55:33\u001b[0m 12s/step - loss: inf"
     ]
    },
    {
     "name": "stderr",
     "output_type": "stream",
     "text": [
      "2024-11-23 09:15:19.878603: W ./tensorflow/core/util/ctc/ctc_loss_calculator.h:499] No valid path found.\n"
     ]
    },
    {
     "name": "stdout",
     "output_type": "stream",
     "text": [
      "\u001b[1m2988/3125\u001b[0m \u001b[32m━━━━━━━━━━━━━━━━━━━\u001b[0m\u001b[37m━\u001b[0m \u001b[1m28:17\u001b[0m 12s/step - loss: inf"
     ]
    },
    {
     "name": "stderr",
     "output_type": "stream",
     "text": [
      "2024-11-23 09:42:31.961624: W ./tensorflow/core/util/ctc/ctc_loss_calculator.h:499] No valid path found.\n",
      "2024-11-23 09:42:31.961676: W ./tensorflow/core/util/ctc/ctc_loss_calculator.h:499] No valid path found.\n",
      "2024-11-23 09:42:31.961698: W ./tensorflow/core/util/ctc/ctc_loss_calculator.h:499] No valid path found.\n",
      "2024-11-23 09:42:31.961731: W ./tensorflow/core/util/ctc/ctc_loss_calculator.h:499] No valid path found.\n",
      "2024-11-23 09:42:31.961749: W ./tensorflow/core/util/ctc/ctc_loss_calculator.h:499] No valid path found.\n"
     ]
    },
    {
     "name": "stdout",
     "output_type": "stream",
     "text": [
      "\u001b[1m3009/3125\u001b[0m \u001b[32m━━━━━━━━━━━━━━━━━━━\u001b[0m\u001b[37m━\u001b[0m \u001b[1m23:56\u001b[0m 12s/step - loss: inf"
     ]
    },
    {
     "name": "stderr",
     "output_type": "stream",
     "text": [
      "2024-11-23 09:46:40.688844: W ./tensorflow/core/util/ctc/ctc_loss_calculator.h:499] No valid path found.\n",
      "2024-11-23 09:46:40.688899: W ./tensorflow/core/util/ctc/ctc_loss_calculator.h:499] No valid path found.\n",
      "2024-11-23 09:46:40.688936: W ./tensorflow/core/util/ctc/ctc_loss_calculator.h:499] No valid path found.\n",
      "2024-11-23 09:46:40.689019: W ./tensorflow/core/util/ctc/ctc_loss_calculator.h:499] No valid path found.\n",
      "2024-11-23 09:46:40.689034: W ./tensorflow/core/util/ctc/ctc_loss_calculator.h:499] No valid path found.\n",
      "2024-11-23 09:46:40.689057: W ./tensorflow/core/util/ctc/ctc_loss_calculator.h:499] No valid path found.\n",
      "2024-11-23 09:46:40.689079: W ./tensorflow/core/util/ctc/ctc_loss_calculator.h:499] No valid path found.\n",
      "2024-11-23 09:46:40.689094: W ./tensorflow/core/util/ctc/ctc_loss_calculator.h:499] No valid path found.\n",
      "2024-11-23 09:46:40.689116: W ./tensorflow/core/util/ctc/ctc_loss_calculator.h:499] No valid path found.\n",
      "2024-11-23 09:46:40.689135: W ./tensorflow/core/util/ctc/ctc_loss_calculator.h:499] No valid path found.\n",
      "2024-11-23 09:46:40.689154: W ./tensorflow/core/util/ctc/ctc_loss_calculator.h:499] No valid path found.\n",
      "2024-11-23 09:46:40.689178: W ./tensorflow/core/util/ctc/ctc_loss_calculator.h:499] No valid path found.\n"
     ]
    },
    {
     "name": "stdout",
     "output_type": "stream",
     "text": [
      "\u001b[1m3124/3125\u001b[0m \u001b[32m━━━━━━━━━━━━━━━━━━━\u001b[0m\u001b[37m━\u001b[0m \u001b[1m12s\u001b[0m 12s/step - loss: inf"
     ]
    },
    {
     "name": "stderr",
     "output_type": "stream",
     "text": [
      "2024-11-23 10:10:38.429039: W ./tensorflow/core/util/ctc/ctc_loss_calculator.h:499] No valid path found.\n",
      "2024-11-23 10:10:38.429097: W ./tensorflow/core/util/ctc/ctc_loss_calculator.h:499] No valid path found.\n",
      "2024-11-23 10:10:38.429152: W ./tensorflow/core/util/ctc/ctc_loss_calculator.h:499] No valid path found.\n",
      "2024-11-23 10:10:38.429198: W ./tensorflow/core/util/ctc/ctc_loss_calculator.h:499] No valid path found.\n",
      "2024-11-23 10:10:38.429229: W ./tensorflow/core/util/ctc/ctc_loss_calculator.h:499] No valid path found.\n",
      "2024-11-23 10:10:38.429314: W ./tensorflow/core/util/ctc/ctc_loss_calculator.h:499] No valid path found.\n",
      "2024-11-23 10:10:38.429343: W ./tensorflow/core/util/ctc/ctc_loss_calculator.h:499] No valid path found.\n",
      "2024-11-23 10:10:38.429380: W ./tensorflow/core/util/ctc/ctc_loss_calculator.h:499] No valid path found.\n",
      "2024-11-23 10:10:38.429395: W ./tensorflow/core/util/ctc/ctc_loss_calculator.h:499] No valid path found.\n",
      "2024-11-23 10:10:38.429422: W ./tensorflow/core/util/ctc/ctc_loss_calculator.h:499] No valid path found.\n",
      "2024-11-23 10:10:38.429445: W ./tensorflow/core/util/ctc/ctc_loss_calculator.h:499] No valid path found.\n",
      "2024-11-23 10:10:38.429467: W ./tensorflow/core/util/ctc/ctc_loss_calculator.h:499] No valid path found.\n",
      "2024-11-23 10:10:38.429486: W ./tensorflow/core/util/ctc/ctc_loss_calculator.h:499] No valid path found.\n",
      "2024-11-23 10:10:38.429508: W ./tensorflow/core/util/ctc/ctc_loss_calculator.h:499] No valid path found.\n",
      "2024-11-23 10:10:38.429532: W ./tensorflow/core/util/ctc/ctc_loss_calculator.h:499] No valid path found.\n"
     ]
    },
    {
     "name": "stdout",
     "output_type": "stream",
     "text": [
      "\u001b[1m3125/3125\u001b[0m \u001b[32m━━━━━━━━━━━━━━━━━━━━\u001b[0m\u001b[37m\u001b[0m \u001b[1m0s\u001b[0m 12s/step - loss: inf "
     ]
    },
    {
     "name": "stderr",
     "output_type": "stream",
     "text": [
      "2024-11-23 10:12:11.593932: W ./tensorflow/core/util/ctc/ctc_loss_calculator.h:499] No valid path found.\n",
      "2024-11-23 10:15:15.895449: W ./tensorflow/core/util/ctc/ctc_loss_calculator.h:499] No valid path found.\n",
      "2024-11-23 10:15:15.895502: W ./tensorflow/core/util/ctc/ctc_loss_calculator.h:499] No valid path found.\n",
      "2024-11-23 10:15:15.895543: W ./tensorflow/core/util/ctc/ctc_loss_calculator.h:499] No valid path found.\n",
      "2024-11-23 10:15:15.895568: W ./tensorflow/core/util/ctc/ctc_loss_calculator.h:499] No valid path found.\n",
      "2024-11-23 10:15:15.895585: W ./tensorflow/core/util/ctc/ctc_loss_calculator.h:499] No valid path found.\n",
      "2024-11-23 10:15:15.895607: W ./tensorflow/core/util/ctc/ctc_loss_calculator.h:499] No valid path found.\n",
      "2024-11-23 10:15:15.895635: W ./tensorflow/core/util/ctc/ctc_loss_calculator.h:499] No valid path found.\n",
      "2024-11-23 10:15:15.895689: W ./tensorflow/core/util/ctc/ctc_loss_calculator.h:499] No valid path found.\n",
      "2024-11-23 10:15:15.895703: W ./tensorflow/core/util/ctc/ctc_loss_calculator.h:499] No valid path found.\n",
      "2024-11-23 10:15:15.895729: W ./tensorflow/core/util/ctc/ctc_loss_calculator.h:499] No valid path found.\n",
      "2024-11-23 10:15:15.895748: W ./tensorflow/core/util/ctc/ctc_loss_calculator.h:499] No valid path found.\n",
      "2024-11-23 10:15:15.895770: W ./tensorflow/core/util/ctc/ctc_loss_calculator.h:499] No valid path found.\n",
      "2024-11-23 10:15:15.895784: W ./tensorflow/core/util/ctc/ctc_loss_calculator.h:499] No valid path found.\n"
     ]
    },
    {
     "name": "stdout",
     "output_type": "stream",
     "text": [
      "\u001b[1m1/1\u001b[0m \u001b[32m━━━━━━━━━━━━━━━━━━━━\u001b[0m\u001b[37m\u001b[0m \u001b[1m1s\u001b[0m 1s/step\n",
      "\u001b[1m1/1\u001b[0m \u001b[32m━━━━━━━━━━━━━━━━━━━━\u001b[0m\u001b[37m\u001b[0m \u001b[1m1s\u001b[0m 972ms/step\n",
      "\u001b[1m1/1\u001b[0m \u001b[32m━━━━━━━━━━━━━━━━━━━━\u001b[0m\u001b[37m\u001b[0m \u001b[1m1s\u001b[0m 1s/step\n",
      "\u001b[1m1/1\u001b[0m \u001b[32m━━━━━━━━━━━━━━━━━━━━\u001b[0m\u001b[37m\u001b[0m \u001b[1m1s\u001b[0m 1s/step\n",
      "\u001b[1m1/1\u001b[0m \u001b[32m━━━━━━━━━━━━━━━━━━━━\u001b[0m\u001b[37m\u001b[0m \u001b[1m1s\u001b[0m 1s/step\n",
      "\u001b[1m1/1\u001b[0m \u001b[32m━━━━━━━━━━━━━━━━━━━━\u001b[0m\u001b[37m\u001b[0m \u001b[1m1s\u001b[0m 1s/step\n",
      "\u001b[1m1/1\u001b[0m \u001b[32m━━━━━━━━━━━━━━━━━━━━\u001b[0m\u001b[37m\u001b[0m \u001b[1m3s\u001b[0m 3s/step\n",
      "\u001b[1m1/1\u001b[0m \u001b[32m━━━━━━━━━━━━━━━━━━━━\u001b[0m\u001b[37m\u001b[0m \u001b[1m2s\u001b[0m 2s/step\n",
      "\u001b[1m1/1\u001b[0m \u001b[32m━━━━━━━━━━━━━━━━━━━━\u001b[0m\u001b[37m\u001b[0m \u001b[1m1s\u001b[0m 1s/step\n",
      "\u001b[1m1/1\u001b[0m \u001b[32m━━━━━━━━━━━━━━━━━━━━\u001b[0m\u001b[37m\u001b[0m \u001b[1m1s\u001b[0m 1s/step\n",
      "\u001b[1m1/1\u001b[0m \u001b[32m━━━━━━━━━━━━━━━━━━━━\u001b[0m\u001b[37m\u001b[0m \u001b[1m1s\u001b[0m 1s/step\n",
      "\u001b[1m1/1\u001b[0m \u001b[32m━━━━━━━━━━━━━━━━━━━━\u001b[0m\u001b[37m\u001b[0m \u001b[1m1s\u001b[0m 1s/step\n",
      "\u001b[1m1/1\u001b[0m \u001b[32m━━━━━━━━━━━━━━━━━━━━\u001b[0m\u001b[37m\u001b[0m \u001b[1m2s\u001b[0m 2s/step\n",
      "\u001b[1m1/1\u001b[0m \u001b[32m━━━━━━━━━━━━━━━━━━━━\u001b[0m\u001b[37m\u001b[0m \u001b[1m2s\u001b[0m 2s/step\n",
      "\u001b[1m1/1\u001b[0m \u001b[32m━━━━━━━━━━━━━━━━━━━━\u001b[0m\u001b[37m\u001b[0m \u001b[1m1s\u001b[0m 1s/step\n",
      "\u001b[1m1/1\u001b[0m \u001b[32m━━━━━━━━━━━━━━━━━━━━\u001b[0m\u001b[37m\u001b[0m \u001b[1m1s\u001b[0m 1s/step\n",
      "\u001b[1m1/1\u001b[0m \u001b[32m━━━━━━━━━━━━━━━━━━━━\u001b[0m\u001b[37m\u001b[0m \u001b[1m1s\u001b[0m 1s/step\n",
      "\u001b[1m1/1\u001b[0m \u001b[32m━━━━━━━━━━━━━━━━━━━━\u001b[0m\u001b[37m\u001b[0m \u001b[1m1s\u001b[0m 1s/step\n",
      "\u001b[1m1/1\u001b[0m \u001b[32m━━━━━━━━━━━━━━━━━━━━\u001b[0m\u001b[37m\u001b[0m \u001b[1m1s\u001b[0m 1s/step\n",
      "\u001b[1m1/1\u001b[0m \u001b[32m━━━━━━━━━━━━━━━━━━━━\u001b[0m\u001b[37m\u001b[0m \u001b[1m1s\u001b[0m 1s/step\n",
      "\u001b[1m1/1\u001b[0m \u001b[32m━━━━━━━━━━━━━━━━━━━━\u001b[0m\u001b[37m\u001b[0m \u001b[1m1s\u001b[0m 1s/step\n",
      "\u001b[1m1/1\u001b[0m \u001b[32m━━━━━━━━━━━━━━━━━━━━\u001b[0m\u001b[37m\u001b[0m \u001b[1m1s\u001b[0m 1s/step\n",
      "\u001b[1m1/1\u001b[0m \u001b[32m━━━━━━━━━━━━━━━━━━━━\u001b[0m\u001b[37m\u001b[0m \u001b[1m2s\u001b[0m 2s/step\n",
      "\u001b[1m1/1\u001b[0m \u001b[32m━━━━━━━━━━━━━━━━━━━━\u001b[0m\u001b[37m\u001b[0m \u001b[1m1s\u001b[0m 1s/step\n",
      "\u001b[1m1/1\u001b[0m \u001b[32m━━━━━━━━━━━━━━━━━━━━\u001b[0m\u001b[37m\u001b[0m \u001b[1m2s\u001b[0m 2s/step\n",
      "\u001b[1m1/1\u001b[0m \u001b[32m━━━━━━━━━━━━━━━━━━━━\u001b[0m\u001b[37m\u001b[0m \u001b[1m1s\u001b[0m 1s/step\n",
      "\u001b[1m1/1\u001b[0m \u001b[32m━━━━━━━━━━━━━━━━━━━━\u001b[0m\u001b[37m\u001b[0m \u001b[1m2s\u001b[0m 2s/step\n",
      "\u001b[1m1/1\u001b[0m \u001b[32m━━━━━━━━━━━━━━━━━━━━\u001b[0m\u001b[37m\u001b[0m \u001b[1m1s\u001b[0m 1s/step\n",
      "\u001b[1m1/1\u001b[0m \u001b[32m━━━━━━━━━━━━━━━━━━━━\u001b[0m\u001b[37m\u001b[0m \u001b[1m2s\u001b[0m 2s/step\n",
      "\u001b[1m1/1\u001b[0m \u001b[32m━━━━━━━━━━━━━━━━━━━━\u001b[0m\u001b[37m\u001b[0m \u001b[1m1s\u001b[0m 1s/step\n",
      "\u001b[1m1/1\u001b[0m \u001b[32m━━━━━━━━━━━━━━━━━━━━\u001b[0m\u001b[37m\u001b[0m \u001b[1m1s\u001b[0m 1s/step\n",
      "\u001b[1m1/1\u001b[0m \u001b[32m━━━━━━━━━━━━━━━━━━━━\u001b[0m\u001b[37m\u001b[0m \u001b[1m1s\u001b[0m 1s/step\n",
      "\u001b[1m1/1\u001b[0m \u001b[32m━━━━━━━━━━━━━━━━━━━━\u001b[0m\u001b[37m\u001b[0m \u001b[1m2s\u001b[0m 2s/step\n",
      "\u001b[1m1/1\u001b[0m \u001b[32m━━━━━━━━━━━━━━━━━━━━\u001b[0m\u001b[37m\u001b[0m \u001b[1m1s\u001b[0m 1s/step\n",
      "\u001b[1m1/1\u001b[0m \u001b[32m━━━━━━━━━━━━━━━━━━━━\u001b[0m\u001b[37m\u001b[0m \u001b[1m2s\u001b[0m 2s/step\n",
      "\u001b[1m1/1\u001b[0m \u001b[32m━━━━━━━━━━━━━━━━━━━━\u001b[0m\u001b[37m\u001b[0m \u001b[1m1s\u001b[0m 1s/step\n",
      "\u001b[1m1/1\u001b[0m \u001b[32m━━━━━━━━━━━━━━━━━━━━\u001b[0m\u001b[37m\u001b[0m \u001b[1m1s\u001b[0m 1s/step\n",
      "\u001b[1m1/1\u001b[0m \u001b[32m━━━━━━━━━━━━━━━━━━━━\u001b[0m\u001b[37m\u001b[0m \u001b[1m1s\u001b[0m 1s/step\n",
      "\u001b[1m1/1\u001b[0m \u001b[32m━━━━━━━━━━━━━━━━━━━━\u001b[0m\u001b[37m\u001b[0m \u001b[1m2s\u001b[0m 2s/step\n",
      "\u001b[1m1/1\u001b[0m \u001b[32m━━━━━━━━━━━━━━━━━━━━\u001b[0m\u001b[37m\u001b[0m \u001b[1m2s\u001b[0m 2s/step\n",
      "\u001b[1m1/1\u001b[0m \u001b[32m━━━━━━━━━━━━━━━━━━━━\u001b[0m\u001b[37m\u001b[0m \u001b[1m1s\u001b[0m 1s/step\n",
      "\u001b[1m1/1\u001b[0m \u001b[32m━━━━━━━━━━━━━━━━━━━━\u001b[0m\u001b[37m\u001b[0m \u001b[1m1s\u001b[0m 1s/step\n",
      "\u001b[1m1/1\u001b[0m \u001b[32m━━━━━━━━━━━━━━━━━━━━\u001b[0m\u001b[37m\u001b[0m \u001b[1m1s\u001b[0m 875ms/step\n",
      "\u001b[1m1/1\u001b[0m \u001b[32m━━━━━━━━━━━━━━━━━━━━\u001b[0m\u001b[37m\u001b[0m \u001b[1m1s\u001b[0m 1s/step\n",
      "\u001b[1m1/1\u001b[0m \u001b[32m━━━━━━━━━━━━━━━━━━━━\u001b[0m\u001b[37m\u001b[0m \u001b[1m1s\u001b[0m 1s/step\n",
      "\u001b[1m1/1\u001b[0m \u001b[32m━━━━━━━━━━━━━━━━━━━━\u001b[0m\u001b[37m\u001b[0m \u001b[1m2s\u001b[0m 2s/step\n",
      "\u001b[1m1/1\u001b[0m \u001b[32m━━━━━━━━━━━━━━━━━━━━\u001b[0m\u001b[37m\u001b[0m \u001b[1m1s\u001b[0m 1s/step\n",
      "\u001b[1m1/1\u001b[0m \u001b[32m━━━━━━━━━━━━━━━━━━━━\u001b[0m\u001b[37m\u001b[0m \u001b[1m2s\u001b[0m 2s/step\n",
      "\u001b[1m1/1\u001b[0m \u001b[32m━━━━━━━━━━━━━━━━━━━━\u001b[0m\u001b[37m\u001b[0m \u001b[1m2s\u001b[0m 2s/step\n",
      "\u001b[1m1/1\u001b[0m \u001b[32m━━━━━━━━━━━━━━━━━━━━\u001b[0m\u001b[37m\u001b[0m \u001b[1m1s\u001b[0m 1s/step\n",
      "\u001b[1m1/1\u001b[0m \u001b[32m━━━━━━━━━━━━━━━━━━━━\u001b[0m\u001b[37m\u001b[0m \u001b[1m1s\u001b[0m 1s/step\n",
      "\u001b[1m1/1\u001b[0m \u001b[32m━━━━━━━━━━━━━━━━━━━━\u001b[0m\u001b[37m\u001b[0m \u001b[1m2s\u001b[0m 2s/step\n",
      "\u001b[1m1/1\u001b[0m \u001b[32m━━━━━━━━━━━━━━━━━━━━\u001b[0m\u001b[37m\u001b[0m \u001b[1m1s\u001b[0m 1s/step\n",
      "\u001b[1m1/1\u001b[0m \u001b[32m━━━━━━━━━━━━━━━━━━━━\u001b[0m\u001b[37m\u001b[0m \u001b[1m1s\u001b[0m 1s/step\n",
      "\u001b[1m1/1\u001b[0m \u001b[32m━━━━━━━━━━━━━━━━━━━━\u001b[0m\u001b[37m\u001b[0m \u001b[1m1s\u001b[0m 1s/step\n",
      "\u001b[1m1/1\u001b[0m \u001b[32m━━━━━━━━━━━━━━━━━━━━\u001b[0m\u001b[37m\u001b[0m \u001b[1m1s\u001b[0m 1s/step\n",
      "\u001b[1m1/1\u001b[0m \u001b[32m━━━━━━━━━━━━━━━━━━━━\u001b[0m\u001b[37m\u001b[0m \u001b[1m1s\u001b[0m 1s/step\n",
      "\u001b[1m1/1\u001b[0m \u001b[32m━━━━━━━━━━━━━━━━━━━━\u001b[0m\u001b[37m\u001b[0m \u001b[1m1s\u001b[0m 1s/step\n",
      "\u001b[1m1/1\u001b[0m \u001b[32m━━━━━━━━━━━━━━━━━━━━\u001b[0m\u001b[37m\u001b[0m \u001b[1m2s\u001b[0m 2s/step\n",
      "\u001b[1m1/1\u001b[0m \u001b[32m━━━━━━━━━━━━━━━━━━━━\u001b[0m\u001b[37m\u001b[0m \u001b[1m1s\u001b[0m 1s/step\n",
      "\u001b[1m1/1\u001b[0m \u001b[32m━━━━━━━━━━━━━━━━━━━━\u001b[0m\u001b[37m\u001b[0m \u001b[1m1s\u001b[0m 1s/step\n",
      "\u001b[1m1/1\u001b[0m \u001b[32m━━━━━━━━━━━━━━━━━━━━\u001b[0m\u001b[37m\u001b[0m \u001b[1m1s\u001b[0m 1s/step\n",
      "\u001b[1m1/1\u001b[0m \u001b[32m━━━━━━━━━━━━━━━━━━━━\u001b[0m\u001b[37m\u001b[0m \u001b[1m2s\u001b[0m 2s/step\n",
      "\u001b[1m1/1\u001b[0m \u001b[32m━━━━━━━━━━━━━━━━━━━━\u001b[0m\u001b[37m\u001b[0m \u001b[1m2s\u001b[0m 2s/step\n",
      "\u001b[1m1/1\u001b[0m \u001b[32m━━━━━━━━━━━━━━━━━━━━\u001b[0m\u001b[37m\u001b[0m \u001b[1m1s\u001b[0m 1s/step\n",
      "\u001b[1m1/1\u001b[0m \u001b[32m━━━━━━━━━━━━━━━━━━━━\u001b[0m\u001b[37m\u001b[0m \u001b[1m2s\u001b[0m 2s/step\n",
      "\u001b[1m1/1\u001b[0m \u001b[32m━━━━━━━━━━━━━━━━━━━━\u001b[0m\u001b[37m\u001b[0m \u001b[1m2s\u001b[0m 2s/step\n",
      "\u001b[1m1/1\u001b[0m \u001b[32m━━━━━━━━━━━━━━━━━━━━\u001b[0m\u001b[37m\u001b[0m \u001b[1m1s\u001b[0m 1s/step\n",
      "\u001b[1m1/1\u001b[0m \u001b[32m━━━━━━━━━━━━━━━━━━━━\u001b[0m\u001b[37m\u001b[0m \u001b[1m2s\u001b[0m 2s/step\n",
      "\u001b[1m1/1\u001b[0m \u001b[32m━━━━━━━━━━━━━━━━━━━━\u001b[0m\u001b[37m\u001b[0m \u001b[1m1s\u001b[0m 1s/step\n",
      "\u001b[1m1/1\u001b[0m \u001b[32m━━━━━━━━━━━━━━━━━━━━\u001b[0m\u001b[37m\u001b[0m \u001b[1m2s\u001b[0m 2s/step\n",
      "\u001b[1m1/1\u001b[0m \u001b[32m━━━━━━━━━━━━━━━━━━━━\u001b[0m\u001b[37m\u001b[0m \u001b[1m1s\u001b[0m 1s/step\n",
      "\u001b[1m1/1\u001b[0m \u001b[32m━━━━━━━━━━━━━━━━━━━━\u001b[0m\u001b[37m\u001b[0m \u001b[1m1s\u001b[0m 1s/step\n",
      "\u001b[1m1/1\u001b[0m \u001b[32m━━━━━━━━━━━━━━━━━━━━\u001b[0m\u001b[37m\u001b[0m \u001b[1m2s\u001b[0m 2s/step\n",
      "\u001b[1m1/1\u001b[0m \u001b[32m━━━━━━━━━━━━━━━━━━━━\u001b[0m\u001b[37m\u001b[0m \u001b[1m1s\u001b[0m 1s/step\n",
      "\u001b[1m1/1\u001b[0m \u001b[32m━━━━━━━━━━━━━━━━━━━━\u001b[0m\u001b[37m\u001b[0m \u001b[1m1s\u001b[0m 920ms/step\n",
      "\u001b[1m1/1\u001b[0m \u001b[32m━━━━━━━━━━━━━━━━━━━━\u001b[0m\u001b[37m\u001b[0m \u001b[1m2s\u001b[0m 2s/step\n",
      "\u001b[1m1/1\u001b[0m \u001b[32m━━━━━━━━━━━━━━━━━━━━\u001b[0m\u001b[37m\u001b[0m \u001b[1m1s\u001b[0m 1s/step\n",
      "\u001b[1m1/1\u001b[0m \u001b[32m━━━━━━━━━━━━━━━━━━━━\u001b[0m\u001b[37m\u001b[0m \u001b[1m1s\u001b[0m 930ms/step\n",
      "\u001b[1m1/1\u001b[0m \u001b[32m━━━━━━━━━━━━━━━━━━━━\u001b[0m\u001b[37m\u001b[0m \u001b[1m1s\u001b[0m 1s/step\n",
      "\u001b[1m1/1\u001b[0m \u001b[32m━━━━━━━━━━━━━━━━━━━━\u001b[0m\u001b[37m\u001b[0m \u001b[1m1s\u001b[0m 1s/step\n",
      "\u001b[1m1/1\u001b[0m \u001b[32m━━━━━━━━━━━━━━━━━━━━\u001b[0m\u001b[37m\u001b[0m \u001b[1m1s\u001b[0m 1s/step\n",
      "\u001b[1m1/1\u001b[0m \u001b[32m━━━━━━━━━━━━━━━━━━━━\u001b[0m\u001b[37m\u001b[0m \u001b[1m1s\u001b[0m 1s/step\n",
      "\u001b[1m1/1\u001b[0m \u001b[32m━━━━━━━━━━━━━━━━━━━━\u001b[0m\u001b[37m\u001b[0m \u001b[1m1s\u001b[0m 1s/step\n",
      "\u001b[1m1/1\u001b[0m \u001b[32m━━━━━━━━━━━━━━━━━━━━\u001b[0m\u001b[37m\u001b[0m \u001b[1m2s\u001b[0m 2s/step\n",
      "\u001b[1m1/1\u001b[0m \u001b[32m━━━━━━━━━━━━━━━━━━━━\u001b[0m\u001b[37m\u001b[0m \u001b[1m2s\u001b[0m 2s/step\n",
      "\u001b[1m1/1\u001b[0m \u001b[32m━━━━━━━━━━━━━━━━━━━━\u001b[0m\u001b[37m\u001b[0m \u001b[1m2s\u001b[0m 2s/step\n",
      "\u001b[1m1/1\u001b[0m \u001b[32m━━━━━━━━━━━━━━━━━━━━\u001b[0m\u001b[37m\u001b[0m \u001b[1m1s\u001b[0m 1s/step\n",
      "\u001b[1m1/1\u001b[0m \u001b[32m━━━━━━━━━━━━━━━━━━━━\u001b[0m\u001b[37m\u001b[0m \u001b[1m1s\u001b[0m 1s/step\n",
      "\u001b[1m1/1\u001b[0m \u001b[32m━━━━━━━━━━━━━━━━━━━━\u001b[0m\u001b[37m\u001b[0m \u001b[1m2s\u001b[0m 2s/step\n",
      "\u001b[1m1/1\u001b[0m \u001b[32m━━━━━━━━━━━━━━━━━━━━\u001b[0m\u001b[37m\u001b[0m \u001b[1m2s\u001b[0m 2s/step\n",
      "\u001b[1m1/1\u001b[0m \u001b[32m━━━━━━━━━━━━━━━━━━━━\u001b[0m\u001b[37m\u001b[0m \u001b[1m1s\u001b[0m 1s/step\n",
      "\u001b[1m1/1\u001b[0m \u001b[32m━━━━━━━━━━━━━━━━━━━━\u001b[0m\u001b[37m\u001b[0m \u001b[1m1s\u001b[0m 1s/step\n",
      "\u001b[1m1/1\u001b[0m \u001b[32m━━━━━━━━━━━━━━━━━━━━\u001b[0m\u001b[37m\u001b[0m \u001b[1m2s\u001b[0m 2s/step\n",
      "\u001b[1m1/1\u001b[0m \u001b[32m━━━━━━━━━━━━━━━━━━━━\u001b[0m\u001b[37m\u001b[0m \u001b[1m1s\u001b[0m 1s/step\n",
      "\u001b[1m1/1\u001b[0m \u001b[32m━━━━━━━━━━━━━━━━━━━━\u001b[0m\u001b[37m\u001b[0m \u001b[1m2s\u001b[0m 2s/step\n",
      "\u001b[1m1/1\u001b[0m \u001b[32m━━━━━━━━━━━━━━━━━━━━\u001b[0m\u001b[37m\u001b[0m \u001b[1m1s\u001b[0m 1s/step\n",
      "\u001b[1m1/1\u001b[0m \u001b[32m━━━━━━━━━━━━━━━━━━━━\u001b[0m\u001b[37m\u001b[0m \u001b[1m1s\u001b[0m 1s/step\n",
      "\u001b[1m1/1\u001b[0m \u001b[32m━━━━━━━━━━━━━━━━━━━━\u001b[0m\u001b[37m\u001b[0m \u001b[1m2s\u001b[0m 2s/step\n",
      "\u001b[1m1/1\u001b[0m \u001b[32m━━━━━━━━━━━━━━━━━━━━\u001b[0m\u001b[37m\u001b[0m \u001b[1m1s\u001b[0m 1s/step\n",
      "\u001b[1m1/1\u001b[0m \u001b[32m━━━━━━━━━━━━━━━━━━━━\u001b[0m\u001b[37m\u001b[0m \u001b[1m1s\u001b[0m 1s/step\n",
      "\u001b[1m1/1\u001b[0m \u001b[32m━━━━━━━━━━━━━━━━━━━━\u001b[0m\u001b[37m\u001b[0m \u001b[1m1s\u001b[0m 1s/step\n",
      "\u001b[1m1/1\u001b[0m \u001b[32m━━━━━━━━━━━━━━━━━━━━\u001b[0m\u001b[37m\u001b[0m \u001b[1m2s\u001b[0m 2s/step\n",
      "\u001b[1m1/1\u001b[0m \u001b[32m━━━━━━━━━━━━━━━━━━━━\u001b[0m\u001b[37m\u001b[0m \u001b[1m1s\u001b[0m 1s/step\n",
      "\u001b[1m1/1\u001b[0m \u001b[32m━━━━━━━━━━━━━━━━━━━━\u001b[0m\u001b[37m\u001b[0m \u001b[1m2s\u001b[0m 2s/step\n",
      "\u001b[1m1/1\u001b[0m \u001b[32m━━━━━━━━━━━━━━━━━━━━\u001b[0m\u001b[37m\u001b[0m \u001b[1m2s\u001b[0m 2s/step\n",
      "\u001b[1m1/1\u001b[0m \u001b[32m━━━━━━━━━━━━━━━━━━━━\u001b[0m\u001b[37m\u001b[0m \u001b[1m1s\u001b[0m 1s/step\n",
      "\u001b[1m1/1\u001b[0m \u001b[32m━━━━━━━━━━━━━━━━━━━━\u001b[0m\u001b[37m\u001b[0m \u001b[1m2s\u001b[0m 2s/step\n",
      "\u001b[1m1/1\u001b[0m \u001b[32m━━━━━━━━━━━━━━━━━━━━\u001b[0m\u001b[37m\u001b[0m \u001b[1m2s\u001b[0m 2s/step\n",
      "\u001b[1m1/1\u001b[0m \u001b[32m━━━━━━━━━━━━━━━━━━━━\u001b[0m\u001b[37m\u001b[0m \u001b[1m2s\u001b[0m 2s/step\n",
      "\u001b[1m1/1\u001b[0m \u001b[32m━━━━━━━━━━━━━━━━━━━━\u001b[0m\u001b[37m\u001b[0m \u001b[1m1s\u001b[0m 1s/step\n",
      "\u001b[1m1/1\u001b[0m \u001b[32m━━━━━━━━━━━━━━━━━━━━\u001b[0m\u001b[37m\u001b[0m \u001b[1m1s\u001b[0m 1s/step\n",
      "\u001b[1m1/1\u001b[0m \u001b[32m━━━━━━━━━━━━━━━━━━━━\u001b[0m\u001b[37m\u001b[0m \u001b[1m2s\u001b[0m 2s/step\n",
      "\u001b[1m1/1\u001b[0m \u001b[32m━━━━━━━━━━━━━━━━━━━━\u001b[0m\u001b[37m\u001b[0m \u001b[1m1s\u001b[0m 1s/step\n",
      "\u001b[1m1/1\u001b[0m \u001b[32m━━━━━━━━━━━━━━━━━━━━\u001b[0m\u001b[37m\u001b[0m \u001b[1m2s\u001b[0m 2s/step\n",
      "\u001b[1m1/1\u001b[0m \u001b[32m━━━━━━━━━━━━━━━━━━━━\u001b[0m\u001b[37m\u001b[0m \u001b[1m2s\u001b[0m 2s/step\n",
      "\u001b[1m1/1\u001b[0m \u001b[32m━━━━━━━━━━━━━━━━━━━━\u001b[0m\u001b[37m\u001b[0m \u001b[1m1s\u001b[0m 1s/step\n",
      "\u001b[1m1/1\u001b[0m \u001b[32m━━━━━━━━━━━━━━━━━━━━\u001b[0m\u001b[37m\u001b[0m \u001b[1m1s\u001b[0m 1s/step\n",
      "\u001b[1m1/1\u001b[0m \u001b[32m━━━━━━━━━━━━━━━━━━━━\u001b[0m\u001b[37m\u001b[0m \u001b[1m1s\u001b[0m 1s/step\n",
      "\u001b[1m1/1\u001b[0m \u001b[32m━━━━━━━━━━━━━━━━━━━━\u001b[0m\u001b[37m\u001b[0m \u001b[1m1s\u001b[0m 1s/step\n",
      "\u001b[1m1/1\u001b[0m \u001b[32m━━━━━━━━━━━━━━━━━━━━\u001b[0m\u001b[37m\u001b[0m \u001b[1m1s\u001b[0m 1s/step\n",
      "\u001b[1m1/1\u001b[0m \u001b[32m━━━━━━━━━━━━━━━━━━━━\u001b[0m\u001b[37m\u001b[0m \u001b[1m2s\u001b[0m 2s/step\n",
      "\u001b[1m1/1\u001b[0m \u001b[32m━━━━━━━━━━━━━━━━━━━━\u001b[0m\u001b[37m\u001b[0m \u001b[1m1s\u001b[0m 1s/step\n",
      "\u001b[1m1/1\u001b[0m \u001b[32m━━━━━━━━━━━━━━━━━━━━\u001b[0m\u001b[37m\u001b[0m \u001b[1m1s\u001b[0m 1s/step\n",
      "\u001b[1m1/1\u001b[0m \u001b[32m━━━━━━━━━━━━━━━━━━━━\u001b[0m\u001b[37m\u001b[0m \u001b[1m1s\u001b[0m 1s/step\n",
      "\u001b[1m1/1\u001b[0m \u001b[32m━━━━━━━━━━━━━━━━━━━━\u001b[0m\u001b[37m\u001b[0m \u001b[1m2s\u001b[0m 2s/step\n",
      "\u001b[1m1/1\u001b[0m \u001b[32m━━━━━━━━━━━━━━━━━━━━\u001b[0m\u001b[37m\u001b[0m \u001b[1m1s\u001b[0m 1s/step\n",
      "\u001b[1m1/1\u001b[0m \u001b[32m━━━━━━━━━━━━━━━━━━━━\u001b[0m\u001b[37m\u001b[0m \u001b[1m1s\u001b[0m 1s/step\n",
      "\u001b[1m1/1\u001b[0m \u001b[32m━━━━━━━━━━━━━━━━━━━━\u001b[0m\u001b[37m\u001b[0m \u001b[1m1s\u001b[0m 1s/step\n",
      "\u001b[1m1/1\u001b[0m \u001b[32m━━━━━━━━━━━━━━━━━━━━\u001b[0m\u001b[37m\u001b[0m \u001b[1m1s\u001b[0m 1s/step\n",
      "\u001b[1m1/1\u001b[0m \u001b[32m━━━━━━━━━━━━━━━━━━━━\u001b[0m\u001b[37m\u001b[0m \u001b[1m1s\u001b[0m 1s/step\n",
      "\u001b[1m1/1\u001b[0m \u001b[32m━━━━━━━━━━━━━━━━━━━━\u001b[0m\u001b[37m\u001b[0m \u001b[1m1s\u001b[0m 1s/step\n",
      "\u001b[1m1/1\u001b[0m \u001b[32m━━━━━━━━━━━━━━━━━━━━\u001b[0m\u001b[37m\u001b[0m \u001b[1m1s\u001b[0m 1s/step\n",
      "\u001b[1m1/1\u001b[0m \u001b[32m━━━━━━━━━━━━━━━━━━━━\u001b[0m\u001b[37m\u001b[0m \u001b[1m1s\u001b[0m 1s/step\n",
      "\u001b[1m1/1\u001b[0m \u001b[32m━━━━━━━━━━━━━━━━━━━━\u001b[0m\u001b[37m\u001b[0m \u001b[1m2s\u001b[0m 2s/step\n",
      "\u001b[1m1/1\u001b[0m \u001b[32m━━━━━━━━━━━━━━━━━━━━\u001b[0m\u001b[37m\u001b[0m \u001b[1m2s\u001b[0m 2s/step\n",
      "\u001b[1m1/1\u001b[0m \u001b[32m━━━━━━━━━━━━━━━━━━━━\u001b[0m\u001b[37m\u001b[0m \u001b[1m1s\u001b[0m 1s/step\n",
      "\u001b[1m1/1\u001b[0m \u001b[32m━━━━━━━━━━━━━━━━━━━━\u001b[0m\u001b[37m\u001b[0m \u001b[1m1s\u001b[0m 1s/step\n",
      "\u001b[1m1/1\u001b[0m \u001b[32m━━━━━━━━━━━━━━━━━━━━\u001b[0m\u001b[37m\u001b[0m \u001b[1m1s\u001b[0m 1s/step\n",
      "\u001b[1m1/1\u001b[0m \u001b[32m━━━━━━━━━━━━━━━━━━━━\u001b[0m\u001b[37m\u001b[0m \u001b[1m1s\u001b[0m 1s/step\n",
      "\u001b[1m1/1\u001b[0m \u001b[32m━━━━━━━━━━━━━━━━━━━━\u001b[0m\u001b[37m\u001b[0m \u001b[1m1s\u001b[0m 1s/step\n",
      "\u001b[1m1/1\u001b[0m \u001b[32m━━━━━━━━━━━━━━━━━━━━\u001b[0m\u001b[37m\u001b[0m \u001b[1m1s\u001b[0m 1s/step\n",
      "\u001b[1m1/1\u001b[0m \u001b[32m━━━━━━━━━━━━━━━━━━━━\u001b[0m\u001b[37m\u001b[0m \u001b[1m2s\u001b[0m 2s/step\n",
      "\u001b[1m1/1\u001b[0m \u001b[32m━━━━━━━━━━━━━━━━━━━━\u001b[0m\u001b[37m\u001b[0m \u001b[1m2s\u001b[0m 2s/step\n",
      "\u001b[1m1/1\u001b[0m \u001b[32m━━━━━━━━━━━━━━━━━━━━\u001b[0m\u001b[37m\u001b[0m \u001b[1m1s\u001b[0m 1s/step\n",
      "\u001b[1m1/1\u001b[0m \u001b[32m━━━━━━━━━━━━━━━━━━━━\u001b[0m\u001b[37m\u001b[0m \u001b[1m1s\u001b[0m 1s/step\n",
      "\u001b[1m1/1\u001b[0m \u001b[32m━━━━━━━━━━━━━━━━━━━━\u001b[0m\u001b[37m\u001b[0m \u001b[1m1s\u001b[0m 1s/step\n",
      "\u001b[1m1/1\u001b[0m \u001b[32m━━━━━━━━━━━━━━━━━━━━\u001b[0m\u001b[37m\u001b[0m \u001b[1m1s\u001b[0m 1s/step\n",
      "\u001b[1m1/1\u001b[0m \u001b[32m━━━━━━━━━━━━━━━━━━━━\u001b[0m\u001b[37m\u001b[0m \u001b[1m1s\u001b[0m 1s/step\n",
      "\u001b[1m1/1\u001b[0m \u001b[32m━━━━━━━━━━━━━━━━━━━━\u001b[0m\u001b[37m\u001b[0m \u001b[1m1s\u001b[0m 1s/step\n",
      "\u001b[1m1/1\u001b[0m \u001b[32m━━━━━━━━━━━━━━━━━━━━\u001b[0m\u001b[37m\u001b[0m \u001b[1m1s\u001b[0m 1s/step\n",
      "\u001b[1m1/1\u001b[0m \u001b[32m━━━━━━━━━━━━━━━━━━━━\u001b[0m\u001b[37m\u001b[0m \u001b[1m1s\u001b[0m 1s/step\n",
      "\u001b[1m1/1\u001b[0m \u001b[32m━━━━━━━━━━━━━━━━━━━━\u001b[0m\u001b[37m\u001b[0m \u001b[1m1s\u001b[0m 1s/step\n",
      "\u001b[1m1/1\u001b[0m \u001b[32m━━━━━━━━━━━━━━━━━━━━\u001b[0m\u001b[37m\u001b[0m \u001b[1m1s\u001b[0m 1s/step\n",
      "\u001b[1m1/1\u001b[0m \u001b[32m━━━━━━━━━━━━━━━━━━━━\u001b[0m\u001b[37m\u001b[0m \u001b[1m1s\u001b[0m 1s/step\n",
      "\u001b[1m1/1\u001b[0m \u001b[32m━━━━━━━━━━━━━━━━━━━━\u001b[0m\u001b[37m\u001b[0m \u001b[1m1s\u001b[0m 1s/step\n",
      "\u001b[1m1/1\u001b[0m \u001b[32m━━━━━━━━━━━━━━━━━━━━\u001b[0m\u001b[37m\u001b[0m \u001b[1m2s\u001b[0m 2s/step\n",
      "\u001b[1m1/1\u001b[0m \u001b[32m━━━━━━━━━━━━━━━━━━━━\u001b[0m\u001b[37m\u001b[0m \u001b[1m1s\u001b[0m 1s/step\n",
      "\u001b[1m1/1\u001b[0m \u001b[32m━━━━━━━━━━━━━━━━━━━━\u001b[0m\u001b[37m\u001b[0m \u001b[1m2s\u001b[0m 2s/step\n",
      "\u001b[1m1/1\u001b[0m \u001b[32m━━━━━━━━━━━━━━━━━━━━\u001b[0m\u001b[37m\u001b[0m \u001b[1m1s\u001b[0m 1s/step\n",
      "\u001b[1m1/1\u001b[0m \u001b[32m━━━━━━━━━━━━━━━━━━━━\u001b[0m\u001b[37m\u001b[0m \u001b[1m1s\u001b[0m 1s/step\n",
      "\u001b[1m1/1\u001b[0m \u001b[32m━━━━━━━━━━━━━━━━━━━━\u001b[0m\u001b[37m\u001b[0m \u001b[1m1s\u001b[0m 1s/step\n",
      "\u001b[1m1/1\u001b[0m \u001b[32m━━━━━━━━━━━━━━━━━━━━\u001b[0m\u001b[37m\u001b[0m \u001b[1m2s\u001b[0m 2s/step\n",
      "\u001b[1m1/1\u001b[0m \u001b[32m━━━━━━━━━━━━━━━━━━━━\u001b[0m\u001b[37m\u001b[0m \u001b[1m1s\u001b[0m 1s/step\n",
      "\u001b[1m1/1\u001b[0m \u001b[32m━━━━━━━━━━━━━━━━━━━━\u001b[0m\u001b[37m\u001b[0m \u001b[1m2s\u001b[0m 2s/step\n",
      "\u001b[1m1/1\u001b[0m \u001b[32m━━━━━━━━━━━━━━━━━━━━\u001b[0m\u001b[37m\u001b[0m \u001b[1m1s\u001b[0m 1s/step\n",
      "\u001b[1m1/1\u001b[0m \u001b[32m━━━━━━━━━━━━━━━━━━━━\u001b[0m\u001b[37m\u001b[0m \u001b[1m2s\u001b[0m 2s/step\n",
      "\u001b[1m1/1\u001b[0m \u001b[32m━━━━━━━━━━━━━━━━━━━━\u001b[0m\u001b[37m\u001b[0m \u001b[1m1s\u001b[0m 1s/step\n",
      "\u001b[1m1/1\u001b[0m \u001b[32m━━━━━━━━━━━━━━━━━━━━\u001b[0m\u001b[37m\u001b[0m \u001b[1m2s\u001b[0m 2s/step\n",
      "\u001b[1m1/1\u001b[0m \u001b[32m━━━━━━━━━━━━━━━━━━━━\u001b[0m\u001b[37m\u001b[0m \u001b[1m2s\u001b[0m 2s/step\n",
      "\u001b[1m1/1\u001b[0m \u001b[32m━━━━━━━━━━━━━━━━━━━━\u001b[0m\u001b[37m\u001b[0m \u001b[1m1s\u001b[0m 1s/step\n",
      "\u001b[1m1/1\u001b[0m \u001b[32m━━━━━━━━━━━━━━━━━━━━\u001b[0m\u001b[37m\u001b[0m \u001b[1m2s\u001b[0m 2s/step\n",
      "\u001b[1m1/1\u001b[0m \u001b[32m━━━━━━━━━━━━━━━━━━━━\u001b[0m\u001b[37m\u001b[0m \u001b[1m1s\u001b[0m 1s/step\n",
      "\u001b[1m1/1\u001b[0m \u001b[32m━━━━━━━━━━━━━━━━━━━━\u001b[0m\u001b[37m\u001b[0m \u001b[1m2s\u001b[0m 2s/step\n",
      "\u001b[1m1/1\u001b[0m \u001b[32m━━━━━━━━━━━━━━━━━━━━\u001b[0m\u001b[37m\u001b[0m \u001b[1m1s\u001b[0m 1s/step\n",
      "\u001b[1m1/1\u001b[0m \u001b[32m━━━━━━━━━━━━━━━━━━━━\u001b[0m\u001b[37m\u001b[0m \u001b[1m1s\u001b[0m 1s/step\n",
      "\u001b[1m1/1\u001b[0m \u001b[32m━━━━━━━━━━━━━━━━━━━━\u001b[0m\u001b[37m\u001b[0m \u001b[1m1s\u001b[0m 1s/step\n",
      "\u001b[1m1/1\u001b[0m \u001b[32m━━━━━━━━━━━━━━━━━━━━\u001b[0m\u001b[37m\u001b[0m \u001b[1m1s\u001b[0m 1s/step\n",
      "\u001b[1m1/1\u001b[0m \u001b[32m━━━━━━━━━━━━━━━━━━━━\u001b[0m\u001b[37m\u001b[0m \u001b[1m2s\u001b[0m 2s/step\n",
      "\u001b[1m1/1\u001b[0m \u001b[32m━━━━━━━━━━━━━━━━━━━━\u001b[0m\u001b[37m\u001b[0m \u001b[1m1s\u001b[0m 1s/step\n",
      "\u001b[1m1/1\u001b[0m \u001b[32m━━━━━━━━━━━━━━━━━━━━\u001b[0m\u001b[37m\u001b[0m \u001b[1m1s\u001b[0m 1s/step\n",
      "\u001b[1m1/1\u001b[0m \u001b[32m━━━━━━━━━━━━━━━━━━━━\u001b[0m\u001b[37m\u001b[0m \u001b[1m1s\u001b[0m 1s/step\n",
      "\u001b[1m1/1\u001b[0m \u001b[32m━━━━━━━━━━━━━━━━━━━━\u001b[0m\u001b[37m\u001b[0m \u001b[1m1s\u001b[0m 1s/step\n",
      "\u001b[1m1/1\u001b[0m \u001b[32m━━━━━━━━━━━━━━━━━━━━\u001b[0m\u001b[37m\u001b[0m \u001b[1m1s\u001b[0m 903ms/step\n",
      "\u001b[1m1/1\u001b[0m \u001b[32m━━━━━━━━━━━━━━━━━━━━\u001b[0m\u001b[37m\u001b[0m \u001b[1m1s\u001b[0m 1s/step\n",
      "\u001b[1m1/1\u001b[0m \u001b[32m━━━━━━━━━━━━━━━━━━━━\u001b[0m\u001b[37m\u001b[0m \u001b[1m2s\u001b[0m 2s/step\n",
      "\u001b[1m1/1\u001b[0m \u001b[32m━━━━━━━━━━━━━━━━━━━━\u001b[0m\u001b[37m\u001b[0m \u001b[1m2s\u001b[0m 2s/step\n",
      "\u001b[1m1/1\u001b[0m \u001b[32m━━━━━━━━━━━━━━━━━━━━\u001b[0m\u001b[37m\u001b[0m \u001b[1m2s\u001b[0m 2s/step\n",
      "\u001b[1m1/1\u001b[0m \u001b[32m━━━━━━━━━━━━━━━━━━━━\u001b[0m\u001b[37m\u001b[0m \u001b[1m1s\u001b[0m 1s/step\n",
      "\u001b[1m1/1\u001b[0m \u001b[32m━━━━━━━━━━━━━━━━━━━━\u001b[0m\u001b[37m\u001b[0m \u001b[1m1s\u001b[0m 1s/step\n",
      "\u001b[1m1/1\u001b[0m \u001b[32m━━━━━━━━━━━━━━━━━━━━\u001b[0m\u001b[37m\u001b[0m \u001b[1m2s\u001b[0m 2s/step\n",
      "\u001b[1m1/1\u001b[0m \u001b[32m━━━━━━━━━━━━━━━━━━━━\u001b[0m\u001b[37m\u001b[0m \u001b[1m1s\u001b[0m 946ms/step\n",
      "\u001b[1m1/1\u001b[0m \u001b[32m━━━━━━━━━━━━━━━━━━━━\u001b[0m\u001b[37m\u001b[0m \u001b[1m2s\u001b[0m 2s/step\n",
      "\u001b[1m1/1\u001b[0m \u001b[32m━━━━━━━━━━━━━━━━━━━━\u001b[0m\u001b[37m\u001b[0m \u001b[1m1s\u001b[0m 1s/step\n",
      "\u001b[1m1/1\u001b[0m \u001b[32m━━━━━━━━━━━━━━━━━━━━\u001b[0m\u001b[37m\u001b[0m \u001b[1m2s\u001b[0m 2s/step\n",
      "\u001b[1m1/1\u001b[0m \u001b[32m━━━━━━━━━━━━━━━━━━━━\u001b[0m\u001b[37m\u001b[0m \u001b[1m2s\u001b[0m 2s/step\n",
      "\u001b[1m1/1\u001b[0m \u001b[32m━━━━━━━━━━━━━━━━━━━━\u001b[0m\u001b[37m\u001b[0m \u001b[1m1s\u001b[0m 1s/step\n",
      "\u001b[1m1/1\u001b[0m \u001b[32m━━━━━━━━━━━━━━━━━━━━\u001b[0m\u001b[37m\u001b[0m \u001b[1m2s\u001b[0m 2s/step\n",
      "\u001b[1m1/1\u001b[0m \u001b[32m━━━━━━━━━━━━━━━━━━━━\u001b[0m\u001b[37m\u001b[0m \u001b[1m2s\u001b[0m 2s/step\n",
      "\u001b[1m1/1\u001b[0m \u001b[32m━━━━━━━━━━━━━━━━━━━━\u001b[0m\u001b[37m\u001b[0m \u001b[1m1s\u001b[0m 950ms/step\n",
      "\u001b[1m1/1\u001b[0m \u001b[32m━━━━━━━━━━━━━━━━━━━━\u001b[0m\u001b[37m\u001b[0m \u001b[1m1s\u001b[0m 827ms/step\n",
      "\u001b[1m1/1\u001b[0m \u001b[32m━━━━━━━━━━━━━━━━━━━━\u001b[0m\u001b[37m\u001b[0m \u001b[1m1s\u001b[0m 1s/step\n",
      "\u001b[1m1/1\u001b[0m \u001b[32m━━━━━━━━━━━━━━━━━━━━\u001b[0m\u001b[37m\u001b[0m \u001b[1m1s\u001b[0m 1s/step\n",
      "\u001b[1m1/1\u001b[0m \u001b[32m━━━━━━━━━━━━━━━━━━━━\u001b[0m\u001b[37m\u001b[0m \u001b[1m2s\u001b[0m 2s/step\n",
      "\u001b[1m1/1\u001b[0m \u001b[32m━━━━━━━━━━━━━━━━━━━━\u001b[0m\u001b[37m\u001b[0m \u001b[1m2s\u001b[0m 2s/step\n",
      "\u001b[1m1/1\u001b[0m \u001b[32m━━━━━━━━━━━━━━━━━━━━\u001b[0m\u001b[37m\u001b[0m \u001b[1m1s\u001b[0m 1s/step\n",
      "\u001b[1m1/1\u001b[0m \u001b[32m━━━━━━━━━━━━━━━━━━━━\u001b[0m\u001b[37m\u001b[0m \u001b[1m1s\u001b[0m 1s/step\n",
      "\u001b[1m1/1\u001b[0m \u001b[32m━━━━━━━━━━━━━━━━━━━━\u001b[0m\u001b[37m\u001b[0m \u001b[1m1s\u001b[0m 1s/step\n",
      "\u001b[1m1/1\u001b[0m \u001b[32m━━━━━━━━━━━━━━━━━━━━\u001b[0m\u001b[37m\u001b[0m \u001b[1m1s\u001b[0m 1s/step\n",
      "\u001b[1m1/1\u001b[0m \u001b[32m━━━━━━━━━━━━━━━━━━━━\u001b[0m\u001b[37m\u001b[0m \u001b[1m2s\u001b[0m 2s/step\n",
      "\u001b[1m1/1\u001b[0m \u001b[32m━━━━━━━━━━━━━━━━━━━━\u001b[0m\u001b[37m\u001b[0m \u001b[1m2s\u001b[0m 2s/step\n",
      "\u001b[1m1/1\u001b[0m \u001b[32m━━━━━━━━━━━━━━━━━━━━\u001b[0m\u001b[37m\u001b[0m \u001b[1m1s\u001b[0m 952ms/step\n",
      "\u001b[1m1/1\u001b[0m \u001b[32m━━━━━━━━━━━━━━━━━━━━\u001b[0m\u001b[37m\u001b[0m \u001b[1m1s\u001b[0m 1s/step\n",
      "\u001b[1m1/1\u001b[0m \u001b[32m━━━━━━━━━━━━━━━━━━━━\u001b[0m\u001b[37m\u001b[0m \u001b[1m2s\u001b[0m 2s/step\n",
      "\u001b[1m1/1\u001b[0m \u001b[32m━━━━━━━━━━━━━━━━━━━━\u001b[0m\u001b[37m\u001b[0m \u001b[1m1s\u001b[0m 1s/step\n",
      "\u001b[1m1/1\u001b[0m \u001b[32m━━━━━━━━━━━━━━━━━━━━\u001b[0m\u001b[37m\u001b[0m \u001b[1m1s\u001b[0m 1s/step\n",
      "\u001b[1m1/1\u001b[0m \u001b[32m━━━━━━━━━━━━━━━━━━━━\u001b[0m\u001b[37m\u001b[0m \u001b[1m1s\u001b[0m 1s/step\n",
      "\u001b[1m1/1\u001b[0m \u001b[32m━━━━━━━━━━━━━━━━━━━━\u001b[0m\u001b[37m\u001b[0m \u001b[1m2s\u001b[0m 2s/step\n",
      "\u001b[1m1/1\u001b[0m \u001b[32m━━━━━━━━━━━━━━━━━━━━\u001b[0m\u001b[37m\u001b[0m \u001b[1m1s\u001b[0m 988ms/step\n",
      "\u001b[1m1/1\u001b[0m \u001b[32m━━━━━━━━━━━━━━━━━━━━\u001b[0m\u001b[37m\u001b[0m \u001b[1m1s\u001b[0m 1s/step\n",
      "\u001b[1m1/1\u001b[0m \u001b[32m━━━━━━━━━━━━━━━━━━━━\u001b[0m\u001b[37m\u001b[0m \u001b[1m2s\u001b[0m 2s/step\n",
      "\u001b[1m1/1\u001b[0m \u001b[32m━━━━━━━━━━━━━━━━━━━━\u001b[0m\u001b[37m\u001b[0m \u001b[1m1s\u001b[0m 1s/step\n",
      "\u001b[1m1/1\u001b[0m \u001b[32m━━━━━━━━━━━━━━━━━━━━\u001b[0m\u001b[37m\u001b[0m \u001b[1m2s\u001b[0m 2s/step\n",
      "\u001b[1m1/1\u001b[0m \u001b[32m━━━━━━━━━━━━━━━━━━━━\u001b[0m\u001b[37m\u001b[0m \u001b[1m2s\u001b[0m 2s/step\n",
      "\u001b[1m1/1\u001b[0m \u001b[32m━━━━━━━━━━━━━━━━━━━━\u001b[0m\u001b[37m\u001b[0m \u001b[1m1s\u001b[0m 1s/step\n",
      "\u001b[1m1/1\u001b[0m \u001b[32m━━━━━━━━━━━━━━━━━━━━\u001b[0m\u001b[37m\u001b[0m \u001b[1m1s\u001b[0m 1s/step\n",
      "\u001b[1m1/1\u001b[0m \u001b[32m━━━━━━━━━━━━━━━━━━━━\u001b[0m\u001b[37m\u001b[0m \u001b[1m1s\u001b[0m 1s/step\n",
      "\u001b[1m1/1\u001b[0m \u001b[32m━━━━━━━━━━━━━━━━━━━━\u001b[0m\u001b[37m\u001b[0m \u001b[1m1s\u001b[0m 1s/step\n",
      "\u001b[1m1/1\u001b[0m \u001b[32m━━━━━━━━━━━━━━━━━━━━\u001b[0m\u001b[37m\u001b[0m \u001b[1m1s\u001b[0m 1s/step\n",
      "\u001b[1m1/1\u001b[0m \u001b[32m━━━━━━━━━━━━━━━━━━━━\u001b[0m\u001b[37m\u001b[0m \u001b[1m1s\u001b[0m 1s/step\n",
      "\u001b[1m1/1\u001b[0m \u001b[32m━━━━━━━━━━━━━━━━━━━━\u001b[0m\u001b[37m\u001b[0m \u001b[1m2s\u001b[0m 2s/step\n",
      "\u001b[1m1/1\u001b[0m \u001b[32m━━━━━━━━━━━━━━━━━━━━\u001b[0m\u001b[37m\u001b[0m \u001b[1m2s\u001b[0m 2s/step\n",
      "\u001b[1m1/1\u001b[0m \u001b[32m━━━━━━━━━━━━━━━━━━━━\u001b[0m\u001b[37m\u001b[0m \u001b[1m2s\u001b[0m 2s/step\n",
      "\u001b[1m1/1\u001b[0m \u001b[32m━━━━━━━━━━━━━━━━━━━━\u001b[0m\u001b[37m\u001b[0m \u001b[1m1s\u001b[0m 1s/step\n",
      "\u001b[1m1/1\u001b[0m \u001b[32m━━━━━━━━━━━━━━━━━━━━\u001b[0m\u001b[37m\u001b[0m \u001b[1m1s\u001b[0m 859ms/step\n",
      "\u001b[1m1/1\u001b[0m \u001b[32m━━━━━━━━━━━━━━━━━━━━\u001b[0m\u001b[37m\u001b[0m \u001b[1m1s\u001b[0m 1s/step\n",
      "\u001b[1m1/1\u001b[0m \u001b[32m━━━━━━━━━━━━━━━━━━━━\u001b[0m\u001b[37m\u001b[0m \u001b[1m2s\u001b[0m 2s/step\n",
      "\u001b[1m1/1\u001b[0m \u001b[32m━━━━━━━━━━━━━━━━━━━━\u001b[0m\u001b[37m\u001b[0m \u001b[1m1s\u001b[0m 1s/step\n",
      "\u001b[1m1/1\u001b[0m \u001b[32m━━━━━━━━━━━━━━━━━━━━\u001b[0m\u001b[37m\u001b[0m \u001b[1m1s\u001b[0m 1s/step\n",
      "\u001b[1m1/1\u001b[0m \u001b[32m━━━━━━━━━━━━━━━━━━━━\u001b[0m\u001b[37m\u001b[0m \u001b[1m1s\u001b[0m 1s/step\n",
      "\u001b[1m1/1\u001b[0m \u001b[32m━━━━━━━━━━━━━━━━━━━━\u001b[0m\u001b[37m\u001b[0m \u001b[1m2s\u001b[0m 2s/step\n",
      "\u001b[1m1/1\u001b[0m \u001b[32m━━━━━━━━━━━━━━━━━━━━\u001b[0m\u001b[37m\u001b[0m \u001b[1m1s\u001b[0m 1s/step\n",
      "\u001b[1m1/1\u001b[0m \u001b[32m━━━━━━━━━━━━━━━━━━━━\u001b[0m\u001b[37m\u001b[0m \u001b[1m2s\u001b[0m 2s/step\n",
      "\u001b[1m1/1\u001b[0m \u001b[32m━━━━━━━━━━━━━━━━━━━━\u001b[0m\u001b[37m\u001b[0m \u001b[1m2s\u001b[0m 2s/step\n",
      "\u001b[1m1/1\u001b[0m \u001b[32m━━━━━━━━━━━━━━━━━━━━\u001b[0m\u001b[37m\u001b[0m \u001b[1m1s\u001b[0m 1s/step\n",
      "\u001b[1m1/1\u001b[0m \u001b[32m━━━━━━━━━━━━━━━━━━━━\u001b[0m\u001b[37m\u001b[0m \u001b[1m1s\u001b[0m 1s/step\n",
      "\u001b[1m1/1\u001b[0m \u001b[32m━━━━━━━━━━━━━━━━━━━━\u001b[0m\u001b[37m\u001b[0m \u001b[1m1s\u001b[0m 1s/step\n",
      "\u001b[1m1/1\u001b[0m \u001b[32m━━━━━━━━━━━━━━━━━━━━\u001b[0m\u001b[37m\u001b[0m \u001b[1m1s\u001b[0m 1s/step\n",
      "\u001b[1m1/1\u001b[0m \u001b[32m━━━━━━━━━━━━━━━━━━━━\u001b[0m\u001b[37m\u001b[0m \u001b[1m1s\u001b[0m 935ms/step\n",
      "\u001b[1m1/1\u001b[0m \u001b[32m━━━━━━━━━━━━━━━━━━━━\u001b[0m\u001b[37m\u001b[0m \u001b[1m2s\u001b[0m 2s/step\n",
      "\u001b[1m1/1\u001b[0m \u001b[32m━━━━━━━━━━━━━━━━━━━━\u001b[0m\u001b[37m\u001b[0m \u001b[1m2s\u001b[0m 2s/step\n",
      "\u001b[1m1/1\u001b[0m \u001b[32m━━━━━━━━━━━━━━━━━━━━\u001b[0m\u001b[37m\u001b[0m \u001b[1m1s\u001b[0m 963ms/step\n",
      "\u001b[1m1/1\u001b[0m \u001b[32m━━━━━━━━━━━━━━━━━━━━\u001b[0m\u001b[37m\u001b[0m \u001b[1m1s\u001b[0m 879ms/step\n",
      "\u001b[1m1/1\u001b[0m \u001b[32m━━━━━━━━━━━━━━━━━━━━\u001b[0m\u001b[37m\u001b[0m \u001b[1m2s\u001b[0m 2s/step\n",
      "\u001b[1m1/1\u001b[0m \u001b[32m━━━━━━━━━━━━━━━━━━━━\u001b[0m\u001b[37m\u001b[0m \u001b[1m1s\u001b[0m 1s/step\n",
      "\u001b[1m1/1\u001b[0m \u001b[32m━━━━━━━━━━━━━━━━━━━━\u001b[0m\u001b[37m\u001b[0m \u001b[1m1s\u001b[0m 1s/step\n",
      "\u001b[1m1/1\u001b[0m \u001b[32m━━━━━━━━━━━━━━━━━━━━\u001b[0m\u001b[37m\u001b[0m \u001b[1m1s\u001b[0m 1s/step\n",
      "\u001b[1m1/1\u001b[0m \u001b[32m━━━━━━━━━━━━━━━━━━━━\u001b[0m\u001b[37m\u001b[0m \u001b[1m2s\u001b[0m 2s/step\n",
      "\u001b[1m1/1\u001b[0m \u001b[32m━━━━━━━━━━━━━━━━━━━━\u001b[0m\u001b[37m\u001b[0m \u001b[1m2s\u001b[0m 2s/step\n",
      "\u001b[1m1/1\u001b[0m \u001b[32m━━━━━━━━━━━━━━━━━━━━\u001b[0m\u001b[37m\u001b[0m \u001b[1m1s\u001b[0m 1s/step\n",
      "\u001b[1m1/1\u001b[0m \u001b[32m━━━━━━━━━━━━━━━━━━━━\u001b[0m\u001b[37m\u001b[0m \u001b[1m1s\u001b[0m 1s/step\n",
      "\u001b[1m1/1\u001b[0m \u001b[32m━━━━━━━━━━━━━━━━━━━━\u001b[0m\u001b[37m\u001b[0m \u001b[1m1s\u001b[0m 1s/step\n",
      "\u001b[1m1/1\u001b[0m \u001b[32m━━━━━━━━━━━━━━━━━━━━\u001b[0m\u001b[37m\u001b[0m \u001b[1m2s\u001b[0m 2s/step\n",
      "\u001b[1m1/1\u001b[0m \u001b[32m━━━━━━━━━━━━━━━━━━━━\u001b[0m\u001b[37m\u001b[0m \u001b[1m1s\u001b[0m 1s/step\n",
      "\u001b[1m1/1\u001b[0m \u001b[32m━━━━━━━━━━━━━━━━━━━━\u001b[0m\u001b[37m\u001b[0m \u001b[1m1s\u001b[0m 1s/step\n",
      "\u001b[1m1/1\u001b[0m \u001b[32m━━━━━━━━━━━━━━━━━━━━\u001b[0m\u001b[37m\u001b[0m \u001b[1m1s\u001b[0m 1s/step\n",
      "\u001b[1m1/1\u001b[0m \u001b[32m━━━━━━━━━━━━━━━━━━━━\u001b[0m\u001b[37m\u001b[0m \u001b[1m1s\u001b[0m 1s/step\n",
      "\u001b[1m1/1\u001b[0m \u001b[32m━━━━━━━━━━━━━━━━━━━━\u001b[0m\u001b[37m\u001b[0m \u001b[1m2s\u001b[0m 2s/step\n",
      "\u001b[1m1/1\u001b[0m \u001b[32m━━━━━━━━━━━━━━━━━━━━\u001b[0m\u001b[37m\u001b[0m \u001b[1m1s\u001b[0m 1s/step\n",
      "\u001b[1m1/1\u001b[0m \u001b[32m━━━━━━━━━━━━━━━━━━━━\u001b[0m\u001b[37m\u001b[0m \u001b[1m2s\u001b[0m 2s/step\n",
      "\u001b[1m1/1\u001b[0m \u001b[32m━━━━━━━━━━━━━━━━━━━━\u001b[0m\u001b[37m\u001b[0m \u001b[1m2s\u001b[0m 2s/step\n",
      "\u001b[1m1/1\u001b[0m \u001b[32m━━━━━━━━━━━━━━━━━━━━\u001b[0m\u001b[37m\u001b[0m \u001b[1m1s\u001b[0m 1s/step\n",
      "\u001b[1m1/1\u001b[0m \u001b[32m━━━━━━━━━━━━━━━━━━━━\u001b[0m\u001b[37m\u001b[0m \u001b[1m2s\u001b[0m 2s/step\n",
      "\u001b[1m1/1\u001b[0m \u001b[32m━━━━━━━━━━━━━━━━━━━━\u001b[0m\u001b[37m\u001b[0m \u001b[1m1s\u001b[0m 989ms/step\n",
      "\u001b[1m1/1\u001b[0m \u001b[32m━━━━━━━━━━━━━━━━━━━━\u001b[0m\u001b[37m\u001b[0m \u001b[1m1s\u001b[0m 910ms/step\n",
      "\u001b[1m1/1\u001b[0m \u001b[32m━━━━━━━━━━━━━━━━━━━━\u001b[0m\u001b[37m\u001b[0m \u001b[1m1s\u001b[0m 1s/step\n",
      "\u001b[1m1/1\u001b[0m \u001b[32m━━━━━━━━━━━━━━━━━━━━\u001b[0m\u001b[37m\u001b[0m \u001b[1m2s\u001b[0m 2s/step\n",
      "\u001b[1m1/1\u001b[0m \u001b[32m━━━━━━━━━━━━━━━━━━━━\u001b[0m\u001b[37m\u001b[0m \u001b[1m1s\u001b[0m 1s/step\n",
      "\u001b[1m1/1\u001b[0m \u001b[32m━━━━━━━━━━━━━━━━━━━━\u001b[0m\u001b[37m\u001b[0m \u001b[1m2s\u001b[0m 2s/step\n",
      "\u001b[1m1/1\u001b[0m \u001b[32m━━━━━━━━━━━━━━━━━━━━\u001b[0m\u001b[37m\u001b[0m \u001b[1m1s\u001b[0m 1s/step\n",
      "\u001b[1m1/1\u001b[0m \u001b[32m━━━━━━━━━━━━━━━━━━━━\u001b[0m\u001b[37m\u001b[0m \u001b[1m1s\u001b[0m 1s/step\n",
      "\u001b[1m1/1\u001b[0m \u001b[32m━━━━━━━━━━━━━━━━━━━━\u001b[0m\u001b[37m\u001b[0m \u001b[1m2s\u001b[0m 2s/step\n",
      "\u001b[1m1/1\u001b[0m \u001b[32m━━━━━━━━━━━━━━━━━━━━\u001b[0m\u001b[37m\u001b[0m \u001b[1m2s\u001b[0m 2s/step\n",
      "\u001b[1m1/1\u001b[0m \u001b[32m━━━━━━━━━━━━━━━━━━━━\u001b[0m\u001b[37m\u001b[0m \u001b[1m1s\u001b[0m 1s/step\n",
      "\u001b[1m1/1\u001b[0m \u001b[32m━━━━━━━━━━━━━━━━━━━━\u001b[0m\u001b[37m\u001b[0m \u001b[1m1s\u001b[0m 1s/step\n",
      "\u001b[1m1/1\u001b[0m \u001b[32m━━━━━━━━━━━━━━━━━━━━\u001b[0m\u001b[37m\u001b[0m \u001b[1m2s\u001b[0m 2s/step\n",
      "\u001b[1m1/1\u001b[0m \u001b[32m━━━━━━━━━━━━━━━━━━━━\u001b[0m\u001b[37m\u001b[0m \u001b[1m2s\u001b[0m 2s/step\n",
      "\u001b[1m1/1\u001b[0m \u001b[32m━━━━━━━━━━━━━━━━━━━━\u001b[0m\u001b[37m\u001b[0m \u001b[1m1s\u001b[0m 1s/step\n",
      "\u001b[1m1/1\u001b[0m \u001b[32m━━━━━━━━━━━━━━━━━━━━\u001b[0m\u001b[37m\u001b[0m \u001b[1m2s\u001b[0m 2s/step\n",
      "\u001b[1m1/1\u001b[0m \u001b[32m━━━━━━━━━━━━━━━━━━━━\u001b[0m\u001b[37m\u001b[0m \u001b[1m1s\u001b[0m 1s/step\n",
      "\u001b[1m1/1\u001b[0m \u001b[32m━━━━━━━━━━━━━━━━━━━━\u001b[0m\u001b[37m\u001b[0m \u001b[1m1s\u001b[0m 1s/step\n",
      "\u001b[1m1/1\u001b[0m \u001b[32m━━━━━━━━━━━━━━━━━━━━\u001b[0m\u001b[37m\u001b[0m \u001b[1m2s\u001b[0m 2s/step\n",
      "\u001b[1m1/1\u001b[0m \u001b[32m━━━━━━━━━━━━━━━━━━━━\u001b[0m\u001b[37m\u001b[0m \u001b[1m1s\u001b[0m 1s/step\n",
      "\u001b[1m1/1\u001b[0m \u001b[32m━━━━━━━━━━━━━━━━━━━━\u001b[0m\u001b[37m\u001b[0m \u001b[1m2s\u001b[0m 2s/step\n",
      "\u001b[1m1/1\u001b[0m \u001b[32m━━━━━━━━━━━━━━━━━━━━\u001b[0m\u001b[37m\u001b[0m \u001b[1m2s\u001b[0m 2s/step\n",
      "\u001b[1m1/1\u001b[0m \u001b[32m━━━━━━━━━━━━━━━━━━━━\u001b[0m\u001b[37m\u001b[0m \u001b[1m2s\u001b[0m 2s/step\n",
      "\u001b[1m1/1\u001b[0m \u001b[32m━━━━━━━━━━━━━━━━━━━━\u001b[0m\u001b[37m\u001b[0m \u001b[1m1s\u001b[0m 1s/step\n",
      "\u001b[1m1/1\u001b[0m \u001b[32m━━━━━━━━━━━━━━━━━━━━\u001b[0m\u001b[37m\u001b[0m \u001b[1m1s\u001b[0m 1s/step\n",
      "\u001b[1m1/1\u001b[0m \u001b[32m━━━━━━━━━━━━━━━━━━━━\u001b[0m\u001b[37m\u001b[0m \u001b[1m2s\u001b[0m 2s/step\n",
      "\u001b[1m1/1\u001b[0m \u001b[32m━━━━━━━━━━━━━━━━━━━━\u001b[0m\u001b[37m\u001b[0m \u001b[1m1s\u001b[0m 1s/step\n",
      "\u001b[1m1/1\u001b[0m \u001b[32m━━━━━━━━━━━━━━━━━━━━\u001b[0m\u001b[37m\u001b[0m \u001b[1m2s\u001b[0m 2s/step\n",
      "\u001b[1m1/1\u001b[0m \u001b[32m━━━━━━━━━━━━━━━━━━━━\u001b[0m\u001b[37m\u001b[0m \u001b[1m2s\u001b[0m 2s/step\n",
      "\u001b[1m1/1\u001b[0m \u001b[32m━━━━━━━━━━━━━━━━━━━━\u001b[0m\u001b[37m\u001b[0m \u001b[1m1s\u001b[0m 1s/step\n",
      "\u001b[1m1/1\u001b[0m \u001b[32m━━━━━━━━━━━━━━━━━━━━\u001b[0m\u001b[37m\u001b[0m \u001b[1m1s\u001b[0m 1s/step\n",
      "\u001b[1m1/1\u001b[0m \u001b[32m━━━━━━━━━━━━━━━━━━━━\u001b[0m\u001b[37m\u001b[0m \u001b[1m1s\u001b[0m 1s/step\n",
      "\u001b[1m1/1\u001b[0m \u001b[32m━━━━━━━━━━━━━━━━━━━━\u001b[0m\u001b[37m\u001b[0m \u001b[1m1s\u001b[0m 1s/step\n",
      "\u001b[1m1/1\u001b[0m \u001b[32m━━━━━━━━━━━━━━━━━━━━\u001b[0m\u001b[37m\u001b[0m \u001b[1m2s\u001b[0m 2s/step\n",
      "\u001b[1m1/1\u001b[0m \u001b[32m━━━━━━━━━━━━━━━━━━━━\u001b[0m\u001b[37m\u001b[0m \u001b[1m2s\u001b[0m 2s/step\n",
      "\u001b[1m1/1\u001b[0m \u001b[32m━━━━━━━━━━━━━━━━━━━━\u001b[0m\u001b[37m\u001b[0m \u001b[1m1s\u001b[0m 1s/step\n",
      "\u001b[1m1/1\u001b[0m \u001b[32m━━━━━━━━━━━━━━━━━━━━\u001b[0m\u001b[37m\u001b[0m \u001b[1m1s\u001b[0m 1s/step\n",
      "\u001b[1m1/1\u001b[0m \u001b[32m━━━━━━━━━━━━━━━━━━━━\u001b[0m\u001b[37m\u001b[0m \u001b[1m1s\u001b[0m 1s/step\n",
      "\u001b[1m1/1\u001b[0m \u001b[32m━━━━━━━━━━━━━━━━━━━━\u001b[0m\u001b[37m\u001b[0m \u001b[1m1s\u001b[0m 1s/step\n",
      "\u001b[1m1/1\u001b[0m \u001b[32m━━━━━━━━━━━━━━━━━━━━\u001b[0m\u001b[37m\u001b[0m \u001b[1m1s\u001b[0m 737ms/step\n",
      "****************************************************************************************************\n",
      "Word Error Rate : 0.8205\n",
      "****************************************************************************************************\n",
      "Target : दाँडी में गाँधी जी और\n",
      "Prediction : जानी में जांधी ही और\n",
      "****************************************************************************************************\n",
      "Target : सुधार कर सकती है और अवसाद के लक्षणों को कम कर सकती है\n",
      "Prediction : ससार कर सती है और पसा के ल्सनों को कम कर पती है\n",
      "****************************************************************************************************\n",
      "\u001b[1m3125/3125\u001b[0m \u001b[32m━━━━━━━━━━━━━━━━━━━━\u001b[0m\u001b[37m\u001b[0m \u001b[1m39642s\u001b[0m 13s/step - loss: inf - val_loss: inf\n",
      "Epoch 3/5\n",
      "\u001b[1m 436/3125\u001b[0m \u001b[32m━━\u001b[0m\u001b[37m━━━━━━━━━━━━━━━━━━\u001b[0m \u001b[1m9:26:45\u001b[0m 13s/step - loss: 66.8884"
     ]
    },
    {
     "name": "stderr",
     "output_type": "stream",
     "text": [
      "2024-11-23 11:58:07.122263: W ./tensorflow/core/util/ctc/ctc_loss_calculator.h:499] No valid path found.\n",
      "2024-11-23 11:58:07.122462: W ./tensorflow/core/util/ctc/ctc_loss_calculator.h:499] No valid path found.\n",
      "2024-11-23 11:58:07.122483: W ./tensorflow/core/util/ctc/ctc_loss_calculator.h:499] No valid path found.\n",
      "2024-11-23 11:58:07.122549: W ./tensorflow/core/util/ctc/ctc_loss_calculator.h:499] No valid path found.\n",
      "2024-11-23 11:58:07.122586: W ./tensorflow/core/util/ctc/ctc_loss_calculator.h:499] No valid path found.\n",
      "2024-11-23 11:58:07.122619: W ./tensorflow/core/util/ctc/ctc_loss_calculator.h:499] No valid path found.\n",
      "2024-11-23 11:58:07.122652: W ./tensorflow/core/util/ctc/ctc_loss_calculator.h:499] No valid path found.\n",
      "2024-11-23 11:58:07.122970: W ./tensorflow/core/util/ctc/ctc_loss_calculator.h:499] No valid path found.\n",
      "2024-11-23 11:58:07.123049: W ./tensorflow/core/util/ctc/ctc_loss_calculator.h:499] No valid path found.\n",
      "2024-11-23 11:58:07.123093: W ./tensorflow/core/util/ctc/ctc_loss_calculator.h:499] No valid path found.\n",
      "2024-11-23 11:58:07.123109: W ./tensorflow/core/util/ctc/ctc_loss_calculator.h:499] No valid path found.\n",
      "2024-11-23 11:58:07.123134: W ./tensorflow/core/util/ctc/ctc_loss_calculator.h:499] No valid path found.\n",
      "2024-11-23 11:58:07.123189: W ./tensorflow/core/util/ctc/ctc_loss_calculator.h:499] No valid path found.\n"
     ]
    },
    {
     "name": "stdout",
     "output_type": "stream",
     "text": [
      "\u001b[1m 441/3125\u001b[0m \u001b[32m━━\u001b[0m\u001b[37m━━━━━━━━━━━━━━━━━━\u001b[0m \u001b[1m9:25:49\u001b[0m 13s/step - loss: inf"
     ]
    },
    {
     "name": "stderr",
     "output_type": "stream",
     "text": [
      "2024-11-23 11:59:11.585187: W ./tensorflow/core/util/ctc/ctc_loss_calculator.h:499] No valid path found.\n"
     ]
    },
    {
     "name": "stdout",
     "output_type": "stream",
     "text": [
      "\u001b[1m 502/3125\u001b[0m \u001b[32m━━━\u001b[0m\u001b[37m━━━━━━━━━━━━━━━━━\u001b[0m \u001b[1m9:07:52\u001b[0m 13s/step - loss: inf"
     ]
    },
    {
     "name": "stderr",
     "output_type": "stream",
     "text": [
      "2024-11-23 12:11:04.644438: W ./tensorflow/core/util/ctc/ctc_loss_calculator.h:499] No valid path found.\n"
     ]
    },
    {
     "name": "stdout",
     "output_type": "stream",
     "text": [
      "\u001b[1m 517/3125\u001b[0m \u001b[32m━━━\u001b[0m\u001b[37m━━━━━━━━━━━━━━━━━\u001b[0m \u001b[1m9:05:11\u001b[0m 13s/step - loss: inf"
     ]
    },
    {
     "name": "stderr",
     "output_type": "stream",
     "text": [
      "2024-11-23 12:14:17.880390: W ./tensorflow/core/util/ctc/ctc_loss_calculator.h:499] No valid path found.\n",
      "2024-11-23 12:14:17.880436: W ./tensorflow/core/util/ctc/ctc_loss_calculator.h:499] No valid path found.\n",
      "2024-11-23 12:14:17.880513: W ./tensorflow/core/util/ctc/ctc_loss_calculator.h:499] No valid path found.\n",
      "2024-11-23 12:14:17.880534: W ./tensorflow/core/util/ctc/ctc_loss_calculator.h:499] No valid path found.\n"
     ]
    },
    {
     "name": "stdout",
     "output_type": "stream",
     "text": [
      "\u001b[1m 857/3125\u001b[0m \u001b[32m━━━━━\u001b[0m\u001b[37m━━━━━━━━━━━━━━━\u001b[0m \u001b[1m7:52:33\u001b[0m 13s/step - loss: inf"
     ]
    },
    {
     "name": "stderr",
     "output_type": "stream",
     "text": [
      "2024-11-23 13:24:46.859978: W ./tensorflow/core/util/ctc/ctc_loss_calculator.h:499] No valid path found.\n"
     ]
    },
    {
     "name": "stdout",
     "output_type": "stream",
     "text": [
      "\u001b[1m 906/3125\u001b[0m \u001b[32m━━━━━\u001b[0m\u001b[37m━━━━━━━━━━━━━━━\u001b[0m \u001b[1m7:39:56\u001b[0m 12s/step - loss: inf"
     ]
    },
    {
     "name": "stderr",
     "output_type": "stream",
     "text": [
      "2024-11-23 13:34:01.008943: W ./tensorflow/core/util/ctc/ctc_loss_calculator.h:499] No valid path found.\n",
      "2024-11-23 13:34:01.009003: W ./tensorflow/core/util/ctc/ctc_loss_calculator.h:499] No valid path found.\n",
      "2024-11-23 13:34:01.009033: W ./tensorflow/core/util/ctc/ctc_loss_calculator.h:499] No valid path found.\n",
      "2024-11-23 13:34:01.009065: W ./tensorflow/core/util/ctc/ctc_loss_calculator.h:499] No valid path found.\n",
      "2024-11-23 13:34:01.009108: W ./tensorflow/core/util/ctc/ctc_loss_calculator.h:499] No valid path found.\n",
      "2024-11-23 13:34:01.009154: W ./tensorflow/core/util/ctc/ctc_loss_calculator.h:499] No valid path found.\n",
      "2024-11-23 13:34:01.009183: W ./tensorflow/core/util/ctc/ctc_loss_calculator.h:499] No valid path found.\n",
      "2024-11-23 13:34:01.009215: W ./tensorflow/core/util/ctc/ctc_loss_calculator.h:499] No valid path found.\n",
      "2024-11-23 13:34:01.009235: W ./tensorflow/core/util/ctc/ctc_loss_calculator.h:499] No valid path found.\n",
      "2024-11-23 13:34:01.009256: W ./tensorflow/core/util/ctc/ctc_loss_calculator.h:499] No valid path found.\n",
      "2024-11-23 13:34:01.009414: W ./tensorflow/core/util/ctc/ctc_loss_calculator.h:499] No valid path found.\n"
     ]
    },
    {
     "name": "stdout",
     "output_type": "stream",
     "text": [
      "\u001b[1m 951/3125\u001b[0m \u001b[32m━━━━━━\u001b[0m\u001b[37m━━━━━━━━━━━━━━\u001b[0m \u001b[1m7:29:12\u001b[0m 12s/step - loss: inf"
     ]
    },
    {
     "name": "stderr",
     "output_type": "stream",
     "text": [
      "2024-11-23 13:42:43.486920: W ./tensorflow/core/util/ctc/ctc_loss_calculator.h:499] No valid path found.\n",
      "2024-11-23 13:42:43.487004: W ./tensorflow/core/util/ctc/ctc_loss_calculator.h:499] No valid path found.\n",
      "2024-11-23 13:42:43.487547: W ./tensorflow/core/util/ctc/ctc_loss_calculator.h:499] No valid path found.\n",
      "2024-11-23 13:42:43.487681: W ./tensorflow/core/util/ctc/ctc_loss_calculator.h:499] No valid path found.\n",
      "2024-11-23 13:42:43.487724: W ./tensorflow/core/util/ctc/ctc_loss_calculator.h:499] No valid path found.\n",
      "2024-11-23 13:42:43.487807: W ./tensorflow/core/util/ctc/ctc_loss_calculator.h:499] No valid path found.\n",
      "2024-11-23 13:42:43.487836: W ./tensorflow/core/util/ctc/ctc_loss_calculator.h:499] No valid path found.\n"
     ]
    },
    {
     "name": "stdout",
     "output_type": "stream",
     "text": [
      "\u001b[1m1101/3125\u001b[0m \u001b[32m━━━━━━━\u001b[0m\u001b[37m━━━━━━━━━━━━━\u001b[0m \u001b[1m6:56:02\u001b[0m 12s/step - loss: inf"
     ]
    },
    {
     "name": "stderr",
     "output_type": "stream",
     "text": [
      "2024-11-23 14:12:32.037061: W ./tensorflow/core/util/ctc/ctc_loss_calculator.h:499] No valid path found.\n",
      "2024-11-23 14:12:32.037553: W ./tensorflow/core/util/ctc/ctc_loss_calculator.h:499] No valid path found.\n"
     ]
    },
    {
     "name": "stdout",
     "output_type": "stream",
     "text": [
      "\u001b[1m1173/3125\u001b[0m \u001b[32m━━━━━━━\u001b[0m\u001b[37m━━━━━━━━━━━━━\u001b[0m \u001b[1m6:40:09\u001b[0m 12s/step - loss: inf"
     ]
    },
    {
     "name": "stderr",
     "output_type": "stream",
     "text": [
      "2024-11-23 14:26:41.513027: W ./tensorflow/core/util/ctc/ctc_loss_calculator.h:499] No valid path found.\n",
      "2024-11-23 14:26:41.513081: W ./tensorflow/core/util/ctc/ctc_loss_calculator.h:499] No valid path found.\n",
      "2024-11-23 14:26:41.513101: W ./tensorflow/core/util/ctc/ctc_loss_calculator.h:499] No valid path found.\n"
     ]
    },
    {
     "name": "stdout",
     "output_type": "stream",
     "text": [
      "\u001b[1m1212/3125\u001b[0m \u001b[32m━━━━━━━\u001b[0m\u001b[37m━━━━━━━━━━━━━\u001b[0m \u001b[1m6:31:51\u001b[0m 12s/step - loss: inf"
     ]
    },
    {
     "name": "stderr",
     "output_type": "stream",
     "text": [
      "2024-11-23 14:34:29.466163: W ./tensorflow/core/util/ctc/ctc_loss_calculator.h:499] No valid path found.\n"
     ]
    },
    {
     "name": "stdout",
     "output_type": "stream",
     "text": [
      "\u001b[1m1239/3125\u001b[0m \u001b[32m━━━━━━━\u001b[0m\u001b[37m━━━━━━━━━━━━━\u001b[0m \u001b[1m6:25:18\u001b[0m 12s/step - loss: inf"
     ]
    },
    {
     "name": "stderr",
     "output_type": "stream",
     "text": [
      "2024-11-23 14:39:21.510766: W ./tensorflow/core/util/ctc/ctc_loss_calculator.h:499] No valid path found.\n",
      "2024-11-23 14:39:21.510827: W ./tensorflow/core/util/ctc/ctc_loss_calculator.h:499] No valid path found.\n",
      "2024-11-23 14:39:21.510851: W ./tensorflow/core/util/ctc/ctc_loss_calculator.h:499] No valid path found.\n",
      "2024-11-23 14:39:21.510997: W ./tensorflow/core/util/ctc/ctc_loss_calculator.h:499] No valid path found.\n",
      "2024-11-23 14:39:21.511018: W ./tensorflow/core/util/ctc/ctc_loss_calculator.h:499] No valid path found.\n",
      "2024-11-23 14:39:21.511043: W ./tensorflow/core/util/ctc/ctc_loss_calculator.h:499] No valid path found.\n",
      "2024-11-23 14:39:21.511096: W ./tensorflow/core/util/ctc/ctc_loss_calculator.h:499] No valid path found.\n",
      "2024-11-23 14:39:21.511127: W ./tensorflow/core/util/ctc/ctc_loss_calculator.h:499] No valid path found.\n"
     ]
    },
    {
     "name": "stdout",
     "output_type": "stream",
     "text": [
      "\u001b[1m1480/3125\u001b[0m \u001b[32m━━━━━━━━━\u001b[0m\u001b[37m━━━━━━━━━━━\u001b[0m \u001b[1m5:32:32\u001b[0m 12s/step - loss: inf"
     ]
    },
    {
     "name": "stderr",
     "output_type": "stream",
     "text": [
      "2024-11-23 15:25:24.722215: W ./tensorflow/core/util/ctc/ctc_loss_calculator.h:499] No valid path found.\n",
      "2024-11-23 15:25:24.722276: W ./tensorflow/core/util/ctc/ctc_loss_calculator.h:499] No valid path found.\n",
      "2024-11-23 15:25:24.722327: W ./tensorflow/core/util/ctc/ctc_loss_calculator.h:499] No valid path found.\n",
      "2024-11-23 15:25:24.722364: W ./tensorflow/core/util/ctc/ctc_loss_calculator.h:499] No valid path found.\n",
      "2024-11-23 15:25:24.722387: W ./tensorflow/core/util/ctc/ctc_loss_calculator.h:499] No valid path found.\n",
      "2024-11-23 15:25:24.722409: W ./tensorflow/core/util/ctc/ctc_loss_calculator.h:499] No valid path found.\n",
      "2024-11-23 15:25:24.722433: W ./tensorflow/core/util/ctc/ctc_loss_calculator.h:499] No valid path found.\n",
      "2024-11-23 15:25:24.722459: W ./tensorflow/core/util/ctc/ctc_loss_calculator.h:499] No valid path found.\n",
      "2024-11-23 15:25:24.722482: W ./tensorflow/core/util/ctc/ctc_loss_calculator.h:499] No valid path found.\n",
      "2024-11-23 15:25:24.722501: W ./tensorflow/core/util/ctc/ctc_loss_calculator.h:499] No valid path found.\n",
      "2024-11-23 15:25:24.722523: W ./tensorflow/core/util/ctc/ctc_loss_calculator.h:499] No valid path found.\n"
     ]
    },
    {
     "name": "stdout",
     "output_type": "stream",
     "text": [
      "\u001b[1m1642/3125\u001b[0m \u001b[32m━━━━━━━━━━\u001b[0m\u001b[37m━━━━━━━━━━\u001b[0m \u001b[1m4:58:20\u001b[0m 12s/step - loss: inf"
     ]
    },
    {
     "name": "stderr",
     "output_type": "stream",
     "text": [
      "2024-11-23 15:56:32.905495: W ./tensorflow/core/util/ctc/ctc_loss_calculator.h:499] No valid path found.\n"
     ]
    },
    {
     "name": "stdout",
     "output_type": "stream",
     "text": [
      "\u001b[1m1740/3125\u001b[0m \u001b[32m━━━━━━━━━━━\u001b[0m\u001b[37m━━━━━━━━━\u001b[0m \u001b[1m4:38:30\u001b[0m 12s/step - loss: inf"
     ]
    },
    {
     "name": "stderr",
     "output_type": "stream",
     "text": [
      "2024-11-23 16:16:06.673462: W ./tensorflow/core/util/ctc/ctc_loss_calculator.h:499] No valid path found.\n"
     ]
    },
    {
     "name": "stdout",
     "output_type": "stream",
     "text": [
      "\u001b[1m1841/3125\u001b[0m \u001b[32m━━━━━━━━━━━\u001b[0m\u001b[37m━━━━━━━━━\u001b[0m \u001b[1m4:17:48\u001b[0m 12s/step - loss: inf"
     ]
    },
    {
     "name": "stderr",
     "output_type": "stream",
     "text": [
      "2024-11-23 16:35:51.565974: W ./tensorflow/core/util/ctc/ctc_loss_calculator.h:499] No valid path found.\n",
      "2024-11-23 16:35:51.566038: W ./tensorflow/core/util/ctc/ctc_loss_calculator.h:499] No valid path found.\n",
      "2024-11-23 16:35:51.566084: W ./tensorflow/core/util/ctc/ctc_loss_calculator.h:499] No valid path found.\n"
     ]
    },
    {
     "name": "stdout",
     "output_type": "stream",
     "text": [
      "\u001b[1m1906/3125\u001b[0m \u001b[32m━━━━━━━━━━━━\u001b[0m\u001b[37m━━━━━━━━\u001b[0m \u001b[1m4:04:13\u001b[0m 12s/step - loss: inf"
     ]
    },
    {
     "name": "stderr",
     "output_type": "stream",
     "text": [
      "2024-11-23 16:48:05.498637: W ./tensorflow/core/util/ctc/ctc_loss_calculator.h:499] No valid path found.\n",
      "2024-11-23 16:48:05.499356: W ./tensorflow/core/util/ctc/ctc_loss_calculator.h:499] No valid path found.\n"
     ]
    },
    {
     "name": "stdout",
     "output_type": "stream",
     "text": [
      "\u001b[1m1934/3125\u001b[0m \u001b[32m━━━━━━━━━━━━\u001b[0m\u001b[37m━━━━━━━━\u001b[0m \u001b[1m3:58:31\u001b[0m 12s/step - loss: inf"
     ]
    },
    {
     "name": "stderr",
     "output_type": "stream",
     "text": [
      "2024-11-23 16:53:32.963256: W ./tensorflow/core/util/ctc/ctc_loss_calculator.h:499] No valid path found.\n"
     ]
    },
    {
     "name": "stdout",
     "output_type": "stream",
     "text": [
      "\u001b[1m2027/3125\u001b[0m \u001b[32m━━━━━━━━━━━━\u001b[0m\u001b[37m━━━━━━━━\u001b[0m \u001b[1m3:39:28\u001b[0m 12s/step - loss: inf"
     ]
    },
    {
     "name": "stderr",
     "output_type": "stream",
     "text": [
      "2024-11-23 17:11:24.594656: W ./tensorflow/core/util/ctc/ctc_loss_calculator.h:499] No valid path found.\n",
      "2024-11-23 17:11:24.594867: W ./tensorflow/core/util/ctc/ctc_loss_calculator.h:499] No valid path found.\n"
     ]
    },
    {
     "name": "stdout",
     "output_type": "stream",
     "text": [
      "\u001b[1m2205/3125\u001b[0m \u001b[32m━━━━━━━━━━━━━━\u001b[0m\u001b[37m━━━━━━\u001b[0m \u001b[1m3:03:18\u001b[0m 12s/step - loss: inf"
     ]
    },
    {
     "name": "stderr",
     "output_type": "stream",
     "text": [
      "2024-11-23 17:45:34.797850: W ./tensorflow/core/util/ctc/ctc_loss_calculator.h:499] No valid path found.\n",
      "2024-11-23 17:45:34.797960: W ./tensorflow/core/util/ctc/ctc_loss_calculator.h:499] No valid path found.\n",
      "2024-11-23 17:45:34.798010: W ./tensorflow/core/util/ctc/ctc_loss_calculator.h:499] No valid path found.\n",
      "2024-11-23 17:45:34.798029: W ./tensorflow/core/util/ctc/ctc_loss_calculator.h:499] No valid path found.\n",
      "2024-11-23 17:45:34.798497: W ./tensorflow/core/util/ctc/ctc_loss_calculator.h:499] No valid path found.\n",
      "2024-11-23 17:45:34.798581: W ./tensorflow/core/util/ctc/ctc_loss_calculator.h:499] No valid path found.\n"
     ]
    },
    {
     "name": "stdout",
     "output_type": "stream",
     "text": [
      "\u001b[1m2626/3125\u001b[0m \u001b[32m━━━━━━━━━━━━━━━━\u001b[0m\u001b[37m━━━━\u001b[0m \u001b[1m1:39:40\u001b[0m 12s/step - loss: inf"
     ]
    },
    {
     "name": "stderr",
     "output_type": "stream",
     "text": [
      "2024-11-23 19:10:46.292370: W ./tensorflow/core/util/ctc/ctc_loss_calculator.h:499] No valid path found.\n",
      "2024-11-23 19:10:46.292417: W ./tensorflow/core/util/ctc/ctc_loss_calculator.h:499] No valid path found.\n",
      "2024-11-23 19:10:46.292441: W ./tensorflow/core/util/ctc/ctc_loss_calculator.h:499] No valid path found.\n",
      "2024-11-23 19:10:46.292459: W ./tensorflow/core/util/ctc/ctc_loss_calculator.h:499] No valid path found.\n",
      "2024-11-23 19:10:46.292585: W ./tensorflow/core/util/ctc/ctc_loss_calculator.h:499] No valid path found.\n",
      "2024-11-23 19:10:46.292607: W ./tensorflow/core/util/ctc/ctc_loss_calculator.h:499] No valid path found.\n",
      "2024-11-23 19:10:46.292623: W ./tensorflow/core/util/ctc/ctc_loss_calculator.h:499] No valid path found.\n",
      "2024-11-23 19:10:46.292646: W ./tensorflow/core/util/ctc/ctc_loss_calculator.h:499] No valid path found.\n"
     ]
    },
    {
     "name": "stdout",
     "output_type": "stream",
     "text": [
      "\u001b[1m2789/3125\u001b[0m \u001b[32m━━━━━━━━━━━━━━━━━\u001b[0m\u001b[37m━━━\u001b[0m \u001b[1m1:07:20\u001b[0m 12s/step - loss: inf"
     ]
    },
    {
     "name": "stderr",
     "output_type": "stream",
     "text": [
      "2024-11-23 19:45:09.791228: W ./tensorflow/core/util/ctc/ctc_loss_calculator.h:499] No valid path found.\n",
      "2024-11-23 19:45:09.791304: W ./tensorflow/core/util/ctc/ctc_loss_calculator.h:499] No valid path found.\n",
      "2024-11-23 19:45:09.791463: W ./tensorflow/core/util/ctc/ctc_loss_calculator.h:499] No valid path found.\n"
     ]
    },
    {
     "name": "stdout",
     "output_type": "stream",
     "text": [
      "\u001b[1m2824/3125\u001b[0m \u001b[32m━━━━━━━━━━━━━━━━━━\u001b[0m\u001b[37m━━\u001b[0m \u001b[1m1:00:20\u001b[0m 12s/step - loss: inf"
     ]
    },
    {
     "name": "stderr",
     "output_type": "stream",
     "text": [
      "2024-11-23 19:52:19.593292: W ./tensorflow/core/util/ctc/ctc_loss_calculator.h:499] No valid path found.\n",
      "2024-11-23 19:52:19.593392: W ./tensorflow/core/util/ctc/ctc_loss_calculator.h:499] No valid path found.\n",
      "2024-11-23 19:52:19.593435: W ./tensorflow/core/util/ctc/ctc_loss_calculator.h:499] No valid path found.\n"
     ]
    },
    {
     "name": "stdout",
     "output_type": "stream",
     "text": [
      "\u001b[1m2856/3125\u001b[0m \u001b[32m━━━━━━━━━━━━━━━━━━\u001b[0m\u001b[37m━━\u001b[0m \u001b[1m53:53\u001b[0m 12s/step - loss: inf"
     ]
    },
    {
     "name": "stderr",
     "output_type": "stream",
     "text": [
      "2024-11-23 19:58:29.370196: W ./tensorflow/core/util/ctc/ctc_loss_calculator.h:499] No valid path found.\n"
     ]
    },
    {
     "name": "stdout",
     "output_type": "stream",
     "text": [
      "\u001b[1m2988/3125\u001b[0m \u001b[32m━━━━━━━━━━━━━━━━━━━\u001b[0m\u001b[37m━\u001b[0m \u001b[1m27:30\u001b[0m 12s/step - loss: inf"
     ]
    },
    {
     "name": "stderr",
     "output_type": "stream",
     "text": [
      "2024-11-23 20:26:20.273226: W ./tensorflow/core/util/ctc/ctc_loss_calculator.h:499] No valid path found.\n",
      "2024-11-23 20:26:20.273303: W ./tensorflow/core/util/ctc/ctc_loss_calculator.h:499] No valid path found.\n",
      "2024-11-23 20:26:20.273332: W ./tensorflow/core/util/ctc/ctc_loss_calculator.h:499] No valid path found.\n",
      "2024-11-23 20:26:20.273358: W ./tensorflow/core/util/ctc/ctc_loss_calculator.h:499] No valid path found.\n",
      "2024-11-23 20:26:20.273403: W ./tensorflow/core/util/ctc/ctc_loss_calculator.h:499] No valid path found.\n"
     ]
    },
    {
     "name": "stdout",
     "output_type": "stream",
     "text": [
      "\u001b[1m3009/3125\u001b[0m \u001b[32m━━━━━━━━━━━━━━━━━━━\u001b[0m\u001b[37m━\u001b[0m \u001b[1m23:17\u001b[0m 12s/step - loss: inf"
     ]
    },
    {
     "name": "stderr",
     "output_type": "stream",
     "text": [
      "2024-11-23 20:30:30.963874: W ./tensorflow/core/util/ctc/ctc_loss_calculator.h:499] No valid path found.\n",
      "2024-11-23 20:30:30.963964: W ./tensorflow/core/util/ctc/ctc_loss_calculator.h:499] No valid path found.\n",
      "2024-11-23 20:30:30.964016: W ./tensorflow/core/util/ctc/ctc_loss_calculator.h:499] No valid path found.\n",
      "2024-11-23 20:30:30.964051: W ./tensorflow/core/util/ctc/ctc_loss_calculator.h:499] No valid path found.\n",
      "2024-11-23 20:30:30.964167: W ./tensorflow/core/util/ctc/ctc_loss_calculator.h:499] No valid path found.\n",
      "2024-11-23 20:30:30.964323: W ./tensorflow/core/util/ctc/ctc_loss_calculator.h:499] No valid path found.\n",
      "2024-11-23 20:30:30.964344: W ./tensorflow/core/util/ctc/ctc_loss_calculator.h:499] No valid path found.\n",
      "2024-11-23 20:30:30.964363: W ./tensorflow/core/util/ctc/ctc_loss_calculator.h:499] No valid path found.\n",
      "2024-11-23 20:30:30.964830: W ./tensorflow/core/util/ctc/ctc_loss_calculator.h:499] No valid path found.\n",
      "2024-11-23 20:30:30.964850: W ./tensorflow/core/util/ctc/ctc_loss_calculator.h:499] No valid path found.\n",
      "2024-11-23 20:30:30.964906: W ./tensorflow/core/util/ctc/ctc_loss_calculator.h:499] No valid path found.\n",
      "2024-11-23 20:30:30.964944: W ./tensorflow/core/util/ctc/ctc_loss_calculator.h:499] No valid path found.\n"
     ]
    },
    {
     "name": "stdout",
     "output_type": "stream",
     "text": [
      "\u001b[1m3124/3125\u001b[0m \u001b[32m━━━━━━━━━━━━━━━━━━━\u001b[0m\u001b[37m━\u001b[0m \u001b[1m12s\u001b[0m 12s/step - loss: inf"
     ]
    },
    {
     "name": "stderr",
     "output_type": "stream",
     "text": [
      "2024-11-23 20:54:29.783350: W ./tensorflow/core/util/ctc/ctc_loss_calculator.h:499] No valid path found.\n",
      "2024-11-23 20:54:29.783402: W ./tensorflow/core/util/ctc/ctc_loss_calculator.h:499] No valid path found.\n",
      "2024-11-23 20:54:29.783450: W ./tensorflow/core/util/ctc/ctc_loss_calculator.h:499] No valid path found.\n",
      "2024-11-23 20:54:29.783479: W ./tensorflow/core/util/ctc/ctc_loss_calculator.h:499] No valid path found.\n",
      "2024-11-23 20:54:29.783501: W ./tensorflow/core/util/ctc/ctc_loss_calculator.h:499] No valid path found.\n",
      "2024-11-23 20:54:29.783528: W ./tensorflow/core/util/ctc/ctc_loss_calculator.h:499] No valid path found.\n",
      "2024-11-23 20:54:29.783551: W ./tensorflow/core/util/ctc/ctc_loss_calculator.h:499] No valid path found.\n",
      "2024-11-23 20:54:29.783571: W ./tensorflow/core/util/ctc/ctc_loss_calculator.h:499] No valid path found.\n",
      "2024-11-23 20:54:29.783593: W ./tensorflow/core/util/ctc/ctc_loss_calculator.h:499] No valid path found.\n",
      "2024-11-23 20:54:29.783662: W ./tensorflow/core/util/ctc/ctc_loss_calculator.h:499] No valid path found.\n",
      "2024-11-23 20:54:29.783681: W ./tensorflow/core/util/ctc/ctc_loss_calculator.h:499] No valid path found.\n",
      "2024-11-23 20:54:29.783701: W ./tensorflow/core/util/ctc/ctc_loss_calculator.h:499] No valid path found.\n",
      "2024-11-23 20:54:29.783721: W ./tensorflow/core/util/ctc/ctc_loss_calculator.h:499] No valid path found.\n",
      "2024-11-23 20:54:29.783741: W ./tensorflow/core/util/ctc/ctc_loss_calculator.h:499] No valid path found.\n",
      "2024-11-23 20:54:29.783768: W ./tensorflow/core/util/ctc/ctc_loss_calculator.h:499] No valid path found.\n"
     ]
    },
    {
     "name": "stdout",
     "output_type": "stream",
     "text": [
      "\u001b[1m3125/3125\u001b[0m \u001b[32m━━━━━━━━━━━━━━━━━━━━\u001b[0m\u001b[37m\u001b[0m \u001b[1m0s\u001b[0m 12s/step - loss: inf "
     ]
    },
    {
     "name": "stderr",
     "output_type": "stream",
     "text": [
      "2024-11-23 20:56:00.079303: W ./tensorflow/core/util/ctc/ctc_loss_calculator.h:499] No valid path found.\n",
      "2024-11-23 20:58:59.711826: W ./tensorflow/core/util/ctc/ctc_loss_calculator.h:499] No valid path found.\n",
      "2024-11-23 20:58:59.711883: W ./tensorflow/core/util/ctc/ctc_loss_calculator.h:499] No valid path found.\n",
      "2024-11-23 20:58:59.711927: W ./tensorflow/core/util/ctc/ctc_loss_calculator.h:499] No valid path found.\n",
      "2024-11-23 20:58:59.711946: W ./tensorflow/core/util/ctc/ctc_loss_calculator.h:499] No valid path found.\n",
      "2024-11-23 20:58:59.711969: W ./tensorflow/core/util/ctc/ctc_loss_calculator.h:499] No valid path found.\n",
      "2024-11-23 20:58:59.711992: W ./tensorflow/core/util/ctc/ctc_loss_calculator.h:499] No valid path found.\n",
      "2024-11-23 20:58:59.712008: W ./tensorflow/core/util/ctc/ctc_loss_calculator.h:499] No valid path found.\n",
      "2024-11-23 20:58:59.712030: W ./tensorflow/core/util/ctc/ctc_loss_calculator.h:499] No valid path found.\n",
      "2024-11-23 20:58:59.712049: W ./tensorflow/core/util/ctc/ctc_loss_calculator.h:499] No valid path found.\n",
      "2024-11-23 20:58:59.712070: W ./tensorflow/core/util/ctc/ctc_loss_calculator.h:499] No valid path found.\n",
      "2024-11-23 20:58:59.712087: W ./tensorflow/core/util/ctc/ctc_loss_calculator.h:499] No valid path found.\n",
      "2024-11-23 20:58:59.712107: W ./tensorflow/core/util/ctc/ctc_loss_calculator.h:499] No valid path found.\n",
      "2024-11-23 20:58:59.712126: W ./tensorflow/core/util/ctc/ctc_loss_calculator.h:499] No valid path found.\n"
     ]
    },
    {
     "name": "stdout",
     "output_type": "stream",
     "text": [
      "\u001b[1m1/1\u001b[0m \u001b[32m━━━━━━━━━━━━━━━━━━━━\u001b[0m\u001b[37m\u001b[0m \u001b[1m1s\u001b[0m 1s/step\n",
      "\u001b[1m1/1\u001b[0m \u001b[32m━━━━━━━━━━━━━━━━━━━━\u001b[0m\u001b[37m\u001b[0m \u001b[1m1s\u001b[0m 1s/step\n",
      "\u001b[1m1/1\u001b[0m \u001b[32m━━━━━━━━━━━━━━━━━━━━\u001b[0m\u001b[37m\u001b[0m \u001b[1m1s\u001b[0m 1s/step\n",
      "\u001b[1m1/1\u001b[0m \u001b[32m━━━━━━━━━━━━━━━━━━━━\u001b[0m\u001b[37m\u001b[0m \u001b[1m1s\u001b[0m 1s/step\n",
      "\u001b[1m1/1\u001b[0m \u001b[32m━━━━━━━━━━━━━━━━━━━━\u001b[0m\u001b[37m\u001b[0m \u001b[1m1s\u001b[0m 1s/step\n",
      "\u001b[1m1/1\u001b[0m \u001b[32m━━━━━━━━━━━━━━━━━━━━\u001b[0m\u001b[37m\u001b[0m \u001b[1m1s\u001b[0m 1s/step\n",
      "\u001b[1m1/1\u001b[0m \u001b[32m━━━━━━━━━━━━━━━━━━━━\u001b[0m\u001b[37m\u001b[0m \u001b[1m3s\u001b[0m 3s/step\n",
      "\u001b[1m1/1\u001b[0m \u001b[32m━━━━━━━━━━━━━━━━━━━━\u001b[0m\u001b[37m\u001b[0m \u001b[1m2s\u001b[0m 2s/step\n",
      "\u001b[1m1/1\u001b[0m \u001b[32m━━━━━━━━━━━━━━━━━━━━\u001b[0m\u001b[37m\u001b[0m \u001b[1m1s\u001b[0m 1s/step\n",
      "\u001b[1m1/1\u001b[0m \u001b[32m━━━━━━━━━━━━━━━━━━━━\u001b[0m\u001b[37m\u001b[0m \u001b[1m1s\u001b[0m 1s/step\n",
      "\u001b[1m1/1\u001b[0m \u001b[32m━━━━━━━━━━━━━━━━━━━━\u001b[0m\u001b[37m\u001b[0m \u001b[1m2s\u001b[0m 2s/step\n",
      "\u001b[1m1/1\u001b[0m \u001b[32m━━━━━━━━━━━━━━━━━━━━\u001b[0m\u001b[37m\u001b[0m \u001b[1m1s\u001b[0m 1s/step\n",
      "\u001b[1m1/1\u001b[0m \u001b[32m━━━━━━━━━━━━━━━━━━━━\u001b[0m\u001b[37m\u001b[0m \u001b[1m1s\u001b[0m 1s/step\n",
      "\u001b[1m1/1\u001b[0m \u001b[32m━━━━━━━━━━━━━━━━━━━━\u001b[0m\u001b[37m\u001b[0m \u001b[1m1s\u001b[0m 1s/step\n",
      "\u001b[1m1/1\u001b[0m \u001b[32m━━━━━━━━━━━━━━━━━━━━\u001b[0m\u001b[37m\u001b[0m \u001b[1m1s\u001b[0m 1s/step\n",
      "\u001b[1m1/1\u001b[0m \u001b[32m━━━━━━━━━━━━━━━━━━━━\u001b[0m\u001b[37m\u001b[0m \u001b[1m1s\u001b[0m 1s/step\n",
      "\u001b[1m1/1\u001b[0m \u001b[32m━━━━━━━━━━━━━━━━━━━━\u001b[0m\u001b[37m\u001b[0m \u001b[1m1s\u001b[0m 1s/step\n",
      "\u001b[1m1/1\u001b[0m \u001b[32m━━━━━━━━━━━━━━━━━━━━\u001b[0m\u001b[37m\u001b[0m \u001b[1m1s\u001b[0m 1s/step\n",
      "\u001b[1m1/1\u001b[0m \u001b[32m━━━━━━━━━━━━━━━━━━━━\u001b[0m\u001b[37m\u001b[0m \u001b[1m1s\u001b[0m 1s/step\n",
      "\u001b[1m1/1\u001b[0m \u001b[32m━━━━━━━━━━━━━━━━━━━━\u001b[0m\u001b[37m\u001b[0m \u001b[1m1s\u001b[0m 1s/step\n",
      "\u001b[1m1/1\u001b[0m \u001b[32m━━━━━━━━━━━━━━━━━━━━\u001b[0m\u001b[37m\u001b[0m \u001b[1m1s\u001b[0m 1s/step\n",
      "\u001b[1m1/1\u001b[0m \u001b[32m━━━━━━━━━━━━━━━━━━━━\u001b[0m\u001b[37m\u001b[0m \u001b[1m1s\u001b[0m 1s/step\n",
      "\u001b[1m1/1\u001b[0m \u001b[32m━━━━━━━━━━━━━━━━━━━━\u001b[0m\u001b[37m\u001b[0m \u001b[1m2s\u001b[0m 2s/step\n",
      "\u001b[1m1/1\u001b[0m \u001b[32m━━━━━━━━━━━━━━━━━━━━\u001b[0m\u001b[37m\u001b[0m \u001b[1m1s\u001b[0m 1s/step\n",
      "\u001b[1m1/1\u001b[0m \u001b[32m━━━━━━━━━━━━━━━━━━━━\u001b[0m\u001b[37m\u001b[0m \u001b[1m2s\u001b[0m 2s/step\n",
      "\u001b[1m1/1\u001b[0m \u001b[32m━━━━━━━━━━━━━━━━━━━━\u001b[0m\u001b[37m\u001b[0m \u001b[1m1s\u001b[0m 1s/step\n",
      "\u001b[1m1/1\u001b[0m \u001b[32m━━━━━━━━━━━━━━━━━━━━\u001b[0m\u001b[37m\u001b[0m \u001b[1m1s\u001b[0m 1s/step\n",
      "\u001b[1m1/1\u001b[0m \u001b[32m━━━━━━━━━━━━━━━━━━━━\u001b[0m\u001b[37m\u001b[0m \u001b[1m1s\u001b[0m 1s/step\n",
      "\u001b[1m1/1\u001b[0m \u001b[32m━━━━━━━━━━━━━━━━━━━━\u001b[0m\u001b[37m\u001b[0m \u001b[1m2s\u001b[0m 2s/step\n",
      "\u001b[1m1/1\u001b[0m \u001b[32m━━━━━━━━━━━━━━━━━━━━\u001b[0m\u001b[37m\u001b[0m \u001b[1m2s\u001b[0m 2s/step\n",
      "\u001b[1m1/1\u001b[0m \u001b[32m━━━━━━━━━━━━━━━━━━━━\u001b[0m\u001b[37m\u001b[0m \u001b[1m1s\u001b[0m 1s/step\n",
      "\u001b[1m1/1\u001b[0m \u001b[32m━━━━━━━━━━━━━━━━━━━━\u001b[0m\u001b[37m\u001b[0m \u001b[1m2s\u001b[0m 2s/step\n",
      "\u001b[1m1/1\u001b[0m \u001b[32m━━━━━━━━━━━━━━━━━━━━\u001b[0m\u001b[37m\u001b[0m \u001b[1m2s\u001b[0m 2s/step\n",
      "\u001b[1m1/1\u001b[0m \u001b[32m━━━━━━━━━━━━━━━━━━━━\u001b[0m\u001b[37m\u001b[0m \u001b[1m1s\u001b[0m 1s/step\n",
      "\u001b[1m1/1\u001b[0m \u001b[32m━━━━━━━━━━━━━━━━━━━━\u001b[0m\u001b[37m\u001b[0m \u001b[1m2s\u001b[0m 2s/step\n",
      "\u001b[1m1/1\u001b[0m \u001b[32m━━━━━━━━━━━━━━━━━━━━\u001b[0m\u001b[37m\u001b[0m \u001b[1m1s\u001b[0m 1s/step\n",
      "\u001b[1m1/1\u001b[0m \u001b[32m━━━━━━━━━━━━━━━━━━━━\u001b[0m\u001b[37m\u001b[0m \u001b[1m1s\u001b[0m 1s/step\n",
      "\u001b[1m1/1\u001b[0m \u001b[32m━━━━━━━━━━━━━━━━━━━━\u001b[0m\u001b[37m\u001b[0m \u001b[1m2s\u001b[0m 2s/step\n",
      "\u001b[1m1/1\u001b[0m \u001b[32m━━━━━━━━━━━━━━━━━━━━\u001b[0m\u001b[37m\u001b[0m \u001b[1m2s\u001b[0m 2s/step\n",
      "\u001b[1m1/1\u001b[0m \u001b[32m━━━━━━━━━━━━━━━━━━━━\u001b[0m\u001b[37m\u001b[0m \u001b[1m2s\u001b[0m 2s/step\n",
      "\u001b[1m1/1\u001b[0m \u001b[32m━━━━━━━━━━━━━━━━━━━━\u001b[0m\u001b[37m\u001b[0m \u001b[1m1s\u001b[0m 1s/step\n",
      "\u001b[1m1/1\u001b[0m \u001b[32m━━━━━━━━━━━━━━━━━━━━\u001b[0m\u001b[37m\u001b[0m \u001b[1m1s\u001b[0m 1s/step\n",
      "\u001b[1m1/1\u001b[0m \u001b[32m━━━━━━━━━━━━━━━━━━━━\u001b[0m\u001b[37m\u001b[0m \u001b[1m1s\u001b[0m 923ms/step\n",
      "\u001b[1m1/1\u001b[0m \u001b[32m━━━━━━━━━━━━━━━━━━━━\u001b[0m\u001b[37m\u001b[0m \u001b[1m1s\u001b[0m 1s/step\n",
      "\u001b[1m1/1\u001b[0m \u001b[32m━━━━━━━━━━━━━━━━━━━━\u001b[0m\u001b[37m\u001b[0m \u001b[1m1s\u001b[0m 1s/step\n",
      "\u001b[1m1/1\u001b[0m \u001b[32m━━━━━━━━━━━━━━━━━━━━\u001b[0m\u001b[37m\u001b[0m \u001b[1m2s\u001b[0m 2s/step\n",
      "\u001b[1m1/1\u001b[0m \u001b[32m━━━━━━━━━━━━━━━━━━━━\u001b[0m\u001b[37m\u001b[0m \u001b[1m1s\u001b[0m 1s/step\n",
      "\u001b[1m1/1\u001b[0m \u001b[32m━━━━━━━━━━━━━━━━━━━━\u001b[0m\u001b[37m\u001b[0m \u001b[1m2s\u001b[0m 2s/step\n",
      "\u001b[1m1/1\u001b[0m \u001b[32m━━━━━━━━━━━━━━━━━━━━\u001b[0m\u001b[37m\u001b[0m \u001b[1m2s\u001b[0m 2s/step\n",
      "\u001b[1m1/1\u001b[0m \u001b[32m━━━━━━━━━━━━━━━━━━━━\u001b[0m\u001b[37m\u001b[0m \u001b[1m1s\u001b[0m 1s/step\n",
      "\u001b[1m1/1\u001b[0m \u001b[32m━━━━━━━━━━━━━━━━━━━━\u001b[0m\u001b[37m\u001b[0m \u001b[1m2s\u001b[0m 2s/step\n",
      "\u001b[1m1/1\u001b[0m \u001b[32m━━━━━━━━━━━━━━━━━━━━\u001b[0m\u001b[37m\u001b[0m \u001b[1m2s\u001b[0m 2s/step\n",
      "\u001b[1m1/1\u001b[0m \u001b[32m━━━━━━━━━━━━━━━━━━━━\u001b[0m\u001b[37m\u001b[0m \u001b[1m1s\u001b[0m 1s/step\n",
      "\u001b[1m1/1\u001b[0m \u001b[32m━━━━━━━━━━━━━━━━━━━━\u001b[0m\u001b[37m\u001b[0m \u001b[1m1s\u001b[0m 1s/step\n",
      "\u001b[1m1/1\u001b[0m \u001b[32m━━━━━━━━━━━━━━━━━━━━\u001b[0m\u001b[37m\u001b[0m \u001b[1m1s\u001b[0m 1s/step\n",
      "\u001b[1m1/1\u001b[0m \u001b[32m━━━━━━━━━━━━━━━━━━━━\u001b[0m\u001b[37m\u001b[0m \u001b[1m1s\u001b[0m 1s/step\n",
      "\u001b[1m1/1\u001b[0m \u001b[32m━━━━━━━━━━━━━━━━━━━━\u001b[0m\u001b[37m\u001b[0m \u001b[1m1s\u001b[0m 1s/step\n",
      "\u001b[1m1/1\u001b[0m \u001b[32m━━━━━━━━━━━━━━━━━━━━\u001b[0m\u001b[37m\u001b[0m \u001b[1m1s\u001b[0m 1s/step\n",
      "\u001b[1m1/1\u001b[0m \u001b[32m━━━━━━━━━━━━━━━━━━━━\u001b[0m\u001b[37m\u001b[0m \u001b[1m2s\u001b[0m 2s/step\n",
      "\u001b[1m1/1\u001b[0m \u001b[32m━━━━━━━━━━━━━━━━━━━━\u001b[0m\u001b[37m\u001b[0m \u001b[1m1s\u001b[0m 1s/step\n",
      "\u001b[1m1/1\u001b[0m \u001b[32m━━━━━━━━━━━━━━━━━━━━\u001b[0m\u001b[37m\u001b[0m \u001b[1m2s\u001b[0m 2s/step\n",
      "\u001b[1m1/1\u001b[0m \u001b[32m━━━━━━━━━━━━━━━━━━━━\u001b[0m\u001b[37m\u001b[0m \u001b[1m1s\u001b[0m 1s/step\n",
      "\u001b[1m1/1\u001b[0m \u001b[32m━━━━━━━━━━━━━━━━━━━━\u001b[0m\u001b[37m\u001b[0m \u001b[1m2s\u001b[0m 2s/step\n",
      "\u001b[1m1/1\u001b[0m \u001b[32m━━━━━━━━━━━━━━━━━━━━\u001b[0m\u001b[37m\u001b[0m \u001b[1m2s\u001b[0m 2s/step\n",
      "\u001b[1m1/1\u001b[0m \u001b[32m━━━━━━━━━━━━━━━━━━━━\u001b[0m\u001b[37m\u001b[0m \u001b[1m1s\u001b[0m 1s/step\n",
      "\u001b[1m1/1\u001b[0m \u001b[32m━━━━━━━━━━━━━━━━━━━━\u001b[0m\u001b[37m\u001b[0m \u001b[1m2s\u001b[0m 2s/step\n",
      "\u001b[1m1/1\u001b[0m \u001b[32m━━━━━━━━━━━━━━━━━━━━\u001b[0m\u001b[37m\u001b[0m \u001b[1m2s\u001b[0m 2s/step\n",
      "\u001b[1m1/1\u001b[0m \u001b[32m━━━━━━━━━━━━━━━━━━━━\u001b[0m\u001b[37m\u001b[0m \u001b[1m1s\u001b[0m 1s/step\n",
      "\u001b[1m1/1\u001b[0m \u001b[32m━━━━━━━━━━━━━━━━━━━━\u001b[0m\u001b[37m\u001b[0m \u001b[1m2s\u001b[0m 2s/step\n",
      "\u001b[1m1/1\u001b[0m \u001b[32m━━━━━━━━━━━━━━━━━━━━\u001b[0m\u001b[37m\u001b[0m \u001b[1m1s\u001b[0m 1s/step\n",
      "\u001b[1m1/1\u001b[0m \u001b[32m━━━━━━━━━━━━━━━━━━━━\u001b[0m\u001b[37m\u001b[0m \u001b[1m2s\u001b[0m 2s/step\n",
      "\u001b[1m1/1\u001b[0m \u001b[32m━━━━━━━━━━━━━━━━━━━━\u001b[0m\u001b[37m\u001b[0m \u001b[1m1s\u001b[0m 1s/step\n",
      "\u001b[1m1/1\u001b[0m \u001b[32m━━━━━━━━━━━━━━━━━━━━\u001b[0m\u001b[37m\u001b[0m \u001b[1m1s\u001b[0m 1s/step\n",
      "\u001b[1m1/1\u001b[0m \u001b[32m━━━━━━━━━━━━━━━━━━━━\u001b[0m\u001b[37m\u001b[0m \u001b[1m2s\u001b[0m 2s/step\n",
      "\u001b[1m1/1\u001b[0m \u001b[32m━━━━━━━━━━━━━━━━━━━━\u001b[0m\u001b[37m\u001b[0m \u001b[1m1s\u001b[0m 1s/step\n",
      "\u001b[1m1/1\u001b[0m \u001b[32m━━━━━━━━━━━━━━━━━━━━\u001b[0m\u001b[37m\u001b[0m \u001b[1m1s\u001b[0m 963ms/step\n",
      "\u001b[1m1/1\u001b[0m \u001b[32m━━━━━━━━━━━━━━━━━━━━\u001b[0m\u001b[37m\u001b[0m \u001b[1m2s\u001b[0m 2s/step\n",
      "\u001b[1m1/1\u001b[0m \u001b[32m━━━━━━━━━━━━━━━━━━━━\u001b[0m\u001b[37m\u001b[0m \u001b[1m1s\u001b[0m 1s/step\n",
      "\u001b[1m1/1\u001b[0m \u001b[32m━━━━━━━━━━━━━━━━━━━━\u001b[0m\u001b[37m\u001b[0m \u001b[1m1s\u001b[0m 960ms/step\n",
      "\u001b[1m1/1\u001b[0m \u001b[32m━━━━━━━━━━━━━━━━━━━━\u001b[0m\u001b[37m\u001b[0m \u001b[1m1s\u001b[0m 991ms/step\n",
      "\u001b[1m1/1\u001b[0m \u001b[32m━━━━━━━━━━━━━━━━━━━━\u001b[0m\u001b[37m\u001b[0m \u001b[1m1s\u001b[0m 1s/step\n",
      "\u001b[1m1/1\u001b[0m \u001b[32m━━━━━━━━━━━━━━━━━━━━\u001b[0m\u001b[37m\u001b[0m \u001b[1m1s\u001b[0m 950ms/step\n",
      "\u001b[1m1/1\u001b[0m \u001b[32m━━━━━━━━━━━━━━━━━━━━\u001b[0m\u001b[37m\u001b[0m \u001b[1m1s\u001b[0m 1s/step\n",
      "\u001b[1m1/1\u001b[0m \u001b[32m━━━━━━━━━━━━━━━━━━━━\u001b[0m\u001b[37m\u001b[0m \u001b[1m1s\u001b[0m 1s/step\n",
      "\u001b[1m1/1\u001b[0m \u001b[32m━━━━━━━━━━━━━━━━━━━━\u001b[0m\u001b[37m\u001b[0m \u001b[1m2s\u001b[0m 2s/step\n",
      "\u001b[1m1/1\u001b[0m \u001b[32m━━━━━━━━━━━━━━━━━━━━\u001b[0m\u001b[37m\u001b[0m \u001b[1m2s\u001b[0m 2s/step\n",
      "\u001b[1m1/1\u001b[0m \u001b[32m━━━━━━━━━━━━━━━━━━━━\u001b[0m\u001b[37m\u001b[0m \u001b[1m1s\u001b[0m 1s/step\n",
      "\u001b[1m1/1\u001b[0m \u001b[32m━━━━━━━━━━━━━━━━━━━━\u001b[0m\u001b[37m\u001b[0m \u001b[1m1s\u001b[0m 1s/step\n",
      "\u001b[1m1/1\u001b[0m \u001b[32m━━━━━━━━━━━━━━━━━━━━\u001b[0m\u001b[37m\u001b[0m \u001b[1m1s\u001b[0m 1s/step\n",
      "\u001b[1m1/1\u001b[0m \u001b[32m━━━━━━━━━━━━━━━━━━━━\u001b[0m\u001b[37m\u001b[0m \u001b[1m2s\u001b[0m 2s/step\n",
      "\u001b[1m1/1\u001b[0m \u001b[32m━━━━━━━━━━━━━━━━━━━━\u001b[0m\u001b[37m\u001b[0m \u001b[1m2s\u001b[0m 2s/step\n",
      "\u001b[1m1/1\u001b[0m \u001b[32m━━━━━━━━━━━━━━━━━━━━\u001b[0m\u001b[37m\u001b[0m \u001b[1m1s\u001b[0m 1s/step\n",
      "\u001b[1m1/1\u001b[0m \u001b[32m━━━━━━━━━━━━━━━━━━━━\u001b[0m\u001b[37m\u001b[0m \u001b[1m1s\u001b[0m 1s/step\n",
      "\u001b[1m1/1\u001b[0m \u001b[32m━━━━━━━━━━━━━━━━━━━━\u001b[0m\u001b[37m\u001b[0m \u001b[1m2s\u001b[0m 2s/step\n",
      "\u001b[1m1/1\u001b[0m \u001b[32m━━━━━━━━━━━━━━━━━━━━\u001b[0m\u001b[37m\u001b[0m \u001b[1m1s\u001b[0m 1s/step\n",
      "\u001b[1m1/1\u001b[0m \u001b[32m━━━━━━━━━━━━━━━━━━━━\u001b[0m\u001b[37m\u001b[0m \u001b[1m2s\u001b[0m 2s/step\n",
      "\u001b[1m1/1\u001b[0m \u001b[32m━━━━━━━━━━━━━━━━━━━━\u001b[0m\u001b[37m\u001b[0m \u001b[1m2s\u001b[0m 2s/step\n",
      "\u001b[1m1/1\u001b[0m \u001b[32m━━━━━━━━━━━━━━━━━━━━\u001b[0m\u001b[37m\u001b[0m \u001b[1m1s\u001b[0m 1s/step\n",
      "\u001b[1m1/1\u001b[0m \u001b[32m━━━━━━━━━━━━━━━━━━━━\u001b[0m\u001b[37m\u001b[0m \u001b[1m2s\u001b[0m 2s/step\n",
      "\u001b[1m1/1\u001b[0m \u001b[32m━━━━━━━━━━━━━━━━━━━━\u001b[0m\u001b[37m\u001b[0m \u001b[1m1s\u001b[0m 1s/step\n",
      "\u001b[1m1/1\u001b[0m \u001b[32m━━━━━━━━━━━━━━━━━━━━\u001b[0m\u001b[37m\u001b[0m \u001b[1m1s\u001b[0m 1s/step\n",
      "\u001b[1m1/1\u001b[0m \u001b[32m━━━━━━━━━━━━━━━━━━━━\u001b[0m\u001b[37m\u001b[0m \u001b[1m1s\u001b[0m 1s/step\n",
      "\u001b[1m1/1\u001b[0m \u001b[32m━━━━━━━━━━━━━━━━━━━━\u001b[0m\u001b[37m\u001b[0m \u001b[1m2s\u001b[0m 2s/step\n",
      "\u001b[1m1/1\u001b[0m \u001b[32m━━━━━━━━━━━━━━━━━━━━\u001b[0m\u001b[37m\u001b[0m \u001b[1m1s\u001b[0m 1s/step\n",
      "\u001b[1m1/1\u001b[0m \u001b[32m━━━━━━━━━━━━━━━━━━━━\u001b[0m\u001b[37m\u001b[0m \u001b[1m2s\u001b[0m 2s/step\n",
      "\u001b[1m1/1\u001b[0m \u001b[32m━━━━━━━━━━━━━━━━━━━━\u001b[0m\u001b[37m\u001b[0m \u001b[1m1s\u001b[0m 1s/step\n",
      "\u001b[1m1/1\u001b[0m \u001b[32m━━━━━━━━━━━━━━━━━━━━\u001b[0m\u001b[37m\u001b[0m \u001b[1m1s\u001b[0m 1s/step\n",
      "\u001b[1m1/1\u001b[0m \u001b[32m━━━━━━━━━━━━━━━━━━━━\u001b[0m\u001b[37m\u001b[0m \u001b[1m2s\u001b[0m 2s/step\n",
      "\u001b[1m1/1\u001b[0m \u001b[32m━━━━━━━━━━━━━━━━━━━━\u001b[0m\u001b[37m\u001b[0m \u001b[1m2s\u001b[0m 2s/step\n",
      "\u001b[1m1/1\u001b[0m \u001b[32m━━━━━━━━━━━━━━━━━━━━\u001b[0m\u001b[37m\u001b[0m \u001b[1m2s\u001b[0m 2s/step\n",
      "\u001b[1m1/1\u001b[0m \u001b[32m━━━━━━━━━━━━━━━━━━━━\u001b[0m\u001b[37m\u001b[0m \u001b[1m1s\u001b[0m 1s/step\n",
      "\u001b[1m1/1\u001b[0m \u001b[32m━━━━━━━━━━━━━━━━━━━━\u001b[0m\u001b[37m\u001b[0m \u001b[1m1s\u001b[0m 1s/step\n",
      "\u001b[1m1/1\u001b[0m \u001b[32m━━━━━━━━━━━━━━━━━━━━\u001b[0m\u001b[37m\u001b[0m \u001b[1m2s\u001b[0m 2s/step\n",
      "\u001b[1m1/1\u001b[0m \u001b[32m━━━━━━━━━━━━━━━━━━━━\u001b[0m\u001b[37m\u001b[0m \u001b[1m1s\u001b[0m 1s/step\n",
      "\u001b[1m1/1\u001b[0m \u001b[32m━━━━━━━━━━━━━━━━━━━━\u001b[0m\u001b[37m\u001b[0m \u001b[1m2s\u001b[0m 2s/step\n",
      "\u001b[1m1/1\u001b[0m \u001b[32m━━━━━━━━━━━━━━━━━━━━\u001b[0m\u001b[37m\u001b[0m \u001b[1m2s\u001b[0m 2s/step\n",
      "\u001b[1m1/1\u001b[0m \u001b[32m━━━━━━━━━━━━━━━━━━━━\u001b[0m\u001b[37m\u001b[0m \u001b[1m1s\u001b[0m 1s/step\n",
      "\u001b[1m1/1\u001b[0m \u001b[32m━━━━━━━━━━━━━━━━━━━━\u001b[0m\u001b[37m\u001b[0m \u001b[1m1s\u001b[0m 1s/step\n",
      "\u001b[1m1/1\u001b[0m \u001b[32m━━━━━━━━━━━━━━━━━━━━\u001b[0m\u001b[37m\u001b[0m \u001b[1m1s\u001b[0m 1s/step\n",
      "\u001b[1m1/1\u001b[0m \u001b[32m━━━━━━━━━━━━━━━━━━━━\u001b[0m\u001b[37m\u001b[0m \u001b[1m1s\u001b[0m 1s/step\n",
      "\u001b[1m1/1\u001b[0m \u001b[32m━━━━━━━━━━━━━━━━━━━━\u001b[0m\u001b[37m\u001b[0m \u001b[1m1s\u001b[0m 1s/step\n",
      "\u001b[1m1/1\u001b[0m \u001b[32m━━━━━━━━━━━━━━━━━━━━\u001b[0m\u001b[37m\u001b[0m \u001b[1m1s\u001b[0m 1s/step\n",
      "\u001b[1m1/1\u001b[0m \u001b[32m━━━━━━━━━━━━━━━━━━━━\u001b[0m\u001b[37m\u001b[0m \u001b[1m1s\u001b[0m 1s/step\n",
      "\u001b[1m1/1\u001b[0m \u001b[32m━━━━━━━━━━━━━━━━━━━━\u001b[0m\u001b[37m\u001b[0m \u001b[1m2s\u001b[0m 2s/step\n",
      "\u001b[1m1/1\u001b[0m \u001b[32m━━━━━━━━━━━━━━━━━━━━\u001b[0m\u001b[37m\u001b[0m \u001b[1m1s\u001b[0m 1s/step\n",
      "\u001b[1m1/1\u001b[0m \u001b[32m━━━━━━━━━━━━━━━━━━━━\u001b[0m\u001b[37m\u001b[0m \u001b[1m2s\u001b[0m 2s/step\n",
      "\u001b[1m1/1\u001b[0m \u001b[32m━━━━━━━━━━━━━━━━━━━━\u001b[0m\u001b[37m\u001b[0m \u001b[1m1s\u001b[0m 1s/step\n",
      "\u001b[1m1/1\u001b[0m \u001b[32m━━━━━━━━━━━━━━━━━━━━\u001b[0m\u001b[37m\u001b[0m \u001b[1m1s\u001b[0m 1s/step\n",
      "\u001b[1m1/1\u001b[0m \u001b[32m━━━━━━━━━━━━━━━━━━━━\u001b[0m\u001b[37m\u001b[0m \u001b[1m1s\u001b[0m 1s/step\n",
      "\u001b[1m1/1\u001b[0m \u001b[32m━━━━━━━━━━━━━━━━━━━━\u001b[0m\u001b[37m\u001b[0m \u001b[1m1s\u001b[0m 1s/step\n",
      "\u001b[1m1/1\u001b[0m \u001b[32m━━━━━━━━━━━━━━━━━━━━\u001b[0m\u001b[37m\u001b[0m \u001b[1m1s\u001b[0m 1s/step\n",
      "\u001b[1m1/1\u001b[0m \u001b[32m━━━━━━━━━━━━━━━━━━━━\u001b[0m\u001b[37m\u001b[0m \u001b[1m1s\u001b[0m 1s/step\n",
      "\u001b[1m1/1\u001b[0m \u001b[32m━━━━━━━━━━━━━━━━━━━━\u001b[0m\u001b[37m\u001b[0m \u001b[1m1s\u001b[0m 1s/step\n",
      "\u001b[1m1/1\u001b[0m \u001b[32m━━━━━━━━━━━━━━━━━━━━\u001b[0m\u001b[37m\u001b[0m \u001b[1m1s\u001b[0m 1s/step\n",
      "\u001b[1m1/1\u001b[0m \u001b[32m━━━━━━━━━━━━━━━━━━━━\u001b[0m\u001b[37m\u001b[0m \u001b[1m2s\u001b[0m 2s/step\n",
      "\u001b[1m1/1\u001b[0m \u001b[32m━━━━━━━━━━━━━━━━━━━━\u001b[0m\u001b[37m\u001b[0m \u001b[1m2s\u001b[0m 2s/step\n",
      "\u001b[1m1/1\u001b[0m \u001b[32m━━━━━━━━━━━━━━━━━━━━\u001b[0m\u001b[37m\u001b[0m \u001b[1m1s\u001b[0m 1s/step\n",
      "\u001b[1m1/1\u001b[0m \u001b[32m━━━━━━━━━━━━━━━━━━━━\u001b[0m\u001b[37m\u001b[0m \u001b[1m1s\u001b[0m 1s/step\n",
      "\u001b[1m1/1\u001b[0m \u001b[32m━━━━━━━━━━━━━━━━━━━━\u001b[0m\u001b[37m\u001b[0m \u001b[1m1s\u001b[0m 1s/step\n",
      "\u001b[1m1/1\u001b[0m \u001b[32m━━━━━━━━━━━━━━━━━━━━\u001b[0m\u001b[37m\u001b[0m \u001b[1m1s\u001b[0m 1s/step\n",
      "\u001b[1m1/1\u001b[0m \u001b[32m━━━━━━━━━━━━━━━━━━━━\u001b[0m\u001b[37m\u001b[0m \u001b[1m1s\u001b[0m 1s/step\n",
      "\u001b[1m1/1\u001b[0m \u001b[32m━━━━━━━━━━━━━━━━━━━━\u001b[0m\u001b[37m\u001b[0m \u001b[1m1s\u001b[0m 1s/step\n",
      "\u001b[1m1/1\u001b[0m \u001b[32m━━━━━━━━━━━━━━━━━━━━\u001b[0m\u001b[37m\u001b[0m \u001b[1m1s\u001b[0m 1s/step\n",
      "\u001b[1m1/1\u001b[0m \u001b[32m━━━━━━━━━━━━━━━━━━━━\u001b[0m\u001b[37m\u001b[0m \u001b[1m2s\u001b[0m 2s/step\n",
      "\u001b[1m1/1\u001b[0m \u001b[32m━━━━━━━━━━━━━━━━━━━━\u001b[0m\u001b[37m\u001b[0m \u001b[1m1s\u001b[0m 1s/step\n",
      "\u001b[1m1/1\u001b[0m \u001b[32m━━━━━━━━━━━━━━━━━━━━\u001b[0m\u001b[37m\u001b[0m \u001b[1m1s\u001b[0m 1s/step\n",
      "\u001b[1m1/1\u001b[0m \u001b[32m━━━━━━━━━━━━━━━━━━━━\u001b[0m\u001b[37m\u001b[0m \u001b[1m1s\u001b[0m 1s/step\n",
      "\u001b[1m1/1\u001b[0m \u001b[32m━━━━━━━━━━━━━━━━━━━━\u001b[0m\u001b[37m\u001b[0m \u001b[1m1s\u001b[0m 1s/step\n",
      "\u001b[1m1/1\u001b[0m \u001b[32m━━━━━━━━━━━━━━━━━━━━\u001b[0m\u001b[37m\u001b[0m \u001b[1m1s\u001b[0m 1s/step\n",
      "\u001b[1m1/1\u001b[0m \u001b[32m━━━━━━━━━━━━━━━━━━━━\u001b[0m\u001b[37m\u001b[0m \u001b[1m1s\u001b[0m 1s/step\n",
      "\u001b[1m1/1\u001b[0m \u001b[32m━━━━━━━━━━━━━━━━━━━━\u001b[0m\u001b[37m\u001b[0m \u001b[1m1s\u001b[0m 1s/step\n",
      "\u001b[1m1/1\u001b[0m \u001b[32m━━━━━━━━━━━━━━━━━━━━\u001b[0m\u001b[37m\u001b[0m \u001b[1m1s\u001b[0m 1s/step\n",
      "\u001b[1m1/1\u001b[0m \u001b[32m━━━━━━━━━━━━━━━━━━━━\u001b[0m\u001b[37m\u001b[0m \u001b[1m1s\u001b[0m 1s/step\n",
      "\u001b[1m1/1\u001b[0m \u001b[32m━━━━━━━━━━━━━━━━━━━━\u001b[0m\u001b[37m\u001b[0m \u001b[1m1s\u001b[0m 1s/step\n",
      "\u001b[1m1/1\u001b[0m \u001b[32m━━━━━━━━━━━━━━━━━━━━\u001b[0m\u001b[37m\u001b[0m \u001b[1m1s\u001b[0m 1s/step\n",
      "\u001b[1m1/1\u001b[0m \u001b[32m━━━━━━━━━━━━━━━━━━━━\u001b[0m\u001b[37m\u001b[0m \u001b[1m1s\u001b[0m 951ms/step\n",
      "\u001b[1m1/1\u001b[0m \u001b[32m━━━━━━━━━━━━━━━━━━━━\u001b[0m\u001b[37m\u001b[0m \u001b[1m2s\u001b[0m 2s/step\n",
      "\u001b[1m1/1\u001b[0m \u001b[32m━━━━━━━━━━━━━━━━━━━━\u001b[0m\u001b[37m\u001b[0m \u001b[1m1s\u001b[0m 1s/step\n",
      "\u001b[1m1/1\u001b[0m \u001b[32m━━━━━━━━━━━━━━━━━━━━\u001b[0m\u001b[37m\u001b[0m \u001b[1m2s\u001b[0m 2s/step\n",
      "\u001b[1m1/1\u001b[0m \u001b[32m━━━━━━━━━━━━━━━━━━━━\u001b[0m\u001b[37m\u001b[0m \u001b[1m1s\u001b[0m 1s/step\n",
      "\u001b[1m1/1\u001b[0m \u001b[32m━━━━━━━━━━━━━━━━━━━━\u001b[0m\u001b[37m\u001b[0m \u001b[1m1s\u001b[0m 1s/step\n",
      "\u001b[1m1/1\u001b[0m \u001b[32m━━━━━━━━━━━━━━━━━━━━\u001b[0m\u001b[37m\u001b[0m \u001b[1m1s\u001b[0m 1s/step\n",
      "\u001b[1m1/1\u001b[0m \u001b[32m━━━━━━━━━━━━━━━━━━━━\u001b[0m\u001b[37m\u001b[0m \u001b[1m1s\u001b[0m 1s/step\n",
      "\u001b[1m1/1\u001b[0m \u001b[32m━━━━━━━━━━━━━━━━━━━━\u001b[0m\u001b[37m\u001b[0m \u001b[1m1s\u001b[0m 1s/step\n",
      "\u001b[1m1/1\u001b[0m \u001b[32m━━━━━━━━━━━━━━━━━━━━\u001b[0m\u001b[37m\u001b[0m \u001b[1m2s\u001b[0m 2s/step\n",
      "\u001b[1m1/1\u001b[0m \u001b[32m━━━━━━━━━━━━━━━━━━━━\u001b[0m\u001b[37m\u001b[0m \u001b[1m1s\u001b[0m 1s/step\n",
      "\u001b[1m1/1\u001b[0m \u001b[32m━━━━━━━━━━━━━━━━━━━━\u001b[0m\u001b[37m\u001b[0m \u001b[1m2s\u001b[0m 2s/step\n",
      "\u001b[1m1/1\u001b[0m \u001b[32m━━━━━━━━━━━━━━━━━━━━\u001b[0m\u001b[37m\u001b[0m \u001b[1m2s\u001b[0m 2s/step\n",
      "\u001b[1m1/1\u001b[0m \u001b[32m━━━━━━━━━━━━━━━━━━━━\u001b[0m\u001b[37m\u001b[0m \u001b[1m1s\u001b[0m 1s/step\n",
      "\u001b[1m1/1\u001b[0m \u001b[32m━━━━━━━━━━━━━━━━━━━━\u001b[0m\u001b[37m\u001b[0m \u001b[1m2s\u001b[0m 2s/step\n",
      "\u001b[1m1/1\u001b[0m \u001b[32m━━━━━━━━━━━━━━━━━━━━\u001b[0m\u001b[37m\u001b[0m \u001b[1m1s\u001b[0m 1s/step\n",
      "\u001b[1m1/1\u001b[0m \u001b[32m━━━━━━━━━━━━━━━━━━━━\u001b[0m\u001b[37m\u001b[0m \u001b[1m2s\u001b[0m 2s/step\n",
      "\u001b[1m1/1\u001b[0m \u001b[32m━━━━━━━━━━━━━━━━━━━━\u001b[0m\u001b[37m\u001b[0m \u001b[1m1s\u001b[0m 1s/step\n",
      "\u001b[1m1/1\u001b[0m \u001b[32m━━━━━━━━━━━━━━━━━━━━\u001b[0m\u001b[37m\u001b[0m \u001b[1m1s\u001b[0m 1s/step\n",
      "\u001b[1m1/1\u001b[0m \u001b[32m━━━━━━━━━━━━━━━━━━━━\u001b[0m\u001b[37m\u001b[0m \u001b[1m1s\u001b[0m 1s/step\n",
      "\u001b[1m1/1\u001b[0m \u001b[32m━━━━━━━━━━━━━━━━━━━━\u001b[0m\u001b[37m\u001b[0m \u001b[1m1s\u001b[0m 1s/step\n",
      "\u001b[1m1/1\u001b[0m \u001b[32m━━━━━━━━━━━━━━━━━━━━\u001b[0m\u001b[37m\u001b[0m \u001b[1m1s\u001b[0m 1s/step\n",
      "\u001b[1m1/1\u001b[0m \u001b[32m━━━━━━━━━━━━━━━━━━━━\u001b[0m\u001b[37m\u001b[0m \u001b[1m1s\u001b[0m 1s/step\n",
      "\u001b[1m1/1\u001b[0m \u001b[32m━━━━━━━━━━━━━━━━━━━━\u001b[0m\u001b[37m\u001b[0m \u001b[1m1s\u001b[0m 1s/step\n",
      "\u001b[1m1/1\u001b[0m \u001b[32m━━━━━━━━━━━━━━━━━━━━\u001b[0m\u001b[37m\u001b[0m \u001b[1m1s\u001b[0m 1s/step\n",
      "\u001b[1m1/1\u001b[0m \u001b[32m━━━━━━━━━━━━━━━━━━━━\u001b[0m\u001b[37m\u001b[0m \u001b[1m1s\u001b[0m 1s/step\n",
      "\u001b[1m1/1\u001b[0m \u001b[32m━━━━━━━━━━━━━━━━━━━━\u001b[0m\u001b[37m\u001b[0m \u001b[1m1s\u001b[0m 1s/step\n",
      "\u001b[1m1/1\u001b[0m \u001b[32m━━━━━━━━━━━━━━━━━━━━\u001b[0m\u001b[37m\u001b[0m \u001b[1m1s\u001b[0m 1s/step\n",
      "\u001b[1m1/1\u001b[0m \u001b[32m━━━━━━━━━━━━━━━━━━━━\u001b[0m\u001b[37m\u001b[0m \u001b[1m1s\u001b[0m 944ms/step\n",
      "\u001b[1m1/1\u001b[0m \u001b[32m━━━━━━━━━━━━━━━━━━━━\u001b[0m\u001b[37m\u001b[0m \u001b[1m1s\u001b[0m 1s/step\n",
      "\u001b[1m1/1\u001b[0m \u001b[32m━━━━━━━━━━━━━━━━━━━━\u001b[0m\u001b[37m\u001b[0m \u001b[1m2s\u001b[0m 2s/step\n",
      "\u001b[1m1/1\u001b[0m \u001b[32m━━━━━━━━━━━━━━━━━━━━\u001b[0m\u001b[37m\u001b[0m \u001b[1m1s\u001b[0m 1s/step\n",
      "\u001b[1m1/1\u001b[0m \u001b[32m━━━━━━━━━━━━━━━━━━━━\u001b[0m\u001b[37m\u001b[0m \u001b[1m2s\u001b[0m 2s/step\n",
      "\u001b[1m1/1\u001b[0m \u001b[32m━━━━━━━━━━━━━━━━━━━━\u001b[0m\u001b[37m\u001b[0m \u001b[1m1s\u001b[0m 1s/step\n",
      "\u001b[1m1/1\u001b[0m \u001b[32m━━━━━━━━━━━━━━━━━━━━\u001b[0m\u001b[37m\u001b[0m \u001b[1m1s\u001b[0m 1s/step\n",
      "\u001b[1m1/1\u001b[0m \u001b[32m━━━━━━━━━━━━━━━━━━━━\u001b[0m\u001b[37m\u001b[0m \u001b[1m1s\u001b[0m 1s/step\n",
      "\u001b[1m1/1\u001b[0m \u001b[32m━━━━━━━━━━━━━━━━━━━━\u001b[0m\u001b[37m\u001b[0m \u001b[1m1s\u001b[0m 962ms/step\n",
      "\u001b[1m1/1\u001b[0m \u001b[32m━━━━━━━━━━━━━━━━━━━━\u001b[0m\u001b[37m\u001b[0m \u001b[1m2s\u001b[0m 2s/step\n",
      "\u001b[1m1/1\u001b[0m \u001b[32m━━━━━━━━━━━━━━━━━━━━\u001b[0m\u001b[37m\u001b[0m \u001b[1m1s\u001b[0m 1s/step\n",
      "\u001b[1m1/1\u001b[0m \u001b[32m━━━━━━━━━━━━━━━━━━━━\u001b[0m\u001b[37m\u001b[0m \u001b[1m2s\u001b[0m 2s/step\n",
      "\u001b[1m1/1\u001b[0m \u001b[32m━━━━━━━━━━━━━━━━━━━━\u001b[0m\u001b[37m\u001b[0m \u001b[1m2s\u001b[0m 2s/step\n",
      "\u001b[1m1/1\u001b[0m \u001b[32m━━━━━━━━━━━━━━━━━━━━\u001b[0m\u001b[37m\u001b[0m \u001b[1m1s\u001b[0m 1s/step\n",
      "\u001b[1m1/1\u001b[0m \u001b[32m━━━━━━━━━━━━━━━━━━━━\u001b[0m\u001b[37m\u001b[0m \u001b[1m2s\u001b[0m 2s/step\n",
      "\u001b[1m1/1\u001b[0m \u001b[32m━━━━━━━━━━━━━━━━━━━━\u001b[0m\u001b[37m\u001b[0m \u001b[1m2s\u001b[0m 2s/step\n",
      "\u001b[1m1/1\u001b[0m \u001b[32m━━━━━━━━━━━━━━━━━━━━\u001b[0m\u001b[37m\u001b[0m \u001b[1m1s\u001b[0m 1s/step\n",
      "\u001b[1m1/1\u001b[0m \u001b[32m━━━━━━━━━━━━━━━━━━━━\u001b[0m\u001b[37m\u001b[0m \u001b[1m1s\u001b[0m 887ms/step\n",
      "\u001b[1m1/1\u001b[0m \u001b[32m━━━━━━━━━━━━━━━━━━━━\u001b[0m\u001b[37m\u001b[0m \u001b[1m1s\u001b[0m 1s/step\n",
      "\u001b[1m1/1\u001b[0m \u001b[32m━━━━━━━━━━━━━━━━━━━━\u001b[0m\u001b[37m\u001b[0m \u001b[1m1s\u001b[0m 1s/step\n",
      "\u001b[1m1/1\u001b[0m \u001b[32m━━━━━━━━━━━━━━━━━━━━\u001b[0m\u001b[37m\u001b[0m \u001b[1m1s\u001b[0m 1s/step\n",
      "\u001b[1m1/1\u001b[0m \u001b[32m━━━━━━━━━━━━━━━━━━━━\u001b[0m\u001b[37m\u001b[0m \u001b[1m2s\u001b[0m 2s/step\n",
      "\u001b[1m1/1\u001b[0m \u001b[32m━━━━━━━━━━━━━━━━━━━━\u001b[0m\u001b[37m\u001b[0m \u001b[1m1s\u001b[0m 1s/step\n",
      "\u001b[1m1/1\u001b[0m \u001b[32m━━━━━━━━━━━━━━━━━━━━\u001b[0m\u001b[37m\u001b[0m \u001b[1m1s\u001b[0m 1s/step\n",
      "\u001b[1m1/1\u001b[0m \u001b[32m━━━━━━━━━━━━━━━━━━━━\u001b[0m\u001b[37m\u001b[0m \u001b[1m1s\u001b[0m 1s/step\n",
      "\u001b[1m1/1\u001b[0m \u001b[32m━━━━━━━━━━━━━━━━━━━━\u001b[0m\u001b[37m\u001b[0m \u001b[1m1s\u001b[0m 1s/step\n",
      "\u001b[1m1/1\u001b[0m \u001b[32m━━━━━━━━━━━━━━━━━━━━\u001b[0m\u001b[37m\u001b[0m \u001b[1m2s\u001b[0m 2s/step\n",
      "\u001b[1m1/1\u001b[0m \u001b[32m━━━━━━━━━━━━━━━━━━━━\u001b[0m\u001b[37m\u001b[0m \u001b[1m2s\u001b[0m 2s/step\n",
      "\u001b[1m1/1\u001b[0m \u001b[32m━━━━━━━━━━━━━━━━━━━━\u001b[0m\u001b[37m\u001b[0m \u001b[1m1s\u001b[0m 943ms/step\n",
      "\u001b[1m1/1\u001b[0m \u001b[32m━━━━━━━━━━━━━━━━━━━━\u001b[0m\u001b[37m\u001b[0m \u001b[1m1s\u001b[0m 1s/step\n",
      "\u001b[1m1/1\u001b[0m \u001b[32m━━━━━━━━━━━━━━━━━━━━\u001b[0m\u001b[37m\u001b[0m \u001b[1m2s\u001b[0m 2s/step\n",
      "\u001b[1m1/1\u001b[0m \u001b[32m━━━━━━━━━━━━━━━━━━━━\u001b[0m\u001b[37m\u001b[0m \u001b[1m1s\u001b[0m 1s/step\n",
      "\u001b[1m1/1\u001b[0m \u001b[32m━━━━━━━━━━━━━━━━━━━━\u001b[0m\u001b[37m\u001b[0m \u001b[1m1s\u001b[0m 1s/step\n",
      "\u001b[1m1/1\u001b[0m \u001b[32m━━━━━━━━━━━━━━━━━━━━\u001b[0m\u001b[37m\u001b[0m \u001b[1m1s\u001b[0m 1s/step\n",
      "\u001b[1m1/1\u001b[0m \u001b[32m━━━━━━━━━━━━━━━━━━━━\u001b[0m\u001b[37m\u001b[0m \u001b[1m2s\u001b[0m 2s/step\n",
      "\u001b[1m1/1\u001b[0m \u001b[32m━━━━━━━━━━━━━━━━━━━━\u001b[0m\u001b[37m\u001b[0m \u001b[1m1s\u001b[0m 964ms/step\n",
      "\u001b[1m1/1\u001b[0m \u001b[32m━━━━━━━━━━━━━━━━━━━━\u001b[0m\u001b[37m\u001b[0m \u001b[1m1s\u001b[0m 1s/step\n",
      "\u001b[1m1/1\u001b[0m \u001b[32m━━━━━━━━━━━━━━━━━━━━\u001b[0m\u001b[37m\u001b[0m \u001b[1m2s\u001b[0m 2s/step\n",
      "\u001b[1m1/1\u001b[0m \u001b[32m━━━━━━━━━━━━━━━━━━━━\u001b[0m\u001b[37m\u001b[0m \u001b[1m1s\u001b[0m 1s/step\n",
      "\u001b[1m1/1\u001b[0m \u001b[32m━━━━━━━━━━━━━━━━━━━━\u001b[0m\u001b[37m\u001b[0m \u001b[1m2s\u001b[0m 2s/step\n",
      "\u001b[1m1/1\u001b[0m \u001b[32m━━━━━━━━━━━━━━━━━━━━\u001b[0m\u001b[37m\u001b[0m \u001b[1m1s\u001b[0m 1s/step\n",
      "\u001b[1m1/1\u001b[0m \u001b[32m━━━━━━━━━━━━━━━━━━━━\u001b[0m\u001b[37m\u001b[0m \u001b[1m1s\u001b[0m 1s/step\n",
      "\u001b[1m1/1\u001b[0m \u001b[32m━━━━━━━━━━━━━━━━━━━━\u001b[0m\u001b[37m\u001b[0m \u001b[1m1s\u001b[0m 1s/step\n",
      "\u001b[1m1/1\u001b[0m \u001b[32m━━━━━━━━━━━━━━━━━━━━\u001b[0m\u001b[37m\u001b[0m \u001b[1m1s\u001b[0m 1s/step\n",
      "\u001b[1m1/1\u001b[0m \u001b[32m━━━━━━━━━━━━━━━━━━━━\u001b[0m\u001b[37m\u001b[0m \u001b[1m1s\u001b[0m 1s/step\n",
      "\u001b[1m1/1\u001b[0m \u001b[32m━━━━━━━━━━━━━━━━━━━━\u001b[0m\u001b[37m\u001b[0m \u001b[1m1s\u001b[0m 1s/step\n",
      "\u001b[1m1/1\u001b[0m \u001b[32m━━━━━━━━━━━━━━━━━━━━\u001b[0m\u001b[37m\u001b[0m \u001b[1m1s\u001b[0m 1s/step\n",
      "\u001b[1m1/1\u001b[0m \u001b[32m━━━━━━━━━━━━━━━━━━━━\u001b[0m\u001b[37m\u001b[0m \u001b[1m1s\u001b[0m 1s/step\n",
      "\u001b[1m1/1\u001b[0m \u001b[32m━━━━━━━━━━━━━━━━━━━━\u001b[0m\u001b[37m\u001b[0m \u001b[1m2s\u001b[0m 2s/step\n",
      "\u001b[1m1/1\u001b[0m \u001b[32m━━━━━━━━━━━━━━━━━━━━\u001b[0m\u001b[37m\u001b[0m \u001b[1m2s\u001b[0m 2s/step\n",
      "\u001b[1m1/1\u001b[0m \u001b[32m━━━━━━━━━━━━━━━━━━━━\u001b[0m\u001b[37m\u001b[0m \u001b[1m1s\u001b[0m 1s/step\n",
      "\u001b[1m1/1\u001b[0m \u001b[32m━━━━━━━━━━━━━━━━━━━━\u001b[0m\u001b[37m\u001b[0m \u001b[1m1s\u001b[0m 897ms/step\n",
      "\u001b[1m1/1\u001b[0m \u001b[32m━━━━━━━━━━━━━━━━━━━━\u001b[0m\u001b[37m\u001b[0m \u001b[1m1s\u001b[0m 1s/step\n",
      "\u001b[1m1/1\u001b[0m \u001b[32m━━━━━━━━━━━━━━━━━━━━\u001b[0m\u001b[37m\u001b[0m \u001b[1m2s\u001b[0m 2s/step\n",
      "\u001b[1m1/1\u001b[0m \u001b[32m━━━━━━━━━━━━━━━━━━━━\u001b[0m\u001b[37m\u001b[0m \u001b[1m1s\u001b[0m 1s/step\n",
      "\u001b[1m1/1\u001b[0m \u001b[32m━━━━━━━━━━━━━━━━━━━━\u001b[0m\u001b[37m\u001b[0m \u001b[1m1s\u001b[0m 1s/step\n",
      "\u001b[1m1/1\u001b[0m \u001b[32m━━━━━━━━━━━━━━━━━━━━\u001b[0m\u001b[37m\u001b[0m \u001b[1m1s\u001b[0m 1s/step\n",
      "\u001b[1m1/1\u001b[0m \u001b[32m━━━━━━━━━━━━━━━━━━━━\u001b[0m\u001b[37m\u001b[0m \u001b[1m2s\u001b[0m 2s/step\n",
      "\u001b[1m1/1\u001b[0m \u001b[32m━━━━━━━━━━━━━━━━━━━━\u001b[0m\u001b[37m\u001b[0m \u001b[1m1s\u001b[0m 1s/step\n",
      "\u001b[1m1/1\u001b[0m \u001b[32m━━━━━━━━━━━━━━━━━━━━\u001b[0m\u001b[37m\u001b[0m \u001b[1m2s\u001b[0m 2s/step\n",
      "\u001b[1m1/1\u001b[0m \u001b[32m━━━━━━━━━━━━━━━━━━━━\u001b[0m\u001b[37m\u001b[0m \u001b[1m1s\u001b[0m 1s/step\n",
      "\u001b[1m1/1\u001b[0m \u001b[32m━━━━━━━━━━━━━━━━━━━━\u001b[0m\u001b[37m\u001b[0m \u001b[1m1s\u001b[0m 1s/step\n",
      "\u001b[1m1/1\u001b[0m \u001b[32m━━━━━━━━━━━━━━━━━━━━\u001b[0m\u001b[37m\u001b[0m \u001b[1m1s\u001b[0m 1s/step\n",
      "\u001b[1m1/1\u001b[0m \u001b[32m━━━━━━━━━━━━━━━━━━━━\u001b[0m\u001b[37m\u001b[0m \u001b[1m1s\u001b[0m 1s/step\n",
      "\u001b[1m1/1\u001b[0m \u001b[32m━━━━━━━━━━━━━━━━━━━━\u001b[0m\u001b[37m\u001b[0m \u001b[1m1s\u001b[0m 1s/step\n",
      "\u001b[1m1/1\u001b[0m \u001b[32m━━━━━━━━━━━━━━━━━━━━\u001b[0m\u001b[37m\u001b[0m \u001b[1m1s\u001b[0m 956ms/step\n",
      "\u001b[1m1/1\u001b[0m \u001b[32m━━━━━━━━━━━━━━━━━━━━\u001b[0m\u001b[37m\u001b[0m \u001b[1m2s\u001b[0m 2s/step\n",
      "\u001b[1m1/1\u001b[0m \u001b[32m━━━━━━━━━━━━━━━━━━━━\u001b[0m\u001b[37m\u001b[0m \u001b[1m2s\u001b[0m 2s/step\n",
      "\u001b[1m1/1\u001b[0m \u001b[32m━━━━━━━━━━━━━━━━━━━━\u001b[0m\u001b[37m\u001b[0m \u001b[1m1s\u001b[0m 995ms/step\n",
      "\u001b[1m1/1\u001b[0m \u001b[32m━━━━━━━━━━━━━━━━━━━━\u001b[0m\u001b[37m\u001b[0m \u001b[1m1s\u001b[0m 923ms/step\n",
      "\u001b[1m1/1\u001b[0m \u001b[32m━━━━━━━━━━━━━━━━━━━━\u001b[0m\u001b[37m\u001b[0m \u001b[1m2s\u001b[0m 2s/step\n",
      "\u001b[1m1/1\u001b[0m \u001b[32m━━━━━━━━━━━━━━━━━━━━\u001b[0m\u001b[37m\u001b[0m \u001b[1m1s\u001b[0m 1s/step\n",
      "\u001b[1m1/1\u001b[0m \u001b[32m━━━━━━━━━━━━━━━━━━━━\u001b[0m\u001b[37m\u001b[0m \u001b[1m1s\u001b[0m 1s/step\n",
      "\u001b[1m1/1\u001b[0m \u001b[32m━━━━━━━━━━━━━━━━━━━━\u001b[0m\u001b[37m\u001b[0m \u001b[1m1s\u001b[0m 1s/step\n",
      "\u001b[1m1/1\u001b[0m \u001b[32m━━━━━━━━━━━━━━━━━━━━\u001b[0m\u001b[37m\u001b[0m \u001b[1m1s\u001b[0m 1s/step\n",
      "\u001b[1m1/1\u001b[0m \u001b[32m━━━━━━━━━━━━━━━━━━━━\u001b[0m\u001b[37m\u001b[0m \u001b[1m2s\u001b[0m 2s/step\n",
      "\u001b[1m1/1\u001b[0m \u001b[32m━━━━━━━━━━━━━━━━━━━━\u001b[0m\u001b[37m\u001b[0m \u001b[1m1s\u001b[0m 1s/step\n",
      "\u001b[1m1/1\u001b[0m \u001b[32m━━━━━━━━━━━━━━━━━━━━\u001b[0m\u001b[37m\u001b[0m \u001b[1m1s\u001b[0m 1s/step\n",
      "\u001b[1m1/1\u001b[0m \u001b[32m━━━━━━━━━━━━━━━━━━━━\u001b[0m\u001b[37m\u001b[0m \u001b[1m1s\u001b[0m 1s/step\n",
      "\u001b[1m1/1\u001b[0m \u001b[32m━━━━━━━━━━━━━━━━━━━━\u001b[0m\u001b[37m\u001b[0m \u001b[1m2s\u001b[0m 2s/step\n",
      "\u001b[1m1/1\u001b[0m \u001b[32m━━━━━━━━━━━━━━━━━━━━\u001b[0m\u001b[37m\u001b[0m \u001b[1m1s\u001b[0m 1s/step\n",
      "\u001b[1m1/1\u001b[0m \u001b[32m━━━━━━━━━━━━━━━━━━━━\u001b[0m\u001b[37m\u001b[0m \u001b[1m1s\u001b[0m 1s/step\n",
      "\u001b[1m1/1\u001b[0m \u001b[32m━━━━━━━━━━━━━━━━━━━━\u001b[0m\u001b[37m\u001b[0m \u001b[1m1s\u001b[0m 1s/step\n",
      "\u001b[1m1/1\u001b[0m \u001b[32m━━━━━━━━━━━━━━━━━━━━\u001b[0m\u001b[37m\u001b[0m \u001b[1m1s\u001b[0m 1s/step\n",
      "\u001b[1m1/1\u001b[0m \u001b[32m━━━━━━━━━━━━━━━━━━━━\u001b[0m\u001b[37m\u001b[0m \u001b[1m2s\u001b[0m 2s/step\n",
      "\u001b[1m1/1\u001b[0m \u001b[32m━━━━━━━━━━━━━━━━━━━━\u001b[0m\u001b[37m\u001b[0m \u001b[1m1s\u001b[0m 1s/step\n",
      "\u001b[1m1/1\u001b[0m \u001b[32m━━━━━━━━━━━━━━━━━━━━\u001b[0m\u001b[37m\u001b[0m \u001b[1m2s\u001b[0m 2s/step\n",
      "\u001b[1m1/1\u001b[0m \u001b[32m━━━━━━━━━━━━━━━━━━━━\u001b[0m\u001b[37m\u001b[0m \u001b[1m2s\u001b[0m 2s/step\n",
      "\u001b[1m1/1\u001b[0m \u001b[32m━━━━━━━━━━━━━━━━━━━━\u001b[0m\u001b[37m\u001b[0m \u001b[1m1s\u001b[0m 1s/step\n",
      "\u001b[1m1/1\u001b[0m \u001b[32m━━━━━━━━━━━━━━━━━━━━\u001b[0m\u001b[37m\u001b[0m \u001b[1m2s\u001b[0m 2s/step\n",
      "\u001b[1m1/1\u001b[0m \u001b[32m━━━━━━━━━━━━━━━━━━━━\u001b[0m\u001b[37m\u001b[0m \u001b[1m1s\u001b[0m 999ms/step\n",
      "\u001b[1m1/1\u001b[0m \u001b[32m━━━━━━━━━━━━━━━━━━━━\u001b[0m\u001b[37m\u001b[0m \u001b[1m1s\u001b[0m 923ms/step\n",
      "\u001b[1m1/1\u001b[0m \u001b[32m━━━━━━━━━━━━━━━━━━━━\u001b[0m\u001b[37m\u001b[0m \u001b[1m1s\u001b[0m 1s/step\n",
      "\u001b[1m1/1\u001b[0m \u001b[32m━━━━━━━━━━━━━━━━━━━━\u001b[0m\u001b[37m\u001b[0m \u001b[1m2s\u001b[0m 2s/step\n",
      "\u001b[1m1/1\u001b[0m \u001b[32m━━━━━━━━━━━━━━━━━━━━\u001b[0m\u001b[37m\u001b[0m \u001b[1m1s\u001b[0m 1s/step\n",
      "\u001b[1m1/1\u001b[0m \u001b[32m━━━━━━━━━━━━━━━━━━━━\u001b[0m\u001b[37m\u001b[0m \u001b[1m2s\u001b[0m 2s/step\n",
      "\u001b[1m1/1\u001b[0m \u001b[32m━━━━━━━━━━━━━━━━━━━━\u001b[0m\u001b[37m\u001b[0m \u001b[1m1s\u001b[0m 1s/step\n",
      "\u001b[1m1/1\u001b[0m \u001b[32m━━━━━━━━━━━━━━━━━━━━\u001b[0m\u001b[37m\u001b[0m \u001b[1m2s\u001b[0m 2s/step\n",
      "\u001b[1m1/1\u001b[0m \u001b[32m━━━━━━━━━━━━━━━━━━━━\u001b[0m\u001b[37m\u001b[0m \u001b[1m2s\u001b[0m 2s/step\n",
      "\u001b[1m1/1\u001b[0m \u001b[32m━━━━━━━━━━━━━━━━━━━━\u001b[0m\u001b[37m\u001b[0m \u001b[1m1s\u001b[0m 1s/step\n",
      "\u001b[1m1/1\u001b[0m \u001b[32m━━━━━━━━━━━━━━━━━━━━\u001b[0m\u001b[37m\u001b[0m \u001b[1m1s\u001b[0m 1s/step\n",
      "\u001b[1m1/1\u001b[0m \u001b[32m━━━━━━━━━━━━━━━━━━━━\u001b[0m\u001b[37m\u001b[0m \u001b[1m1s\u001b[0m 1s/step\n",
      "\u001b[1m1/1\u001b[0m \u001b[32m━━━━━━━━━━━━━━━━━━━━\u001b[0m\u001b[37m\u001b[0m \u001b[1m2s\u001b[0m 2s/step\n",
      "\u001b[1m1/1\u001b[0m \u001b[32m━━━━━━━━━━━━━━━━━━━━\u001b[0m\u001b[37m\u001b[0m \u001b[1m2s\u001b[0m 2s/step\n",
      "\u001b[1m1/1\u001b[0m \u001b[32m━━━━━━━━━━━━━━━━━━━━\u001b[0m\u001b[37m\u001b[0m \u001b[1m1s\u001b[0m 1s/step\n",
      "\u001b[1m1/1\u001b[0m \u001b[32m━━━━━━━━━━━━━━━━━━━━\u001b[0m\u001b[37m\u001b[0m \u001b[1m2s\u001b[0m 2s/step\n",
      "\u001b[1m1/1\u001b[0m \u001b[32m━━━━━━━━━━━━━━━━━━━━\u001b[0m\u001b[37m\u001b[0m \u001b[1m1s\u001b[0m 1s/step\n",
      "\u001b[1m1/1\u001b[0m \u001b[32m━━━━━━━━━━━━━━━━━━━━\u001b[0m\u001b[37m\u001b[0m \u001b[1m1s\u001b[0m 1s/step\n",
      "\u001b[1m1/1\u001b[0m \u001b[32m━━━━━━━━━━━━━━━━━━━━\u001b[0m\u001b[37m\u001b[0m \u001b[1m2s\u001b[0m 2s/step\n",
      "\u001b[1m1/1\u001b[0m \u001b[32m━━━━━━━━━━━━━━━━━━━━\u001b[0m\u001b[37m\u001b[0m \u001b[1m1s\u001b[0m 1s/step\n",
      "\u001b[1m1/1\u001b[0m \u001b[32m━━━━━━━━━━━━━━━━━━━━\u001b[0m\u001b[37m\u001b[0m \u001b[1m2s\u001b[0m 2s/step\n",
      "\u001b[1m1/1\u001b[0m \u001b[32m━━━━━━━━━━━━━━━━━━━━\u001b[0m\u001b[37m\u001b[0m \u001b[1m2s\u001b[0m 2s/step\n",
      "\u001b[1m1/1\u001b[0m \u001b[32m━━━━━━━━━━━━━━━━━━━━\u001b[0m\u001b[37m\u001b[0m \u001b[1m2s\u001b[0m 2s/step\n",
      "\u001b[1m1/1\u001b[0m \u001b[32m━━━━━━━━━━━━━━━━━━━━\u001b[0m\u001b[37m\u001b[0m \u001b[1m1s\u001b[0m 1s/step\n",
      "\u001b[1m1/1\u001b[0m \u001b[32m━━━━━━━━━━━━━━━━━━━━\u001b[0m\u001b[37m\u001b[0m \u001b[1m2s\u001b[0m 2s/step\n",
      "\u001b[1m1/1\u001b[0m \u001b[32m━━━━━━━━━━━━━━━━━━━━\u001b[0m\u001b[37m\u001b[0m \u001b[1m2s\u001b[0m 2s/step\n",
      "\u001b[1m1/1\u001b[0m \u001b[32m━━━━━━━━━━━━━━━━━━━━\u001b[0m\u001b[37m\u001b[0m \u001b[1m1s\u001b[0m 1s/step\n",
      "\u001b[1m1/1\u001b[0m \u001b[32m━━━━━━━━━━━━━━━━━━━━\u001b[0m\u001b[37m\u001b[0m \u001b[1m2s\u001b[0m 2s/step\n",
      "\u001b[1m1/1\u001b[0m \u001b[32m━━━━━━━━━━━━━━━━━━━━\u001b[0m\u001b[37m\u001b[0m \u001b[1m2s\u001b[0m 2s/step\n",
      "\u001b[1m1/1\u001b[0m \u001b[32m━━━━━━━━━━━━━━━━━━━━\u001b[0m\u001b[37m\u001b[0m \u001b[1m1s\u001b[0m 1s/step\n",
      "\u001b[1m1/1\u001b[0m \u001b[32m━━━━━━━━━━━━━━━━━━━━\u001b[0m\u001b[37m\u001b[0m \u001b[1m2s\u001b[0m 2s/step\n",
      "\u001b[1m1/1\u001b[0m \u001b[32m━━━━━━━━━━━━━━━━━━━━\u001b[0m\u001b[37m\u001b[0m \u001b[1m2s\u001b[0m 2s/step\n",
      "\u001b[1m1/1\u001b[0m \u001b[32m━━━━━━━━━━━━━━━━━━━━\u001b[0m\u001b[37m\u001b[0m \u001b[1m1s\u001b[0m 1s/step\n",
      "\u001b[1m1/1\u001b[0m \u001b[32m━━━━━━━━━━━━━━━━━━━━\u001b[0m\u001b[37m\u001b[0m \u001b[1m2s\u001b[0m 2s/step\n",
      "\u001b[1m1/1\u001b[0m \u001b[32m━━━━━━━━━━━━━━━━━━━━\u001b[0m\u001b[37m\u001b[0m \u001b[1m2s\u001b[0m 2s/step\n",
      "\u001b[1m1/1\u001b[0m \u001b[32m━━━━━━━━━━━━━━━━━━━━\u001b[0m\u001b[37m\u001b[0m \u001b[1m1s\u001b[0m 1s/step\n",
      "\u001b[1m1/1\u001b[0m \u001b[32m━━━━━━━━━━━━━━━━━━━━\u001b[0m\u001b[37m\u001b[0m \u001b[1m1s\u001b[0m 1s/step\n",
      "\u001b[1m1/1\u001b[0m \u001b[32m━━━━━━━━━━━━━━━━━━━━\u001b[0m\u001b[37m\u001b[0m \u001b[1m1s\u001b[0m 1s/step\n",
      "\u001b[1m1/1\u001b[0m \u001b[32m━━━━━━━━━━━━━━━━━━━━\u001b[0m\u001b[37m\u001b[0m \u001b[1m1s\u001b[0m 1s/step\n",
      "\u001b[1m1/1\u001b[0m \u001b[32m━━━━━━━━━━━━━━━━━━━━\u001b[0m\u001b[37m\u001b[0m \u001b[1m1s\u001b[0m 812ms/step\n",
      "****************************************************************************************************\n",
      "Word Error Rate : 0.6879\n",
      "****************************************************************************************************\n",
      "Target : उनके लिए सदैव खुले रहने चाहिए\n",
      "Prediction : उनके लिए पदे कुलले लहदे चाही है\n",
      "****************************************************************************************************\n",
      "Target : मुंशी जी अपने कमरे में लौट आये\n",
      "Prediction : मुझी भी अपमें कम में में लोताये\n",
      "****************************************************************************************************\n",
      "\u001b[1m3125/3125\u001b[0m \u001b[32m━━━━━━━━━━━━━━━━━━━━\u001b[0m\u001b[37m\u001b[0m \u001b[1m38596s\u001b[0m 12s/step - loss: inf - val_loss: inf\n",
      "Epoch 4/5\n",
      "\u001b[1m 436/3125\u001b[0m \u001b[32m━━\u001b[0m\u001b[37m━━━━━━━━━━━━━━━━━━\u001b[0m \u001b[1m9:25:44\u001b[0m 13s/step - loss: 56.4638"
     ]
    },
    {
     "name": "stderr",
     "output_type": "stream",
     "text": [
      "2024-11-23 22:41:12.659978: W ./tensorflow/core/util/ctc/ctc_loss_calculator.h:499] No valid path found.\n",
      "2024-11-23 22:41:12.660191: W ./tensorflow/core/util/ctc/ctc_loss_calculator.h:499] No valid path found.\n",
      "2024-11-23 22:41:12.660209: W ./tensorflow/core/util/ctc/ctc_loss_calculator.h:499] No valid path found.\n",
      "2024-11-23 22:41:12.660228: W ./tensorflow/core/util/ctc/ctc_loss_calculator.h:499] No valid path found.\n",
      "2024-11-23 22:41:12.660284: W ./tensorflow/core/util/ctc/ctc_loss_calculator.h:499] No valid path found.\n",
      "2024-11-23 22:41:12.660327: W ./tensorflow/core/util/ctc/ctc_loss_calculator.h:499] No valid path found.\n",
      "2024-11-23 22:41:12.660359: W ./tensorflow/core/util/ctc/ctc_loss_calculator.h:499] No valid path found.\n",
      "2024-11-23 22:41:12.660387: W ./tensorflow/core/util/ctc/ctc_loss_calculator.h:499] No valid path found.\n",
      "2024-11-23 22:41:12.660480: W ./tensorflow/core/util/ctc/ctc_loss_calculator.h:499] No valid path found.\n",
      "2024-11-23 22:41:12.660557: W ./tensorflow/core/util/ctc/ctc_loss_calculator.h:499] No valid path found.\n",
      "2024-11-23 22:41:12.660582: W ./tensorflow/core/util/ctc/ctc_loss_calculator.h:499] No valid path found.\n",
      "2024-11-23 22:41:12.660604: W ./tensorflow/core/util/ctc/ctc_loss_calculator.h:499] No valid path found.\n",
      "2024-11-23 22:41:12.660633: W ./tensorflow/core/util/ctc/ctc_loss_calculator.h:499] No valid path found.\n"
     ]
    },
    {
     "name": "stdout",
     "output_type": "stream",
     "text": [
      "\u001b[1m 441/3125\u001b[0m \u001b[32m━━\u001b[0m\u001b[37m━━━━━━━━━━━━━━━━━━\u001b[0m \u001b[1m9:24:56\u001b[0m 13s/step - loss: inf"
     ]
    },
    {
     "name": "stderr",
     "output_type": "stream",
     "text": [
      "2024-11-23 22:42:18.174395: W ./tensorflow/core/util/ctc/ctc_loss_calculator.h:499] No valid path found.\n"
     ]
    },
    {
     "name": "stdout",
     "output_type": "stream",
     "text": [
      "\u001b[1m 502/3125\u001b[0m \u001b[32m━━━\u001b[0m\u001b[37m━━━━━━━━━━━━━━━━━\u001b[0m \u001b[1m9:10:43\u001b[0m 13s/step - loss: inf"
     ]
    },
    {
     "name": "stderr",
     "output_type": "stream",
     "text": [
      "2024-11-23 22:54:52.816831: W ./tensorflow/core/util/ctc/ctc_loss_calculator.h:499] No valid path found.\n"
     ]
    },
    {
     "name": "stdout",
     "output_type": "stream",
     "text": [
      "\u001b[1m 517/3125\u001b[0m \u001b[32m━━━\u001b[0m\u001b[37m━━━━━━━━━━━━━━━━━\u001b[0m \u001b[1m9:08:50\u001b[0m 13s/step - loss: inf"
     ]
    },
    {
     "name": "stderr",
     "output_type": "stream",
     "text": [
      "2024-11-23 22:58:16.662192: W ./tensorflow/core/util/ctc/ctc_loss_calculator.h:499] No valid path found.\n",
      "2024-11-23 22:58:16.662344: W ./tensorflow/core/util/ctc/ctc_loss_calculator.h:499] No valid path found.\n",
      "2024-11-23 22:58:16.662425: W ./tensorflow/core/util/ctc/ctc_loss_calculator.h:499] No valid path found.\n",
      "2024-11-23 22:58:16.662531: W ./tensorflow/core/util/ctc/ctc_loss_calculator.h:499] No valid path found.\n"
     ]
    },
    {
     "name": "stdout",
     "output_type": "stream",
     "text": [
      "\u001b[1m 857/3125\u001b[0m \u001b[32m━━━━━\u001b[0m\u001b[37m━━━━━━━━━━━━━━━\u001b[0m \u001b[1m8:04:40\u001b[0m 13s/step - loss: inf"
     ]
    },
    {
     "name": "stderr",
     "output_type": "stream",
     "text": [
      "2024-11-24 00:12:37.283582: W ./tensorflow/core/util/ctc/ctc_loss_calculator.h:499] No valid path found.\n"
     ]
    },
    {
     "name": "stdout",
     "output_type": "stream",
     "text": [
      "\u001b[1m 906/3125\u001b[0m \u001b[32m━━━━━\u001b[0m\u001b[37m━━━━━━━━━━━━━━━\u001b[0m \u001b[1m7:53:57\u001b[0m 13s/step - loss: inf"
     ]
    },
    {
     "name": "stderr",
     "output_type": "stream",
     "text": [
      "2024-11-24 00:22:59.339728: W ./tensorflow/core/util/ctc/ctc_loss_calculator.h:499] No valid path found.\n",
      "2024-11-24 00:22:59.339780: W ./tensorflow/core/util/ctc/ctc_loss_calculator.h:499] No valid path found.\n",
      "2024-11-24 00:22:59.339800: W ./tensorflow/core/util/ctc/ctc_loss_calculator.h:499] No valid path found.\n",
      "2024-11-24 00:22:59.339862: W ./tensorflow/core/util/ctc/ctc_loss_calculator.h:499] No valid path found.\n",
      "2024-11-24 00:22:59.339882: W ./tensorflow/core/util/ctc/ctc_loss_calculator.h:499] No valid path found.\n",
      "2024-11-24 00:22:59.339906: W ./tensorflow/core/util/ctc/ctc_loss_calculator.h:499] No valid path found.\n",
      "2024-11-24 00:22:59.339935: W ./tensorflow/core/util/ctc/ctc_loss_calculator.h:499] No valid path found.\n",
      "2024-11-24 00:22:59.339963: W ./tensorflow/core/util/ctc/ctc_loss_calculator.h:499] No valid path found.\n",
      "2024-11-24 00:22:59.339996: W ./tensorflow/core/util/ctc/ctc_loss_calculator.h:499] No valid path found.\n",
      "2024-11-24 00:22:59.340024: W ./tensorflow/core/util/ctc/ctc_loss_calculator.h:499] No valid path found.\n",
      "2024-11-24 00:22:59.340050: W ./tensorflow/core/util/ctc/ctc_loss_calculator.h:499] No valid path found.\n"
     ]
    },
    {
     "name": "stdout",
     "output_type": "stream",
     "text": [
      "\u001b[1m 951/3125\u001b[0m \u001b[32m━━━━━━\u001b[0m\u001b[37m━━━━━━━━━━━━━━\u001b[0m \u001b[1m7:44:12\u001b[0m 13s/step - loss: inf"
     ]
    },
    {
     "name": "stderr",
     "output_type": "stream",
     "text": [
      "2024-11-24 00:32:32.747504: W ./tensorflow/core/util/ctc/ctc_loss_calculator.h:499] No valid path found.\n",
      "2024-11-24 00:32:32.747567: W ./tensorflow/core/util/ctc/ctc_loss_calculator.h:499] No valid path found.\n",
      "2024-11-24 00:32:32.747593: W ./tensorflow/core/util/ctc/ctc_loss_calculator.h:499] No valid path found.\n",
      "2024-11-24 00:32:32.747633: W ./tensorflow/core/util/ctc/ctc_loss_calculator.h:499] No valid path found.\n",
      "2024-11-24 00:32:32.747662: W ./tensorflow/core/util/ctc/ctc_loss_calculator.h:499] No valid path found.\n",
      "2024-11-24 00:32:32.747718: W ./tensorflow/core/util/ctc/ctc_loss_calculator.h:499] No valid path found.\n",
      "2024-11-24 00:32:32.747855: W ./tensorflow/core/util/ctc/ctc_loss_calculator.h:499] No valid path found.\n"
     ]
    },
    {
     "name": "stdout",
     "output_type": "stream",
     "text": [
      "\u001b[1m1101/3125\u001b[0m \u001b[32m━━━━━━━\u001b[0m\u001b[37m━━━━━━━━━━━━━\u001b[0m \u001b[1m7:14:47\u001b[0m 13s/step - loss: inf"
     ]
    },
    {
     "name": "stderr",
     "output_type": "stream",
     "text": [
      "2024-11-24 01:05:59.403162: W ./tensorflow/core/util/ctc/ctc_loss_calculator.h:499] No valid path found.\n",
      "2024-11-24 01:05:59.403318: W ./tensorflow/core/util/ctc/ctc_loss_calculator.h:499] No valid path found.\n"
     ]
    },
    {
     "name": "stdout",
     "output_type": "stream",
     "text": [
      "\u001b[1m1173/3125\u001b[0m \u001b[32m━━━━━━━\u001b[0m\u001b[37m━━━━━━━━━━━━━\u001b[0m \u001b[1m7:00:48\u001b[0m 13s/step - loss: inf"
     ]
    },
    {
     "name": "stderr",
     "output_type": "stream",
     "text": [
      "2024-11-24 01:22:20.697855: W ./tensorflow/core/util/ctc/ctc_loss_calculator.h:499] No valid path found.\n",
      "2024-11-24 01:22:20.698384: W ./tensorflow/core/util/ctc/ctc_loss_calculator.h:499] No valid path found.\n",
      "2024-11-24 01:22:20.698411: W ./tensorflow/core/util/ctc/ctc_loss_calculator.h:499] No valid path found.\n"
     ]
    },
    {
     "name": "stdout",
     "output_type": "stream",
     "text": [
      "\u001b[1m1212/3125\u001b[0m \u001b[32m━━━━━━━\u001b[0m\u001b[37m━━━━━━━━━━━━━\u001b[0m \u001b[1m6:52:35\u001b[0m 13s/step - loss: inf"
     ]
    },
    {
     "name": "stderr",
     "output_type": "stream",
     "text": [
      "2024-11-24 01:30:52.331564: W ./tensorflow/core/util/ctc/ctc_loss_calculator.h:499] No valid path found.\n"
     ]
    },
    {
     "name": "stdout",
     "output_type": "stream",
     "text": [
      "\u001b[1m1239/3125\u001b[0m \u001b[32m━━━━━━━\u001b[0m\u001b[37m━━━━━━━━━━━━━\u001b[0m \u001b[1m6:45:56\u001b[0m 13s/step - loss: inf"
     ]
    },
    {
     "name": "stderr",
     "output_type": "stream",
     "text": [
      "2024-11-24 01:36:09.520796: W ./tensorflow/core/util/ctc/ctc_loss_calculator.h:499] No valid path found.\n",
      "2024-11-24 01:36:09.521028: W ./tensorflow/core/util/ctc/ctc_loss_calculator.h:499] No valid path found.\n",
      "2024-11-24 01:36:09.521085: W ./tensorflow/core/util/ctc/ctc_loss_calculator.h:499] No valid path found.\n",
      "2024-11-24 01:36:09.521126: W ./tensorflow/core/util/ctc/ctc_loss_calculator.h:499] No valid path found.\n",
      "2024-11-24 01:36:09.521294: W ./tensorflow/core/util/ctc/ctc_loss_calculator.h:499] No valid path found.\n",
      "2024-11-24 01:36:09.521461: W ./tensorflow/core/util/ctc/ctc_loss_calculator.h:499] No valid path found.\n",
      "2024-11-24 01:36:09.521487: W ./tensorflow/core/util/ctc/ctc_loss_calculator.h:499] No valid path found.\n",
      "2024-11-24 01:36:09.521922: W ./tensorflow/core/util/ctc/ctc_loss_calculator.h:499] No valid path found.\n"
     ]
    },
    {
     "name": "stdout",
     "output_type": "stream",
     "text": [
      "\u001b[1m1480/3125\u001b[0m \u001b[32m━━━━━━━━━\u001b[0m\u001b[37m━━━━━━━━━━━\u001b[0m \u001b[1m5:51:59\u001b[0m 13s/step - loss: inf"
     ]
    },
    {
     "name": "stderr",
     "output_type": "stream",
     "text": [
      "2024-11-24 02:26:09.168166: W ./tensorflow/core/util/ctc/ctc_loss_calculator.h:499] No valid path found.\n",
      "2024-11-24 02:26:09.168230: W ./tensorflow/core/util/ctc/ctc_loss_calculator.h:499] No valid path found.\n",
      "2024-11-24 02:26:09.168277: W ./tensorflow/core/util/ctc/ctc_loss_calculator.h:499] No valid path found.\n",
      "2024-11-24 02:26:09.168297: W ./tensorflow/core/util/ctc/ctc_loss_calculator.h:499] No valid path found.\n",
      "2024-11-24 02:26:09.168316: W ./tensorflow/core/util/ctc/ctc_loss_calculator.h:499] No valid path found.\n",
      "2024-11-24 02:26:09.168342: W ./tensorflow/core/util/ctc/ctc_loss_calculator.h:499] No valid path found.\n",
      "2024-11-24 02:26:09.168364: W ./tensorflow/core/util/ctc/ctc_loss_calculator.h:499] No valid path found.\n",
      "2024-11-24 02:26:09.168385: W ./tensorflow/core/util/ctc/ctc_loss_calculator.h:499] No valid path found.\n",
      "2024-11-24 02:26:09.168407: W ./tensorflow/core/util/ctc/ctc_loss_calculator.h:499] No valid path found.\n",
      "2024-11-24 02:26:09.168430: W ./tensorflow/core/util/ctc/ctc_loss_calculator.h:499] No valid path found.\n",
      "2024-11-24 02:26:09.168463: W ./tensorflow/core/util/ctc/ctc_loss_calculator.h:499] No valid path found.\n"
     ]
    },
    {
     "name": "stdout",
     "output_type": "stream",
     "text": [
      "\u001b[1m1642/3125\u001b[0m \u001b[32m━━━━━━━━━━\u001b[0m\u001b[37m━━━━━━━━━━\u001b[0m \u001b[1m5:16:48\u001b[0m 13s/step - loss: inf"
     ]
    },
    {
     "name": "stderr",
     "output_type": "stream",
     "text": [
      "2024-11-24 03:00:14.135477: W ./tensorflow/core/util/ctc/ctc_loss_calculator.h:499] No valid path found.\n"
     ]
    },
    {
     "name": "stdout",
     "output_type": "stream",
     "text": [
      "\u001b[1m1740/3125\u001b[0m \u001b[32m━━━━━━━━━━━\u001b[0m\u001b[37m━━━━━━━━━\u001b[0m \u001b[1m4:56:02\u001b[0m 13s/step - loss: inf"
     ]
    },
    {
     "name": "stderr",
     "output_type": "stream",
     "text": [
      "2024-11-24 03:21:23.688177: W ./tensorflow/core/util/ctc/ctc_loss_calculator.h:499] No valid path found.\n"
     ]
    },
    {
     "name": "stdout",
     "output_type": "stream",
     "text": [
      "\u001b[1m1841/3125\u001b[0m \u001b[32m━━━━━━━━━━━\u001b[0m\u001b[37m━━━━━━━━━\u001b[0m \u001b[1m4:34:18\u001b[0m 13s/step - loss: inf"
     ]
    },
    {
     "name": "stderr",
     "output_type": "stream",
     "text": [
      "2024-11-24 03:42:46.633564: W ./tensorflow/core/util/ctc/ctc_loss_calculator.h:499] No valid path found.\n",
      "2024-11-24 03:42:46.633761: W ./tensorflow/core/util/ctc/ctc_loss_calculator.h:499] No valid path found.\n",
      "2024-11-24 03:42:46.633788: W ./tensorflow/core/util/ctc/ctc_loss_calculator.h:499] No valid path found.\n"
     ]
    },
    {
     "name": "stdout",
     "output_type": "stream",
     "text": [
      "\u001b[1m1906/3125\u001b[0m \u001b[32m━━━━━━━━━━━━\u001b[0m\u001b[37m━━━━━━━━\u001b[0m \u001b[1m4:19:59\u001b[0m 13s/step - loss: inf"
     ]
    },
    {
     "name": "stderr",
     "output_type": "stream",
     "text": [
      "2024-11-24 03:55:58.677316: W ./tensorflow/core/util/ctc/ctc_loss_calculator.h:499] No valid path found.\n",
      "2024-11-24 03:55:58.677533: W ./tensorflow/core/util/ctc/ctc_loss_calculator.h:499] No valid path found.\n"
     ]
    },
    {
     "name": "stdout",
     "output_type": "stream",
     "text": [
      "\u001b[1m1934/3125\u001b[0m \u001b[32m━━━━━━━━━━━━\u001b[0m\u001b[37m━━━━━━━━\u001b[0m \u001b[1m4:13:59\u001b[0m 13s/step - loss: inf"
     ]
    },
    {
     "name": "stderr",
     "output_type": "stream",
     "text": [
      "2024-11-24 04:01:54.150224: W ./tensorflow/core/util/ctc/ctc_loss_calculator.h:499] No valid path found.\n"
     ]
    },
    {
     "name": "stdout",
     "output_type": "stream",
     "text": [
      "\u001b[1m2027/3125\u001b[0m \u001b[32m━━━━━━━━━━━━\u001b[0m\u001b[37m━━━━━━━━\u001b[0m \u001b[1m3:53:42\u001b[0m 13s/step - loss: inf"
     ]
    },
    {
     "name": "stderr",
     "output_type": "stream",
     "text": [
      "2024-11-24 04:20:56.048410: W ./tensorflow/core/util/ctc/ctc_loss_calculator.h:499] No valid path found.\n",
      "2024-11-24 04:20:56.048959: W ./tensorflow/core/util/ctc/ctc_loss_calculator.h:499] No valid path found.\n"
     ]
    },
    {
     "name": "stdout",
     "output_type": "stream",
     "text": [
      "\u001b[1m2205/3125\u001b[0m \u001b[32m━━━━━━━━━━━━━━\u001b[0m\u001b[37m━━━━━━\u001b[0m \u001b[1m3:14:28\u001b[0m 13s/step - loss: inf"
     ]
    },
    {
     "name": "stderr",
     "output_type": "stream",
     "text": [
      "2024-11-24 04:55:34.891404: W ./tensorflow/core/util/ctc/ctc_loss_calculator.h:499] No valid path found.\n",
      "2024-11-24 04:55:34.891477: W ./tensorflow/core/util/ctc/ctc_loss_calculator.h:499] No valid path found.\n",
      "2024-11-24 04:55:34.891513: W ./tensorflow/core/util/ctc/ctc_loss_calculator.h:499] No valid path found.\n",
      "2024-11-24 04:55:34.891575: W ./tensorflow/core/util/ctc/ctc_loss_calculator.h:499] No valid path found.\n",
      "2024-11-24 04:55:34.891598: W ./tensorflow/core/util/ctc/ctc_loss_calculator.h:499] No valid path found.\n",
      "2024-11-24 04:55:34.891623: W ./tensorflow/core/util/ctc/ctc_loss_calculator.h:499] No valid path found.\n"
     ]
    },
    {
     "name": "stdout",
     "output_type": "stream",
     "text": [
      "\u001b[1m2626/3125\u001b[0m \u001b[32m━━━━━━━━━━━━━━━━\u001b[0m\u001b[37m━━━━\u001b[0m \u001b[1m1:45:26\u001b[0m 13s/step - loss: inf"
     ]
    },
    {
     "name": "stderr",
     "output_type": "stream",
     "text": [
      "2024-11-24 06:24:19.402717: W ./tensorflow/core/util/ctc/ctc_loss_calculator.h:499] No valid path found.\n",
      "2024-11-24 06:24:19.402876: W ./tensorflow/core/util/ctc/ctc_loss_calculator.h:499] No valid path found.\n",
      "2024-11-24 06:24:19.402908: W ./tensorflow/core/util/ctc/ctc_loss_calculator.h:499] No valid path found.\n",
      "2024-11-24 06:24:19.402931: W ./tensorflow/core/util/ctc/ctc_loss_calculator.h:499] No valid path found.\n",
      "2024-11-24 06:24:19.402986: W ./tensorflow/core/util/ctc/ctc_loss_calculator.h:499] No valid path found.\n",
      "2024-11-24 06:24:19.403018: W ./tensorflow/core/util/ctc/ctc_loss_calculator.h:499] No valid path found.\n",
      "2024-11-24 06:24:19.403043: W ./tensorflow/core/util/ctc/ctc_loss_calculator.h:499] No valid path found.\n",
      "2024-11-24 06:24:19.403207: W ./tensorflow/core/util/ctc/ctc_loss_calculator.h:499] No valid path found.\n"
     ]
    },
    {
     "name": "stdout",
     "output_type": "stream",
     "text": [
      "\u001b[1m2789/3125\u001b[0m \u001b[32m━━━━━━━━━━━━━━━━━\u001b[0m\u001b[37m━━━\u001b[0m \u001b[1m1:10:45\u001b[0m 13s/step - loss: inf"
     ]
    },
    {
     "name": "stderr",
     "output_type": "stream",
     "text": [
      "2024-11-24 06:56:45.162935: W ./tensorflow/core/util/ctc/ctc_loss_calculator.h:499] No valid path found.\n",
      "2024-11-24 06:56:45.163108: W ./tensorflow/core/util/ctc/ctc_loss_calculator.h:499] No valid path found.\n",
      "2024-11-24 06:56:45.163613: W ./tensorflow/core/util/ctc/ctc_loss_calculator.h:499] No valid path found.\n"
     ]
    },
    {
     "name": "stdout",
     "output_type": "stream",
     "text": [
      "\u001b[1m2824/3125\u001b[0m \u001b[32m━━━━━━━━━━━━━━━━━━\u001b[0m\u001b[37m━━\u001b[0m \u001b[1m1:03:18\u001b[0m 13s/step - loss: inf"
     ]
    },
    {
     "name": "stderr",
     "output_type": "stream",
     "text": [
      "2024-11-24 07:03:26.092546: W ./tensorflow/core/util/ctc/ctc_loss_calculator.h:499] No valid path found.\n",
      "2024-11-24 07:03:26.092631: W ./tensorflow/core/util/ctc/ctc_loss_calculator.h:499] No valid path found.\n",
      "2024-11-24 07:03:26.092684: W ./tensorflow/core/util/ctc/ctc_loss_calculator.h:499] No valid path found.\n"
     ]
    },
    {
     "name": "stdout",
     "output_type": "stream",
     "text": [
      "\u001b[1m2856/3125\u001b[0m \u001b[32m━━━━━━━━━━━━━━━━━━\u001b[0m\u001b[37m━━\u001b[0m \u001b[1m56:29\u001b[0m 13s/step - loss: inf"
     ]
    },
    {
     "name": "stderr",
     "output_type": "stream",
     "text": [
      "2024-11-24 07:09:10.636846: W ./tensorflow/core/util/ctc/ctc_loss_calculator.h:499] No valid path found.\n"
     ]
    },
    {
     "name": "stdout",
     "output_type": "stream",
     "text": [
      "\u001b[1m2988/3125\u001b[0m \u001b[32m━━━━━━━━━━━━━━━━━━━\u001b[0m\u001b[37m━\u001b[0m \u001b[1m28:40\u001b[0m 13s/step - loss: inf"
     ]
    },
    {
     "name": "stderr",
     "output_type": "stream",
     "text": [
      "2024-11-24 07:34:56.558502: W ./tensorflow/core/util/ctc/ctc_loss_calculator.h:499] No valid path found.\n",
      "2024-11-24 07:34:56.558577: W ./tensorflow/core/util/ctc/ctc_loss_calculator.h:499] No valid path found.\n",
      "2024-11-24 07:34:56.558632: W ./tensorflow/core/util/ctc/ctc_loss_calculator.h:499] No valid path found.\n",
      "2024-11-24 07:34:56.558654: W ./tensorflow/core/util/ctc/ctc_loss_calculator.h:499] No valid path found.\n",
      "2024-11-24 07:34:56.558830: W ./tensorflow/core/util/ctc/ctc_loss_calculator.h:499] No valid path found.\n"
     ]
    },
    {
     "name": "stdout",
     "output_type": "stream",
     "text": [
      "\u001b[1m3009/3125\u001b[0m \u001b[32m━━━━━━━━━━━━━━━━━━━\u001b[0m\u001b[37m━\u001b[0m \u001b[1m24:15\u001b[0m 13s/step - loss: inf"
     ]
    },
    {
     "name": "stderr",
     "output_type": "stream",
     "text": [
      "2024-11-24 07:38:49.914930: W ./tensorflow/core/util/ctc/ctc_loss_calculator.h:499] No valid path found.\n",
      "2024-11-24 07:38:49.915027: W ./tensorflow/core/util/ctc/ctc_loss_calculator.h:499] No valid path found.\n",
      "2024-11-24 07:38:49.915068: W ./tensorflow/core/util/ctc/ctc_loss_calculator.h:499] No valid path found.\n",
      "2024-11-24 07:38:49.915105: W ./tensorflow/core/util/ctc/ctc_loss_calculator.h:499] No valid path found.\n",
      "2024-11-24 07:38:49.915134: W ./tensorflow/core/util/ctc/ctc_loss_calculator.h:499] No valid path found.\n",
      "2024-11-24 07:38:49.915185: W ./tensorflow/core/util/ctc/ctc_loss_calculator.h:499] No valid path found.\n",
      "2024-11-24 07:38:49.915212: W ./tensorflow/core/util/ctc/ctc_loss_calculator.h:499] No valid path found.\n",
      "2024-11-24 07:38:49.915233: W ./tensorflow/core/util/ctc/ctc_loss_calculator.h:499] No valid path found.\n",
      "2024-11-24 07:38:49.915265: W ./tensorflow/core/util/ctc/ctc_loss_calculator.h:499] No valid path found.\n",
      "2024-11-24 07:38:49.915280: W ./tensorflow/core/util/ctc/ctc_loss_calculator.h:499] No valid path found.\n",
      "2024-11-24 07:38:49.915301: W ./tensorflow/core/util/ctc/ctc_loss_calculator.h:499] No valid path found.\n",
      "2024-11-24 07:38:49.915457: W ./tensorflow/core/util/ctc/ctc_loss_calculator.h:499] No valid path found.\n"
     ]
    },
    {
     "name": "stdout",
     "output_type": "stream",
     "text": [
      "\u001b[1m3124/3125\u001b[0m \u001b[32m━━━━━━━━━━━━━━━━━━━\u001b[0m\u001b[37m━\u001b[0m \u001b[1m12s\u001b[0m 13s/step - loss: inf"
     ]
    },
    {
     "name": "stderr",
     "output_type": "stream",
     "text": [
      "2024-11-24 08:01:19.549531: W ./tensorflow/core/util/ctc/ctc_loss_calculator.h:499] No valid path found.\n",
      "2024-11-24 08:01:19.549606: W ./tensorflow/core/util/ctc/ctc_loss_calculator.h:499] No valid path found.\n",
      "2024-11-24 08:01:19.549659: W ./tensorflow/core/util/ctc/ctc_loss_calculator.h:499] No valid path found.\n",
      "2024-11-24 08:01:19.549684: W ./tensorflow/core/util/ctc/ctc_loss_calculator.h:499] No valid path found.\n",
      "2024-11-24 08:01:19.549703: W ./tensorflow/core/util/ctc/ctc_loss_calculator.h:499] No valid path found.\n",
      "2024-11-24 08:01:19.549726: W ./tensorflow/core/util/ctc/ctc_loss_calculator.h:499] No valid path found.\n",
      "2024-11-24 08:01:19.549751: W ./tensorflow/core/util/ctc/ctc_loss_calculator.h:499] No valid path found.\n",
      "2024-11-24 08:01:19.549776: W ./tensorflow/core/util/ctc/ctc_loss_calculator.h:499] No valid path found.\n",
      "2024-11-24 08:01:19.549796: W ./tensorflow/core/util/ctc/ctc_loss_calculator.h:499] No valid path found.\n",
      "2024-11-24 08:01:19.549816: W ./tensorflow/core/util/ctc/ctc_loss_calculator.h:499] No valid path found.\n",
      "2024-11-24 08:01:19.549829: W ./tensorflow/core/util/ctc/ctc_loss_calculator.h:499] No valid path found.\n",
      "2024-11-24 08:01:19.549851: W ./tensorflow/core/util/ctc/ctc_loss_calculator.h:499] No valid path found.\n",
      "2024-11-24 08:01:19.549869: W ./tensorflow/core/util/ctc/ctc_loss_calculator.h:499] No valid path found.\n",
      "2024-11-24 08:01:19.549890: W ./tensorflow/core/util/ctc/ctc_loss_calculator.h:499] No valid path found.\n",
      "2024-11-24 08:01:19.549911: W ./tensorflow/core/util/ctc/ctc_loss_calculator.h:499] No valid path found.\n"
     ]
    },
    {
     "name": "stdout",
     "output_type": "stream",
     "text": [
      "\u001b[1m3125/3125\u001b[0m \u001b[32m━━━━━━━━━━━━━━━━━━━━\u001b[0m\u001b[37m\u001b[0m \u001b[1m0s\u001b[0m 13s/step - loss: inf "
     ]
    },
    {
     "name": "stderr",
     "output_type": "stream",
     "text": [
      "2024-11-24 08:02:44.470184: W ./tensorflow/core/util/ctc/ctc_loss_calculator.h:499] No valid path found.\n",
      "2024-11-24 08:05:33.300938: W ./tensorflow/core/util/ctc/ctc_loss_calculator.h:499] No valid path found.\n",
      "2024-11-24 08:05:33.301057: W ./tensorflow/core/util/ctc/ctc_loss_calculator.h:499] No valid path found.\n",
      "2024-11-24 08:05:33.301095: W ./tensorflow/core/util/ctc/ctc_loss_calculator.h:499] No valid path found.\n",
      "2024-11-24 08:05:33.301118: W ./tensorflow/core/util/ctc/ctc_loss_calculator.h:499] No valid path found.\n",
      "2024-11-24 08:05:33.301141: W ./tensorflow/core/util/ctc/ctc_loss_calculator.h:499] No valid path found.\n",
      "2024-11-24 08:05:33.301261: W ./tensorflow/core/util/ctc/ctc_loss_calculator.h:499] No valid path found.\n",
      "2024-11-24 08:05:33.301433: W ./tensorflow/core/util/ctc/ctc_loss_calculator.h:499] No valid path found.\n",
      "2024-11-24 08:05:33.301456: W ./tensorflow/core/util/ctc/ctc_loss_calculator.h:499] No valid path found.\n",
      "2024-11-24 08:05:33.301481: W ./tensorflow/core/util/ctc/ctc_loss_calculator.h:499] No valid path found.\n",
      "2024-11-24 08:05:33.301503: W ./tensorflow/core/util/ctc/ctc_loss_calculator.h:499] No valid path found.\n",
      "2024-11-24 08:05:33.301523: W ./tensorflow/core/util/ctc/ctc_loss_calculator.h:499] No valid path found.\n",
      "2024-11-24 08:05:33.301547: W ./tensorflow/core/util/ctc/ctc_loss_calculator.h:499] No valid path found.\n",
      "2024-11-24 08:05:33.301567: W ./tensorflow/core/util/ctc/ctc_loss_calculator.h:499] No valid path found.\n"
     ]
    },
    {
     "name": "stdout",
     "output_type": "stream",
     "text": [
      "\u001b[1m1/1\u001b[0m \u001b[32m━━━━━━━━━━━━━━━━━━━━\u001b[0m\u001b[37m\u001b[0m \u001b[1m1s\u001b[0m 1s/step\n",
      "\u001b[1m1/1\u001b[0m \u001b[32m━━━━━━━━━━━━━━━━━━━━\u001b[0m\u001b[37m\u001b[0m \u001b[1m1s\u001b[0m 969ms/step\n",
      "\u001b[1m1/1\u001b[0m \u001b[32m━━━━━━━━━━━━━━━━━━━━\u001b[0m\u001b[37m\u001b[0m \u001b[1m1s\u001b[0m 1s/step\n",
      "\u001b[1m1/1\u001b[0m \u001b[32m━━━━━━━━━━━━━━━━━━━━\u001b[0m\u001b[37m\u001b[0m \u001b[1m1s\u001b[0m 1s/step\n",
      "\u001b[1m1/1\u001b[0m \u001b[32m━━━━━━━━━━━━━━━━━━━━\u001b[0m\u001b[37m\u001b[0m \u001b[1m1s\u001b[0m 1s/step\n",
      "\u001b[1m1/1\u001b[0m \u001b[32m━━━━━━━━━━━━━━━━━━━━\u001b[0m\u001b[37m\u001b[0m \u001b[1m1s\u001b[0m 1s/step\n",
      "\u001b[1m1/1\u001b[0m \u001b[32m━━━━━━━━━━━━━━━━━━━━\u001b[0m\u001b[37m\u001b[0m \u001b[1m2s\u001b[0m 2s/step\n",
      "\u001b[1m1/1\u001b[0m \u001b[32m━━━━━━━━━━━━━━━━━━━━\u001b[0m\u001b[37m\u001b[0m \u001b[1m2s\u001b[0m 2s/step\n",
      "\u001b[1m1/1\u001b[0m \u001b[32m━━━━━━━━━━━━━━━━━━━━\u001b[0m\u001b[37m\u001b[0m \u001b[1m1s\u001b[0m 1s/step\n",
      "\u001b[1m1/1\u001b[0m \u001b[32m━━━━━━━━━━━━━━━━━━━━\u001b[0m\u001b[37m\u001b[0m \u001b[1m1s\u001b[0m 1s/step\n",
      "\u001b[1m1/1\u001b[0m \u001b[32m━━━━━━━━━━━━━━━━━━━━\u001b[0m\u001b[37m\u001b[0m \u001b[1m1s\u001b[0m 1s/step\n",
      "\u001b[1m1/1\u001b[0m \u001b[32m━━━━━━━━━━━━━━━━━━━━\u001b[0m\u001b[37m\u001b[0m \u001b[1m1s\u001b[0m 1s/step\n",
      "\u001b[1m1/1\u001b[0m \u001b[32m━━━━━━━━━━━━━━━━━━━━\u001b[0m\u001b[37m\u001b[0m \u001b[1m1s\u001b[0m 1s/step\n",
      "\u001b[1m1/1\u001b[0m \u001b[32m━━━━━━━━━━━━━━━━━━━━\u001b[0m\u001b[37m\u001b[0m \u001b[1m1s\u001b[0m 1s/step\n",
      "\u001b[1m1/1\u001b[0m \u001b[32m━━━━━━━━━━━━━━━━━━━━\u001b[0m\u001b[37m\u001b[0m \u001b[1m1s\u001b[0m 1s/step\n",
      "\u001b[1m1/1\u001b[0m \u001b[32m━━━━━━━━━━━━━━━━━━━━\u001b[0m\u001b[37m\u001b[0m \u001b[1m1s\u001b[0m 1s/step\n",
      "\u001b[1m1/1\u001b[0m \u001b[32m━━━━━━━━━━━━━━━━━━━━\u001b[0m\u001b[37m\u001b[0m \u001b[1m1s\u001b[0m 1s/step\n",
      "\u001b[1m1/1\u001b[0m \u001b[32m━━━━━━━━━━━━━━━━━━━━\u001b[0m\u001b[37m\u001b[0m \u001b[1m1s\u001b[0m 1s/step\n",
      "\u001b[1m1/1\u001b[0m \u001b[32m━━━━━━━━━━━━━━━━━━━━\u001b[0m\u001b[37m\u001b[0m \u001b[1m1s\u001b[0m 1s/step\n",
      "\u001b[1m1/1\u001b[0m \u001b[32m━━━━━━━━━━━━━━━━━━━━\u001b[0m\u001b[37m\u001b[0m \u001b[1m1s\u001b[0m 1s/step\n",
      "\u001b[1m1/1\u001b[0m \u001b[32m━━━━━━━━━━━━━━━━━━━━\u001b[0m\u001b[37m\u001b[0m \u001b[1m1s\u001b[0m 1s/step\n",
      "\u001b[1m1/1\u001b[0m \u001b[32m━━━━━━━━━━━━━━━━━━━━\u001b[0m\u001b[37m\u001b[0m \u001b[1m1s\u001b[0m 1s/step\n",
      "\u001b[1m1/1\u001b[0m \u001b[32m━━━━━━━━━━━━━━━━━━━━\u001b[0m\u001b[37m\u001b[0m \u001b[1m2s\u001b[0m 2s/step\n",
      "\u001b[1m1/1\u001b[0m \u001b[32m━━━━━━━━━━━━━━━━━━━━\u001b[0m\u001b[37m\u001b[0m \u001b[1m2s\u001b[0m 2s/step\n",
      "\u001b[1m1/1\u001b[0m \u001b[32m━━━━━━━━━━━━━━━━━━━━\u001b[0m\u001b[37m\u001b[0m \u001b[1m2s\u001b[0m 2s/step\n",
      "\u001b[1m1/1\u001b[0m \u001b[32m━━━━━━━━━━━━━━━━━━━━\u001b[0m\u001b[37m\u001b[0m \u001b[1m1s\u001b[0m 1s/step\n",
      "\u001b[1m1/1\u001b[0m \u001b[32m━━━━━━━━━━━━━━━━━━━━\u001b[0m\u001b[37m\u001b[0m \u001b[1m1s\u001b[0m 1s/step\n",
      "\u001b[1m1/1\u001b[0m \u001b[32m━━━━━━━━━━━━━━━━━━━━\u001b[0m\u001b[37m\u001b[0m \u001b[1m1s\u001b[0m 1s/step\n",
      "\u001b[1m1/1\u001b[0m \u001b[32m━━━━━━━━━━━━━━━━━━━━\u001b[0m\u001b[37m\u001b[0m \u001b[1m2s\u001b[0m 2s/step\n",
      "\u001b[1m1/1\u001b[0m \u001b[32m━━━━━━━━━━━━━━━━━━━━\u001b[0m\u001b[37m\u001b[0m \u001b[1m1s\u001b[0m 1s/step\n",
      "\u001b[1m1/1\u001b[0m \u001b[32m━━━━━━━━━━━━━━━━━━━━\u001b[0m\u001b[37m\u001b[0m \u001b[1m1s\u001b[0m 1s/step\n",
      "\u001b[1m1/1\u001b[0m \u001b[32m━━━━━━━━━━━━━━━━━━━━\u001b[0m\u001b[37m\u001b[0m \u001b[1m1s\u001b[0m 1s/step\n",
      "\u001b[1m1/1\u001b[0m \u001b[32m━━━━━━━━━━━━━━━━━━━━\u001b[0m\u001b[37m\u001b[0m \u001b[1m2s\u001b[0m 2s/step\n",
      "\u001b[1m1/1\u001b[0m \u001b[32m━━━━━━━━━━━━━━━━━━━━\u001b[0m\u001b[37m\u001b[0m \u001b[1m1s\u001b[0m 1s/step\n",
      "\u001b[1m1/1\u001b[0m \u001b[32m━━━━━━━━━━━━━━━━━━━━\u001b[0m\u001b[37m\u001b[0m \u001b[1m1s\u001b[0m 1s/step\n",
      "\u001b[1m1/1\u001b[0m \u001b[32m━━━━━━━━━━━━━━━━━━━━\u001b[0m\u001b[37m\u001b[0m \u001b[1m1s\u001b[0m 1s/step\n",
      "\u001b[1m1/1\u001b[0m \u001b[32m━━━━━━━━━━━━━━━━━━━━\u001b[0m\u001b[37m\u001b[0m \u001b[1m1s\u001b[0m 1s/step\n",
      "\u001b[1m1/1\u001b[0m \u001b[32m━━━━━━━━━━━━━━━━━━━━\u001b[0m\u001b[37m\u001b[0m \u001b[1m1s\u001b[0m 1s/step\n",
      "\u001b[1m1/1\u001b[0m \u001b[32m━━━━━━━━━━━━━━━━━━━━\u001b[0m\u001b[37m\u001b[0m \u001b[1m2s\u001b[0m 2s/step\n",
      "\u001b[1m1/1\u001b[0m \u001b[32m━━━━━━━━━━━━━━━━━━━━\u001b[0m\u001b[37m\u001b[0m \u001b[1m2s\u001b[0m 2s/step\n",
      "\u001b[1m1/1\u001b[0m \u001b[32m━━━━━━━━━━━━━━━━━━━━\u001b[0m\u001b[37m\u001b[0m \u001b[1m1s\u001b[0m 1s/step\n",
      "\u001b[1m1/1\u001b[0m \u001b[32m━━━━━━━━━━━━━━━━━━━━\u001b[0m\u001b[37m\u001b[0m \u001b[1m1s\u001b[0m 1s/step\n",
      "\u001b[1m1/1\u001b[0m \u001b[32m━━━━━━━━━━━━━━━━━━━━\u001b[0m\u001b[37m\u001b[0m \u001b[1m1s\u001b[0m 881ms/step\n",
      "\u001b[1m1/1\u001b[0m \u001b[32m━━━━━━━━━━━━━━━━━━━━\u001b[0m\u001b[37m\u001b[0m \u001b[1m1s\u001b[0m 1s/step\n",
      "\u001b[1m1/1\u001b[0m \u001b[32m━━━━━━━━━━━━━━━━━━━━\u001b[0m\u001b[37m\u001b[0m \u001b[1m1s\u001b[0m 1s/step\n",
      "\u001b[1m1/1\u001b[0m \u001b[32m━━━━━━━━━━━━━━━━━━━━\u001b[0m\u001b[37m\u001b[0m \u001b[1m2s\u001b[0m 2s/step\n",
      "\u001b[1m1/1\u001b[0m \u001b[32m━━━━━━━━━━━━━━━━━━━━\u001b[0m\u001b[37m\u001b[0m \u001b[1m1s\u001b[0m 1s/step\n",
      "\u001b[1m1/1\u001b[0m \u001b[32m━━━━━━━━━━━━━━━━━━━━\u001b[0m\u001b[37m\u001b[0m \u001b[1m2s\u001b[0m 2s/step\n",
      "\u001b[1m1/1\u001b[0m \u001b[32m━━━━━━━━━━━━━━━━━━━━\u001b[0m\u001b[37m\u001b[0m \u001b[1m2s\u001b[0m 2s/step\n",
      "\u001b[1m1/1\u001b[0m \u001b[32m━━━━━━━━━━━━━━━━━━━━\u001b[0m\u001b[37m\u001b[0m \u001b[1m1s\u001b[0m 1s/step\n",
      "\u001b[1m1/1\u001b[0m \u001b[32m━━━━━━━━━━━━━━━━━━━━\u001b[0m\u001b[37m\u001b[0m \u001b[1m1s\u001b[0m 1s/step\n",
      "\u001b[1m1/1\u001b[0m \u001b[32m━━━━━━━━━━━━━━━━━━━━\u001b[0m\u001b[37m\u001b[0m \u001b[1m2s\u001b[0m 2s/step\n",
      "\u001b[1m1/1\u001b[0m \u001b[32m━━━━━━━━━━━━━━━━━━━━\u001b[0m\u001b[37m\u001b[0m \u001b[1m1s\u001b[0m 1s/step\n",
      "\u001b[1m1/1\u001b[0m \u001b[32m━━━━━━━━━━━━━━━━━━━━\u001b[0m\u001b[37m\u001b[0m \u001b[1m1s\u001b[0m 1s/step\n",
      "\u001b[1m1/1\u001b[0m \u001b[32m━━━━━━━━━━━━━━━━━━━━\u001b[0m\u001b[37m\u001b[0m \u001b[1m1s\u001b[0m 1s/step\n",
      "\u001b[1m1/1\u001b[0m \u001b[32m━━━━━━━━━━━━━━━━━━━━\u001b[0m\u001b[37m\u001b[0m \u001b[1m1s\u001b[0m 1s/step\n",
      "\u001b[1m1/1\u001b[0m \u001b[32m━━━━━━━━━━━━━━━━━━━━\u001b[0m\u001b[37m\u001b[0m \u001b[1m1s\u001b[0m 1s/step\n",
      "\u001b[1m1/1\u001b[0m \u001b[32m━━━━━━━━━━━━━━━━━━━━\u001b[0m\u001b[37m\u001b[0m \u001b[1m1s\u001b[0m 1s/step\n",
      "\u001b[1m1/1\u001b[0m \u001b[32m━━━━━━━━━━━━━━━━━━━━\u001b[0m\u001b[37m\u001b[0m \u001b[1m2s\u001b[0m 2s/step\n",
      "\u001b[1m1/1\u001b[0m \u001b[32m━━━━━━━━━━━━━━━━━━━━\u001b[0m\u001b[37m\u001b[0m \u001b[1m1s\u001b[0m 1s/step\n",
      "\u001b[1m1/1\u001b[0m \u001b[32m━━━━━━━━━━━━━━━━━━━━\u001b[0m\u001b[37m\u001b[0m \u001b[1m1s\u001b[0m 1s/step\n",
      "\u001b[1m1/1\u001b[0m \u001b[32m━━━━━━━━━━━━━━━━━━━━\u001b[0m\u001b[37m\u001b[0m \u001b[1m1s\u001b[0m 1s/step\n",
      "\u001b[1m1/1\u001b[0m \u001b[32m━━━━━━━━━━━━━━━━━━━━\u001b[0m\u001b[37m\u001b[0m \u001b[1m2s\u001b[0m 2s/step\n",
      "\u001b[1m1/1\u001b[0m \u001b[32m━━━━━━━━━━━━━━━━━━━━\u001b[0m\u001b[37m\u001b[0m \u001b[1m2s\u001b[0m 2s/step\n",
      "\u001b[1m1/1\u001b[0m \u001b[32m━━━━━━━━━━━━━━━━━━━━\u001b[0m\u001b[37m\u001b[0m \u001b[1m1s\u001b[0m 1s/step\n",
      "\u001b[1m1/1\u001b[0m \u001b[32m━━━━━━━━━━━━━━━━━━━━\u001b[0m\u001b[37m\u001b[0m \u001b[1m2s\u001b[0m 2s/step\n",
      "\u001b[1m1/1\u001b[0m \u001b[32m━━━━━━━━━━━━━━━━━━━━\u001b[0m\u001b[37m\u001b[0m \u001b[1m1s\u001b[0m 1s/step\n",
      "\u001b[1m1/1\u001b[0m \u001b[32m━━━━━━━━━━━━━━━━━━━━\u001b[0m\u001b[37m\u001b[0m \u001b[1m1s\u001b[0m 1s/step\n",
      "\u001b[1m1/1\u001b[0m \u001b[32m━━━━━━━━━━━━━━━━━━━━\u001b[0m\u001b[37m\u001b[0m \u001b[1m2s\u001b[0m 2s/step\n",
      "\u001b[1m1/1\u001b[0m \u001b[32m━━━━━━━━━━━━━━━━━━━━\u001b[0m\u001b[37m\u001b[0m \u001b[1m1s\u001b[0m 1s/step\n",
      "\u001b[1m1/1\u001b[0m \u001b[32m━━━━━━━━━━━━━━━━━━━━\u001b[0m\u001b[37m\u001b[0m \u001b[1m2s\u001b[0m 2s/step\n",
      "\u001b[1m1/1\u001b[0m \u001b[32m━━━━━━━━━━━━━━━━━━━━\u001b[0m\u001b[37m\u001b[0m \u001b[1m1s\u001b[0m 1s/step\n",
      "\u001b[1m1/1\u001b[0m \u001b[32m━━━━━━━━━━━━━━━━━━━━\u001b[0m\u001b[37m\u001b[0m \u001b[1m1s\u001b[0m 985ms/step\n",
      "\u001b[1m1/1\u001b[0m \u001b[32m━━━━━━━━━━━━━━━━━━━━\u001b[0m\u001b[37m\u001b[0m \u001b[1m2s\u001b[0m 2s/step\n",
      "\u001b[1m1/1\u001b[0m \u001b[32m━━━━━━━━━━━━━━━━━━━━\u001b[0m\u001b[37m\u001b[0m \u001b[1m1s\u001b[0m 1s/step\n",
      "\u001b[1m1/1\u001b[0m \u001b[32m━━━━━━━━━━━━━━━━━━━━\u001b[0m\u001b[37m\u001b[0m \u001b[1m1s\u001b[0m 896ms/step\n",
      "\u001b[1m1/1\u001b[0m \u001b[32m━━━━━━━━━━━━━━━━━━━━\u001b[0m\u001b[37m\u001b[0m \u001b[1m2s\u001b[0m 2s/step\n",
      "\u001b[1m1/1\u001b[0m \u001b[32m━━━━━━━━━━━━━━━━━━━━\u001b[0m\u001b[37m\u001b[0m \u001b[1m1s\u001b[0m 1s/step\n",
      "\u001b[1m1/1\u001b[0m \u001b[32m━━━━━━━━━━━━━━━━━━━━\u001b[0m\u001b[37m\u001b[0m \u001b[1m1s\u001b[0m 893ms/step\n",
      "\u001b[1m1/1\u001b[0m \u001b[32m━━━━━━━━━━━━━━━━━━━━\u001b[0m\u001b[37m\u001b[0m \u001b[1m1s\u001b[0m 899ms/step\n",
      "\u001b[1m1/1\u001b[0m \u001b[32m━━━━━━━━━━━━━━━━━━━━\u001b[0m\u001b[37m\u001b[0m \u001b[1m1s\u001b[0m 1s/step\n",
      "\u001b[1m1/1\u001b[0m \u001b[32m━━━━━━━━━━━━━━━━━━━━\u001b[0m\u001b[37m\u001b[0m \u001b[1m1s\u001b[0m 917ms/step\n",
      "\u001b[1m1/1\u001b[0m \u001b[32m━━━━━━━━━━━━━━━━━━━━\u001b[0m\u001b[37m\u001b[0m \u001b[1m1s\u001b[0m 1s/step\n",
      "\u001b[1m1/1\u001b[0m \u001b[32m━━━━━━━━━━━━━━━━━━━━\u001b[0m\u001b[37m\u001b[0m \u001b[1m1s\u001b[0m 1s/step\n",
      "\u001b[1m1/1\u001b[0m \u001b[32m━━━━━━━━━━━━━━━━━━━━\u001b[0m\u001b[37m\u001b[0m \u001b[1m2s\u001b[0m 2s/step\n",
      "\u001b[1m1/1\u001b[0m \u001b[32m━━━━━━━━━━━━━━━━━━━━\u001b[0m\u001b[37m\u001b[0m \u001b[1m2s\u001b[0m 2s/step\n",
      "\u001b[1m1/1\u001b[0m \u001b[32m━━━━━━━━━━━━━━━━━━━━\u001b[0m\u001b[37m\u001b[0m \u001b[1m1s\u001b[0m 1s/step\n",
      "\u001b[1m1/1\u001b[0m \u001b[32m━━━━━━━━━━━━━━━━━━━━\u001b[0m\u001b[37m\u001b[0m \u001b[1m1s\u001b[0m 1s/step\n",
      "\u001b[1m1/1\u001b[0m \u001b[32m━━━━━━━━━━━━━━━━━━━━\u001b[0m\u001b[37m\u001b[0m \u001b[1m1s\u001b[0m 1s/step\n",
      "\u001b[1m1/1\u001b[0m \u001b[32m━━━━━━━━━━━━━━━━━━━━\u001b[0m\u001b[37m\u001b[0m \u001b[1m2s\u001b[0m 2s/step\n",
      "\u001b[1m1/1\u001b[0m \u001b[32m━━━━━━━━━━━━━━━━━━━━\u001b[0m\u001b[37m\u001b[0m \u001b[1m2s\u001b[0m 2s/step\n",
      "\u001b[1m1/1\u001b[0m \u001b[32m━━━━━━━━━━━━━━━━━━━━\u001b[0m\u001b[37m\u001b[0m \u001b[1m1s\u001b[0m 1s/step\n",
      "\u001b[1m1/1\u001b[0m \u001b[32m━━━━━━━━━━━━━━━━━━━━\u001b[0m\u001b[37m\u001b[0m \u001b[1m1s\u001b[0m 1s/step\n",
      "\u001b[1m1/1\u001b[0m \u001b[32m━━━━━━━━━━━━━━━━━━━━\u001b[0m\u001b[37m\u001b[0m \u001b[1m2s\u001b[0m 2s/step\n",
      "\u001b[1m1/1\u001b[0m \u001b[32m━━━━━━━━━━━━━━━━━━━━\u001b[0m\u001b[37m\u001b[0m \u001b[1m1s\u001b[0m 1s/step\n",
      "\u001b[1m1/1\u001b[0m \u001b[32m━━━━━━━━━━━━━━━━━━━━\u001b[0m\u001b[37m\u001b[0m \u001b[1m1s\u001b[0m 1s/step\n",
      "\u001b[1m1/1\u001b[0m \u001b[32m━━━━━━━━━━━━━━━━━━━━\u001b[0m\u001b[37m\u001b[0m \u001b[1m1s\u001b[0m 1s/step\n",
      "\u001b[1m1/1\u001b[0m \u001b[32m━━━━━━━━━━━━━━━━━━━━\u001b[0m\u001b[37m\u001b[0m \u001b[1m1s\u001b[0m 1s/step\n",
      "\u001b[1m1/1\u001b[0m \u001b[32m━━━━━━━━━━━━━━━━━━━━\u001b[0m\u001b[37m\u001b[0m \u001b[1m1s\u001b[0m 1s/step\n",
      "\u001b[1m1/1\u001b[0m \u001b[32m━━━━━━━━━━━━━━━━━━━━\u001b[0m\u001b[37m\u001b[0m \u001b[1m1s\u001b[0m 1s/step\n",
      "\u001b[1m1/1\u001b[0m \u001b[32m━━━━━━━━━━━━━━━━━━━━\u001b[0m\u001b[37m\u001b[0m \u001b[1m1s\u001b[0m 1s/step\n",
      "\u001b[1m1/1\u001b[0m \u001b[32m━━━━━━━━━━━━━━━━━━━━\u001b[0m\u001b[37m\u001b[0m \u001b[1m1s\u001b[0m 1s/step\n",
      "\u001b[1m1/1\u001b[0m \u001b[32m━━━━━━━━━━━━━━━━━━━━\u001b[0m\u001b[37m\u001b[0m \u001b[1m2s\u001b[0m 2s/step\n",
      "\u001b[1m1/1\u001b[0m \u001b[32m━━━━━━━━━━━━━━━━━━━━\u001b[0m\u001b[37m\u001b[0m \u001b[1m1s\u001b[0m 1s/step\n",
      "\u001b[1m1/1\u001b[0m \u001b[32m━━━━━━━━━━━━━━━━━━━━\u001b[0m\u001b[37m\u001b[0m \u001b[1m2s\u001b[0m 2s/step\n",
      "\u001b[1m1/1\u001b[0m \u001b[32m━━━━━━━━━━━━━━━━━━━━\u001b[0m\u001b[37m\u001b[0m \u001b[1m1s\u001b[0m 1s/step\n",
      "\u001b[1m1/1\u001b[0m \u001b[32m━━━━━━━━━━━━━━━━━━━━\u001b[0m\u001b[37m\u001b[0m \u001b[1m1s\u001b[0m 1s/step\n",
      "\u001b[1m1/1\u001b[0m \u001b[32m━━━━━━━━━━━━━━━━━━━━\u001b[0m\u001b[37m\u001b[0m \u001b[1m2s\u001b[0m 2s/step\n",
      "\u001b[1m1/1\u001b[0m \u001b[32m━━━━━━━━━━━━━━━━━━━━\u001b[0m\u001b[37m\u001b[0m \u001b[1m2s\u001b[0m 2s/step\n",
      "\u001b[1m1/1\u001b[0m \u001b[32m━━━━━━━━━━━━━━━━━━━━\u001b[0m\u001b[37m\u001b[0m \u001b[1m2s\u001b[0m 2s/step\n",
      "\u001b[1m1/1\u001b[0m \u001b[32m━━━━━━━━━━━━━━━━━━━━\u001b[0m\u001b[37m\u001b[0m \u001b[1m1s\u001b[0m 1s/step\n",
      "\u001b[1m1/1\u001b[0m \u001b[32m━━━━━━━━━━━━━━━━━━━━\u001b[0m\u001b[37m\u001b[0m \u001b[1m1s\u001b[0m 1s/step\n",
      "\u001b[1m1/1\u001b[0m \u001b[32m━━━━━━━━━━━━━━━━━━━━\u001b[0m\u001b[37m\u001b[0m \u001b[1m2s\u001b[0m 2s/step\n",
      "\u001b[1m1/1\u001b[0m \u001b[32m━━━━━━━━━━━━━━━━━━━━\u001b[0m\u001b[37m\u001b[0m \u001b[1m1s\u001b[0m 1s/step\n",
      "\u001b[1m1/1\u001b[0m \u001b[32m━━━━━━━━━━━━━━━━━━━━\u001b[0m\u001b[37m\u001b[0m \u001b[1m2s\u001b[0m 2s/step\n",
      "\u001b[1m1/1\u001b[0m \u001b[32m━━━━━━━━━━━━━━━━━━━━\u001b[0m\u001b[37m\u001b[0m \u001b[1m2s\u001b[0m 2s/step\n",
      "\u001b[1m1/1\u001b[0m \u001b[32m━━━━━━━━━━━━━━━━━━━━\u001b[0m\u001b[37m\u001b[0m \u001b[1m1s\u001b[0m 1s/step\n",
      "\u001b[1m1/1\u001b[0m \u001b[32m━━━━━━━━━━━━━━━━━━━━\u001b[0m\u001b[37m\u001b[0m \u001b[1m1s\u001b[0m 1s/step\n",
      "\u001b[1m1/1\u001b[0m \u001b[32m━━━━━━━━━━━━━━━━━━━━\u001b[0m\u001b[37m\u001b[0m \u001b[1m1s\u001b[0m 1s/step\n",
      "\u001b[1m1/1\u001b[0m \u001b[32m━━━━━━━━━━━━━━━━━━━━\u001b[0m\u001b[37m\u001b[0m \u001b[1m1s\u001b[0m 1s/step\n",
      "\u001b[1m1/1\u001b[0m \u001b[32m━━━━━━━━━━━━━━━━━━━━\u001b[0m\u001b[37m\u001b[0m \u001b[1m1s\u001b[0m 1s/step\n",
      "\u001b[1m1/1\u001b[0m \u001b[32m━━━━━━━━━━━━━━━━━━━━\u001b[0m\u001b[37m\u001b[0m \u001b[1m1s\u001b[0m 1s/step\n",
      "\u001b[1m1/1\u001b[0m \u001b[32m━━━━━━━━━━━━━━━━━━━━\u001b[0m\u001b[37m\u001b[0m \u001b[1m1s\u001b[0m 1s/step\n",
      "\u001b[1m1/1\u001b[0m \u001b[32m━━━━━━━━━━━━━━━━━━━━\u001b[0m\u001b[37m\u001b[0m \u001b[1m1s\u001b[0m 1s/step\n",
      "\u001b[1m1/1\u001b[0m \u001b[32m━━━━━━━━━━━━━━━━━━━━\u001b[0m\u001b[37m\u001b[0m \u001b[1m1s\u001b[0m 1s/step\n",
      "\u001b[1m1/1\u001b[0m \u001b[32m━━━━━━━━━━━━━━━━━━━━\u001b[0m\u001b[37m\u001b[0m \u001b[1m2s\u001b[0m 2s/step\n",
      "\u001b[1m1/1\u001b[0m \u001b[32m━━━━━━━━━━━━━━━━━━━━\u001b[0m\u001b[37m\u001b[0m \u001b[1m1s\u001b[0m 993ms/step\n",
      "\u001b[1m1/1\u001b[0m \u001b[32m━━━━━━━━━━━━━━━━━━━━\u001b[0m\u001b[37m\u001b[0m \u001b[1m1s\u001b[0m 1s/step\n",
      "\u001b[1m1/1\u001b[0m \u001b[32m━━━━━━━━━━━━━━━━━━━━\u001b[0m\u001b[37m\u001b[0m \u001b[1m1s\u001b[0m 1s/step\n",
      "\u001b[1m1/1\u001b[0m \u001b[32m━━━━━━━━━━━━━━━━━━━━\u001b[0m\u001b[37m\u001b[0m \u001b[1m1s\u001b[0m 1s/step\n",
      "\u001b[1m1/1\u001b[0m \u001b[32m━━━━━━━━━━━━━━━━━━━━\u001b[0m\u001b[37m\u001b[0m \u001b[1m1s\u001b[0m 1s/step\n",
      "\u001b[1m1/1\u001b[0m \u001b[32m━━━━━━━━━━━━━━━━━━━━\u001b[0m\u001b[37m\u001b[0m \u001b[1m1s\u001b[0m 1s/step\n",
      "\u001b[1m1/1\u001b[0m \u001b[32m━━━━━━━━━━━━━━━━━━━━\u001b[0m\u001b[37m\u001b[0m \u001b[1m1s\u001b[0m 1s/step\n",
      "\u001b[1m1/1\u001b[0m \u001b[32m━━━━━━━━━━━━━━━━━━━━\u001b[0m\u001b[37m\u001b[0m \u001b[1m1s\u001b[0m 1s/step\n",
      "\u001b[1m1/1\u001b[0m \u001b[32m━━━━━━━━━━━━━━━━━━━━\u001b[0m\u001b[37m\u001b[0m \u001b[1m2s\u001b[0m 2s/step\n",
      "\u001b[1m1/1\u001b[0m \u001b[32m━━━━━━━━━━━━━━━━━━━━\u001b[0m\u001b[37m\u001b[0m \u001b[1m2s\u001b[0m 2s/step\n",
      "\u001b[1m1/1\u001b[0m \u001b[32m━━━━━━━━━━━━━━━━━━━━\u001b[0m\u001b[37m\u001b[0m \u001b[1m1s\u001b[0m 1s/step\n",
      "\u001b[1m1/1\u001b[0m \u001b[32m━━━━━━━━━━━━━━━━━━━━\u001b[0m\u001b[37m\u001b[0m \u001b[1m1s\u001b[0m 1s/step\n",
      "\u001b[1m1/1\u001b[0m \u001b[32m━━━━━━━━━━━━━━━━━━━━\u001b[0m\u001b[37m\u001b[0m \u001b[1m1s\u001b[0m 1s/step\n",
      "\u001b[1m1/1\u001b[0m \u001b[32m━━━━━━━━━━━━━━━━━━━━\u001b[0m\u001b[37m\u001b[0m \u001b[1m1s\u001b[0m 1s/step\n",
      "\u001b[1m1/1\u001b[0m \u001b[32m━━━━━━━━━━━━━━━━━━━━\u001b[0m\u001b[37m\u001b[0m \u001b[1m1s\u001b[0m 1s/step\n",
      "\u001b[1m1/1\u001b[0m \u001b[32m━━━━━━━━━━━━━━━━━━━━\u001b[0m\u001b[37m\u001b[0m \u001b[1m1s\u001b[0m 1s/step\n",
      "\u001b[1m1/1\u001b[0m \u001b[32m━━━━━━━━━━━━━━━━━━━━\u001b[0m\u001b[37m\u001b[0m \u001b[1m1s\u001b[0m 1s/step\n",
      "\u001b[1m1/1\u001b[0m \u001b[32m━━━━━━━━━━━━━━━━━━━━\u001b[0m\u001b[37m\u001b[0m \u001b[1m2s\u001b[0m 2s/step\n",
      "\u001b[1m1/1\u001b[0m \u001b[32m━━━━━━━━━━━━━━━━━━━━\u001b[0m\u001b[37m\u001b[0m \u001b[1m1s\u001b[0m 1s/step\n",
      "\u001b[1m1/1\u001b[0m \u001b[32m━━━━━━━━━━━━━━━━━━━━\u001b[0m\u001b[37m\u001b[0m \u001b[1m1s\u001b[0m 1s/step\n",
      "\u001b[1m1/1\u001b[0m \u001b[32m━━━━━━━━━━━━━━━━━━━━\u001b[0m\u001b[37m\u001b[0m \u001b[1m1s\u001b[0m 1s/step\n",
      "\u001b[1m1/1\u001b[0m \u001b[32m━━━━━━━━━━━━━━━━━━━━\u001b[0m\u001b[37m\u001b[0m \u001b[1m1s\u001b[0m 1s/step\n",
      "\u001b[1m1/1\u001b[0m \u001b[32m━━━━━━━━━━━━━━━━━━━━\u001b[0m\u001b[37m\u001b[0m \u001b[1m1s\u001b[0m 1s/step\n",
      "\u001b[1m1/1\u001b[0m \u001b[32m━━━━━━━━━━━━━━━━━━━━\u001b[0m\u001b[37m\u001b[0m \u001b[1m1s\u001b[0m 1s/step\n",
      "\u001b[1m1/1\u001b[0m \u001b[32m━━━━━━━━━━━━━━━━━━━━\u001b[0m\u001b[37m\u001b[0m \u001b[1m1s\u001b[0m 1s/step\n",
      "\u001b[1m1/1\u001b[0m \u001b[32m━━━━━━━━━━━━━━━━━━━━\u001b[0m\u001b[37m\u001b[0m \u001b[1m1s\u001b[0m 1s/step\n",
      "\u001b[1m1/1\u001b[0m \u001b[32m━━━━━━━━━━━━━━━━━━━━\u001b[0m\u001b[37m\u001b[0m \u001b[1m1s\u001b[0m 1s/step\n",
      "\u001b[1m1/1\u001b[0m \u001b[32m━━━━━━━━━━━━━━━━━━━━\u001b[0m\u001b[37m\u001b[0m \u001b[1m1s\u001b[0m 1s/step\n",
      "\u001b[1m1/1\u001b[0m \u001b[32m━━━━━━━━━━━━━━━━━━━━\u001b[0m\u001b[37m\u001b[0m \u001b[1m1s\u001b[0m 1s/step\n",
      "\u001b[1m1/1\u001b[0m \u001b[32m━━━━━━━━━━━━━━━━━━━━\u001b[0m\u001b[37m\u001b[0m \u001b[1m1s\u001b[0m 892ms/step\n",
      "\u001b[1m1/1\u001b[0m \u001b[32m━━━━━━━━━━━━━━━━━━━━\u001b[0m\u001b[37m\u001b[0m \u001b[1m2s\u001b[0m 2s/step\n",
      "\u001b[1m1/1\u001b[0m \u001b[32m━━━━━━━━━━━━━━━━━━━━\u001b[0m\u001b[37m\u001b[0m \u001b[1m1s\u001b[0m 1s/step\n",
      "\u001b[1m1/1\u001b[0m \u001b[32m━━━━━━━━━━━━━━━━━━━━\u001b[0m\u001b[37m\u001b[0m \u001b[1m2s\u001b[0m 2s/step\n",
      "\u001b[1m1/1\u001b[0m \u001b[32m━━━━━━━━━━━━━━━━━━━━\u001b[0m\u001b[37m\u001b[0m \u001b[1m1s\u001b[0m 1s/step\n",
      "\u001b[1m1/1\u001b[0m \u001b[32m━━━━━━━━━━━━━━━━━━━━\u001b[0m\u001b[37m\u001b[0m \u001b[1m1s\u001b[0m 1s/step\n",
      "\u001b[1m1/1\u001b[0m \u001b[32m━━━━━━━━━━━━━━━━━━━━\u001b[0m\u001b[37m\u001b[0m \u001b[1m1s\u001b[0m 1s/step\n",
      "\u001b[1m1/1\u001b[0m \u001b[32m━━━━━━━━━━━━━━━━━━━━\u001b[0m\u001b[37m\u001b[0m \u001b[1m1s\u001b[0m 1s/step\n",
      "\u001b[1m1/1\u001b[0m \u001b[32m━━━━━━━━━━━━━━━━━━━━\u001b[0m\u001b[37m\u001b[0m \u001b[1m1s\u001b[0m 1s/step\n",
      "\u001b[1m1/1\u001b[0m \u001b[32m━━━━━━━━━━━━━━━━━━━━\u001b[0m\u001b[37m\u001b[0m \u001b[1m2s\u001b[0m 2s/step\n",
      "\u001b[1m1/1\u001b[0m \u001b[32m━━━━━━━━━━━━━━━━━━━━\u001b[0m\u001b[37m\u001b[0m \u001b[1m1s\u001b[0m 1s/step\n",
      "\u001b[1m1/1\u001b[0m \u001b[32m━━━━━━━━━━━━━━━━━━━━\u001b[0m\u001b[37m\u001b[0m \u001b[1m2s\u001b[0m 2s/step\n",
      "\u001b[1m1/1\u001b[0m \u001b[32m━━━━━━━━━━━━━━━━━━━━\u001b[0m\u001b[37m\u001b[0m \u001b[1m1s\u001b[0m 1s/step\n",
      "\u001b[1m1/1\u001b[0m \u001b[32m━━━━━━━━━━━━━━━━━━━━\u001b[0m\u001b[37m\u001b[0m \u001b[1m1s\u001b[0m 1s/step\n",
      "\u001b[1m1/1\u001b[0m \u001b[32m━━━━━━━━━━━━━━━━━━━━\u001b[0m\u001b[37m\u001b[0m \u001b[1m2s\u001b[0m 2s/step\n",
      "\u001b[1m1/1\u001b[0m \u001b[32m━━━━━━━━━━━━━━━━━━━━\u001b[0m\u001b[37m\u001b[0m \u001b[1m1s\u001b[0m 1s/step\n",
      "\u001b[1m1/1\u001b[0m \u001b[32m━━━━━━━━━━━━━━━━━━━━\u001b[0m\u001b[37m\u001b[0m \u001b[1m2s\u001b[0m 2s/step\n",
      "\u001b[1m1/1\u001b[0m \u001b[32m━━━━━━━━━━━━━━━━━━━━\u001b[0m\u001b[37m\u001b[0m \u001b[1m1s\u001b[0m 1s/step\n",
      "\u001b[1m1/1\u001b[0m \u001b[32m━━━━━━━━━━━━━━━━━━━━\u001b[0m\u001b[37m\u001b[0m \u001b[1m1s\u001b[0m 1s/step\n",
      "\u001b[1m1/1\u001b[0m \u001b[32m━━━━━━━━━━━━━━━━━━━━\u001b[0m\u001b[37m\u001b[0m \u001b[1m1s\u001b[0m 1s/step\n",
      "\u001b[1m1/1\u001b[0m \u001b[32m━━━━━━━━━━━━━━━━━━━━\u001b[0m\u001b[37m\u001b[0m \u001b[1m1s\u001b[0m 1s/step\n",
      "\u001b[1m1/1\u001b[0m \u001b[32m━━━━━━━━━━━━━━━━━━━━\u001b[0m\u001b[37m\u001b[0m \u001b[1m1s\u001b[0m 1s/step\n",
      "\u001b[1m1/1\u001b[0m \u001b[32m━━━━━━━━━━━━━━━━━━━━\u001b[0m\u001b[37m\u001b[0m \u001b[1m1s\u001b[0m 1s/step\n",
      "\u001b[1m1/1\u001b[0m \u001b[32m━━━━━━━━━━━━━━━━━━━━\u001b[0m\u001b[37m\u001b[0m \u001b[1m1s\u001b[0m 1s/step\n",
      "\u001b[1m1/1\u001b[0m \u001b[32m━━━━━━━━━━━━━━━━━━━━\u001b[0m\u001b[37m\u001b[0m \u001b[1m1s\u001b[0m 1s/step\n",
      "\u001b[1m1/1\u001b[0m \u001b[32m━━━━━━━━━━━━━━━━━━━━\u001b[0m\u001b[37m\u001b[0m \u001b[1m1s\u001b[0m 1s/step\n",
      "\u001b[1m1/1\u001b[0m \u001b[32m━━━━━━━━━━━━━━━━━━━━\u001b[0m\u001b[37m\u001b[0m \u001b[1m1s\u001b[0m 1s/step\n",
      "\u001b[1m1/1\u001b[0m \u001b[32m━━━━━━━━━━━━━━━━━━━━\u001b[0m\u001b[37m\u001b[0m \u001b[1m1s\u001b[0m 1s/step\n",
      "\u001b[1m1/1\u001b[0m \u001b[32m━━━━━━━━━━━━━━━━━━━━\u001b[0m\u001b[37m\u001b[0m \u001b[1m1s\u001b[0m 895ms/step\n",
      "\u001b[1m1/1\u001b[0m \u001b[32m━━━━━━━━━━━━━━━━━━━━\u001b[0m\u001b[37m\u001b[0m \u001b[1m1s\u001b[0m 1s/step\n",
      "\u001b[1m1/1\u001b[0m \u001b[32m━━━━━━━━━━━━━━━━━━━━\u001b[0m\u001b[37m\u001b[0m \u001b[1m2s\u001b[0m 2s/step\n",
      "\u001b[1m1/1\u001b[0m \u001b[32m━━━━━━━━━━━━━━━━━━━━\u001b[0m\u001b[37m\u001b[0m \u001b[1m1s\u001b[0m 1s/step\n",
      "\u001b[1m1/1\u001b[0m \u001b[32m━━━━━━━━━━━━━━━━━━━━\u001b[0m\u001b[37m\u001b[0m \u001b[1m2s\u001b[0m 2s/step\n",
      "\u001b[1m1/1\u001b[0m \u001b[32m━━━━━━━━━━━━━━━━━━━━\u001b[0m\u001b[37m\u001b[0m \u001b[1m1s\u001b[0m 1s/step\n",
      "\u001b[1m1/1\u001b[0m \u001b[32m━━━━━━━━━━━━━━━━━━━━\u001b[0m\u001b[37m\u001b[0m \u001b[1m1s\u001b[0m 1s/step\n",
      "\u001b[1m1/1\u001b[0m \u001b[32m━━━━━━━━━━━━━━━━━━━━\u001b[0m\u001b[37m\u001b[0m \u001b[1m1s\u001b[0m 1s/step\n",
      "\u001b[1m1/1\u001b[0m \u001b[32m━━━━━━━━━━━━━━━━━━━━\u001b[0m\u001b[37m\u001b[0m \u001b[1m1s\u001b[0m 870ms/step\n",
      "\u001b[1m1/1\u001b[0m \u001b[32m━━━━━━━━━━━━━━━━━━━━\u001b[0m\u001b[37m\u001b[0m \u001b[1m2s\u001b[0m 2s/step\n",
      "\u001b[1m1/1\u001b[0m \u001b[32m━━━━━━━━━━━━━━━━━━━━\u001b[0m\u001b[37m\u001b[0m \u001b[1m1s\u001b[0m 1s/step\n",
      "\u001b[1m1/1\u001b[0m \u001b[32m━━━━━━━━━━━━━━━━━━━━\u001b[0m\u001b[37m\u001b[0m \u001b[1m2s\u001b[0m 2s/step\n",
      "\u001b[1m1/1\u001b[0m \u001b[32m━━━━━━━━━━━━━━━━━━━━\u001b[0m\u001b[37m\u001b[0m \u001b[1m2s\u001b[0m 2s/step\n",
      "\u001b[1m1/1\u001b[0m \u001b[32m━━━━━━━━━━━━━━━━━━━━\u001b[0m\u001b[37m\u001b[0m \u001b[1m1s\u001b[0m 1s/step\n",
      "\u001b[1m1/1\u001b[0m \u001b[32m━━━━━━━━━━━━━━━━━━━━\u001b[0m\u001b[37m\u001b[0m \u001b[1m2s\u001b[0m 2s/step\n",
      "\u001b[1m1/1\u001b[0m \u001b[32m━━━━━━━━━━━━━━━━━━━━\u001b[0m\u001b[37m\u001b[0m \u001b[1m2s\u001b[0m 2s/step\n",
      "\u001b[1m1/1\u001b[0m \u001b[32m━━━━━━━━━━━━━━━━━━━━\u001b[0m\u001b[37m\u001b[0m \u001b[1m1s\u001b[0m 908ms/step\n",
      "\u001b[1m1/1\u001b[0m \u001b[32m━━━━━━━━━━━━━━━━━━━━\u001b[0m\u001b[37m\u001b[0m \u001b[1m1s\u001b[0m 822ms/step\n",
      "\u001b[1m1/1\u001b[0m \u001b[32m━━━━━━━━━━━━━━━━━━━━\u001b[0m\u001b[37m\u001b[0m \u001b[1m1s\u001b[0m 1s/step\n",
      "\u001b[1m1/1\u001b[0m \u001b[32m━━━━━━━━━━━━━━━━━━━━\u001b[0m\u001b[37m\u001b[0m \u001b[1m1s\u001b[0m 1s/step\n",
      "\u001b[1m1/1\u001b[0m \u001b[32m━━━━━━━━━━━━━━━━━━━━\u001b[0m\u001b[37m\u001b[0m \u001b[1m1s\u001b[0m 1s/step\n",
      "\u001b[1m1/1\u001b[0m \u001b[32m━━━━━━━━━━━━━━━━━━━━\u001b[0m\u001b[37m\u001b[0m \u001b[1m1s\u001b[0m 1s/step\n",
      "\u001b[1m1/1\u001b[0m \u001b[32m━━━━━━━━━━━━━━━━━━━━\u001b[0m\u001b[37m\u001b[0m \u001b[1m1s\u001b[0m 1s/step\n",
      "\u001b[1m1/1\u001b[0m \u001b[32m━━━━━━━━━━━━━━━━━━━━\u001b[0m\u001b[37m\u001b[0m \u001b[1m1s\u001b[0m 1s/step\n",
      "\u001b[1m1/1\u001b[0m \u001b[32m━━━━━━━━━━━━━━━━━━━━\u001b[0m\u001b[37m\u001b[0m \u001b[1m1s\u001b[0m 1s/step\n",
      "\u001b[1m1/1\u001b[0m \u001b[32m━━━━━━━━━━━━━━━━━━━━\u001b[0m\u001b[37m\u001b[0m \u001b[1m1s\u001b[0m 1s/step\n",
      "\u001b[1m1/1\u001b[0m \u001b[32m━━━━━━━━━━━━━━━━━━━━\u001b[0m\u001b[37m\u001b[0m \u001b[1m2s\u001b[0m 2s/step\n",
      "\u001b[1m1/1\u001b[0m \u001b[32m━━━━━━━━━━━━━━━━━━━━\u001b[0m\u001b[37m\u001b[0m \u001b[1m1s\u001b[0m 1s/step\n",
      "\u001b[1m1/1\u001b[0m \u001b[32m━━━━━━━━━━━━━━━━━━━━\u001b[0m\u001b[37m\u001b[0m \u001b[1m1s\u001b[0m 859ms/step\n",
      "\u001b[1m1/1\u001b[0m \u001b[32m━━━━━━━━━━━━━━━━━━━━\u001b[0m\u001b[37m\u001b[0m \u001b[1m1s\u001b[0m 1s/step\n",
      "\u001b[1m1/1\u001b[0m \u001b[32m━━━━━━━━━━━━━━━━━━━━\u001b[0m\u001b[37m\u001b[0m \u001b[1m2s\u001b[0m 2s/step\n",
      "\u001b[1m1/1\u001b[0m \u001b[32m━━━━━━━━━━━━━━━━━━━━\u001b[0m\u001b[37m\u001b[0m \u001b[1m1s\u001b[0m 1s/step\n",
      "\u001b[1m1/1\u001b[0m \u001b[32m━━━━━━━━━━━━━━━━━━━━\u001b[0m\u001b[37m\u001b[0m \u001b[1m1s\u001b[0m 1s/step\n",
      "\u001b[1m1/1\u001b[0m \u001b[32m━━━━━━━━━━━━━━━━━━━━\u001b[0m\u001b[37m\u001b[0m \u001b[1m1s\u001b[0m 1s/step\n",
      "\u001b[1m1/1\u001b[0m \u001b[32m━━━━━━━━━━━━━━━━━━━━\u001b[0m\u001b[37m\u001b[0m \u001b[1m2s\u001b[0m 2s/step\n",
      "\u001b[1m1/1\u001b[0m \u001b[32m━━━━━━━━━━━━━━━━━━━━\u001b[0m\u001b[37m\u001b[0m \u001b[1m1s\u001b[0m 995ms/step\n",
      "\u001b[1m1/1\u001b[0m \u001b[32m━━━━━━━━━━━━━━━━━━━━\u001b[0m\u001b[37m\u001b[0m \u001b[1m1s\u001b[0m 1s/step\n",
      "\u001b[1m1/1\u001b[0m \u001b[32m━━━━━━━━━━━━━━━━━━━━\u001b[0m\u001b[37m\u001b[0m \u001b[1m1s\u001b[0m 1s/step\n",
      "\u001b[1m1/1\u001b[0m \u001b[32m━━━━━━━━━━━━━━━━━━━━\u001b[0m\u001b[37m\u001b[0m \u001b[1m1s\u001b[0m 1s/step\n",
      "\u001b[1m1/1\u001b[0m \u001b[32m━━━━━━━━━━━━━━━━━━━━\u001b[0m\u001b[37m\u001b[0m \u001b[1m2s\u001b[0m 2s/step\n",
      "\u001b[1m1/1\u001b[0m \u001b[32m━━━━━━━━━━━━━━━━━━━━\u001b[0m\u001b[37m\u001b[0m \u001b[1m1s\u001b[0m 1s/step\n",
      "\u001b[1m1/1\u001b[0m \u001b[32m━━━━━━━━━━━━━━━━━━━━\u001b[0m\u001b[37m\u001b[0m \u001b[1m1s\u001b[0m 1s/step\n",
      "\u001b[1m1/1\u001b[0m \u001b[32m━━━━━━━━━━━━━━━━━━━━\u001b[0m\u001b[37m\u001b[0m \u001b[1m1s\u001b[0m 1s/step\n",
      "\u001b[1m1/1\u001b[0m \u001b[32m━━━━━━━━━━━━━━━━━━━━\u001b[0m\u001b[37m\u001b[0m \u001b[1m1s\u001b[0m 1s/step\n",
      "\u001b[1m1/1\u001b[0m \u001b[32m━━━━━━━━━━━━━━━━━━━━\u001b[0m\u001b[37m\u001b[0m \u001b[1m1s\u001b[0m 994ms/step\n",
      "\u001b[1m1/1\u001b[0m \u001b[32m━━━━━━━━━━━━━━━━━━━━\u001b[0m\u001b[37m\u001b[0m \u001b[1m1s\u001b[0m 1s/step\n",
      "\u001b[1m1/1\u001b[0m \u001b[32m━━━━━━━━━━━━━━━━━━━━\u001b[0m\u001b[37m\u001b[0m \u001b[1m2s\u001b[0m 2s/step\n",
      "\u001b[1m1/1\u001b[0m \u001b[32m━━━━━━━━━━━━━━━━━━━━\u001b[0m\u001b[37m\u001b[0m \u001b[1m1s\u001b[0m 1s/step\n",
      "\u001b[1m1/1\u001b[0m \u001b[32m━━━━━━━━━━━━━━━━━━━━\u001b[0m\u001b[37m\u001b[0m \u001b[1m1s\u001b[0m 1s/step\n",
      "\u001b[1m1/1\u001b[0m \u001b[32m━━━━━━━━━━━━━━━━━━━━\u001b[0m\u001b[37m\u001b[0m \u001b[1m2s\u001b[0m 2s/step\n",
      "\u001b[1m1/1\u001b[0m \u001b[32m━━━━━━━━━━━━━━━━━━━━\u001b[0m\u001b[37m\u001b[0m \u001b[1m1s\u001b[0m 1s/step\n",
      "\u001b[1m1/1\u001b[0m \u001b[32m━━━━━━━━━━━━━━━━━━━━\u001b[0m\u001b[37m\u001b[0m \u001b[1m1s\u001b[0m 864ms/step\n",
      "\u001b[1m1/1\u001b[0m \u001b[32m━━━━━━━━━━━━━━━━━━━━\u001b[0m\u001b[37m\u001b[0m \u001b[1m1s\u001b[0m 1s/step\n",
      "\u001b[1m1/1\u001b[0m \u001b[32m━━━━━━━━━━━━━━━━━━━━\u001b[0m\u001b[37m\u001b[0m \u001b[1m2s\u001b[0m 2s/step\n",
      "\u001b[1m1/1\u001b[0m \u001b[32m━━━━━━━━━━━━━━━━━━━━\u001b[0m\u001b[37m\u001b[0m \u001b[1m1s\u001b[0m 985ms/step\n",
      "\u001b[1m1/1\u001b[0m \u001b[32m━━━━━━━━━━━━━━━━━━━━\u001b[0m\u001b[37m\u001b[0m \u001b[1m1s\u001b[0m 1s/step\n",
      "\u001b[1m1/1\u001b[0m \u001b[32m━━━━━━━━━━━━━━━━━━━━\u001b[0m\u001b[37m\u001b[0m \u001b[1m1s\u001b[0m 1s/step\n",
      "\u001b[1m1/1\u001b[0m \u001b[32m━━━━━━━━━━━━━━━━━━━━\u001b[0m\u001b[37m\u001b[0m \u001b[1m2s\u001b[0m 2s/step\n",
      "\u001b[1m1/1\u001b[0m \u001b[32m━━━━━━━━━━━━━━━━━━━━\u001b[0m\u001b[37m\u001b[0m \u001b[1m1s\u001b[0m 1s/step\n",
      "\u001b[1m1/1\u001b[0m \u001b[32m━━━━━━━━━━━━━━━━━━━━\u001b[0m\u001b[37m\u001b[0m \u001b[1m2s\u001b[0m 2s/step\n",
      "\u001b[1m1/1\u001b[0m \u001b[32m━━━━━━━━━━━━━━━━━━━━\u001b[0m\u001b[37m\u001b[0m \u001b[1m1s\u001b[0m 1s/step\n",
      "\u001b[1m1/1\u001b[0m \u001b[32m━━━━━━━━━━━━━━━━━━━━\u001b[0m\u001b[37m\u001b[0m \u001b[1m1s\u001b[0m 1s/step\n",
      "\u001b[1m1/1\u001b[0m \u001b[32m━━━━━━━━━━━━━━━━━━━━\u001b[0m\u001b[37m\u001b[0m \u001b[1m1s\u001b[0m 1s/step\n",
      "\u001b[1m1/1\u001b[0m \u001b[32m━━━━━━━━━━━━━━━━━━━━\u001b[0m\u001b[37m\u001b[0m \u001b[1m1s\u001b[0m 1s/step\n",
      "\u001b[1m1/1\u001b[0m \u001b[32m━━━━━━━━━━━━━━━━━━━━\u001b[0m\u001b[37m\u001b[0m \u001b[1m1s\u001b[0m 1s/step\n",
      "\u001b[1m1/1\u001b[0m \u001b[32m━━━━━━━━━━━━━━━━━━━━\u001b[0m\u001b[37m\u001b[0m \u001b[1m1s\u001b[0m 910ms/step\n",
      "\u001b[1m1/1\u001b[0m \u001b[32m━━━━━━━━━━━━━━━━━━━━\u001b[0m\u001b[37m\u001b[0m \u001b[1m2s\u001b[0m 2s/step\n",
      "\u001b[1m1/1\u001b[0m \u001b[32m━━━━━━━━━━━━━━━━━━━━\u001b[0m\u001b[37m\u001b[0m \u001b[1m2s\u001b[0m 2s/step\n",
      "\u001b[1m1/1\u001b[0m \u001b[32m━━━━━━━━━━━━━━━━━━━━\u001b[0m\u001b[37m\u001b[0m \u001b[1m1s\u001b[0m 931ms/step\n",
      "\u001b[1m1/1\u001b[0m \u001b[32m━━━━━━━━━━━━━━━━━━━━\u001b[0m\u001b[37m\u001b[0m \u001b[1m1s\u001b[0m 864ms/step\n",
      "\u001b[1m1/1\u001b[0m \u001b[32m━━━━━━━━━━━━━━━━━━━━\u001b[0m\u001b[37m\u001b[0m \u001b[1m2s\u001b[0m 2s/step\n",
      "\u001b[1m1/1\u001b[0m \u001b[32m━━━━━━━━━━━━━━━━━━━━\u001b[0m\u001b[37m\u001b[0m \u001b[1m1s\u001b[0m 1s/step\n",
      "\u001b[1m1/1\u001b[0m \u001b[32m━━━━━━━━━━━━━━━━━━━━\u001b[0m\u001b[37m\u001b[0m \u001b[1m1s\u001b[0m 1s/step\n",
      "\u001b[1m1/1\u001b[0m \u001b[32m━━━━━━━━━━━━━━━━━━━━\u001b[0m\u001b[37m\u001b[0m \u001b[1m1s\u001b[0m 1s/step\n",
      "\u001b[1m1/1\u001b[0m \u001b[32m━━━━━━━━━━━━━━━━━━━━\u001b[0m\u001b[37m\u001b[0m \u001b[1m1s\u001b[0m 1s/step\n",
      "\u001b[1m1/1\u001b[0m \u001b[32m━━━━━━━━━━━━━━━━━━━━\u001b[0m\u001b[37m\u001b[0m \u001b[1m2s\u001b[0m 2s/step\n",
      "\u001b[1m1/1\u001b[0m \u001b[32m━━━━━━━━━━━━━━━━━━━━\u001b[0m\u001b[37m\u001b[0m \u001b[1m1s\u001b[0m 1s/step\n",
      "\u001b[1m1/1\u001b[0m \u001b[32m━━━━━━━━━━━━━━━━━━━━\u001b[0m\u001b[37m\u001b[0m \u001b[1m1s\u001b[0m 1s/step\n",
      "\u001b[1m1/1\u001b[0m \u001b[32m━━━━━━━━━━━━━━━━━━━━\u001b[0m\u001b[37m\u001b[0m \u001b[1m1s\u001b[0m 1s/step\n",
      "\u001b[1m1/1\u001b[0m \u001b[32m━━━━━━━━━━━━━━━━━━━━\u001b[0m\u001b[37m\u001b[0m \u001b[1m2s\u001b[0m 2s/step\n",
      "\u001b[1m1/1\u001b[0m \u001b[32m━━━━━━━━━━━━━━━━━━━━\u001b[0m\u001b[37m\u001b[0m \u001b[1m1s\u001b[0m 961ms/step\n",
      "\u001b[1m1/1\u001b[0m \u001b[32m━━━━━━━━━━━━━━━━━━━━\u001b[0m\u001b[37m\u001b[0m \u001b[1m1s\u001b[0m 1s/step\n",
      "\u001b[1m1/1\u001b[0m \u001b[32m━━━━━━━━━━━━━━━━━━━━\u001b[0m\u001b[37m\u001b[0m \u001b[1m1s\u001b[0m 1s/step\n",
      "\u001b[1m1/1\u001b[0m \u001b[32m━━━━━━━━━━━━━━━━━━━━\u001b[0m\u001b[37m\u001b[0m \u001b[1m1s\u001b[0m 1s/step\n",
      "\u001b[1m1/1\u001b[0m \u001b[32m━━━━━━━━━━━━━━━━━━━━\u001b[0m\u001b[37m\u001b[0m \u001b[1m2s\u001b[0m 2s/step\n",
      "\u001b[1m1/1\u001b[0m \u001b[32m━━━━━━━━━━━━━━━━━━━━\u001b[0m\u001b[37m\u001b[0m \u001b[1m1s\u001b[0m 1s/step\n",
      "\u001b[1m1/1\u001b[0m \u001b[32m━━━━━━━━━━━━━━━━━━━━\u001b[0m\u001b[37m\u001b[0m \u001b[1m1s\u001b[0m 1s/step\n",
      "\u001b[1m1/1\u001b[0m \u001b[32m━━━━━━━━━━━━━━━━━━━━\u001b[0m\u001b[37m\u001b[0m \u001b[1m1s\u001b[0m 1s/step\n",
      "\u001b[1m1/1\u001b[0m \u001b[32m━━━━━━━━━━━━━━━━━━━━\u001b[0m\u001b[37m\u001b[0m \u001b[1m1s\u001b[0m 1s/step\n",
      "\u001b[1m1/1\u001b[0m \u001b[32m━━━━━━━━━━━━━━━━━━━━\u001b[0m\u001b[37m\u001b[0m \u001b[1m2s\u001b[0m 2s/step\n",
      "\u001b[1m1/1\u001b[0m \u001b[32m━━━━━━━━━━━━━━━━━━━━\u001b[0m\u001b[37m\u001b[0m \u001b[1m1s\u001b[0m 1s/step\n",
      "\u001b[1m1/1\u001b[0m \u001b[32m━━━━━━━━━━━━━━━━━━━━\u001b[0m\u001b[37m\u001b[0m \u001b[1m1s\u001b[0m 919ms/step\n",
      "\u001b[1m1/1\u001b[0m \u001b[32m━━━━━━━━━━━━━━━━━━━━\u001b[0m\u001b[37m\u001b[0m \u001b[1m1s\u001b[0m 1s/step\n",
      "\u001b[1m1/1\u001b[0m \u001b[32m━━━━━━━━━━━━━━━━━━━━\u001b[0m\u001b[37m\u001b[0m \u001b[1m1s\u001b[0m 1s/step\n",
      "\u001b[1m1/1\u001b[0m \u001b[32m━━━━━━━━━━━━━━━━━━━━\u001b[0m\u001b[37m\u001b[0m \u001b[1m1s\u001b[0m 1s/step\n",
      "\u001b[1m1/1\u001b[0m \u001b[32m━━━━━━━━━━━━━━━━━━━━\u001b[0m\u001b[37m\u001b[0m \u001b[1m2s\u001b[0m 2s/step\n",
      "\u001b[1m1/1\u001b[0m \u001b[32m━━━━━━━━━━━━━━━━━━━━\u001b[0m\u001b[37m\u001b[0m \u001b[1m1s\u001b[0m 1s/step\n",
      "\u001b[1m1/1\u001b[0m \u001b[32m━━━━━━━━━━━━━━━━━━━━\u001b[0m\u001b[37m\u001b[0m \u001b[1m2s\u001b[0m 2s/step\n",
      "\u001b[1m1/1\u001b[0m \u001b[32m━━━━━━━━━━━━━━━━━━━━\u001b[0m\u001b[37m\u001b[0m \u001b[1m2s\u001b[0m 2s/step\n",
      "\u001b[1m1/1\u001b[0m \u001b[32m━━━━━━━━━━━━━━━━━━━━\u001b[0m\u001b[37m\u001b[0m \u001b[1m1s\u001b[0m 1s/step\n",
      "\u001b[1m1/1\u001b[0m \u001b[32m━━━━━━━━━━━━━━━━━━━━\u001b[0m\u001b[37m\u001b[0m \u001b[1m1s\u001b[0m 1s/step\n",
      "\u001b[1m1/1\u001b[0m \u001b[32m━━━━━━━━━━━━━━━━━━━━\u001b[0m\u001b[37m\u001b[0m \u001b[1m1s\u001b[0m 1s/step\n",
      "\u001b[1m1/1\u001b[0m \u001b[32m━━━━━━━━━━━━━━━━━━━━\u001b[0m\u001b[37m\u001b[0m \u001b[1m2s\u001b[0m 2s/step\n",
      "\u001b[1m1/1\u001b[0m \u001b[32m━━━━━━━━━━━━━━━━━━━━\u001b[0m\u001b[37m\u001b[0m \u001b[1m2s\u001b[0m 2s/step\n",
      "\u001b[1m1/1\u001b[0m \u001b[32m━━━━━━━━━━━━━━━━━━━━\u001b[0m\u001b[37m\u001b[0m \u001b[1m1s\u001b[0m 1s/step\n",
      "\u001b[1m1/1\u001b[0m \u001b[32m━━━━━━━━━━━━━━━━━━━━\u001b[0m\u001b[37m\u001b[0m \u001b[1m2s\u001b[0m 2s/step\n",
      "\u001b[1m1/1\u001b[0m \u001b[32m━━━━━━━━━━━━━━━━━━━━\u001b[0m\u001b[37m\u001b[0m \u001b[1m1s\u001b[0m 1s/step\n",
      "\u001b[1m1/1\u001b[0m \u001b[32m━━━━━━━━━━━━━━━━━━━━\u001b[0m\u001b[37m\u001b[0m \u001b[1m1s\u001b[0m 1s/step\n",
      "\u001b[1m1/1\u001b[0m \u001b[32m━━━━━━━━━━━━━━━━━━━━\u001b[0m\u001b[37m\u001b[0m \u001b[1m2s\u001b[0m 2s/step\n",
      "\u001b[1m1/1\u001b[0m \u001b[32m━━━━━━━━━━━━━━━━━━━━\u001b[0m\u001b[37m\u001b[0m \u001b[1m1s\u001b[0m 1s/step\n",
      "\u001b[1m1/1\u001b[0m \u001b[32m━━━━━━━━━━━━━━━━━━━━\u001b[0m\u001b[37m\u001b[0m \u001b[1m2s\u001b[0m 2s/step\n",
      "\u001b[1m1/1\u001b[0m \u001b[32m━━━━━━━━━━━━━━━━━━━━\u001b[0m\u001b[37m\u001b[0m \u001b[1m2s\u001b[0m 2s/step\n",
      "\u001b[1m1/1\u001b[0m \u001b[32m━━━━━━━━━━━━━━━━━━━━\u001b[0m\u001b[37m\u001b[0m \u001b[1m2s\u001b[0m 2s/step\n",
      "\u001b[1m1/1\u001b[0m \u001b[32m━━━━━━━━━━━━━━━━━━━━\u001b[0m\u001b[37m\u001b[0m \u001b[1m1s\u001b[0m 1s/step\n",
      "\u001b[1m1/1\u001b[0m \u001b[32m━━━━━━━━━━━━━━━━━━━━\u001b[0m\u001b[37m\u001b[0m \u001b[1m1s\u001b[0m 1s/step\n",
      "\u001b[1m1/1\u001b[0m \u001b[32m━━━━━━━━━━━━━━━━━━━━\u001b[0m\u001b[37m\u001b[0m \u001b[1m2s\u001b[0m 2s/step\n",
      "\u001b[1m1/1\u001b[0m \u001b[32m━━━━━━━━━━━━━━━━━━━━\u001b[0m\u001b[37m\u001b[0m \u001b[1m1s\u001b[0m 1s/step\n",
      "\u001b[1m1/1\u001b[0m \u001b[32m━━━━━━━━━━━━━━━━━━━━\u001b[0m\u001b[37m\u001b[0m \u001b[1m1s\u001b[0m 1s/step\n",
      "\u001b[1m1/1\u001b[0m \u001b[32m━━━━━━━━━━━━━━━━━━━━\u001b[0m\u001b[37m\u001b[0m \u001b[1m2s\u001b[0m 2s/step\n",
      "\u001b[1m1/1\u001b[0m \u001b[32m━━━━━━━━━━━━━━━━━━━━\u001b[0m\u001b[37m\u001b[0m \u001b[1m1s\u001b[0m 1s/step\n",
      "\u001b[1m1/1\u001b[0m \u001b[32m━━━━━━━━━━━━━━━━━━━━\u001b[0m\u001b[37m\u001b[0m \u001b[1m1s\u001b[0m 1s/step\n",
      "\u001b[1m1/1\u001b[0m \u001b[32m━━━━━━━━━━━━━━━━━━━━\u001b[0m\u001b[37m\u001b[0m \u001b[1m1s\u001b[0m 1s/step\n",
      "\u001b[1m1/1\u001b[0m \u001b[32m━━━━━━━━━━━━━━━━━━━━\u001b[0m\u001b[37m\u001b[0m \u001b[1m1s\u001b[0m 1s/step\n",
      "\u001b[1m1/1\u001b[0m \u001b[32m━━━━━━━━━━━━━━━━━━━━\u001b[0m\u001b[37m\u001b[0m \u001b[1m1s\u001b[0m 1s/step\n",
      "\u001b[1m1/1\u001b[0m \u001b[32m━━━━━━━━━━━━━━━━━━━━\u001b[0m\u001b[37m\u001b[0m \u001b[1m2s\u001b[0m 2s/step\n",
      "\u001b[1m1/1\u001b[0m \u001b[32m━━━━━━━━━━━━━━━━━━━━\u001b[0m\u001b[37m\u001b[0m \u001b[1m1s\u001b[0m 1s/step\n",
      "\u001b[1m1/1\u001b[0m \u001b[32m━━━━━━━━━━━━━━━━━━━━\u001b[0m\u001b[37m\u001b[0m \u001b[1m1s\u001b[0m 1s/step\n",
      "\u001b[1m1/1\u001b[0m \u001b[32m━━━━━━━━━━━━━━━━━━━━\u001b[0m\u001b[37m\u001b[0m \u001b[1m1s\u001b[0m 1s/step\n",
      "\u001b[1m1/1\u001b[0m \u001b[32m━━━━━━━━━━━━━━━━━━━━\u001b[0m\u001b[37m\u001b[0m \u001b[1m1s\u001b[0m 1s/step\n",
      "\u001b[1m1/1\u001b[0m \u001b[32m━━━━━━━━━━━━━━━━━━━━\u001b[0m\u001b[37m\u001b[0m \u001b[1m1s\u001b[0m 751ms/step\n",
      "****************************************************************************************************\n",
      "Word Error Rate : 0.6118\n",
      "****************************************************************************************************\n",
      "Target : का एक राग गाते थे तो वर्षा आ जाती थी\n",
      "Prediction : ा एक रा गाते थी तो वरसा आ जाती की\n",
      "****************************************************************************************************\n",
      "Target : महोदय आपकी लाई में हम आपके साथ हैं\n",
      "Prediction : ग महोदे आप के लगाई में हम आपके साथ\n",
      "****************************************************************************************************\n",
      "\u001b[1m3125/3125\u001b[0m \u001b[32m━━━━━━━━━━━━━━━━━━━━\u001b[0m\u001b[37m\u001b[0m \u001b[1m39959s\u001b[0m 13s/step - loss: inf - val_loss: inf\n",
      "Epoch 5/5\n",
      "\u001b[1m 436/3125\u001b[0m \u001b[32m━━\u001b[0m\u001b[37m━━━━━━━━━━━━━━━━━━\u001b[0m \u001b[1m8:51:23\u001b[0m 12s/step - loss: 50.4100"
     ]
    },
    {
     "name": "stderr",
     "output_type": "stream",
     "text": [
      "2024-11-24 09:41:37.841272: W ./tensorflow/core/util/ctc/ctc_loss_calculator.h:499] No valid path found.\n",
      "2024-11-24 09:41:37.841332: W ./tensorflow/core/util/ctc/ctc_loss_calculator.h:499] No valid path found.\n",
      "2024-11-24 09:41:37.841367: W ./tensorflow/core/util/ctc/ctc_loss_calculator.h:499] No valid path found.\n",
      "2024-11-24 09:41:37.841406: W ./tensorflow/core/util/ctc/ctc_loss_calculator.h:499] No valid path found.\n",
      "2024-11-24 09:41:37.841443: W ./tensorflow/core/util/ctc/ctc_loss_calculator.h:499] No valid path found.\n",
      "2024-11-24 09:41:37.841460: W ./tensorflow/core/util/ctc/ctc_loss_calculator.h:499] No valid path found.\n",
      "2024-11-24 09:41:37.841485: W ./tensorflow/core/util/ctc/ctc_loss_calculator.h:499] No valid path found.\n",
      "2024-11-24 09:41:37.841533: W ./tensorflow/core/util/ctc/ctc_loss_calculator.h:499] No valid path found.\n",
      "2024-11-24 09:41:37.841561: W ./tensorflow/core/util/ctc/ctc_loss_calculator.h:499] No valid path found.\n",
      "2024-11-24 09:41:37.841588: W ./tensorflow/core/util/ctc/ctc_loss_calculator.h:499] No valid path found.\n",
      "2024-11-24 09:41:37.841614: W ./tensorflow/core/util/ctc/ctc_loss_calculator.h:499] No valid path found.\n",
      "2024-11-24 09:41:37.841639: W ./tensorflow/core/util/ctc/ctc_loss_calculator.h:499] No valid path found.\n",
      "2024-11-24 09:41:37.841664: W ./tensorflow/core/util/ctc/ctc_loss_calculator.h:499] No valid path found.\n"
     ]
    },
    {
     "name": "stdout",
     "output_type": "stream",
     "text": [
      "\u001b[1m 441/3125\u001b[0m \u001b[32m━━\u001b[0m\u001b[37m━━━━━━━━━━━━━━━━━━\u001b[0m \u001b[1m8:50:28\u001b[0m 12s/step - loss: inf"
     ]
    },
    {
     "name": "stderr",
     "output_type": "stream",
     "text": [
      "2024-11-24 09:42:37.759895: W ./tensorflow/core/util/ctc/ctc_loss_calculator.h:499] No valid path found.\n"
     ]
    },
    {
     "name": "stdout",
     "output_type": "stream",
     "text": [
      "\u001b[1m 502/3125\u001b[0m \u001b[32m━━━\u001b[0m\u001b[37m━━━━━━━━━━━━━━━━━\u001b[0m \u001b[1m8:35:19\u001b[0m 12s/step - loss: inf"
     ]
    },
    {
     "name": "stderr",
     "output_type": "stream",
     "text": [
      "2024-11-24 09:54:05.565010: W ./tensorflow/core/util/ctc/ctc_loss_calculator.h:499] No valid path found.\n"
     ]
    },
    {
     "name": "stdout",
     "output_type": "stream",
     "text": [
      "\u001b[1m 517/3125\u001b[0m \u001b[32m━━━\u001b[0m\u001b[37m━━━━━━━━━━━━━━━━━\u001b[0m \u001b[1m8:33:11\u001b[0m 12s/step - loss: inf"
     ]
    },
    {
     "name": "stderr",
     "output_type": "stream",
     "text": [
      "2024-11-24 09:57:11.922267: W ./tensorflow/core/util/ctc/ctc_loss_calculator.h:499] No valid path found.\n",
      "2024-11-24 09:57:11.922363: W ./tensorflow/core/util/ctc/ctc_loss_calculator.h:499] No valid path found.\n",
      "2024-11-24 09:57:11.922387: W ./tensorflow/core/util/ctc/ctc_loss_calculator.h:499] No valid path found.\n",
      "2024-11-24 09:57:11.922461: W ./tensorflow/core/util/ctc/ctc_loss_calculator.h:499] No valid path found.\n"
     ]
    },
    {
     "name": "stdout",
     "output_type": "stream",
     "text": [
      "\u001b[1m 857/3125\u001b[0m \u001b[32m━━━━━\u001b[0m\u001b[37m━━━━━━━━━━━━━━━\u001b[0m \u001b[1m7:27:59\u001b[0m 12s/step - loss: inf"
     ]
    },
    {
     "name": "stderr",
     "output_type": "stream",
     "text": [
      "2024-11-24 11:04:44.746549: W ./tensorflow/core/util/ctc/ctc_loss_calculator.h:499] No valid path found.\n"
     ]
    },
    {
     "name": "stdout",
     "output_type": "stream",
     "text": [
      "\u001b[1m 906/3125\u001b[0m \u001b[32m━━━━━\u001b[0m\u001b[37m━━━━━━━━━━━━━━━\u001b[0m \u001b[1m7:17:17\u001b[0m 12s/step - loss: inf"
     ]
    },
    {
     "name": "stderr",
     "output_type": "stream",
     "text": [
      "2024-11-24 11:14:00.875729: W ./tensorflow/core/util/ctc/ctc_loss_calculator.h:499] No valid path found.\n",
      "2024-11-24 11:14:00.875794: W ./tensorflow/core/util/ctc/ctc_loss_calculator.h:499] No valid path found.\n",
      "2024-11-24 11:14:00.875841: W ./tensorflow/core/util/ctc/ctc_loss_calculator.h:499] No valid path found.\n",
      "2024-11-24 11:14:00.875863: W ./tensorflow/core/util/ctc/ctc_loss_calculator.h:499] No valid path found.\n",
      "2024-11-24 11:14:00.875888: W ./tensorflow/core/util/ctc/ctc_loss_calculator.h:499] No valid path found.\n",
      "2024-11-24 11:14:00.875908: W ./tensorflow/core/util/ctc/ctc_loss_calculator.h:499] No valid path found.\n",
      "2024-11-24 11:14:00.875936: W ./tensorflow/core/util/ctc/ctc_loss_calculator.h:499] No valid path found.\n",
      "2024-11-24 11:14:00.875959: W ./tensorflow/core/util/ctc/ctc_loss_calculator.h:499] No valid path found.\n",
      "2024-11-24 11:14:00.875985: W ./tensorflow/core/util/ctc/ctc_loss_calculator.h:499] No valid path found.\n",
      "2024-11-24 11:14:00.876010: W ./tensorflow/core/util/ctc/ctc_loss_calculator.h:499] No valid path found.\n",
      "2024-11-24 11:14:00.876317: W ./tensorflow/core/util/ctc/ctc_loss_calculator.h:499] No valid path found.\n"
     ]
    },
    {
     "name": "stdout",
     "output_type": "stream",
     "text": [
      "\u001b[1m 951/3125\u001b[0m \u001b[32m━━━━━━\u001b[0m\u001b[37m━━━━━━━━━━━━━━\u001b[0m \u001b[1m7:08:07\u001b[0m 12s/step - loss: inf"
     ]
    },
    {
     "name": "stderr",
     "output_type": "stream",
     "text": [
      "2024-11-24 11:22:45.066400: W ./tensorflow/core/util/ctc/ctc_loss_calculator.h:499] No valid path found.\n",
      "2024-11-24 11:22:45.066475: W ./tensorflow/core/util/ctc/ctc_loss_calculator.h:499] No valid path found.\n",
      "2024-11-24 11:22:45.066542: W ./tensorflow/core/util/ctc/ctc_loss_calculator.h:499] No valid path found.\n",
      "2024-11-24 11:22:45.066567: W ./tensorflow/core/util/ctc/ctc_loss_calculator.h:499] No valid path found.\n",
      "2024-11-24 11:22:45.066585: W ./tensorflow/core/util/ctc/ctc_loss_calculator.h:499] No valid path found.\n",
      "2024-11-24 11:22:45.066610: W ./tensorflow/core/util/ctc/ctc_loss_calculator.h:499] No valid path found.\n",
      "2024-11-24 11:22:45.066753: W ./tensorflow/core/util/ctc/ctc_loss_calculator.h:499] No valid path found.\n"
     ]
    },
    {
     "name": "stdout",
     "output_type": "stream",
     "text": [
      "\u001b[1m1101/3125\u001b[0m \u001b[32m━━━━━━━\u001b[0m\u001b[37m━━━━━━━━━━━━━\u001b[0m \u001b[1m6:39:12\u001b[0m 12s/step - loss: inf"
     ]
    },
    {
     "name": "stderr",
     "output_type": "stream",
     "text": [
      "2024-11-24 11:52:37.289399: W ./tensorflow/core/util/ctc/ctc_loss_calculator.h:499] No valid path found.\n",
      "2024-11-24 11:52:37.289466: W ./tensorflow/core/util/ctc/ctc_loss_calculator.h:499] No valid path found.\n"
     ]
    },
    {
     "name": "stdout",
     "output_type": "stream",
     "text": [
      "\u001b[1m1173/3125\u001b[0m \u001b[32m━━━━━━━\u001b[0m\u001b[37m━━━━━━━━━━━━━\u001b[0m \u001b[1m6:24:58\u001b[0m 12s/step - loss: inf"
     ]
    },
    {
     "name": "stderr",
     "output_type": "stream",
     "text": [
      "2024-11-24 12:06:48.327620: W ./tensorflow/core/util/ctc/ctc_loss_calculator.h:499] No valid path found.\n",
      "2024-11-24 12:06:48.328131: W ./tensorflow/core/util/ctc/ctc_loss_calculator.h:499] No valid path found.\n",
      "2024-11-24 12:06:48.328596: W ./tensorflow/core/util/ctc/ctc_loss_calculator.h:499] No valid path found.\n"
     ]
    },
    {
     "name": "stdout",
     "output_type": "stream",
     "text": [
      "\u001b[1m1212/3125\u001b[0m \u001b[32m━━━━━━━\u001b[0m\u001b[37m━━━━━━━━━━━━━\u001b[0m \u001b[1m6:17:29\u001b[0m 12s/step - loss: inf"
     ]
    },
    {
     "name": "stderr",
     "output_type": "stream",
     "text": [
      "2024-11-24 12:14:37.578599: W ./tensorflow/core/util/ctc/ctc_loss_calculator.h:499] No valid path found.\n"
     ]
    },
    {
     "name": "stdout",
     "output_type": "stream",
     "text": [
      "\u001b[1m1239/3125\u001b[0m \u001b[32m━━━━━━━\u001b[0m\u001b[37m━━━━━━━━━━━━━\u001b[0m \u001b[1m6:11:26\u001b[0m 12s/step - loss: inf"
     ]
    },
    {
     "name": "stderr",
     "output_type": "stream",
     "text": [
      "2024-11-24 12:19:29.178132: W ./tensorflow/core/util/ctc/ctc_loss_calculator.h:499] No valid path found.\n",
      "2024-11-24 12:19:29.178211: W ./tensorflow/core/util/ctc/ctc_loss_calculator.h:499] No valid path found.\n",
      "2024-11-24 12:19:29.178274: W ./tensorflow/core/util/ctc/ctc_loss_calculator.h:499] No valid path found.\n",
      "2024-11-24 12:19:29.178303: W ./tensorflow/core/util/ctc/ctc_loss_calculator.h:499] No valid path found.\n",
      "2024-11-24 12:19:29.178355: W ./tensorflow/core/util/ctc/ctc_loss_calculator.h:499] No valid path found.\n",
      "2024-11-24 12:19:29.178372: W ./tensorflow/core/util/ctc/ctc_loss_calculator.h:499] No valid path found.\n",
      "2024-11-24 12:19:29.178406: W ./tensorflow/core/util/ctc/ctc_loss_calculator.h:499] No valid path found.\n",
      "2024-11-24 12:19:29.178442: W ./tensorflow/core/util/ctc/ctc_loss_calculator.h:499] No valid path found.\n"
     ]
    },
    {
     "name": "stdout",
     "output_type": "stream",
     "text": [
      "\u001b[1m1480/3125\u001b[0m \u001b[32m━━━━━━━━━\u001b[0m\u001b[37m━━━━━━━━━━━\u001b[0m \u001b[1m5:22:30\u001b[0m 12s/step - loss: inf"
     ]
    },
    {
     "name": "stderr",
     "output_type": "stream",
     "text": [
      "2024-11-24 13:05:37.623613: W ./tensorflow/core/util/ctc/ctc_loss_calculator.h:499] No valid path found.\n",
      "2024-11-24 13:05:37.623672: W ./tensorflow/core/util/ctc/ctc_loss_calculator.h:499] No valid path found.\n",
      "2024-11-24 13:05:37.623697: W ./tensorflow/core/util/ctc/ctc_loss_calculator.h:499] No valid path found.\n",
      "2024-11-24 13:05:37.623742: W ./tensorflow/core/util/ctc/ctc_loss_calculator.h:499] No valid path found.\n",
      "2024-11-24 13:05:37.623758: W ./tensorflow/core/util/ctc/ctc_loss_calculator.h:499] No valid path found.\n",
      "2024-11-24 13:05:37.623779: W ./tensorflow/core/util/ctc/ctc_loss_calculator.h:499] No valid path found.\n",
      "2024-11-24 13:05:37.623800: W ./tensorflow/core/util/ctc/ctc_loss_calculator.h:499] No valid path found.\n",
      "2024-11-24 13:05:37.623820: W ./tensorflow/core/util/ctc/ctc_loss_calculator.h:499] No valid path found.\n",
      "2024-11-24 13:05:37.623874: W ./tensorflow/core/util/ctc/ctc_loss_calculator.h:499] No valid path found.\n",
      "2024-11-24 13:05:37.623893: W ./tensorflow/core/util/ctc/ctc_loss_calculator.h:499] No valid path found.\n",
      "2024-11-24 13:05:37.623910: W ./tensorflow/core/util/ctc/ctc_loss_calculator.h:499] No valid path found.\n"
     ]
    },
    {
     "name": "stdout",
     "output_type": "stream",
     "text": [
      "\u001b[1m1642/3125\u001b[0m \u001b[32m━━━━━━━━━━\u001b[0m\u001b[37m━━━━━━━━━━\u001b[0m \u001b[1m4:50:11\u001b[0m 12s/step - loss: inf"
     ]
    },
    {
     "name": "stderr",
     "output_type": "stream",
     "text": [
      "2024-11-24 13:36:46.116051: W ./tensorflow/core/util/ctc/ctc_loss_calculator.h:499] No valid path found.\n"
     ]
    },
    {
     "name": "stdout",
     "output_type": "stream",
     "text": [
      "\u001b[1m1740/3125\u001b[0m \u001b[32m━━━━━━━━━━━\u001b[0m\u001b[37m━━━━━━━━━\u001b[0m \u001b[1m4:31:23\u001b[0m 12s/step - loss: inf"
     ]
    },
    {
     "name": "stderr",
     "output_type": "stream",
     "text": [
      "2024-11-24 13:56:25.794392: W ./tensorflow/core/util/ctc/ctc_loss_calculator.h:499] No valid path found.\n"
     ]
    },
    {
     "name": "stdout",
     "output_type": "stream",
     "text": [
      "\u001b[1m1841/3125\u001b[0m \u001b[32m━━━━━━━━━━━\u001b[0m\u001b[37m━━━━━━━━━\u001b[0m \u001b[1m4:12:18\u001b[0m 12s/step - loss: inf"
     ]
    },
    {
     "name": "stderr",
     "output_type": "stream",
     "text": [
      "2024-11-24 14:17:13.162755: W ./tensorflow/core/util/ctc/ctc_loss_calculator.h:499] No valid path found.\n",
      "2024-11-24 14:17:13.162867: W ./tensorflow/core/util/ctc/ctc_loss_calculator.h:499] No valid path found.\n",
      "2024-11-24 14:17:13.163348: W ./tensorflow/core/util/ctc/ctc_loss_calculator.h:499] No valid path found.\n"
     ]
    },
    {
     "name": "stdout",
     "output_type": "stream",
     "text": [
      "\u001b[1m1906/3125\u001b[0m \u001b[32m━━━━━━━━━━━━\u001b[0m\u001b[37m━━━━━━━━\u001b[0m \u001b[1m3:59:12\u001b[0m 12s/step - loss: inf"
     ]
    },
    {
     "name": "stderr",
     "output_type": "stream",
     "text": [
      "2024-11-24 14:29:28.678549: W ./tensorflow/core/util/ctc/ctc_loss_calculator.h:499] No valid path found.\n",
      "2024-11-24 14:29:28.678647: W ./tensorflow/core/util/ctc/ctc_loss_calculator.h:499] No valid path found.\n"
     ]
    },
    {
     "name": "stdout",
     "output_type": "stream",
     "text": [
      "\u001b[1m1934/3125\u001b[0m \u001b[32m━━━━━━━━━━━━\u001b[0m\u001b[37m━━━━━━━━\u001b[0m \u001b[1m3:53:42\u001b[0m 12s/step - loss: inf"
     ]
    },
    {
     "name": "stderr",
     "output_type": "stream",
     "text": [
      "2024-11-24 14:34:57.547789: W ./tensorflow/core/util/ctc/ctc_loss_calculator.h:499] No valid path found.\n"
     ]
    },
    {
     "name": "stdout",
     "output_type": "stream",
     "text": [
      "\u001b[1m2027/3125\u001b[0m \u001b[32m━━━━━━━━━━━━\u001b[0m\u001b[37m━━━━━━━━\u001b[0m \u001b[1m3:35:16\u001b[0m 12s/step - loss: inf"
     ]
    },
    {
     "name": "stderr",
     "output_type": "stream",
     "text": [
      "2024-11-24 14:52:54.159871: W ./tensorflow/core/util/ctc/ctc_loss_calculator.h:499] No valid path found.\n",
      "2024-11-24 14:52:54.160106: W ./tensorflow/core/util/ctc/ctc_loss_calculator.h:499] No valid path found.\n"
     ]
    },
    {
     "name": "stdout",
     "output_type": "stream",
     "text": [
      "\u001b[1m2205/3125\u001b[0m \u001b[32m━━━━━━━━━━━━━━\u001b[0m\u001b[37m━━━━━━\u001b[0m \u001b[1m3:00:05\u001b[0m 12s/step - loss: inf"
     ]
    },
    {
     "name": "stderr",
     "output_type": "stream",
     "text": [
      "2024-11-24 15:27:07.213314: W ./tensorflow/core/util/ctc/ctc_loss_calculator.h:499] No valid path found.\n",
      "2024-11-24 15:27:07.213399: W ./tensorflow/core/util/ctc/ctc_loss_calculator.h:499] No valid path found.\n",
      "2024-11-24 15:27:07.213447: W ./tensorflow/core/util/ctc/ctc_loss_calculator.h:499] No valid path found.\n",
      "2024-11-24 15:27:07.213505: W ./tensorflow/core/util/ctc/ctc_loss_calculator.h:499] No valid path found.\n",
      "2024-11-24 15:27:07.213538: W ./tensorflow/core/util/ctc/ctc_loss_calculator.h:499] No valid path found.\n",
      "2024-11-24 15:27:07.214008: W ./tensorflow/core/util/ctc/ctc_loss_calculator.h:499] No valid path found.\n"
     ]
    },
    {
     "name": "stdout",
     "output_type": "stream",
     "text": [
      "\u001b[1m2626/3125\u001b[0m \u001b[32m━━━━━━━━━━━━━━━━\u001b[0m\u001b[37m━━━━\u001b[0m \u001b[1m1:37:56\u001b[0m 12s/step - loss: inf"
     ]
    },
    {
     "name": "stderr",
     "output_type": "stream",
     "text": [
      "2024-11-24 16:50:52.698779: W ./tensorflow/core/util/ctc/ctc_loss_calculator.h:499] No valid path found.\n",
      "2024-11-24 16:50:52.698862: W ./tensorflow/core/util/ctc/ctc_loss_calculator.h:499] No valid path found.\n",
      "2024-11-24 16:50:52.698927: W ./tensorflow/core/util/ctc/ctc_loss_calculator.h:499] No valid path found.\n",
      "2024-11-24 16:50:52.699001: W ./tensorflow/core/util/ctc/ctc_loss_calculator.h:499] No valid path found.\n",
      "2024-11-24 16:50:52.699087: W ./tensorflow/core/util/ctc/ctc_loss_calculator.h:499] No valid path found.\n",
      "2024-11-24 16:50:52.699102: W ./tensorflow/core/util/ctc/ctc_loss_calculator.h:499] No valid path found.\n",
      "2024-11-24 16:50:52.699304: W ./tensorflow/core/util/ctc/ctc_loss_calculator.h:499] No valid path found.\n",
      "2024-11-24 16:50:52.699322: W ./tensorflow/core/util/ctc/ctc_loss_calculator.h:499] No valid path found.\n"
     ]
    },
    {
     "name": "stdout",
     "output_type": "stream",
     "text": [
      "\u001b[1m2789/3125\u001b[0m \u001b[32m━━━━━━━━━━━━━━━━━\u001b[0m\u001b[37m━━━\u001b[0m \u001b[1m1:05:56\u001b[0m 12s/step - loss: inf"
     ]
    },
    {
     "name": "stderr",
     "output_type": "stream",
     "text": [
      "2024-11-24 17:22:50.087931: W ./tensorflow/core/util/ctc/ctc_loss_calculator.h:499] No valid path found.\n",
      "2024-11-24 17:22:50.088157: W ./tensorflow/core/util/ctc/ctc_loss_calculator.h:499] No valid path found.\n",
      "2024-11-24 17:22:50.088381: W ./tensorflow/core/util/ctc/ctc_loss_calculator.h:499] No valid path found.\n"
     ]
    },
    {
     "name": "stdout",
     "output_type": "stream",
     "text": [
      "\u001b[1m2824/3125\u001b[0m \u001b[32m━━━━━━━━━━━━━━━━━━\u001b[0m\u001b[37m━━\u001b[0m \u001b[1m59:02\u001b[0m 12s/step - loss: inf"
     ]
    },
    {
     "name": "stderr",
     "output_type": "stream",
     "text": [
      "2024-11-24 17:29:27.210468: W ./tensorflow/core/util/ctc/ctc_loss_calculator.h:499] No valid path found.\n",
      "2024-11-24 17:29:27.210525: W ./tensorflow/core/util/ctc/ctc_loss_calculator.h:499] No valid path found.\n",
      "2024-11-24 17:29:27.210707: W ./tensorflow/core/util/ctc/ctc_loss_calculator.h:499] No valid path found.\n"
     ]
    },
    {
     "name": "stdout",
     "output_type": "stream",
     "text": [
      "\u001b[1m2856/3125\u001b[0m \u001b[32m━━━━━━━━━━━━━━━━━━\u001b[0m\u001b[37m━━\u001b[0m \u001b[1m52:42\u001b[0m 12s/step - loss: inf"
     ]
    },
    {
     "name": "stderr",
     "output_type": "stream",
     "text": [
      "2024-11-24 17:35:09.159091: W ./tensorflow/core/util/ctc/ctc_loss_calculator.h:499] No valid path found.\n"
     ]
    },
    {
     "name": "stdout",
     "output_type": "stream",
     "text": [
      "\u001b[1m2988/3125\u001b[0m \u001b[32m━━━━━━━━━━━━━━━━━━━\u001b[0m\u001b[37m━\u001b[0m \u001b[1m26:49\u001b[0m 12s/step - loss: inf"
     ]
    },
    {
     "name": "stderr",
     "output_type": "stream",
     "text": [
      "2024-11-24 18:00:38.994767: W ./tensorflow/core/util/ctc/ctc_loss_calculator.h:499] No valid path found.\n",
      "2024-11-24 18:00:38.994851: W ./tensorflow/core/util/ctc/ctc_loss_calculator.h:499] No valid path found.\n",
      "2024-11-24 18:00:38.995018: W ./tensorflow/core/util/ctc/ctc_loss_calculator.h:499] No valid path found.\n",
      "2024-11-24 18:00:38.995051: W ./tensorflow/core/util/ctc/ctc_loss_calculator.h:499] No valid path found.\n",
      "2024-11-24 18:00:38.995096: W ./tensorflow/core/util/ctc/ctc_loss_calculator.h:499] No valid path found.\n"
     ]
    },
    {
     "name": "stdout",
     "output_type": "stream",
     "text": [
      "\u001b[1m3009/3125\u001b[0m \u001b[32m━━━━━━━━━━━━━━━━━━━\u001b[0m\u001b[37m━\u001b[0m \u001b[1m22:42\u001b[0m 12s/step - loss: inf"
     ]
    },
    {
     "name": "stderr",
     "output_type": "stream",
     "text": [
      "2024-11-24 18:04:32.149631: W ./tensorflow/core/util/ctc/ctc_loss_calculator.h:499] No valid path found.\n",
      "2024-11-24 18:04:32.149715: W ./tensorflow/core/util/ctc/ctc_loss_calculator.h:499] No valid path found.\n",
      "2024-11-24 18:04:32.149734: W ./tensorflow/core/util/ctc/ctc_loss_calculator.h:499] No valid path found.\n",
      "2024-11-24 18:04:32.149901: W ./tensorflow/core/util/ctc/ctc_loss_calculator.h:499] No valid path found.\n",
      "2024-11-24 18:04:32.149937: W ./tensorflow/core/util/ctc/ctc_loss_calculator.h:499] No valid path found.\n",
      "2024-11-24 18:04:32.149949: W ./tensorflow/core/util/ctc/ctc_loss_calculator.h:499] No valid path found.\n",
      "2024-11-24 18:04:32.149972: W ./tensorflow/core/util/ctc/ctc_loss_calculator.h:499] No valid path found.\n",
      "2024-11-24 18:04:32.149993: W ./tensorflow/core/util/ctc/ctc_loss_calculator.h:499] No valid path found.\n",
      "2024-11-24 18:04:32.150014: W ./tensorflow/core/util/ctc/ctc_loss_calculator.h:499] No valid path found.\n",
      "2024-11-24 18:04:32.150034: W ./tensorflow/core/util/ctc/ctc_loss_calculator.h:499] No valid path found.\n",
      "2024-11-24 18:04:32.150053: W ./tensorflow/core/util/ctc/ctc_loss_calculator.h:499] No valid path found.\n",
      "2024-11-24 18:04:32.150088: W ./tensorflow/core/util/ctc/ctc_loss_calculator.h:499] No valid path found.\n"
     ]
    },
    {
     "name": "stdout",
     "output_type": "stream",
     "text": [
      "\u001b[1m3124/3125\u001b[0m \u001b[32m━━━━━━━━━━━━━━━━━━━\u001b[0m\u001b[37m━\u001b[0m \u001b[1m11s\u001b[0m 12s/step - loss: inf"
     ]
    },
    {
     "name": "stderr",
     "output_type": "stream",
     "text": [
      "2024-11-24 18:26:59.564678: W ./tensorflow/core/util/ctc/ctc_loss_calculator.h:499] No valid path found.\n",
      "2024-11-24 18:26:59.564794: W ./tensorflow/core/util/ctc/ctc_loss_calculator.h:499] No valid path found.\n",
      "2024-11-24 18:26:59.564861: W ./tensorflow/core/util/ctc/ctc_loss_calculator.h:499] No valid path found.\n",
      "2024-11-24 18:26:59.564880: W ./tensorflow/core/util/ctc/ctc_loss_calculator.h:499] No valid path found.\n",
      "2024-11-24 18:26:59.564934: W ./tensorflow/core/util/ctc/ctc_loss_calculator.h:499] No valid path found.\n",
      "2024-11-24 18:26:59.564961: W ./tensorflow/core/util/ctc/ctc_loss_calculator.h:499] No valid path found.\n",
      "2024-11-24 18:26:59.564976: W ./tensorflow/core/util/ctc/ctc_loss_calculator.h:499] No valid path found.\n",
      "2024-11-24 18:26:59.564999: W ./tensorflow/core/util/ctc/ctc_loss_calculator.h:499] No valid path found.\n",
      "2024-11-24 18:26:59.565020: W ./tensorflow/core/util/ctc/ctc_loss_calculator.h:499] No valid path found.\n",
      "2024-11-24 18:26:59.565044: W ./tensorflow/core/util/ctc/ctc_loss_calculator.h:499] No valid path found.\n",
      "2024-11-24 18:26:59.565083: W ./tensorflow/core/util/ctc/ctc_loss_calculator.h:499] No valid path found.\n",
      "2024-11-24 18:26:59.565111: W ./tensorflow/core/util/ctc/ctc_loss_calculator.h:499] No valid path found.\n",
      "2024-11-24 18:26:59.565138: W ./tensorflow/core/util/ctc/ctc_loss_calculator.h:499] No valid path found.\n",
      "2024-11-24 18:26:59.565167: W ./tensorflow/core/util/ctc/ctc_loss_calculator.h:499] No valid path found.\n",
      "2024-11-24 18:26:59.565193: W ./tensorflow/core/util/ctc/ctc_loss_calculator.h:499] No valid path found.\n"
     ]
    },
    {
     "name": "stdout",
     "output_type": "stream",
     "text": [
      "\u001b[1m3125/3125\u001b[0m \u001b[32m━━━━━━━━━━━━━━━━━━━━\u001b[0m\u001b[37m\u001b[0m \u001b[1m0s\u001b[0m 12s/step - loss: inf "
     ]
    },
    {
     "name": "stderr",
     "output_type": "stream",
     "text": [
      "2024-11-24 18:28:24.654826: W ./tensorflow/core/util/ctc/ctc_loss_calculator.h:499] No valid path found.\n",
      "2024-11-24 18:31:14.117120: W ./tensorflow/core/util/ctc/ctc_loss_calculator.h:499] No valid path found.\n",
      "2024-11-24 18:31:14.117386: W ./tensorflow/core/util/ctc/ctc_loss_calculator.h:499] No valid path found.\n",
      "2024-11-24 18:31:14.117446: W ./tensorflow/core/util/ctc/ctc_loss_calculator.h:499] No valid path found.\n",
      "2024-11-24 18:31:14.117485: W ./tensorflow/core/util/ctc/ctc_loss_calculator.h:499] No valid path found.\n",
      "2024-11-24 18:31:14.117506: W ./tensorflow/core/util/ctc/ctc_loss_calculator.h:499] No valid path found.\n",
      "2024-11-24 18:31:14.117571: W ./tensorflow/core/util/ctc/ctc_loss_calculator.h:499] No valid path found.\n",
      "2024-11-24 18:31:14.117598: W ./tensorflow/core/util/ctc/ctc_loss_calculator.h:499] No valid path found.\n",
      "2024-11-24 18:31:14.117617: W ./tensorflow/core/util/ctc/ctc_loss_calculator.h:499] No valid path found.\n",
      "2024-11-24 18:31:14.117633: W ./tensorflow/core/util/ctc/ctc_loss_calculator.h:499] No valid path found.\n",
      "2024-11-24 18:31:14.117655: W ./tensorflow/core/util/ctc/ctc_loss_calculator.h:499] No valid path found.\n",
      "2024-11-24 18:31:14.117685: W ./tensorflow/core/util/ctc/ctc_loss_calculator.h:499] No valid path found.\n",
      "2024-11-24 18:31:14.117698: W ./tensorflow/core/util/ctc/ctc_loss_calculator.h:499] No valid path found.\n",
      "2024-11-24 18:31:14.117712: W ./tensorflow/core/util/ctc/ctc_loss_calculator.h:499] No valid path found.\n"
     ]
    },
    {
     "name": "stdout",
     "output_type": "stream",
     "text": [
      "\u001b[1m1/1\u001b[0m \u001b[32m━━━━━━━━━━━━━━━━━━━━\u001b[0m\u001b[37m\u001b[0m \u001b[1m1s\u001b[0m 1s/step\n",
      "\u001b[1m1/1\u001b[0m \u001b[32m━━━━━━━━━━━━━━━━━━━━\u001b[0m\u001b[37m\u001b[0m \u001b[1m1s\u001b[0m 954ms/step\n",
      "\u001b[1m1/1\u001b[0m \u001b[32m━━━━━━━━━━━━━━━━━━━━\u001b[0m\u001b[37m\u001b[0m \u001b[1m1s\u001b[0m 1s/step\n",
      "\u001b[1m1/1\u001b[0m \u001b[32m━━━━━━━━━━━━━━━━━━━━\u001b[0m\u001b[37m\u001b[0m \u001b[1m1s\u001b[0m 1s/step\n",
      "\u001b[1m1/1\u001b[0m \u001b[32m━━━━━━━━━━━━━━━━━━━━\u001b[0m\u001b[37m\u001b[0m \u001b[1m1s\u001b[0m 1s/step\n",
      "\u001b[1m1/1\u001b[0m \u001b[32m━━━━━━━━━━━━━━━━━━━━\u001b[0m\u001b[37m\u001b[0m \u001b[1m1s\u001b[0m 1s/step\n",
      "\u001b[1m1/1\u001b[0m \u001b[32m━━━━━━━━━━━━━━━━━━━━\u001b[0m\u001b[37m\u001b[0m \u001b[1m3s\u001b[0m 3s/step\n",
      "\u001b[1m1/1\u001b[0m \u001b[32m━━━━━━━━━━━━━━━━━━━━\u001b[0m\u001b[37m\u001b[0m \u001b[1m2s\u001b[0m 2s/step\n",
      "\u001b[1m1/1\u001b[0m \u001b[32m━━━━━━━━━━━━━━━━━━━━\u001b[0m\u001b[37m\u001b[0m \u001b[1m1s\u001b[0m 1s/step\n",
      "\u001b[1m1/1\u001b[0m \u001b[32m━━━━━━━━━━━━━━━━━━━━\u001b[0m\u001b[37m\u001b[0m \u001b[1m1s\u001b[0m 1s/step\n",
      "\u001b[1m1/1\u001b[0m \u001b[32m━━━━━━━━━━━━━━━━━━━━\u001b[0m\u001b[37m\u001b[0m \u001b[1m1s\u001b[0m 1s/step\n",
      "\u001b[1m1/1\u001b[0m \u001b[32m━━━━━━━━━━━━━━━━━━━━\u001b[0m\u001b[37m\u001b[0m \u001b[1m1s\u001b[0m 1s/step\n",
      "\u001b[1m1/1\u001b[0m \u001b[32m━━━━━━━━━━━━━━━━━━━━\u001b[0m\u001b[37m\u001b[0m \u001b[1m1s\u001b[0m 1s/step\n",
      "\u001b[1m1/1\u001b[0m \u001b[32m━━━━━━━━━━━━━━━━━━━━\u001b[0m\u001b[37m\u001b[0m \u001b[1m1s\u001b[0m 1s/step\n",
      "\u001b[1m1/1\u001b[0m \u001b[32m━━━━━━━━━━━━━━━━━━━━\u001b[0m\u001b[37m\u001b[0m \u001b[1m1s\u001b[0m 1s/step\n",
      "\u001b[1m1/1\u001b[0m \u001b[32m━━━━━━━━━━━━━━━━━━━━\u001b[0m\u001b[37m\u001b[0m \u001b[1m1s\u001b[0m 1s/step\n",
      "\u001b[1m1/1\u001b[0m \u001b[32m━━━━━━━━━━━━━━━━━━━━\u001b[0m\u001b[37m\u001b[0m \u001b[1m1s\u001b[0m 1s/step\n",
      "\u001b[1m1/1\u001b[0m \u001b[32m━━━━━━━━━━━━━━━━━━━━\u001b[0m\u001b[37m\u001b[0m \u001b[1m1s\u001b[0m 1s/step\n",
      "\u001b[1m1/1\u001b[0m \u001b[32m━━━━━━━━━━━━━━━━━━━━\u001b[0m\u001b[37m\u001b[0m \u001b[1m1s\u001b[0m 1s/step\n",
      "\u001b[1m1/1\u001b[0m \u001b[32m━━━━━━━━━━━━━━━━━━━━\u001b[0m\u001b[37m\u001b[0m \u001b[1m1s\u001b[0m 1s/step\n",
      "\u001b[1m1/1\u001b[0m \u001b[32m━━━━━━━━━━━━━━━━━━━━\u001b[0m\u001b[37m\u001b[0m \u001b[1m1s\u001b[0m 1s/step\n",
      "\u001b[1m1/1\u001b[0m \u001b[32m━━━━━━━━━━━━━━━━━━━━\u001b[0m\u001b[37m\u001b[0m \u001b[1m1s\u001b[0m 1s/step\n",
      "\u001b[1m1/1\u001b[0m \u001b[32m━━━━━━━━━━━━━━━━━━━━\u001b[0m\u001b[37m\u001b[0m \u001b[1m2s\u001b[0m 2s/step\n",
      "\u001b[1m1/1\u001b[0m \u001b[32m━━━━━━━━━━━━━━━━━━━━\u001b[0m\u001b[37m\u001b[0m \u001b[1m1s\u001b[0m 1s/step\n",
      "\u001b[1m1/1\u001b[0m \u001b[32m━━━━━━━━━━━━━━━━━━━━\u001b[0m\u001b[37m\u001b[0m \u001b[1m2s\u001b[0m 2s/step\n",
      "\u001b[1m1/1\u001b[0m \u001b[32m━━━━━━━━━━━━━━━━━━━━\u001b[0m\u001b[37m\u001b[0m \u001b[1m1s\u001b[0m 1s/step\n",
      "\u001b[1m1/1\u001b[0m \u001b[32m━━━━━━━━━━━━━━━━━━━━\u001b[0m\u001b[37m\u001b[0m \u001b[1m1s\u001b[0m 1s/step\n",
      "\u001b[1m1/1\u001b[0m \u001b[32m━━━━━━━━━━━━━━━━━━━━\u001b[0m\u001b[37m\u001b[0m \u001b[1m1s\u001b[0m 985ms/step\n",
      "\u001b[1m1/1\u001b[0m \u001b[32m━━━━━━━━━━━━━━━━━━━━\u001b[0m\u001b[37m\u001b[0m \u001b[1m2s\u001b[0m 2s/step\n",
      "\u001b[1m1/1\u001b[0m \u001b[32m━━━━━━━━━━━━━━━━━━━━\u001b[0m\u001b[37m\u001b[0m \u001b[1m1s\u001b[0m 1s/step\n",
      "\u001b[1m1/1\u001b[0m \u001b[32m━━━━━━━━━━━━━━━━━━━━\u001b[0m\u001b[37m\u001b[0m \u001b[1m1s\u001b[0m 1s/step\n",
      "\u001b[1m1/1\u001b[0m \u001b[32m━━━━━━━━━━━━━━━━━━━━\u001b[0m\u001b[37m\u001b[0m \u001b[1m1s\u001b[0m 1s/step\n",
      "\u001b[1m1/1\u001b[0m \u001b[32m━━━━━━━━━━━━━━━━━━━━\u001b[0m\u001b[37m\u001b[0m \u001b[1m2s\u001b[0m 2s/step\n",
      "\u001b[1m1/1\u001b[0m \u001b[32m━━━━━━━━━━━━━━━━━━━━\u001b[0m\u001b[37m\u001b[0m \u001b[1m1s\u001b[0m 1s/step\n",
      "\u001b[1m1/1\u001b[0m \u001b[32m━━━━━━━━━━━━━━━━━━━━\u001b[0m\u001b[37m\u001b[0m \u001b[1m2s\u001b[0m 2s/step\n",
      "\u001b[1m1/1\u001b[0m \u001b[32m━━━━━━━━━━━━━━━━━━━━\u001b[0m\u001b[37m\u001b[0m \u001b[1m1s\u001b[0m 1s/step\n",
      "\u001b[1m1/1\u001b[0m \u001b[32m━━━━━━━━━━━━━━━━━━━━\u001b[0m\u001b[37m\u001b[0m \u001b[1m1s\u001b[0m 1s/step\n",
      "\u001b[1m1/1\u001b[0m \u001b[32m━━━━━━━━━━━━━━━━━━━━\u001b[0m\u001b[37m\u001b[0m \u001b[1m1s\u001b[0m 1s/step\n",
      "\u001b[1m1/1\u001b[0m \u001b[32m━━━━━━━━━━━━━━━━━━━━\u001b[0m\u001b[37m\u001b[0m \u001b[1m2s\u001b[0m 2s/step\n",
      "\u001b[1m1/1\u001b[0m \u001b[32m━━━━━━━━━━━━━━━━━━━━\u001b[0m\u001b[37m\u001b[0m \u001b[1m2s\u001b[0m 2s/step\n",
      "\u001b[1m1/1\u001b[0m \u001b[32m━━━━━━━━━━━━━━━━━━━━\u001b[0m\u001b[37m\u001b[0m \u001b[1m1s\u001b[0m 1s/step\n",
      "\u001b[1m1/1\u001b[0m \u001b[32m━━━━━━━━━━━━━━━━━━━━\u001b[0m\u001b[37m\u001b[0m \u001b[1m1s\u001b[0m 1s/step\n",
      "\u001b[1m1/1\u001b[0m \u001b[32m━━━━━━━━━━━━━━━━━━━━\u001b[0m\u001b[37m\u001b[0m \u001b[1m1s\u001b[0m 881ms/step\n",
      "\u001b[1m1/1\u001b[0m \u001b[32m━━━━━━━━━━━━━━━━━━━━\u001b[0m\u001b[37m\u001b[0m \u001b[1m1s\u001b[0m 1s/step\n",
      "\u001b[1m1/1\u001b[0m \u001b[32m━━━━━━━━━━━━━━━━━━━━\u001b[0m\u001b[37m\u001b[0m \u001b[1m1s\u001b[0m 1s/step\n",
      "\u001b[1m1/1\u001b[0m \u001b[32m━━━━━━━━━━━━━━━━━━━━\u001b[0m\u001b[37m\u001b[0m \u001b[1m2s\u001b[0m 2s/step\n",
      "\u001b[1m1/1\u001b[0m \u001b[32m━━━━━━━━━━━━━━━━━━━━\u001b[0m\u001b[37m\u001b[0m \u001b[1m1s\u001b[0m 1s/step\n",
      "\u001b[1m1/1\u001b[0m \u001b[32m━━━━━━━━━━━━━━━━━━━━\u001b[0m\u001b[37m\u001b[0m \u001b[1m2s\u001b[0m 2s/step\n",
      "\u001b[1m1/1\u001b[0m \u001b[32m━━━━━━━━━━━━━━━━━━━━\u001b[0m\u001b[37m\u001b[0m \u001b[1m2s\u001b[0m 2s/step\n",
      "\u001b[1m1/1\u001b[0m \u001b[32m━━━━━━━━━━━━━━━━━━━━\u001b[0m\u001b[37m\u001b[0m \u001b[1m1s\u001b[0m 1s/step\n",
      "\u001b[1m1/1\u001b[0m \u001b[32m━━━━━━━━━━━━━━━━━━━━\u001b[0m\u001b[37m\u001b[0m \u001b[1m1s\u001b[0m 1s/step\n",
      "\u001b[1m1/1\u001b[0m \u001b[32m━━━━━━━━━━━━━━━━━━━━\u001b[0m\u001b[37m\u001b[0m \u001b[1m2s\u001b[0m 2s/step\n",
      "\u001b[1m1/1\u001b[0m \u001b[32m━━━━━━━━━━━━━━━━━━━━\u001b[0m\u001b[37m\u001b[0m \u001b[1m1s\u001b[0m 1s/step\n",
      "\u001b[1m1/1\u001b[0m \u001b[32m━━━━━━━━━━━━━━━━━━━━\u001b[0m\u001b[37m\u001b[0m \u001b[1m1s\u001b[0m 1s/step\n",
      "\u001b[1m1/1\u001b[0m \u001b[32m━━━━━━━━━━━━━━━━━━━━\u001b[0m\u001b[37m\u001b[0m \u001b[1m1s\u001b[0m 1s/step\n",
      "\u001b[1m1/1\u001b[0m \u001b[32m━━━━━━━━━━━━━━━━━━━━\u001b[0m\u001b[37m\u001b[0m \u001b[1m1s\u001b[0m 1s/step\n",
      "\u001b[1m1/1\u001b[0m \u001b[32m━━━━━━━━━━━━━━━━━━━━\u001b[0m\u001b[37m\u001b[0m \u001b[1m1s\u001b[0m 1s/step\n",
      "\u001b[1m1/1\u001b[0m \u001b[32m━━━━━━━━━━━━━━━━━━━━\u001b[0m\u001b[37m\u001b[0m \u001b[1m1s\u001b[0m 1s/step\n",
      "\u001b[1m1/1\u001b[0m \u001b[32m━━━━━━━━━━━━━━━━━━━━\u001b[0m\u001b[37m\u001b[0m \u001b[1m2s\u001b[0m 2s/step\n",
      "\u001b[1m1/1\u001b[0m \u001b[32m━━━━━━━━━━━━━━━━━━━━\u001b[0m\u001b[37m\u001b[0m \u001b[1m1s\u001b[0m 1s/step\n",
      "\u001b[1m1/1\u001b[0m \u001b[32m━━━━━━━━━━━━━━━━━━━━\u001b[0m\u001b[37m\u001b[0m \u001b[1m1s\u001b[0m 1s/step\n",
      "\u001b[1m1/1\u001b[0m \u001b[32m━━━━━━━━━━━━━━━━━━━━\u001b[0m\u001b[37m\u001b[0m \u001b[1m1s\u001b[0m 1s/step\n",
      "\u001b[1m1/1\u001b[0m \u001b[32m━━━━━━━━━━━━━━━━━━━━\u001b[0m\u001b[37m\u001b[0m \u001b[1m2s\u001b[0m 2s/step\n",
      "\u001b[1m1/1\u001b[0m \u001b[32m━━━━━━━━━━━━━━━━━━━━\u001b[0m\u001b[37m\u001b[0m \u001b[1m2s\u001b[0m 2s/step\n",
      "\u001b[1m1/1\u001b[0m \u001b[32m━━━━━━━━━━━━━━━━━━━━\u001b[0m\u001b[37m\u001b[0m \u001b[1m1s\u001b[0m 1s/step\n",
      "\u001b[1m1/1\u001b[0m \u001b[32m━━━━━━━━━━━━━━━━━━━━\u001b[0m\u001b[37m\u001b[0m \u001b[1m2s\u001b[0m 2s/step\n",
      "\u001b[1m1/1\u001b[0m \u001b[32m━━━━━━━━━━━━━━━━━━━━\u001b[0m\u001b[37m\u001b[0m \u001b[1m2s\u001b[0m 2s/step\n",
      "\u001b[1m1/1\u001b[0m \u001b[32m━━━━━━━━━━━━━━━━━━━━\u001b[0m\u001b[37m\u001b[0m \u001b[1m1s\u001b[0m 1s/step\n",
      "\u001b[1m1/1\u001b[0m \u001b[32m━━━━━━━━━━━━━━━━━━━━\u001b[0m\u001b[37m\u001b[0m \u001b[1m2s\u001b[0m 2s/step\n",
      "\u001b[1m1/1\u001b[0m \u001b[32m━━━━━━━━━━━━━━━━━━━━\u001b[0m\u001b[37m\u001b[0m \u001b[1m1s\u001b[0m 1s/step\n",
      "\u001b[1m1/1\u001b[0m \u001b[32m━━━━━━━━━━━━━━━━━━━━\u001b[0m\u001b[37m\u001b[0m \u001b[1m2s\u001b[0m 2s/step\n",
      "\u001b[1m1/1\u001b[0m \u001b[32m━━━━━━━━━━━━━━━━━━━━\u001b[0m\u001b[37m\u001b[0m \u001b[1m1s\u001b[0m 1s/step\n",
      "\u001b[1m1/1\u001b[0m \u001b[32m━━━━━━━━━━━━━━━━━━━━\u001b[0m\u001b[37m\u001b[0m \u001b[1m1s\u001b[0m 970ms/step\n",
      "\u001b[1m1/1\u001b[0m \u001b[32m━━━━━━━━━━━━━━━━━━━━\u001b[0m\u001b[37m\u001b[0m \u001b[1m2s\u001b[0m 2s/step\n",
      "\u001b[1m1/1\u001b[0m \u001b[32m━━━━━━━━━━━━━━━━━━━━\u001b[0m\u001b[37m\u001b[0m \u001b[1m1s\u001b[0m 1s/step\n",
      "\u001b[1m1/1\u001b[0m \u001b[32m━━━━━━━━━━━━━━━━━━━━\u001b[0m\u001b[37m\u001b[0m \u001b[1m1s\u001b[0m 899ms/step\n",
      "\u001b[1m1/1\u001b[0m \u001b[32m━━━━━━━━━━━━━━━━━━━━\u001b[0m\u001b[37m\u001b[0m \u001b[1m2s\u001b[0m 2s/step\n",
      "\u001b[1m1/1\u001b[0m \u001b[32m━━━━━━━━━━━━━━━━━━━━\u001b[0m\u001b[37m\u001b[0m \u001b[1m1s\u001b[0m 1s/step\n",
      "\u001b[1m1/1\u001b[0m \u001b[32m━━━━━━━━━━━━━━━━━━━━\u001b[0m\u001b[37m\u001b[0m \u001b[1m1s\u001b[0m 899ms/step\n",
      "\u001b[1m1/1\u001b[0m \u001b[32m━━━━━━━━━━━━━━━━━━━━\u001b[0m\u001b[37m\u001b[0m \u001b[1m1s\u001b[0m 904ms/step\n",
      "\u001b[1m1/1\u001b[0m \u001b[32m━━━━━━━━━━━━━━━━━━━━\u001b[0m\u001b[37m\u001b[0m \u001b[1m1s\u001b[0m 1s/step\n",
      "\u001b[1m1/1\u001b[0m \u001b[32m━━━━━━━━━━━━━━━━━━━━\u001b[0m\u001b[37m\u001b[0m \u001b[1m1s\u001b[0m 915ms/step\n",
      "\u001b[1m1/1\u001b[0m \u001b[32m━━━━━━━━━━━━━━━━━━━━\u001b[0m\u001b[37m\u001b[0m \u001b[1m1s\u001b[0m 1s/step\n",
      "\u001b[1m1/1\u001b[0m \u001b[32m━━━━━━━━━━━━━━━━━━━━\u001b[0m\u001b[37m\u001b[0m \u001b[1m1s\u001b[0m 1s/step\n",
      "\u001b[1m1/1\u001b[0m \u001b[32m━━━━━━━━━━━━━━━━━━━━\u001b[0m\u001b[37m\u001b[0m \u001b[1m2s\u001b[0m 2s/step\n",
      "\u001b[1m1/1\u001b[0m \u001b[32m━━━━━━━━━━━━━━━━━━━━\u001b[0m\u001b[37m\u001b[0m \u001b[1m2s\u001b[0m 2s/step\n",
      "\u001b[1m1/1\u001b[0m \u001b[32m━━━━━━━━━━━━━━━━━━━━\u001b[0m\u001b[37m\u001b[0m \u001b[1m1s\u001b[0m 1s/step\n",
      "\u001b[1m1/1\u001b[0m \u001b[32m━━━━━━━━━━━━━━━━━━━━\u001b[0m\u001b[37m\u001b[0m \u001b[1m1s\u001b[0m 991ms/step\n",
      "\u001b[1m1/1\u001b[0m \u001b[32m━━━━━━━━━━━━━━━━━━━━\u001b[0m\u001b[37m\u001b[0m \u001b[1m1s\u001b[0m 1s/step\n",
      "\u001b[1m1/1\u001b[0m \u001b[32m━━━━━━━━━━━━━━━━━━━━\u001b[0m\u001b[37m\u001b[0m \u001b[1m2s\u001b[0m 2s/step\n",
      "\u001b[1m1/1\u001b[0m \u001b[32m━━━━━━━━━━━━━━━━━━━━\u001b[0m\u001b[37m\u001b[0m \u001b[1m2s\u001b[0m 2s/step\n",
      "\u001b[1m1/1\u001b[0m \u001b[32m━━━━━━━━━━━━━━━━━━━━\u001b[0m\u001b[37m\u001b[0m \u001b[1m1s\u001b[0m 1s/step\n",
      "\u001b[1m1/1\u001b[0m \u001b[32m━━━━━━━━━━━━━━━━━━━━\u001b[0m\u001b[37m\u001b[0m \u001b[1m1s\u001b[0m 1s/step\n",
      "\u001b[1m1/1\u001b[0m \u001b[32m━━━━━━━━━━━━━━━━━━━━\u001b[0m\u001b[37m\u001b[0m \u001b[1m2s\u001b[0m 2s/step\n",
      "\u001b[1m1/1\u001b[0m \u001b[32m━━━━━━━━━━━━━━━━━━━━\u001b[0m\u001b[37m\u001b[0m \u001b[1m1s\u001b[0m 1s/step\n",
      "\u001b[1m1/1\u001b[0m \u001b[32m━━━━━━━━━━━━━━━━━━━━\u001b[0m\u001b[37m\u001b[0m \u001b[1m2s\u001b[0m 2s/step\n",
      "\u001b[1m1/1\u001b[0m \u001b[32m━━━━━━━━━━━━━━━━━━━━\u001b[0m\u001b[37m\u001b[0m \u001b[1m1s\u001b[0m 1s/step\n",
      "\u001b[1m1/1\u001b[0m \u001b[32m━━━━━━━━━━━━━━━━━━━━\u001b[0m\u001b[37m\u001b[0m \u001b[1m1s\u001b[0m 1s/step\n",
      "\u001b[1m1/1\u001b[0m \u001b[32m━━━━━━━━━━━━━━━━━━━━\u001b[0m\u001b[37m\u001b[0m \u001b[1m1s\u001b[0m 1s/step\n",
      "\u001b[1m1/1\u001b[0m \u001b[32m━━━━━━━━━━━━━━━━━━━━\u001b[0m\u001b[37m\u001b[0m \u001b[1m1s\u001b[0m 1s/step\n",
      "\u001b[1m1/1\u001b[0m \u001b[32m━━━━━━━━━━━━━━━━━━━━\u001b[0m\u001b[37m\u001b[0m \u001b[1m1s\u001b[0m 1s/step\n",
      "\u001b[1m1/1\u001b[0m \u001b[32m━━━━━━━━━━━━━━━━━━━━\u001b[0m\u001b[37m\u001b[0m \u001b[1m1s\u001b[0m 1s/step\n",
      "\u001b[1m1/1\u001b[0m \u001b[32m━━━━━━━━━━━━━━━━━━━━\u001b[0m\u001b[37m\u001b[0m \u001b[1m2s\u001b[0m 2s/step\n",
      "\u001b[1m1/1\u001b[0m \u001b[32m━━━━━━━━━━━━━━━━━━━━\u001b[0m\u001b[37m\u001b[0m \u001b[1m1s\u001b[0m 1s/step\n",
      "\u001b[1m1/1\u001b[0m \u001b[32m━━━━━━━━━━━━━━━━━━━━\u001b[0m\u001b[37m\u001b[0m \u001b[1m2s\u001b[0m 2s/step\n",
      "\u001b[1m1/1\u001b[0m \u001b[32m━━━━━━━━━━━━━━━━━━━━\u001b[0m\u001b[37m\u001b[0m \u001b[1m1s\u001b[0m 1s/step\n",
      "\u001b[1m1/1\u001b[0m \u001b[32m━━━━━━━━━━━━━━━━━━━━\u001b[0m\u001b[37m\u001b[0m \u001b[1m1s\u001b[0m 1s/step\n",
      "\u001b[1m1/1\u001b[0m \u001b[32m━━━━━━━━━━━━━━━━━━━━\u001b[0m\u001b[37m\u001b[0m \u001b[1m2s\u001b[0m 2s/step\n",
      "\u001b[1m1/1\u001b[0m \u001b[32m━━━━━━━━━━━━━━━━━━━━\u001b[0m\u001b[37m\u001b[0m \u001b[1m2s\u001b[0m 2s/step\n",
      "\u001b[1m1/1\u001b[0m \u001b[32m━━━━━━━━━━━━━━━━━━━━\u001b[0m\u001b[37m\u001b[0m \u001b[1m2s\u001b[0m 2s/step\n",
      "\u001b[1m1/1\u001b[0m \u001b[32m━━━━━━━━━━━━━━━━━━━━\u001b[0m\u001b[37m\u001b[0m \u001b[1m1s\u001b[0m 1s/step\n",
      "\u001b[1m1/1\u001b[0m \u001b[32m━━━━━━━━━━━━━━━━━━━━\u001b[0m\u001b[37m\u001b[0m \u001b[1m1s\u001b[0m 1s/step\n",
      "\u001b[1m1/1\u001b[0m \u001b[32m━━━━━━━━━━━━━━━━━━━━\u001b[0m\u001b[37m\u001b[0m \u001b[1m1s\u001b[0m 1s/step\n",
      "\u001b[1m1/1\u001b[0m \u001b[32m━━━━━━━━━━━━━━━━━━━━\u001b[0m\u001b[37m\u001b[0m \u001b[1m1s\u001b[0m 1s/step\n",
      "\u001b[1m1/1\u001b[0m \u001b[32m━━━━━━━━━━━━━━━━━━━━\u001b[0m\u001b[37m\u001b[0m \u001b[1m2s\u001b[0m 2s/step\n",
      "\u001b[1m1/1\u001b[0m \u001b[32m━━━━━━━━━━━━━━━━━━━━\u001b[0m\u001b[37m\u001b[0m \u001b[1m2s\u001b[0m 2s/step\n",
      "\u001b[1m1/1\u001b[0m \u001b[32m━━━━━━━━━━━━━━━━━━━━\u001b[0m\u001b[37m\u001b[0m \u001b[1m1s\u001b[0m 1s/step\n",
      "\u001b[1m1/1\u001b[0m \u001b[32m━━━━━━━━━━━━━━━━━━━━\u001b[0m\u001b[37m\u001b[0m \u001b[1m1s\u001b[0m 1s/step\n",
      "\u001b[1m1/1\u001b[0m \u001b[32m━━━━━━━━━━━━━━━━━━━━\u001b[0m\u001b[37m\u001b[0m \u001b[1m1s\u001b[0m 1s/step\n",
      "\u001b[1m1/1\u001b[0m \u001b[32m━━━━━━━━━━━━━━━━━━━━\u001b[0m\u001b[37m\u001b[0m \u001b[1m1s\u001b[0m 1s/step\n",
      "\u001b[1m1/1\u001b[0m \u001b[32m━━━━━━━━━━━━━━━━━━━━\u001b[0m\u001b[37m\u001b[0m \u001b[1m1s\u001b[0m 1s/step\n",
      "\u001b[1m1/1\u001b[0m \u001b[32m━━━━━━━━━━━━━━━━━━━━\u001b[0m\u001b[37m\u001b[0m \u001b[1m1s\u001b[0m 1s/step\n",
      "\u001b[1m1/1\u001b[0m \u001b[32m━━━━━━━━━━━━━━━━━━━━\u001b[0m\u001b[37m\u001b[0m \u001b[1m1s\u001b[0m 1s/step\n",
      "\u001b[1m1/1\u001b[0m \u001b[32m━━━━━━━━━━━━━━━━━━━━\u001b[0m\u001b[37m\u001b[0m \u001b[1m1s\u001b[0m 1s/step\n",
      "\u001b[1m1/1\u001b[0m \u001b[32m━━━━━━━━━━━━━━━━━━━━\u001b[0m\u001b[37m\u001b[0m \u001b[1m1s\u001b[0m 1s/step\n",
      "\u001b[1m1/1\u001b[0m \u001b[32m━━━━━━━━━━━━━━━━━━━━\u001b[0m\u001b[37m\u001b[0m \u001b[1m2s\u001b[0m 2s/step\n",
      "\u001b[1m1/1\u001b[0m \u001b[32m━━━━━━━━━━━━━━━━━━━━\u001b[0m\u001b[37m\u001b[0m \u001b[1m1s\u001b[0m 976ms/step\n",
      "\u001b[1m1/1\u001b[0m \u001b[32m━━━━━━━━━━━━━━━━━━━━\u001b[0m\u001b[37m\u001b[0m \u001b[1m1s\u001b[0m 1s/step\n",
      "\u001b[1m1/1\u001b[0m \u001b[32m━━━━━━━━━━━━━━━━━━━━\u001b[0m\u001b[37m\u001b[0m \u001b[1m1s\u001b[0m 1s/step\n",
      "\u001b[1m1/1\u001b[0m \u001b[32m━━━━━━━━━━━━━━━━━━━━\u001b[0m\u001b[37m\u001b[0m \u001b[1m1s\u001b[0m 1s/step\n",
      "\u001b[1m1/1\u001b[0m \u001b[32m━━━━━━━━━━━━━━━━━━━━\u001b[0m\u001b[37m\u001b[0m \u001b[1m1s\u001b[0m 1s/step\n",
      "\u001b[1m1/1\u001b[0m \u001b[32m━━━━━━━━━━━━━━━━━━━━\u001b[0m\u001b[37m\u001b[0m \u001b[1m1s\u001b[0m 1s/step\n",
      "\u001b[1m1/1\u001b[0m \u001b[32m━━━━━━━━━━━━━━━━━━━━\u001b[0m\u001b[37m\u001b[0m \u001b[1m1s\u001b[0m 1s/step\n",
      "\u001b[1m1/1\u001b[0m \u001b[32m━━━━━━━━━━━━━━━━━━━━\u001b[0m\u001b[37m\u001b[0m \u001b[1m1s\u001b[0m 1s/step\n",
      "\u001b[1m1/1\u001b[0m \u001b[32m━━━━━━━━━━━━━━━━━━━━\u001b[0m\u001b[37m\u001b[0m \u001b[1m2s\u001b[0m 2s/step\n",
      "\u001b[1m1/1\u001b[0m \u001b[32m━━━━━━━━━━━━━━━━━━━━\u001b[0m\u001b[37m\u001b[0m \u001b[1m2s\u001b[0m 2s/step\n",
      "\u001b[1m1/1\u001b[0m \u001b[32m━━━━━━━━━━━━━━━━━━━━\u001b[0m\u001b[37m\u001b[0m \u001b[1m1s\u001b[0m 1s/step\n",
      "\u001b[1m1/1\u001b[0m \u001b[32m━━━━━━━━━━━━━━━━━━━━\u001b[0m\u001b[37m\u001b[0m \u001b[1m1s\u001b[0m 1s/step\n",
      "\u001b[1m1/1\u001b[0m \u001b[32m━━━━━━━━━━━━━━━━━━━━\u001b[0m\u001b[37m\u001b[0m \u001b[1m1s\u001b[0m 1s/step\n",
      "\u001b[1m1/1\u001b[0m \u001b[32m━━━━━━━━━━━━━━━━━━━━\u001b[0m\u001b[37m\u001b[0m \u001b[1m1s\u001b[0m 1s/step\n",
      "\u001b[1m1/1\u001b[0m \u001b[32m━━━━━━━━━━━━━━━━━━━━\u001b[0m\u001b[37m\u001b[0m \u001b[1m1s\u001b[0m 1s/step\n",
      "\u001b[1m1/1\u001b[0m \u001b[32m━━━━━━━━━━━━━━━━━━━━\u001b[0m\u001b[37m\u001b[0m \u001b[1m1s\u001b[0m 1s/step\n",
      "\u001b[1m1/1\u001b[0m \u001b[32m━━━━━━━━━━━━━━━━━━━━\u001b[0m\u001b[37m\u001b[0m \u001b[1m1s\u001b[0m 1s/step\n",
      "\u001b[1m1/1\u001b[0m \u001b[32m━━━━━━━━━━━━━━━━━━━━\u001b[0m\u001b[37m\u001b[0m \u001b[1m2s\u001b[0m 2s/step\n",
      "\u001b[1m1/1\u001b[0m \u001b[32m━━━━━━━━━━━━━━━━━━━━\u001b[0m\u001b[37m\u001b[0m \u001b[1m1s\u001b[0m 1s/step\n",
      "\u001b[1m1/1\u001b[0m \u001b[32m━━━━━━━━━━━━━━━━━━━━\u001b[0m\u001b[37m\u001b[0m \u001b[1m1s\u001b[0m 1s/step\n",
      "\u001b[1m1/1\u001b[0m \u001b[32m━━━━━━━━━━━━━━━━━━━━\u001b[0m\u001b[37m\u001b[0m \u001b[1m1s\u001b[0m 1s/step\n",
      "\u001b[1m1/1\u001b[0m \u001b[32m━━━━━━━━━━━━━━━━━━━━\u001b[0m\u001b[37m\u001b[0m \u001b[1m1s\u001b[0m 1s/step\n",
      "\u001b[1m1/1\u001b[0m \u001b[32m━━━━━━━━━━━━━━━━━━━━\u001b[0m\u001b[37m\u001b[0m \u001b[1m1s\u001b[0m 1s/step\n",
      "\u001b[1m1/1\u001b[0m \u001b[32m━━━━━━━━━━━━━━━━━━━━\u001b[0m\u001b[37m\u001b[0m \u001b[1m1s\u001b[0m 1s/step\n",
      "\u001b[1m1/1\u001b[0m \u001b[32m━━━━━━━━━━━━━━━━━━━━\u001b[0m\u001b[37m\u001b[0m \u001b[1m1s\u001b[0m 1s/step\n",
      "\u001b[1m1/1\u001b[0m \u001b[32m━━━━━━━━━━━━━━━━━━━━\u001b[0m\u001b[37m\u001b[0m \u001b[1m1s\u001b[0m 1s/step\n",
      "\u001b[1m1/1\u001b[0m \u001b[32m━━━━━━━━━━━━━━━━━━━━\u001b[0m\u001b[37m\u001b[0m \u001b[1m1s\u001b[0m 1s/step\n",
      "\u001b[1m1/1\u001b[0m \u001b[32m━━━━━━━━━━━━━━━━━━━━\u001b[0m\u001b[37m\u001b[0m \u001b[1m1s\u001b[0m 1s/step\n",
      "\u001b[1m1/1\u001b[0m \u001b[32m━━━━━━━━━━━━━━━━━━━━\u001b[0m\u001b[37m\u001b[0m \u001b[1m1s\u001b[0m 1s/step\n",
      "\u001b[1m1/1\u001b[0m \u001b[32m━━━━━━━━━━━━━━━━━━━━\u001b[0m\u001b[37m\u001b[0m \u001b[1m1s\u001b[0m 942ms/step\n",
      "\u001b[1m1/1\u001b[0m \u001b[32m━━━━━━━━━━━━━━━━━━━━\u001b[0m\u001b[37m\u001b[0m \u001b[1m2s\u001b[0m 2s/step\n",
      "\u001b[1m1/1\u001b[0m \u001b[32m━━━━━━━━━━━━━━━━━━━━\u001b[0m\u001b[37m\u001b[0m \u001b[1m1s\u001b[0m 1s/step\n",
      "\u001b[1m1/1\u001b[0m \u001b[32m━━━━━━━━━━━━━━━━━━━━\u001b[0m\u001b[37m\u001b[0m \u001b[1m2s\u001b[0m 2s/step\n",
      "\u001b[1m1/1\u001b[0m \u001b[32m━━━━━━━━━━━━━━━━━━━━\u001b[0m\u001b[37m\u001b[0m \u001b[1m1s\u001b[0m 1s/step\n",
      "\u001b[1m1/1\u001b[0m \u001b[32m━━━━━━━━━━━━━━━━━━━━\u001b[0m\u001b[37m\u001b[0m \u001b[1m1s\u001b[0m 1s/step\n",
      "\u001b[1m1/1\u001b[0m \u001b[32m━━━━━━━━━━━━━━━━━━━━\u001b[0m\u001b[37m\u001b[0m \u001b[1m1s\u001b[0m 1s/step\n",
      "\u001b[1m1/1\u001b[0m \u001b[32m━━━━━━━━━━━━━━━━━━━━\u001b[0m\u001b[37m\u001b[0m \u001b[1m1s\u001b[0m 1s/step\n",
      "\u001b[1m1/1\u001b[0m \u001b[32m━━━━━━━━━━━━━━━━━━━━\u001b[0m\u001b[37m\u001b[0m \u001b[1m1s\u001b[0m 1s/step\n",
      "\u001b[1m1/1\u001b[0m \u001b[32m━━━━━━━━━━━━━━━━━━━━\u001b[0m\u001b[37m\u001b[0m \u001b[1m2s\u001b[0m 2s/step\n",
      "\u001b[1m1/1\u001b[0m \u001b[32m━━━━━━━━━━━━━━━━━━━━\u001b[0m\u001b[37m\u001b[0m \u001b[1m1s\u001b[0m 1s/step\n",
      "\u001b[1m1/1\u001b[0m \u001b[32m━━━━━━━━━━━━━━━━━━━━\u001b[0m\u001b[37m\u001b[0m \u001b[1m2s\u001b[0m 2s/step\n",
      "\u001b[1m1/1\u001b[0m \u001b[32m━━━━━━━━━━━━━━━━━━━━\u001b[0m\u001b[37m\u001b[0m \u001b[1m1s\u001b[0m 1s/step\n",
      "\u001b[1m1/1\u001b[0m \u001b[32m━━━━━━━━━━━━━━━━━━━━\u001b[0m\u001b[37m\u001b[0m \u001b[1m1s\u001b[0m 1s/step\n",
      "\u001b[1m1/1\u001b[0m \u001b[32m━━━━━━━━━━━━━━━━━━━━\u001b[0m\u001b[37m\u001b[0m \u001b[1m2s\u001b[0m 2s/step\n",
      "\u001b[1m1/1\u001b[0m \u001b[32m━━━━━━━━━━━━━━━━━━━━\u001b[0m\u001b[37m\u001b[0m \u001b[1m1s\u001b[0m 1s/step\n",
      "\u001b[1m1/1\u001b[0m \u001b[32m━━━━━━━━━━━━━━━━━━━━\u001b[0m\u001b[37m\u001b[0m \u001b[1m2s\u001b[0m 2s/step\n",
      "\u001b[1m1/1\u001b[0m \u001b[32m━━━━━━━━━━━━━━━━━━━━\u001b[0m\u001b[37m\u001b[0m \u001b[1m1s\u001b[0m 1s/step\n",
      "\u001b[1m1/1\u001b[0m \u001b[32m━━━━━━━━━━━━━━━━━━━━\u001b[0m\u001b[37m\u001b[0m \u001b[1m1s\u001b[0m 1s/step\n",
      "\u001b[1m1/1\u001b[0m \u001b[32m━━━━━━━━━━━━━━━━━━━━\u001b[0m\u001b[37m\u001b[0m \u001b[1m1s\u001b[0m 1s/step\n",
      "\u001b[1m1/1\u001b[0m \u001b[32m━━━━━━━━━━━━━━━━━━━━\u001b[0m\u001b[37m\u001b[0m \u001b[1m1s\u001b[0m 1s/step\n",
      "\u001b[1m1/1\u001b[0m \u001b[32m━━━━━━━━━━━━━━━━━━━━\u001b[0m\u001b[37m\u001b[0m \u001b[1m1s\u001b[0m 1s/step\n",
      "\u001b[1m1/1\u001b[0m \u001b[32m━━━━━━━━━━━━━━━━━━━━\u001b[0m\u001b[37m\u001b[0m \u001b[1m1s\u001b[0m 1s/step\n",
      "\u001b[1m1/1\u001b[0m \u001b[32m━━━━━━━━━━━━━━━━━━━━\u001b[0m\u001b[37m\u001b[0m \u001b[1m1s\u001b[0m 1s/step\n",
      "\u001b[1m1/1\u001b[0m \u001b[32m━━━━━━━━━━━━━━━━━━━━\u001b[0m\u001b[37m\u001b[0m \u001b[1m1s\u001b[0m 1s/step\n",
      "\u001b[1m1/1\u001b[0m \u001b[32m━━━━━━━━━━━━━━━━━━━━\u001b[0m\u001b[37m\u001b[0m \u001b[1m1s\u001b[0m 1s/step\n",
      "\u001b[1m1/1\u001b[0m \u001b[32m━━━━━━━━━━━━━━━━━━━━\u001b[0m\u001b[37m\u001b[0m \u001b[1m1s\u001b[0m 1s/step\n",
      "\u001b[1m1/1\u001b[0m \u001b[32m━━━━━━━━━━━━━━━━━━━━\u001b[0m\u001b[37m\u001b[0m \u001b[1m1s\u001b[0m 1s/step\n",
      "\u001b[1m1/1\u001b[0m \u001b[32m━━━━━━━━━━━━━━━━━━━━\u001b[0m\u001b[37m\u001b[0m \u001b[1m1s\u001b[0m 916ms/step\n",
      "\u001b[1m1/1\u001b[0m \u001b[32m━━━━━━━━━━━━━━━━━━━━\u001b[0m\u001b[37m\u001b[0m \u001b[1m1s\u001b[0m 1s/step\n",
      "\u001b[1m1/1\u001b[0m \u001b[32m━━━━━━━━━━━━━━━━━━━━\u001b[0m\u001b[37m\u001b[0m \u001b[1m2s\u001b[0m 2s/step\n",
      "\u001b[1m1/1\u001b[0m \u001b[32m━━━━━━━━━━━━━━━━━━━━\u001b[0m\u001b[37m\u001b[0m \u001b[1m1s\u001b[0m 1s/step\n",
      "\u001b[1m1/1\u001b[0m \u001b[32m━━━━━━━━━━━━━━━━━━━━\u001b[0m\u001b[37m\u001b[0m \u001b[1m1s\u001b[0m 1s/step\n",
      "\u001b[1m1/1\u001b[0m \u001b[32m━━━━━━━━━━━━━━━━━━━━\u001b[0m\u001b[37m\u001b[0m \u001b[1m1s\u001b[0m 1s/step\n",
      "\u001b[1m1/1\u001b[0m \u001b[32m━━━━━━━━━━━━━━━━━━━━\u001b[0m\u001b[37m\u001b[0m \u001b[1m1s\u001b[0m 1s/step\n",
      "\u001b[1m1/1\u001b[0m \u001b[32m━━━━━━━━━━━━━━━━━━━━\u001b[0m\u001b[37m\u001b[0m \u001b[1m1s\u001b[0m 1s/step\n",
      "\u001b[1m1/1\u001b[0m \u001b[32m━━━━━━━━━━━━━━━━━━━━\u001b[0m\u001b[37m\u001b[0m \u001b[1m1s\u001b[0m 882ms/step\n",
      "\u001b[1m1/1\u001b[0m \u001b[32m━━━━━━━━━━━━━━━━━━━━\u001b[0m\u001b[37m\u001b[0m \u001b[1m2s\u001b[0m 2s/step\n",
      "\u001b[1m1/1\u001b[0m \u001b[32m━━━━━━━━━━━━━━━━━━━━\u001b[0m\u001b[37m\u001b[0m \u001b[1m1s\u001b[0m 1s/step\n",
      "\u001b[1m1/1\u001b[0m \u001b[32m━━━━━━━━━━━━━━━━━━━━\u001b[0m\u001b[37m\u001b[0m \u001b[1m2s\u001b[0m 2s/step\n",
      "\u001b[1m1/1\u001b[0m \u001b[32m━━━━━━━━━━━━━━━━━━━━\u001b[0m\u001b[37m\u001b[0m \u001b[1m2s\u001b[0m 2s/step\n",
      "\u001b[1m1/1\u001b[0m \u001b[32m━━━━━━━━━━━━━━━━━━━━\u001b[0m\u001b[37m\u001b[0m \u001b[1m1s\u001b[0m 1s/step\n",
      "\u001b[1m1/1\u001b[0m \u001b[32m━━━━━━━━━━━━━━━━━━━━\u001b[0m\u001b[37m\u001b[0m \u001b[1m2s\u001b[0m 2s/step\n",
      "\u001b[1m1/1\u001b[0m \u001b[32m━━━━━━━━━━━━━━━━━━━━\u001b[0m\u001b[37m\u001b[0m \u001b[1m2s\u001b[0m 2s/step\n",
      "\u001b[1m1/1\u001b[0m \u001b[32m━━━━━━━━━━━━━━━━━━━━\u001b[0m\u001b[37m\u001b[0m \u001b[1m1s\u001b[0m 906ms/step\n",
      "\u001b[1m1/1\u001b[0m \u001b[32m━━━━━━━━━━━━━━━━━━━━\u001b[0m\u001b[37m\u001b[0m \u001b[1m1s\u001b[0m 817ms/step\n",
      "\u001b[1m1/1\u001b[0m \u001b[32m━━━━━━━━━━━━━━━━━━━━\u001b[0m\u001b[37m\u001b[0m \u001b[1m1s\u001b[0m 1s/step\n",
      "\u001b[1m1/1\u001b[0m \u001b[32m━━━━━━━━━━━━━━━━━━━━\u001b[0m\u001b[37m\u001b[0m \u001b[1m1s\u001b[0m 1s/step\n",
      "\u001b[1m1/1\u001b[0m \u001b[32m━━━━━━━━━━━━━━━━━━━━\u001b[0m\u001b[37m\u001b[0m \u001b[1m1s\u001b[0m 1s/step\n",
      "\u001b[1m1/1\u001b[0m \u001b[32m━━━━━━━━━━━━━━━━━━━━\u001b[0m\u001b[37m\u001b[0m \u001b[1m1s\u001b[0m 1s/step\n",
      "\u001b[1m1/1\u001b[0m \u001b[32m━━━━━━━━━━━━━━━━━━━━\u001b[0m\u001b[37m\u001b[0m \u001b[1m1s\u001b[0m 1s/step\n",
      "\u001b[1m1/1\u001b[0m \u001b[32m━━━━━━━━━━━━━━━━━━━━\u001b[0m\u001b[37m\u001b[0m \u001b[1m1s\u001b[0m 1s/step\n",
      "\u001b[1m1/1\u001b[0m \u001b[32m━━━━━━━━━━━━━━━━━━━━\u001b[0m\u001b[37m\u001b[0m \u001b[1m1s\u001b[0m 1s/step\n",
      "\u001b[1m1/1\u001b[0m \u001b[32m━━━━━━━━━━━━━━━━━━━━\u001b[0m\u001b[37m\u001b[0m \u001b[1m1s\u001b[0m 1s/step\n",
      "\u001b[1m1/1\u001b[0m \u001b[32m━━━━━━━━━━━━━━━━━━━━\u001b[0m\u001b[37m\u001b[0m \u001b[1m2s\u001b[0m 2s/step\n",
      "\u001b[1m1/1\u001b[0m \u001b[32m━━━━━━━━━━━━━━━━━━━━\u001b[0m\u001b[37m\u001b[0m \u001b[1m1s\u001b[0m 1s/step\n",
      "\u001b[1m1/1\u001b[0m \u001b[32m━━━━━━━━━━━━━━━━━━━━\u001b[0m\u001b[37m\u001b[0m \u001b[1m1s\u001b[0m 917ms/step\n",
      "\u001b[1m1/1\u001b[0m \u001b[32m━━━━━━━━━━━━━━━━━━━━\u001b[0m\u001b[37m\u001b[0m \u001b[1m1s\u001b[0m 1s/step\n",
      "\u001b[1m1/1\u001b[0m \u001b[32m━━━━━━━━━━━━━━━━━━━━\u001b[0m\u001b[37m\u001b[0m \u001b[1m2s\u001b[0m 2s/step\n",
      "\u001b[1m1/1\u001b[0m \u001b[32m━━━━━━━━━━━━━━━━━━━━\u001b[0m\u001b[37m\u001b[0m \u001b[1m1s\u001b[0m 1s/step\n",
      "\u001b[1m1/1\u001b[0m \u001b[32m━━━━━━━━━━━━━━━━━━━━\u001b[0m\u001b[37m\u001b[0m \u001b[1m1s\u001b[0m 1s/step\n",
      "\u001b[1m1/1\u001b[0m \u001b[32m━━━━━━━━━━━━━━━━━━━━\u001b[0m\u001b[37m\u001b[0m \u001b[1m1s\u001b[0m 1s/step\n",
      "\u001b[1m1/1\u001b[0m \u001b[32m━━━━━━━━━━━━━━━━━━━━\u001b[0m\u001b[37m\u001b[0m \u001b[1m2s\u001b[0m 2s/step\n",
      "\u001b[1m1/1\u001b[0m \u001b[32m━━━━━━━━━━━━━━━━━━━━\u001b[0m\u001b[37m\u001b[0m \u001b[1m1s\u001b[0m 1s/step\n",
      "\u001b[1m1/1\u001b[0m \u001b[32m━━━━━━━━━━━━━━━━━━━━\u001b[0m\u001b[37m\u001b[0m \u001b[1m1s\u001b[0m 1s/step\n",
      "\u001b[1m1/1\u001b[0m \u001b[32m━━━━━━━━━━━━━━━━━━━━\u001b[0m\u001b[37m\u001b[0m \u001b[1m2s\u001b[0m 2s/step\n",
      "\u001b[1m1/1\u001b[0m \u001b[32m━━━━━━━━━━━━━━━━━━━━\u001b[0m\u001b[37m\u001b[0m \u001b[1m1s\u001b[0m 1s/step\n",
      "\u001b[1m1/1\u001b[0m \u001b[32m━━━━━━━━━━━━━━━━━━━━\u001b[0m\u001b[37m\u001b[0m \u001b[1m2s\u001b[0m 2s/step\n",
      "\u001b[1m1/1\u001b[0m \u001b[32m━━━━━━━━━━━━━━━━━━━━\u001b[0m\u001b[37m\u001b[0m \u001b[1m1s\u001b[0m 1s/step\n",
      "\u001b[1m1/1\u001b[0m \u001b[32m━━━━━━━━━━━━━━━━━━━━\u001b[0m\u001b[37m\u001b[0m \u001b[1m1s\u001b[0m 1s/step\n",
      "\u001b[1m1/1\u001b[0m \u001b[32m━━━━━━━━━━━━━━━━━━━━\u001b[0m\u001b[37m\u001b[0m \u001b[1m1s\u001b[0m 1s/step\n",
      "\u001b[1m1/1\u001b[0m \u001b[32m━━━━━━━━━━━━━━━━━━━━\u001b[0m\u001b[37m\u001b[0m \u001b[1m1s\u001b[0m 1s/step\n",
      "\u001b[1m1/1\u001b[0m \u001b[32m━━━━━━━━━━━━━━━━━━━━\u001b[0m\u001b[37m\u001b[0m \u001b[1m1s\u001b[0m 1s/step\n",
      "\u001b[1m1/1\u001b[0m \u001b[32m━━━━━━━━━━━━━━━━━━━━\u001b[0m\u001b[37m\u001b[0m \u001b[1m1s\u001b[0m 1s/step\n",
      "\u001b[1m1/1\u001b[0m \u001b[32m━━━━━━━━━━━━━━━━━━━━\u001b[0m\u001b[37m\u001b[0m \u001b[1m1s\u001b[0m 1s/step\n",
      "\u001b[1m1/1\u001b[0m \u001b[32m━━━━━━━━━━━━━━━━━━━━\u001b[0m\u001b[37m\u001b[0m \u001b[1m1s\u001b[0m 1s/step\n",
      "\u001b[1m1/1\u001b[0m \u001b[32m━━━━━━━━━━━━━━━━━━━━\u001b[0m\u001b[37m\u001b[0m \u001b[1m1s\u001b[0m 1s/step\n",
      "\u001b[1m1/1\u001b[0m \u001b[32m━━━━━━━━━━━━━━━━━━━━\u001b[0m\u001b[37m\u001b[0m \u001b[1m2s\u001b[0m 2s/step\n",
      "\u001b[1m1/1\u001b[0m \u001b[32m━━━━━━━━━━━━━━━━━━━━\u001b[0m\u001b[37m\u001b[0m \u001b[1m1s\u001b[0m 1s/step\n",
      "\u001b[1m1/1\u001b[0m \u001b[32m━━━━━━━━━━━━━━━━━━━━\u001b[0m\u001b[37m\u001b[0m \u001b[1m1s\u001b[0m 862ms/step\n",
      "\u001b[1m1/1\u001b[0m \u001b[32m━━━━━━━━━━━━━━━━━━━━\u001b[0m\u001b[37m\u001b[0m \u001b[1m1s\u001b[0m 1s/step\n",
      "\u001b[1m1/1\u001b[0m \u001b[32m━━━━━━━━━━━━━━━━━━━━\u001b[0m\u001b[37m\u001b[0m \u001b[1m2s\u001b[0m 2s/step\n",
      "\u001b[1m1/1\u001b[0m \u001b[32m━━━━━━━━━━━━━━━━━━━━\u001b[0m\u001b[37m\u001b[0m \u001b[1m1s\u001b[0m 993ms/step\n",
      "\u001b[1m1/1\u001b[0m \u001b[32m━━━━━━━━━━━━━━━━━━━━\u001b[0m\u001b[37m\u001b[0m \u001b[1m1s\u001b[0m 1s/step\n",
      "\u001b[1m1/1\u001b[0m \u001b[32m━━━━━━━━━━━━━━━━━━━━\u001b[0m\u001b[37m\u001b[0m \u001b[1m1s\u001b[0m 1s/step\n",
      "\u001b[1m1/1\u001b[0m \u001b[32m━━━━━━━━━━━━━━━━━━━━\u001b[0m\u001b[37m\u001b[0m \u001b[1m2s\u001b[0m 2s/step\n",
      "\u001b[1m1/1\u001b[0m \u001b[32m━━━━━━━━━━━━━━━━━━━━\u001b[0m\u001b[37m\u001b[0m \u001b[1m1s\u001b[0m 1s/step\n",
      "\u001b[1m1/1\u001b[0m \u001b[32m━━━━━━━━━━━━━━━━━━━━\u001b[0m\u001b[37m\u001b[0m \u001b[1m2s\u001b[0m 2s/step\n",
      "\u001b[1m1/1\u001b[0m \u001b[32m━━━━━━━━━━━━━━━━━━━━\u001b[0m\u001b[37m\u001b[0m \u001b[1m1s\u001b[0m 1s/step\n",
      "\u001b[1m1/1\u001b[0m \u001b[32m━━━━━━━━━━━━━━━━━━━━\u001b[0m\u001b[37m\u001b[0m \u001b[1m1s\u001b[0m 1s/step\n",
      "\u001b[1m1/1\u001b[0m \u001b[32m━━━━━━━━━━━━━━━━━━━━\u001b[0m\u001b[37m\u001b[0m \u001b[1m1s\u001b[0m 1s/step\n",
      "\u001b[1m1/1\u001b[0m \u001b[32m━━━━━━━━━━━━━━━━━━━━\u001b[0m\u001b[37m\u001b[0m \u001b[1m1s\u001b[0m 1s/step\n",
      "\u001b[1m1/1\u001b[0m \u001b[32m━━━━━━━━━━━━━━━━━━━━\u001b[0m\u001b[37m\u001b[0m \u001b[1m1s\u001b[0m 1s/step\n",
      "\u001b[1m1/1\u001b[0m \u001b[32m━━━━━━━━━━━━━━━━━━━━\u001b[0m\u001b[37m\u001b[0m \u001b[1m1s\u001b[0m 908ms/step\n",
      "\u001b[1m1/1\u001b[0m \u001b[32m━━━━━━━━━━━━━━━━━━━━\u001b[0m\u001b[37m\u001b[0m \u001b[1m2s\u001b[0m 2s/step\n",
      "\u001b[1m1/1\u001b[0m \u001b[32m━━━━━━━━━━━━━━━━━━━━\u001b[0m\u001b[37m\u001b[0m \u001b[1m2s\u001b[0m 2s/step\n",
      "\u001b[1m1/1\u001b[0m \u001b[32m━━━━━━━━━━━━━━━━━━━━\u001b[0m\u001b[37m\u001b[0m \u001b[1m1s\u001b[0m 943ms/step\n",
      "\u001b[1m1/1\u001b[0m \u001b[32m━━━━━━━━━━━━━━━━━━━━\u001b[0m\u001b[37m\u001b[0m \u001b[1m1s\u001b[0m 893ms/step\n",
      "\u001b[1m1/1\u001b[0m \u001b[32m━━━━━━━━━━━━━━━━━━━━\u001b[0m\u001b[37m\u001b[0m \u001b[1m2s\u001b[0m 2s/step\n",
      "\u001b[1m1/1\u001b[0m \u001b[32m━━━━━━━━━━━━━━━━━━━━\u001b[0m\u001b[37m\u001b[0m \u001b[1m1s\u001b[0m 1s/step\n",
      "\u001b[1m1/1\u001b[0m \u001b[32m━━━━━━━━━━━━━━━━━━━━\u001b[0m\u001b[37m\u001b[0m \u001b[1m1s\u001b[0m 1s/step\n",
      "\u001b[1m1/1\u001b[0m \u001b[32m━━━━━━━━━━━━━━━━━━━━\u001b[0m\u001b[37m\u001b[0m \u001b[1m1s\u001b[0m 1s/step\n",
      "\u001b[1m1/1\u001b[0m \u001b[32m━━━━━━━━━━━━━━━━━━━━\u001b[0m\u001b[37m\u001b[0m \u001b[1m1s\u001b[0m 1s/step\n",
      "\u001b[1m1/1\u001b[0m \u001b[32m━━━━━━━━━━━━━━━━━━━━\u001b[0m\u001b[37m\u001b[0m \u001b[1m2s\u001b[0m 2s/step\n",
      "\u001b[1m1/1\u001b[0m \u001b[32m━━━━━━━━━━━━━━━━━━━━\u001b[0m\u001b[37m\u001b[0m \u001b[1m1s\u001b[0m 1s/step\n",
      "\u001b[1m1/1\u001b[0m \u001b[32m━━━━━━━━━━━━━━━━━━━━\u001b[0m\u001b[37m\u001b[0m \u001b[1m1s\u001b[0m 1s/step\n",
      "\u001b[1m1/1\u001b[0m \u001b[32m━━━━━━━━━━━━━━━━━━━━\u001b[0m\u001b[37m\u001b[0m \u001b[1m1s\u001b[0m 1s/step\n",
      "\u001b[1m1/1\u001b[0m \u001b[32m━━━━━━━━━━━━━━━━━━━━\u001b[0m\u001b[37m\u001b[0m \u001b[1m2s\u001b[0m 2s/step\n",
      "\u001b[1m1/1\u001b[0m \u001b[32m━━━━━━━━━━━━━━━━━━━━\u001b[0m\u001b[37m\u001b[0m \u001b[1m1s\u001b[0m 953ms/step\n",
      "\u001b[1m1/1\u001b[0m \u001b[32m━━━━━━━━━━━━━━━━━━━━\u001b[0m\u001b[37m\u001b[0m \u001b[1m1s\u001b[0m 1s/step\n",
      "\u001b[1m1/1\u001b[0m \u001b[32m━━━━━━━━━━━━━━━━━━━━\u001b[0m\u001b[37m\u001b[0m \u001b[1m1s\u001b[0m 1s/step\n",
      "\u001b[1m1/1\u001b[0m \u001b[32m━━━━━━━━━━━━━━━━━━━━\u001b[0m\u001b[37m\u001b[0m \u001b[1m1s\u001b[0m 1s/step\n",
      "\u001b[1m1/1\u001b[0m \u001b[32m━━━━━━━━━━━━━━━━━━━━\u001b[0m\u001b[37m\u001b[0m \u001b[1m2s\u001b[0m 2s/step\n",
      "\u001b[1m1/1\u001b[0m \u001b[32m━━━━━━━━━━━━━━━━━━━━\u001b[0m\u001b[37m\u001b[0m \u001b[1m1s\u001b[0m 1s/step\n",
      "\u001b[1m1/1\u001b[0m \u001b[32m━━━━━━━━━━━━━━━━━━━━\u001b[0m\u001b[37m\u001b[0m \u001b[1m1s\u001b[0m 1s/step\n",
      "\u001b[1m1/1\u001b[0m \u001b[32m━━━━━━━━━━━━━━━━━━━━\u001b[0m\u001b[37m\u001b[0m \u001b[1m1s\u001b[0m 1s/step\n",
      "\u001b[1m1/1\u001b[0m \u001b[32m━━━━━━━━━━━━━━━━━━━━\u001b[0m\u001b[37m\u001b[0m \u001b[1m1s\u001b[0m 1s/step\n",
      "\u001b[1m1/1\u001b[0m \u001b[32m━━━━━━━━━━━━━━━━━━━━\u001b[0m\u001b[37m\u001b[0m \u001b[1m2s\u001b[0m 2s/step\n",
      "\u001b[1m1/1\u001b[0m \u001b[32m━━━━━━━━━━━━━━━━━━━━\u001b[0m\u001b[37m\u001b[0m \u001b[1m1s\u001b[0m 938ms/step\n",
      "\u001b[1m1/1\u001b[0m \u001b[32m━━━━━━━━━━━━━━━━━━━━\u001b[0m\u001b[37m\u001b[0m \u001b[1m1s\u001b[0m 854ms/step\n",
      "\u001b[1m1/1\u001b[0m \u001b[32m━━━━━━━━━━━━━━━━━━━━\u001b[0m\u001b[37m\u001b[0m \u001b[1m1s\u001b[0m 1s/step\n",
      "\u001b[1m1/1\u001b[0m \u001b[32m━━━━━━━━━━━━━━━━━━━━\u001b[0m\u001b[37m\u001b[0m \u001b[1m1s\u001b[0m 1s/step\n",
      "\u001b[1m1/1\u001b[0m \u001b[32m━━━━━━━━━━━━━━━━━━━━\u001b[0m\u001b[37m\u001b[0m \u001b[1m1s\u001b[0m 1s/step\n",
      "\u001b[1m1/1\u001b[0m \u001b[32m━━━━━━━━━━━━━━━━━━━━\u001b[0m\u001b[37m\u001b[0m \u001b[1m2s\u001b[0m 2s/step\n",
      "\u001b[1m1/1\u001b[0m \u001b[32m━━━━━━━━━━━━━━━━━━━━\u001b[0m\u001b[37m\u001b[0m \u001b[1m1s\u001b[0m 1s/step\n",
      "\u001b[1m1/1\u001b[0m \u001b[32m━━━━━━━━━━━━━━━━━━━━\u001b[0m\u001b[37m\u001b[0m \u001b[1m1s\u001b[0m 1s/step\n",
      "\u001b[1m1/1\u001b[0m \u001b[32m━━━━━━━━━━━━━━━━━━━━\u001b[0m\u001b[37m\u001b[0m \u001b[1m2s\u001b[0m 2s/step\n",
      "\u001b[1m1/1\u001b[0m \u001b[32m━━━━━━━━━━━━━━━━━━━━\u001b[0m\u001b[37m\u001b[0m \u001b[1m1s\u001b[0m 1s/step\n",
      "\u001b[1m1/1\u001b[0m \u001b[32m━━━━━━━━━━━━━━━━━━━━\u001b[0m\u001b[37m\u001b[0m \u001b[1m1s\u001b[0m 1s/step\n",
      "\u001b[1m1/1\u001b[0m \u001b[32m━━━━━━━━━━━━━━━━━━━━\u001b[0m\u001b[37m\u001b[0m \u001b[1m1s\u001b[0m 1s/step\n",
      "\u001b[1m1/1\u001b[0m \u001b[32m━━━━━━━━━━━━━━━━━━━━\u001b[0m\u001b[37m\u001b[0m \u001b[1m2s\u001b[0m 2s/step\n",
      "\u001b[1m1/1\u001b[0m \u001b[32m━━━━━━━━━━━━━━━━━━━━\u001b[0m\u001b[37m\u001b[0m \u001b[1m2s\u001b[0m 2s/step\n",
      "\u001b[1m1/1\u001b[0m \u001b[32m━━━━━━━━━━━━━━━━━━━━\u001b[0m\u001b[37m\u001b[0m \u001b[1m1s\u001b[0m 1s/step\n",
      "\u001b[1m1/1\u001b[0m \u001b[32m━━━━━━━━━━━━━━━━━━━━\u001b[0m\u001b[37m\u001b[0m \u001b[1m2s\u001b[0m 2s/step\n",
      "\u001b[1m1/1\u001b[0m \u001b[32m━━━━━━━━━━━━━━━━━━━━\u001b[0m\u001b[37m\u001b[0m \u001b[1m1s\u001b[0m 1s/step\n",
      "\u001b[1m1/1\u001b[0m \u001b[32m━━━━━━━━━━━━━━━━━━━━\u001b[0m\u001b[37m\u001b[0m \u001b[1m1s\u001b[0m 1s/step\n",
      "\u001b[1m1/1\u001b[0m \u001b[32m━━━━━━━━━━━━━━━━━━━━\u001b[0m\u001b[37m\u001b[0m \u001b[1m2s\u001b[0m 2s/step\n",
      "\u001b[1m1/1\u001b[0m \u001b[32m━━━━━━━━━━━━━━━━━━━━\u001b[0m\u001b[37m\u001b[0m \u001b[1m1s\u001b[0m 994ms/step\n",
      "\u001b[1m1/1\u001b[0m \u001b[32m━━━━━━━━━━━━━━━━━━━━\u001b[0m\u001b[37m\u001b[0m \u001b[1m2s\u001b[0m 2s/step\n",
      "\u001b[1m1/1\u001b[0m \u001b[32m━━━━━━━━━━━━━━━━━━━━\u001b[0m\u001b[37m\u001b[0m \u001b[1m2s\u001b[0m 2s/step\n",
      "\u001b[1m1/1\u001b[0m \u001b[32m━━━━━━━━━━━━━━━━━━━━\u001b[0m\u001b[37m\u001b[0m \u001b[1m2s\u001b[0m 2s/step\n",
      "\u001b[1m1/1\u001b[0m \u001b[32m━━━━━━━━━━━━━━━━━━━━\u001b[0m\u001b[37m\u001b[0m \u001b[1m1s\u001b[0m 1s/step\n",
      "\u001b[1m1/1\u001b[0m \u001b[32m━━━━━━━━━━━━━━━━━━━━\u001b[0m\u001b[37m\u001b[0m \u001b[1m1s\u001b[0m 1s/step\n",
      "\u001b[1m1/1\u001b[0m \u001b[32m━━━━━━━━━━━━━━━━━━━━\u001b[0m\u001b[37m\u001b[0m \u001b[1m2s\u001b[0m 2s/step\n",
      "\u001b[1m1/1\u001b[0m \u001b[32m━━━━━━━━━━━━━━━━━━━━\u001b[0m\u001b[37m\u001b[0m \u001b[1m1s\u001b[0m 1s/step\n",
      "\u001b[1m1/1\u001b[0m \u001b[32m━━━━━━━━━━━━━━━━━━━━\u001b[0m\u001b[37m\u001b[0m \u001b[1m2s\u001b[0m 2s/step\n",
      "\u001b[1m1/1\u001b[0m \u001b[32m━━━━━━━━━━━━━━━━━━━━\u001b[0m\u001b[37m\u001b[0m \u001b[1m2s\u001b[0m 2s/step\n",
      "\u001b[1m1/1\u001b[0m \u001b[32m━━━━━━━━━━━━━━━━━━━━\u001b[0m\u001b[37m\u001b[0m \u001b[1m1s\u001b[0m 1s/step\n",
      "\u001b[1m1/1\u001b[0m \u001b[32m━━━━━━━━━━━━━━━━━━━━\u001b[0m\u001b[37m\u001b[0m \u001b[1m1s\u001b[0m 1s/step\n",
      "\u001b[1m1/1\u001b[0m \u001b[32m━━━━━━━━━━━━━━━━━━━━\u001b[0m\u001b[37m\u001b[0m \u001b[1m1s\u001b[0m 1s/step\n",
      "\u001b[1m1/1\u001b[0m \u001b[32m━━━━━━━━━━━━━━━━━━━━\u001b[0m\u001b[37m\u001b[0m \u001b[1m1s\u001b[0m 1s/step\n",
      "\u001b[1m1/1\u001b[0m \u001b[32m━━━━━━━━━━━━━━━━━━━━\u001b[0m\u001b[37m\u001b[0m \u001b[1m1s\u001b[0m 1s/step\n",
      "\u001b[1m1/1\u001b[0m \u001b[32m━━━━━━━━━━━━━━━━━━━━\u001b[0m\u001b[37m\u001b[0m \u001b[1m2s\u001b[0m 2s/step\n",
      "\u001b[1m1/1\u001b[0m \u001b[32m━━━━━━━━━━━━━━━━━━━━\u001b[0m\u001b[37m\u001b[0m \u001b[1m1s\u001b[0m 1s/step\n",
      "\u001b[1m1/1\u001b[0m \u001b[32m━━━━━━━━━━━━━━━━━━━━\u001b[0m\u001b[37m\u001b[0m \u001b[1m1s\u001b[0m 1s/step\n",
      "\u001b[1m1/1\u001b[0m \u001b[32m━━━━━━━━━━━━━━━━━━━━\u001b[0m\u001b[37m\u001b[0m \u001b[1m1s\u001b[0m 1s/step\n",
      "\u001b[1m1/1\u001b[0m \u001b[32m━━━━━━━━━━━━━━━━━━━━\u001b[0m\u001b[37m\u001b[0m \u001b[1m1s\u001b[0m 1s/step\n",
      "\u001b[1m1/1\u001b[0m \u001b[32m━━━━━━━━━━━━━━━━━━━━\u001b[0m\u001b[37m\u001b[0m \u001b[1m1s\u001b[0m 703ms/step\n",
      "****************************************************************************************************\n",
      "Word Error Rate : 0.6072\n",
      "****************************************************************************************************\n",
      "Target : बिना यह काम होना असम्भव था\n",
      "Prediction : बिनाजीह काम होना असम भह था\n",
      "****************************************************************************************************\n",
      "Target : ग्रामीणों का वह छोटासा दल\n",
      "Prediction : क्या मिनों का वह छोटाता जल\n",
      "****************************************************************************************************\n",
      "\u001b[1m3125/3125\u001b[0m \u001b[32m━━━━━━━━━━━━━━━━━━━━\u001b[0m\u001b[37m\u001b[0m \u001b[1m37559s\u001b[0m 12s/step - loss: inf - val_loss: inf\n"
     ]
    },
    {
     "name": "stderr",
     "output_type": "stream",
     "text": [
      "2024-11-24 18:41:27.133449: I tensorflow/core/framework/local_rendezvous.cc:405] Local rendezvous is aborting with status: OUT_OF_RANGE: End of sequence\n"
     ]
    }
   ],
   "source": [
    "epochs = 5\n",
    "validation_callback = CallbackEval(val_dataset)\n",
    "history = model.fit(\n",
    "    train_dataset,\n",
    "    validation_data=val_dataset,\n",
    "    epochs=epochs,\n",
    "    callbacks=[validation_callback],\n",
    ")"
   ]
  },
  {
   "cell_type": "code",
   "execution_count": 56,
   "metadata": {},
   "outputs": [
    {
     "name": "stdout",
     "output_type": "stream",
     "text": [
      "\u001b[1m1/1\u001b[0m \u001b[32m━━━━━━━━━━━━━━━━━━━━\u001b[0m\u001b[37m\u001b[0m \u001b[1m1s\u001b[0m 1s/step\n",
      "\u001b[1m1/1\u001b[0m \u001b[32m━━━━━━━━━━━━━━━━━━━━\u001b[0m\u001b[37m\u001b[0m \u001b[1m1s\u001b[0m 957ms/step\n",
      "\u001b[1m1/1\u001b[0m \u001b[32m━━━━━━━━━━━━━━━━━━━━\u001b[0m\u001b[37m\u001b[0m \u001b[1m1s\u001b[0m 1s/step\n",
      "\u001b[1m1/1\u001b[0m \u001b[32m━━━━━━━━━━━━━━━━━━━━\u001b[0m\u001b[37m\u001b[0m \u001b[1m1s\u001b[0m 1s/step\n",
      "\u001b[1m1/1\u001b[0m \u001b[32m━━━━━━━━━━━━━━━━━━━━\u001b[0m\u001b[37m\u001b[0m \u001b[1m1s\u001b[0m 1s/step\n",
      "\u001b[1m1/1\u001b[0m \u001b[32m━━━━━━━━━━━━━━━━━━━━\u001b[0m\u001b[37m\u001b[0m \u001b[1m1s\u001b[0m 1s/step\n",
      "\u001b[1m1/1\u001b[0m \u001b[32m━━━━━━━━━━━━━━━━━━━━\u001b[0m\u001b[37m\u001b[0m \u001b[1m2s\u001b[0m 2s/step\n",
      "\u001b[1m1/1\u001b[0m \u001b[32m━━━━━━━━━━━━━━━━━━━━\u001b[0m\u001b[37m\u001b[0m \u001b[1m2s\u001b[0m 2s/step\n",
      "\u001b[1m1/1\u001b[0m \u001b[32m━━━━━━━━━━━━━━━━━━━━\u001b[0m\u001b[37m\u001b[0m \u001b[1m1s\u001b[0m 1s/step\n",
      "\u001b[1m1/1\u001b[0m \u001b[32m━━━━━━━━━━━━━━━━━━━━\u001b[0m\u001b[37m\u001b[0m \u001b[1m1s\u001b[0m 1s/step\n",
      "\u001b[1m1/1\u001b[0m \u001b[32m━━━━━━━━━━━━━━━━━━━━\u001b[0m\u001b[37m\u001b[0m \u001b[1m1s\u001b[0m 1s/step\n",
      "\u001b[1m1/1\u001b[0m \u001b[32m━━━━━━━━━━━━━━━━━━━━\u001b[0m\u001b[37m\u001b[0m \u001b[1m1s\u001b[0m 1s/step\n",
      "\u001b[1m1/1\u001b[0m \u001b[32m━━━━━━━━━━━━━━━━━━━━\u001b[0m\u001b[37m\u001b[0m \u001b[1m1s\u001b[0m 1s/step\n",
      "\u001b[1m1/1\u001b[0m \u001b[32m━━━━━━━━━━━━━━━━━━━━\u001b[0m\u001b[37m\u001b[0m \u001b[1m1s\u001b[0m 1s/step\n",
      "\u001b[1m1/1\u001b[0m \u001b[32m━━━━━━━━━━━━━━━━━━━━\u001b[0m\u001b[37m\u001b[0m \u001b[1m1s\u001b[0m 1s/step\n",
      "\u001b[1m1/1\u001b[0m \u001b[32m━━━━━━━━━━━━━━━━━━━━\u001b[0m\u001b[37m\u001b[0m \u001b[1m1s\u001b[0m 1s/step\n",
      "\u001b[1m1/1\u001b[0m \u001b[32m━━━━━━━━━━━━━━━━━━━━\u001b[0m\u001b[37m\u001b[0m \u001b[1m1s\u001b[0m 1s/step\n",
      "\u001b[1m1/1\u001b[0m \u001b[32m━━━━━━━━━━━━━━━━━━━━\u001b[0m\u001b[37m\u001b[0m \u001b[1m1s\u001b[0m 1s/step\n",
      "\u001b[1m1/1\u001b[0m \u001b[32m━━━━━━━━━━━━━━━━━━━━\u001b[0m\u001b[37m\u001b[0m \u001b[1m1s\u001b[0m 1s/step\n",
      "\u001b[1m1/1\u001b[0m \u001b[32m━━━━━━━━━━━━━━━━━━━━\u001b[0m\u001b[37m\u001b[0m \u001b[1m1s\u001b[0m 1s/step\n",
      "\u001b[1m1/1\u001b[0m \u001b[32m━━━━━━━━━━━━━━━━━━━━\u001b[0m\u001b[37m\u001b[0m \u001b[1m1s\u001b[0m 1s/step\n",
      "\u001b[1m1/1\u001b[0m \u001b[32m━━━━━━━━━━━━━━━━━━━━\u001b[0m\u001b[37m\u001b[0m \u001b[1m1s\u001b[0m 1s/step\n",
      "\u001b[1m1/1\u001b[0m \u001b[32m━━━━━━━━━━━━━━━━━━━━\u001b[0m\u001b[37m\u001b[0m \u001b[1m2s\u001b[0m 2s/step\n",
      "\u001b[1m1/1\u001b[0m \u001b[32m━━━━━━━━━━━━━━━━━━━━\u001b[0m\u001b[37m\u001b[0m \u001b[1m1s\u001b[0m 1s/step\n",
      "\u001b[1m1/1\u001b[0m \u001b[32m━━━━━━━━━━━━━━━━━━━━\u001b[0m\u001b[37m\u001b[0m \u001b[1m2s\u001b[0m 2s/step\n",
      "\u001b[1m1/1\u001b[0m \u001b[32m━━━━━━━━━━━━━━━━━━━━\u001b[0m\u001b[37m\u001b[0m \u001b[1m1s\u001b[0m 1s/step\n",
      "\u001b[1m1/1\u001b[0m \u001b[32m━━━━━━━━━━━━━━━━━━━━\u001b[0m\u001b[37m\u001b[0m \u001b[1m1s\u001b[0m 1s/step\n",
      "\u001b[1m1/1\u001b[0m \u001b[32m━━━━━━━━━━━━━━━━━━━━\u001b[0m\u001b[37m\u001b[0m \u001b[1m1s\u001b[0m 967ms/step\n",
      "\u001b[1m1/1\u001b[0m \u001b[32m━━━━━━━━━━━━━━━━━━━━\u001b[0m\u001b[37m\u001b[0m \u001b[1m2s\u001b[0m 2s/step\n",
      "\u001b[1m1/1\u001b[0m \u001b[32m━━━━━━━━━━━━━━━━━━━━\u001b[0m\u001b[37m\u001b[0m \u001b[1m1s\u001b[0m 1s/step\n",
      "\u001b[1m1/1\u001b[0m \u001b[32m━━━━━━━━━━━━━━━━━━━━\u001b[0m\u001b[37m\u001b[0m \u001b[1m1s\u001b[0m 1s/step\n",
      "\u001b[1m1/1\u001b[0m \u001b[32m━━━━━━━━━━━━━━━━━━━━\u001b[0m\u001b[37m\u001b[0m \u001b[1m1s\u001b[0m 1s/step\n",
      "\u001b[1m1/1\u001b[0m \u001b[32m━━━━━━━━━━━━━━━━━━━━\u001b[0m\u001b[37m\u001b[0m \u001b[1m2s\u001b[0m 2s/step\n",
      "\u001b[1m1/1\u001b[0m \u001b[32m━━━━━━━━━━━━━━━━━━━━\u001b[0m\u001b[37m\u001b[0m \u001b[1m1s\u001b[0m 1s/step\n",
      "\u001b[1m1/1\u001b[0m \u001b[32m━━━━━━━━━━━━━━━━━━━━\u001b[0m\u001b[37m\u001b[0m \u001b[1m2s\u001b[0m 2s/step\n",
      "\u001b[1m1/1\u001b[0m \u001b[32m━━━━━━━━━━━━━━━━━━━━\u001b[0m\u001b[37m\u001b[0m \u001b[1m1s\u001b[0m 1s/step\n",
      "\u001b[1m1/1\u001b[0m \u001b[32m━━━━━━━━━━━━━━━━━━━━\u001b[0m\u001b[37m\u001b[0m \u001b[1m1s\u001b[0m 1s/step\n",
      "\u001b[1m1/1\u001b[0m \u001b[32m━━━━━━━━━━━━━━━━━━━━\u001b[0m\u001b[37m\u001b[0m \u001b[1m1s\u001b[0m 1s/step\n",
      "\u001b[1m1/1\u001b[0m \u001b[32m━━━━━━━━━━━━━━━━━━━━\u001b[0m\u001b[37m\u001b[0m \u001b[1m2s\u001b[0m 2s/step\n",
      "\u001b[1m1/1\u001b[0m \u001b[32m━━━━━━━━━━━━━━━━━━━━\u001b[0m\u001b[37m\u001b[0m \u001b[1m2s\u001b[0m 2s/step\n",
      "\u001b[1m1/1\u001b[0m \u001b[32m━━━━━━━━━━━━━━━━━━━━\u001b[0m\u001b[37m\u001b[0m \u001b[1m1s\u001b[0m 1s/step\n",
      "\u001b[1m1/1\u001b[0m \u001b[32m━━━━━━━━━━━━━━━━━━━━\u001b[0m\u001b[37m\u001b[0m \u001b[1m1s\u001b[0m 1s/step\n",
      "\u001b[1m1/1\u001b[0m \u001b[32m━━━━━━━━━━━━━━━━━━━━\u001b[0m\u001b[37m\u001b[0m \u001b[1m1s\u001b[0m 875ms/step\n",
      "\u001b[1m1/1\u001b[0m \u001b[32m━━━━━━━━━━━━━━━━━━━━\u001b[0m\u001b[37m\u001b[0m \u001b[1m1s\u001b[0m 1s/step\n",
      "\u001b[1m1/1\u001b[0m \u001b[32m━━━━━━━━━━━━━━━━━━━━\u001b[0m\u001b[37m\u001b[0m \u001b[1m1s\u001b[0m 1s/step\n",
      "\u001b[1m1/1\u001b[0m \u001b[32m━━━━━━━━━━━━━━━━━━━━\u001b[0m\u001b[37m\u001b[0m \u001b[1m2s\u001b[0m 2s/step\n",
      "\u001b[1m1/1\u001b[0m \u001b[32m━━━━━━━━━━━━━━━━━━━━\u001b[0m\u001b[37m\u001b[0m \u001b[1m1s\u001b[0m 1s/step\n",
      "\u001b[1m1/1\u001b[0m \u001b[32m━━━━━━━━━━━━━━━━━━━━\u001b[0m\u001b[37m\u001b[0m \u001b[1m2s\u001b[0m 2s/step\n",
      "\u001b[1m1/1\u001b[0m \u001b[32m━━━━━━━━━━━━━━━━━━━━\u001b[0m\u001b[37m\u001b[0m \u001b[1m2s\u001b[0m 2s/step\n",
      "\u001b[1m1/1\u001b[0m \u001b[32m━━━━━━━━━━━━━━━━━━━━\u001b[0m\u001b[37m\u001b[0m \u001b[1m1s\u001b[0m 1s/step\n",
      "\u001b[1m1/1\u001b[0m \u001b[32m━━━━━━━━━━━━━━━━━━━━\u001b[0m\u001b[37m\u001b[0m \u001b[1m1s\u001b[0m 1s/step\n",
      "\u001b[1m1/1\u001b[0m \u001b[32m━━━━━━━━━━━━━━━━━━━━\u001b[0m\u001b[37m\u001b[0m \u001b[1m2s\u001b[0m 2s/step\n",
      "\u001b[1m1/1\u001b[0m \u001b[32m━━━━━━━━━━━━━━━━━━━━\u001b[0m\u001b[37m\u001b[0m \u001b[1m1s\u001b[0m 1s/step\n",
      "\u001b[1m1/1\u001b[0m \u001b[32m━━━━━━━━━━━━━━━━━━━━\u001b[0m\u001b[37m\u001b[0m \u001b[1m1s\u001b[0m 1s/step\n",
      "\u001b[1m1/1\u001b[0m \u001b[32m━━━━━━━━━━━━━━━━━━━━\u001b[0m\u001b[37m\u001b[0m \u001b[1m1s\u001b[0m 1s/step\n",
      "\u001b[1m1/1\u001b[0m \u001b[32m━━━━━━━━━━━━━━━━━━━━\u001b[0m\u001b[37m\u001b[0m \u001b[1m1s\u001b[0m 1s/step\n",
      "\u001b[1m1/1\u001b[0m \u001b[32m━━━━━━━━━━━━━━━━━━━━\u001b[0m\u001b[37m\u001b[0m \u001b[1m1s\u001b[0m 1s/step\n",
      "\u001b[1m1/1\u001b[0m \u001b[32m━━━━━━━━━━━━━━━━━━━━\u001b[0m\u001b[37m\u001b[0m \u001b[1m1s\u001b[0m 1s/step\n",
      "\u001b[1m1/1\u001b[0m \u001b[32m━━━━━━━━━━━━━━━━━━━━\u001b[0m\u001b[37m\u001b[0m \u001b[1m2s\u001b[0m 2s/step\n",
      "\u001b[1m1/1\u001b[0m \u001b[32m━━━━━━━━━━━━━━━━━━━━\u001b[0m\u001b[37m\u001b[0m \u001b[1m1s\u001b[0m 1s/step\n",
      "\u001b[1m1/1\u001b[0m \u001b[32m━━━━━━━━━━━━━━━━━━━━\u001b[0m\u001b[37m\u001b[0m \u001b[1m1s\u001b[0m 1s/step\n",
      "\u001b[1m1/1\u001b[0m \u001b[32m━━━━━━━━━━━━━━━━━━━━\u001b[0m\u001b[37m\u001b[0m \u001b[1m1s\u001b[0m 1s/step\n",
      "\u001b[1m1/1\u001b[0m \u001b[32m━━━━━━━━━━━━━━━━━━━━\u001b[0m\u001b[37m\u001b[0m \u001b[1m2s\u001b[0m 2s/step\n",
      "\u001b[1m1/1\u001b[0m \u001b[32m━━━━━━━━━━━━━━━━━━━━\u001b[0m\u001b[37m\u001b[0m \u001b[1m2s\u001b[0m 2s/step\n",
      "\u001b[1m1/1\u001b[0m \u001b[32m━━━━━━━━━━━━━━━━━━━━\u001b[0m\u001b[37m\u001b[0m \u001b[1m1s\u001b[0m 1s/step\n",
      "\u001b[1m1/1\u001b[0m \u001b[32m━━━━━━━━━━━━━━━━━━━━\u001b[0m\u001b[37m\u001b[0m \u001b[1m2s\u001b[0m 2s/step\n",
      "\u001b[1m1/1\u001b[0m \u001b[32m━━━━━━━━━━━━━━━━━━━━\u001b[0m\u001b[37m\u001b[0m \u001b[1m1s\u001b[0m 1s/step\n",
      "\u001b[1m1/1\u001b[0m \u001b[32m━━━━━━━━━━━━━━━━━━━━\u001b[0m\u001b[37m\u001b[0m \u001b[1m1s\u001b[0m 1s/step\n",
      "\u001b[1m1/1\u001b[0m \u001b[32m━━━━━━━━━━━━━━━━━━━━\u001b[0m\u001b[37m\u001b[0m \u001b[1m2s\u001b[0m 2s/step\n",
      "\u001b[1m1/1\u001b[0m \u001b[32m━━━━━━━━━━━━━━━━━━━━\u001b[0m\u001b[37m\u001b[0m \u001b[1m1s\u001b[0m 1s/step\n",
      "\u001b[1m1/1\u001b[0m \u001b[32m━━━━━━━━━━━━━━━━━━━━\u001b[0m\u001b[37m\u001b[0m \u001b[1m2s\u001b[0m 2s/step\n",
      "\u001b[1m1/1\u001b[0m \u001b[32m━━━━━━━━━━━━━━━━━━━━\u001b[0m\u001b[37m\u001b[0m \u001b[1m1s\u001b[0m 1s/step\n",
      "\u001b[1m1/1\u001b[0m \u001b[32m━━━━━━━━━━━━━━━━━━━━\u001b[0m\u001b[37m\u001b[0m \u001b[1m1s\u001b[0m 928ms/step\n",
      "\u001b[1m1/1\u001b[0m \u001b[32m━━━━━━━━━━━━━━━━━━━━\u001b[0m\u001b[37m\u001b[0m \u001b[1m2s\u001b[0m 2s/step\n",
      "\u001b[1m1/1\u001b[0m \u001b[32m━━━━━━━━━━━━━━━━━━━━\u001b[0m\u001b[37m\u001b[0m \u001b[1m1s\u001b[0m 1s/step\n",
      "\u001b[1m1/1\u001b[0m \u001b[32m━━━━━━━━━━━━━━━━━━━━\u001b[0m\u001b[37m\u001b[0m \u001b[1m1s\u001b[0m 893ms/step\n",
      "\u001b[1m1/1\u001b[0m \u001b[32m━━━━━━━━━━━━━━━━━━━━\u001b[0m\u001b[37m\u001b[0m \u001b[1m2s\u001b[0m 2s/step\n",
      "\u001b[1m1/1\u001b[0m \u001b[32m━━━━━━━━━━━━━━━━━━━━\u001b[0m\u001b[37m\u001b[0m \u001b[1m1s\u001b[0m 1s/step\n",
      "\u001b[1m1/1\u001b[0m \u001b[32m━━━━━━━━━━━━━━━━━━━━\u001b[0m\u001b[37m\u001b[0m \u001b[1m1s\u001b[0m 890ms/step\n",
      "\u001b[1m1/1\u001b[0m \u001b[32m━━━━━━━━━━━━━━━━━━━━\u001b[0m\u001b[37m\u001b[0m \u001b[1m1s\u001b[0m 862ms/step\n",
      "\u001b[1m1/1\u001b[0m \u001b[32m━━━━━━━━━━━━━━━━━━━━\u001b[0m\u001b[37m\u001b[0m \u001b[1m1s\u001b[0m 1s/step\n",
      "\u001b[1m1/1\u001b[0m \u001b[32m━━━━━━━━━━━━━━━━━━━━\u001b[0m\u001b[37m\u001b[0m \u001b[1m1s\u001b[0m 906ms/step\n",
      "\u001b[1m1/1\u001b[0m \u001b[32m━━━━━━━━━━━━━━━━━━━━\u001b[0m\u001b[37m\u001b[0m \u001b[1m1s\u001b[0m 1s/step\n",
      "\u001b[1m1/1\u001b[0m \u001b[32m━━━━━━━━━━━━━━━━━━━━\u001b[0m\u001b[37m\u001b[0m \u001b[1m1s\u001b[0m 1s/step\n",
      "\u001b[1m1/1\u001b[0m \u001b[32m━━━━━━━━━━━━━━━━━━━━\u001b[0m\u001b[37m\u001b[0m \u001b[1m2s\u001b[0m 2s/step\n",
      "\u001b[1m1/1\u001b[0m \u001b[32m━━━━━━━━━━━━━━━━━━━━\u001b[0m\u001b[37m\u001b[0m \u001b[1m2s\u001b[0m 2s/step\n",
      "\u001b[1m1/1\u001b[0m \u001b[32m━━━━━━━━━━━━━━━━━━━━\u001b[0m\u001b[37m\u001b[0m \u001b[1m1s\u001b[0m 1s/step\n",
      "\u001b[1m1/1\u001b[0m \u001b[32m━━━━━━━━━━━━━━━━━━━━\u001b[0m\u001b[37m\u001b[0m \u001b[1m1s\u001b[0m 983ms/step\n",
      "\u001b[1m1/1\u001b[0m \u001b[32m━━━━━━━━━━━━━━━━━━━━\u001b[0m\u001b[37m\u001b[0m \u001b[1m1s\u001b[0m 1s/step\n",
      "\u001b[1m1/1\u001b[0m \u001b[32m━━━━━━━━━━━━━━━━━━━━\u001b[0m\u001b[37m\u001b[0m \u001b[1m1s\u001b[0m 1s/step\n",
      "\u001b[1m1/1\u001b[0m \u001b[32m━━━━━━━━━━━━━━━━━━━━\u001b[0m\u001b[37m\u001b[0m \u001b[1m2s\u001b[0m 2s/step\n",
      "\u001b[1m1/1\u001b[0m \u001b[32m━━━━━━━━━━━━━━━━━━━━\u001b[0m\u001b[37m\u001b[0m \u001b[1m1s\u001b[0m 1s/step\n",
      "\u001b[1m1/1\u001b[0m \u001b[32m━━━━━━━━━━━━━━━━━━━━\u001b[0m\u001b[37m\u001b[0m \u001b[1m1s\u001b[0m 1s/step\n",
      "\u001b[1m1/1\u001b[0m \u001b[32m━━━━━━━━━━━━━━━━━━━━\u001b[0m\u001b[37m\u001b[0m \u001b[1m2s\u001b[0m 2s/step\n",
      "\u001b[1m1/1\u001b[0m \u001b[32m━━━━━━━━━━━━━━━━━━━━\u001b[0m\u001b[37m\u001b[0m \u001b[1m1s\u001b[0m 1s/step\n",
      "\u001b[1m1/1\u001b[0m \u001b[32m━━━━━━━━━━━━━━━━━━━━\u001b[0m\u001b[37m\u001b[0m \u001b[1m2s\u001b[0m 2s/step\n",
      "\u001b[1m1/1\u001b[0m \u001b[32m━━━━━━━━━━━━━━━━━━━━\u001b[0m\u001b[37m\u001b[0m \u001b[1m1s\u001b[0m 1s/step\n",
      "\u001b[1m1/1\u001b[0m \u001b[32m━━━━━━━━━━━━━━━━━━━━\u001b[0m\u001b[37m\u001b[0m \u001b[1m1s\u001b[0m 1s/step\n",
      "\u001b[1m1/1\u001b[0m \u001b[32m━━━━━━━━━━━━━━━━━━━━\u001b[0m\u001b[37m\u001b[0m \u001b[1m1s\u001b[0m 1s/step\n",
      "\u001b[1m1/1\u001b[0m \u001b[32m━━━━━━━━━━━━━━━━━━━━\u001b[0m\u001b[37m\u001b[0m \u001b[1m1s\u001b[0m 1s/step\n",
      "\u001b[1m1/1\u001b[0m \u001b[32m━━━━━━━━━━━━━━━━━━━━\u001b[0m\u001b[37m\u001b[0m \u001b[1m1s\u001b[0m 1s/step\n",
      "\u001b[1m1/1\u001b[0m \u001b[32m━━━━━━━━━━━━━━━━━━━━\u001b[0m\u001b[37m\u001b[0m \u001b[1m1s\u001b[0m 1s/step\n",
      "\u001b[1m1/1\u001b[0m \u001b[32m━━━━━━━━━━━━━━━━━━━━\u001b[0m\u001b[37m\u001b[0m \u001b[1m2s\u001b[0m 2s/step\n",
      "\u001b[1m1/1\u001b[0m \u001b[32m━━━━━━━━━━━━━━━━━━━━\u001b[0m\u001b[37m\u001b[0m \u001b[1m1s\u001b[0m 1s/step\n",
      "\u001b[1m1/1\u001b[0m \u001b[32m━━━━━━━━━━━━━━━━━━━━\u001b[0m\u001b[37m\u001b[0m \u001b[1m2s\u001b[0m 2s/step\n",
      "\u001b[1m1/1\u001b[0m \u001b[32m━━━━━━━━━━━━━━━━━━━━\u001b[0m\u001b[37m\u001b[0m \u001b[1m1s\u001b[0m 1s/step\n",
      "\u001b[1m1/1\u001b[0m \u001b[32m━━━━━━━━━━━━━━━━━━━━\u001b[0m\u001b[37m\u001b[0m \u001b[1m1s\u001b[0m 1s/step\n",
      "\u001b[1m1/1\u001b[0m \u001b[32m━━━━━━━━━━━━━━━━━━━━\u001b[0m\u001b[37m\u001b[0m \u001b[1m2s\u001b[0m 2s/step\n",
      "\u001b[1m1/1\u001b[0m \u001b[32m━━━━━━━━━━━━━━━━━━━━\u001b[0m\u001b[37m\u001b[0m \u001b[1m1s\u001b[0m 1s/step\n",
      "\u001b[1m1/1\u001b[0m \u001b[32m━━━━━━━━━━━━━━━━━━━━\u001b[0m\u001b[37m\u001b[0m \u001b[1m2s\u001b[0m 2s/step\n",
      "\u001b[1m1/1\u001b[0m \u001b[32m━━━━━━━━━━━━━━━━━━━━\u001b[0m\u001b[37m\u001b[0m \u001b[1m1s\u001b[0m 1s/step\n",
      "\u001b[1m1/1\u001b[0m \u001b[32m━━━━━━━━━━━━━━━━━━━━\u001b[0m\u001b[37m\u001b[0m \u001b[1m1s\u001b[0m 1s/step\n",
      "\u001b[1m1/1\u001b[0m \u001b[32m━━━━━━━━━━━━━━━━━━━━\u001b[0m\u001b[37m\u001b[0m \u001b[1m1s\u001b[0m 1s/step\n",
      "\u001b[1m1/1\u001b[0m \u001b[32m━━━━━━━━━━━━━━━━━━━━\u001b[0m\u001b[37m\u001b[0m \u001b[1m1s\u001b[0m 1s/step\n",
      "\u001b[1m1/1\u001b[0m \u001b[32m━━━━━━━━━━━━━━━━━━━━\u001b[0m\u001b[37m\u001b[0m \u001b[1m2s\u001b[0m 2s/step\n",
      "\u001b[1m1/1\u001b[0m \u001b[32m━━━━━━━━━━━━━━━━━━━━\u001b[0m\u001b[37m\u001b[0m \u001b[1m2s\u001b[0m 2s/step\n",
      "\u001b[1m1/1\u001b[0m \u001b[32m━━━━━━━━━━━━━━━━━━━━\u001b[0m\u001b[37m\u001b[0m \u001b[1m1s\u001b[0m 1s/step\n",
      "\u001b[1m1/1\u001b[0m \u001b[32m━━━━━━━━━━━━━━━━━━━━\u001b[0m\u001b[37m\u001b[0m \u001b[1m1s\u001b[0m 1s/step\n",
      "\u001b[1m1/1\u001b[0m \u001b[32m━━━━━━━━━━━━━━━━━━━━\u001b[0m\u001b[37m\u001b[0m \u001b[1m1s\u001b[0m 1s/step\n",
      "\u001b[1m1/1\u001b[0m \u001b[32m━━━━━━━━━━━━━━━━━━━━\u001b[0m\u001b[37m\u001b[0m \u001b[1m1s\u001b[0m 1s/step\n",
      "\u001b[1m1/1\u001b[0m \u001b[32m━━━━━━━━━━━━━━━━━━━━\u001b[0m\u001b[37m\u001b[0m \u001b[1m1s\u001b[0m 1s/step\n",
      "\u001b[1m1/1\u001b[0m \u001b[32m━━━━━━━━━━━━━━━━━━━━\u001b[0m\u001b[37m\u001b[0m \u001b[1m1s\u001b[0m 1s/step\n",
      "\u001b[1m1/1\u001b[0m \u001b[32m━━━━━━━━━━━━━━━━━━━━\u001b[0m\u001b[37m\u001b[0m \u001b[1m1s\u001b[0m 1s/step\n",
      "\u001b[1m1/1\u001b[0m \u001b[32m━━━━━━━━━━━━━━━━━━━━\u001b[0m\u001b[37m\u001b[0m \u001b[1m1s\u001b[0m 1s/step\n",
      "\u001b[1m1/1\u001b[0m \u001b[32m━━━━━━━━━━━━━━━━━━━━\u001b[0m\u001b[37m\u001b[0m \u001b[1m1s\u001b[0m 1s/step\n",
      "\u001b[1m1/1\u001b[0m \u001b[32m━━━━━━━━━━━━━━━━━━━━\u001b[0m\u001b[37m\u001b[0m \u001b[1m2s\u001b[0m 2s/step\n",
      "\u001b[1m1/1\u001b[0m \u001b[32m━━━━━━━━━━━━━━━━━━━━\u001b[0m\u001b[37m\u001b[0m \u001b[1m1s\u001b[0m 1s/step\n",
      "\u001b[1m1/1\u001b[0m \u001b[32m━━━━━━━━━━━━━━━━━━━━\u001b[0m\u001b[37m\u001b[0m \u001b[1m1s\u001b[0m 1s/step\n",
      "\u001b[1m1/1\u001b[0m \u001b[32m━━━━━━━━━━━━━━━━━━━━\u001b[0m\u001b[37m\u001b[0m \u001b[1m1s\u001b[0m 1s/step\n",
      "\u001b[1m1/1\u001b[0m \u001b[32m━━━━━━━━━━━━━━━━━━━━\u001b[0m\u001b[37m\u001b[0m \u001b[1m1s\u001b[0m 1s/step\n",
      "\u001b[1m1/1\u001b[0m \u001b[32m━━━━━━━━━━━━━━━━━━━━\u001b[0m\u001b[37m\u001b[0m \u001b[1m1s\u001b[0m 1s/step\n",
      "\u001b[1m1/1\u001b[0m \u001b[32m━━━━━━━━━━━━━━━━━━━━\u001b[0m\u001b[37m\u001b[0m \u001b[1m1s\u001b[0m 1s/step\n",
      "\u001b[1m1/1\u001b[0m \u001b[32m━━━━━━━━━━━━━━━━━━━━\u001b[0m\u001b[37m\u001b[0m \u001b[1m1s\u001b[0m 1s/step\n",
      "\u001b[1m1/1\u001b[0m \u001b[32m━━━━━━━━━━━━━━━━━━━━\u001b[0m\u001b[37m\u001b[0m \u001b[1m1s\u001b[0m 1s/step\n",
      "\u001b[1m1/1\u001b[0m \u001b[32m━━━━━━━━━━━━━━━━━━━━\u001b[0m\u001b[37m\u001b[0m \u001b[1m2s\u001b[0m 2s/step\n",
      "\u001b[1m1/1\u001b[0m \u001b[32m━━━━━━━━━━━━━━━━━━━━\u001b[0m\u001b[37m\u001b[0m \u001b[1m2s\u001b[0m 2s/step\n",
      "\u001b[1m1/1\u001b[0m \u001b[32m━━━━━━━━━━━━━━━━━━━━\u001b[0m\u001b[37m\u001b[0m \u001b[1m1s\u001b[0m 1s/step\n",
      "\u001b[1m1/1\u001b[0m \u001b[32m━━━━━━━━━━━━━━━━━━━━\u001b[0m\u001b[37m\u001b[0m \u001b[1m1s\u001b[0m 1s/step\n",
      "\u001b[1m1/1\u001b[0m \u001b[32m━━━━━━━━━━━━━━━━━━━━\u001b[0m\u001b[37m\u001b[0m \u001b[1m1s\u001b[0m 1s/step\n",
      "\u001b[1m1/1\u001b[0m \u001b[32m━━━━━━━━━━━━━━━━━━━━\u001b[0m\u001b[37m\u001b[0m \u001b[1m1s\u001b[0m 1s/step\n",
      "\u001b[1m1/1\u001b[0m \u001b[32m━━━━━━━━━━━━━━━━━━━━\u001b[0m\u001b[37m\u001b[0m \u001b[1m1s\u001b[0m 1s/step\n",
      "\u001b[1m1/1\u001b[0m \u001b[32m━━━━━━━━━━━━━━━━━━━━\u001b[0m\u001b[37m\u001b[0m \u001b[1m1s\u001b[0m 1s/step\n",
      "\u001b[1m1/1\u001b[0m \u001b[32m━━━━━━━━━━━━━━━━━━━━\u001b[0m\u001b[37m\u001b[0m \u001b[1m1s\u001b[0m 1s/step\n",
      "\u001b[1m1/1\u001b[0m \u001b[32m━━━━━━━━━━━━━━━━━━━━\u001b[0m\u001b[37m\u001b[0m \u001b[1m2s\u001b[0m 2s/step\n",
      "\u001b[1m1/1\u001b[0m \u001b[32m━━━━━━━━━━━━━━━━━━━━\u001b[0m\u001b[37m\u001b[0m \u001b[1m1s\u001b[0m 1s/step\n",
      "\u001b[1m1/1\u001b[0m \u001b[32m━━━━━━━━━━━━━━━━━━━━\u001b[0m\u001b[37m\u001b[0m \u001b[1m1s\u001b[0m 1s/step\n",
      "\u001b[1m1/1\u001b[0m \u001b[32m━━━━━━━━━━━━━━━━━━━━\u001b[0m\u001b[37m\u001b[0m \u001b[1m1s\u001b[0m 1s/step\n",
      "\u001b[1m1/1\u001b[0m \u001b[32m━━━━━━━━━━━━━━━━━━━━\u001b[0m\u001b[37m\u001b[0m \u001b[1m1s\u001b[0m 1s/step\n",
      "\u001b[1m1/1\u001b[0m \u001b[32m━━━━━━━━━━━━━━━━━━━━\u001b[0m\u001b[37m\u001b[0m \u001b[1m1s\u001b[0m 1s/step\n",
      "\u001b[1m1/1\u001b[0m \u001b[32m━━━━━━━━━━━━━━━━━━━━\u001b[0m\u001b[37m\u001b[0m \u001b[1m1s\u001b[0m 1s/step\n",
      "\u001b[1m1/1\u001b[0m \u001b[32m━━━━━━━━━━━━━━━━━━━━\u001b[0m\u001b[37m\u001b[0m \u001b[1m1s\u001b[0m 1s/step\n",
      "\u001b[1m1/1\u001b[0m \u001b[32m━━━━━━━━━━━━━━━━━━━━\u001b[0m\u001b[37m\u001b[0m \u001b[1m1s\u001b[0m 1s/step\n",
      "\u001b[1m1/1\u001b[0m \u001b[32m━━━━━━━━━━━━━━━━━━━━\u001b[0m\u001b[37m\u001b[0m \u001b[1m1s\u001b[0m 1s/step\n",
      "\u001b[1m1/1\u001b[0m \u001b[32m━━━━━━━━━━━━━━━━━━━━\u001b[0m\u001b[37m\u001b[0m \u001b[1m1s\u001b[0m 1s/step\n",
      "\u001b[1m1/1\u001b[0m \u001b[32m━━━━━━━━━━━━━━━━━━━━\u001b[0m\u001b[37m\u001b[0m \u001b[1m1s\u001b[0m 1s/step\n",
      "\u001b[1m1/1\u001b[0m \u001b[32m━━━━━━━━━━━━━━━━━━━━\u001b[0m\u001b[37m\u001b[0m \u001b[1m1s\u001b[0m 907ms/step\n",
      "\u001b[1m1/1\u001b[0m \u001b[32m━━━━━━━━━━━━━━━━━━━━\u001b[0m\u001b[37m\u001b[0m \u001b[1m2s\u001b[0m 2s/step\n",
      "\u001b[1m1/1\u001b[0m \u001b[32m━━━━━━━━━━━━━━━━━━━━\u001b[0m\u001b[37m\u001b[0m \u001b[1m1s\u001b[0m 1s/step\n",
      "\u001b[1m1/1\u001b[0m \u001b[32m━━━━━━━━━━━━━━━━━━━━\u001b[0m\u001b[37m\u001b[0m \u001b[1m2s\u001b[0m 2s/step\n",
      "\u001b[1m1/1\u001b[0m \u001b[32m━━━━━━━━━━━━━━━━━━━━\u001b[0m\u001b[37m\u001b[0m \u001b[1m1s\u001b[0m 1s/step\n",
      "\u001b[1m1/1\u001b[0m \u001b[32m━━━━━━━━━━━━━━━━━━━━\u001b[0m\u001b[37m\u001b[0m \u001b[1m1s\u001b[0m 1s/step\n",
      "\u001b[1m1/1\u001b[0m \u001b[32m━━━━━━━━━━━━━━━━━━━━\u001b[0m\u001b[37m\u001b[0m \u001b[1m1s\u001b[0m 1s/step\n",
      "\u001b[1m1/1\u001b[0m \u001b[32m━━━━━━━━━━━━━━━━━━━━\u001b[0m\u001b[37m\u001b[0m \u001b[1m1s\u001b[0m 1s/step\n",
      "\u001b[1m1/1\u001b[0m \u001b[32m━━━━━━━━━━━━━━━━━━━━\u001b[0m\u001b[37m\u001b[0m \u001b[1m1s\u001b[0m 1s/step\n",
      "\u001b[1m1/1\u001b[0m \u001b[32m━━━━━━━━━━━━━━━━━━━━\u001b[0m\u001b[37m\u001b[0m \u001b[1m2s\u001b[0m 2s/step\n",
      "\u001b[1m1/1\u001b[0m \u001b[32m━━━━━━━━━━━━━━━━━━━━\u001b[0m\u001b[37m\u001b[0m \u001b[1m1s\u001b[0m 1s/step\n",
      "\u001b[1m1/1\u001b[0m \u001b[32m━━━━━━━━━━━━━━━━━━━━\u001b[0m\u001b[37m\u001b[0m \u001b[1m1s\u001b[0m 1s/step\n",
      "\u001b[1m1/1\u001b[0m \u001b[32m━━━━━━━━━━━━━━━━━━━━\u001b[0m\u001b[37m\u001b[0m \u001b[1m1s\u001b[0m 1s/step\n",
      "\u001b[1m1/1\u001b[0m \u001b[32m━━━━━━━━━━━━━━━━━━━━\u001b[0m\u001b[37m\u001b[0m \u001b[1m1s\u001b[0m 1s/step\n",
      "\u001b[1m1/1\u001b[0m \u001b[32m━━━━━━━━━━━━━━━━━━━━\u001b[0m\u001b[37m\u001b[0m \u001b[1m2s\u001b[0m 2s/step\n",
      "\u001b[1m1/1\u001b[0m \u001b[32m━━━━━━━━━━━━━━━━━━━━\u001b[0m\u001b[37m\u001b[0m \u001b[1m1s\u001b[0m 1s/step\n",
      "\u001b[1m1/1\u001b[0m \u001b[32m━━━━━━━━━━━━━━━━━━━━\u001b[0m\u001b[37m\u001b[0m \u001b[1m2s\u001b[0m 2s/step\n",
      "\u001b[1m1/1\u001b[0m \u001b[32m━━━━━━━━━━━━━━━━━━━━\u001b[0m\u001b[37m\u001b[0m \u001b[1m1s\u001b[0m 1s/step\n",
      "\u001b[1m1/1\u001b[0m \u001b[32m━━━━━━━━━━━━━━━━━━━━\u001b[0m\u001b[37m\u001b[0m \u001b[1m1s\u001b[0m 1s/step\n",
      "\u001b[1m1/1\u001b[0m \u001b[32m━━━━━━━━━━━━━━━━━━━━\u001b[0m\u001b[37m\u001b[0m \u001b[1m1s\u001b[0m 982ms/step\n",
      "\u001b[1m1/1\u001b[0m \u001b[32m━━━━━━━━━━━━━━━━━━━━\u001b[0m\u001b[37m\u001b[0m \u001b[1m1s\u001b[0m 1s/step\n",
      "\u001b[1m1/1\u001b[0m \u001b[32m━━━━━━━━━━━━━━━━━━━━\u001b[0m\u001b[37m\u001b[0m \u001b[1m1s\u001b[0m 1s/step\n",
      "\u001b[1m1/1\u001b[0m \u001b[32m━━━━━━━━━━━━━━━━━━━━\u001b[0m\u001b[37m\u001b[0m \u001b[1m1s\u001b[0m 1s/step\n",
      "\u001b[1m1/1\u001b[0m \u001b[32m━━━━━━━━━━━━━━━━━━━━\u001b[0m\u001b[37m\u001b[0m \u001b[1m1s\u001b[0m 1s/step\n",
      "\u001b[1m1/1\u001b[0m \u001b[32m━━━━━━━━━━━━━━━━━━━━\u001b[0m\u001b[37m\u001b[0m \u001b[1m1s\u001b[0m 989ms/step\n",
      "\u001b[1m1/1\u001b[0m \u001b[32m━━━━━━━━━━━━━━━━━━━━\u001b[0m\u001b[37m\u001b[0m \u001b[1m1s\u001b[0m 1s/step\n",
      "\u001b[1m1/1\u001b[0m \u001b[32m━━━━━━━━━━━━━━━━━━━━\u001b[0m\u001b[37m\u001b[0m \u001b[1m1s\u001b[0m 1s/step\n",
      "\u001b[1m1/1\u001b[0m \u001b[32m━━━━━━━━━━━━━━━━━━━━\u001b[0m\u001b[37m\u001b[0m \u001b[1m1s\u001b[0m 1s/step\n",
      "\u001b[1m1/1\u001b[0m \u001b[32m━━━━━━━━━━━━━━━━━━━━\u001b[0m\u001b[37m\u001b[0m \u001b[1m1s\u001b[0m 885ms/step\n",
      "\u001b[1m1/1\u001b[0m \u001b[32m━━━━━━━━━━━━━━━━━━━━\u001b[0m\u001b[37m\u001b[0m \u001b[1m1s\u001b[0m 1s/step\n",
      "\u001b[1m1/1\u001b[0m \u001b[32m━━━━━━━━━━━━━━━━━━━━\u001b[0m\u001b[37m\u001b[0m \u001b[1m2s\u001b[0m 2s/step\n",
      "\u001b[1m1/1\u001b[0m \u001b[32m━━━━━━━━━━━━━━━━━━━━\u001b[0m\u001b[37m\u001b[0m \u001b[1m1s\u001b[0m 1s/step\n",
      "\u001b[1m1/1\u001b[0m \u001b[32m━━━━━━━━━━━━━━━━━━━━\u001b[0m\u001b[37m\u001b[0m \u001b[1m1s\u001b[0m 1s/step\n",
      "\u001b[1m1/1\u001b[0m \u001b[32m━━━━━━━━━━━━━━━━━━━━\u001b[0m\u001b[37m\u001b[0m \u001b[1m1s\u001b[0m 1s/step\n",
      "\u001b[1m1/1\u001b[0m \u001b[32m━━━━━━━━━━━━━━━━━━━━\u001b[0m\u001b[37m\u001b[0m \u001b[1m1s\u001b[0m 1s/step\n",
      "\u001b[1m1/1\u001b[0m \u001b[32m━━━━━━━━━━━━━━━━━━━━\u001b[0m\u001b[37m\u001b[0m \u001b[1m1s\u001b[0m 1s/step\n",
      "\u001b[1m1/1\u001b[0m \u001b[32m━━━━━━━━━━━━━━━━━━━━\u001b[0m\u001b[37m\u001b[0m \u001b[1m1s\u001b[0m 891ms/step\n",
      "\u001b[1m1/1\u001b[0m \u001b[32m━━━━━━━━━━━━━━━━━━━━\u001b[0m\u001b[37m\u001b[0m \u001b[1m2s\u001b[0m 2s/step\n",
      "\u001b[1m1/1\u001b[0m \u001b[32m━━━━━━━━━━━━━━━━━━━━\u001b[0m\u001b[37m\u001b[0m \u001b[1m1s\u001b[0m 1s/step\n",
      "\u001b[1m1/1\u001b[0m \u001b[32m━━━━━━━━━━━━━━━━━━━━\u001b[0m\u001b[37m\u001b[0m \u001b[1m2s\u001b[0m 2s/step\n",
      "\u001b[1m1/1\u001b[0m \u001b[32m━━━━━━━━━━━━━━━━━━━━\u001b[0m\u001b[37m\u001b[0m \u001b[1m2s\u001b[0m 2s/step\n",
      "\u001b[1m1/1\u001b[0m \u001b[32m━━━━━━━━━━━━━━━━━━━━\u001b[0m\u001b[37m\u001b[0m \u001b[1m1s\u001b[0m 1s/step\n",
      "\u001b[1m1/1\u001b[0m \u001b[32m━━━━━━━━━━━━━━━━━━━━\u001b[0m\u001b[37m\u001b[0m \u001b[1m2s\u001b[0m 2s/step\n",
      "\u001b[1m1/1\u001b[0m \u001b[32m━━━━━━━━━━━━━━━━━━━━\u001b[0m\u001b[37m\u001b[0m \u001b[1m1s\u001b[0m 1s/step\n",
      "\u001b[1m1/1\u001b[0m \u001b[32m━━━━━━━━━━━━━━━━━━━━\u001b[0m\u001b[37m\u001b[0m \u001b[1m1s\u001b[0m 909ms/step\n",
      "\u001b[1m1/1\u001b[0m \u001b[32m━━━━━━━━━━━━━━━━━━━━\u001b[0m\u001b[37m\u001b[0m \u001b[1m1s\u001b[0m 815ms/step\n",
      "\u001b[1m1/1\u001b[0m \u001b[32m━━━━━━━━━━━━━━━━━━━━\u001b[0m\u001b[37m\u001b[0m \u001b[1m1s\u001b[0m 1s/step\n",
      "\u001b[1m1/1\u001b[0m \u001b[32m━━━━━━━━━━━━━━━━━━━━\u001b[0m\u001b[37m\u001b[0m \u001b[1m1s\u001b[0m 1s/step\n",
      "\u001b[1m1/1\u001b[0m \u001b[32m━━━━━━━━━━━━━━━━━━━━\u001b[0m\u001b[37m\u001b[0m \u001b[1m1s\u001b[0m 1s/step\n",
      "\u001b[1m1/1\u001b[0m \u001b[32m━━━━━━━━━━━━━━━━━━━━\u001b[0m\u001b[37m\u001b[0m \u001b[1m1s\u001b[0m 1s/step\n",
      "\u001b[1m1/1\u001b[0m \u001b[32m━━━━━━━━━━━━━━━━━━━━\u001b[0m\u001b[37m\u001b[0m \u001b[1m1s\u001b[0m 1s/step\n",
      "\u001b[1m1/1\u001b[0m \u001b[32m━━━━━━━━━━━━━━━━━━━━\u001b[0m\u001b[37m\u001b[0m \u001b[1m1s\u001b[0m 1s/step\n",
      "\u001b[1m1/1\u001b[0m \u001b[32m━━━━━━━━━━━━━━━━━━━━\u001b[0m\u001b[37m\u001b[0m \u001b[1m1s\u001b[0m 1s/step\n",
      "\u001b[1m1/1\u001b[0m \u001b[32m━━━━━━━━━━━━━━━━━━━━\u001b[0m\u001b[37m\u001b[0m \u001b[1m1s\u001b[0m 1s/step\n",
      "\u001b[1m1/1\u001b[0m \u001b[32m━━━━━━━━━━━━━━━━━━━━\u001b[0m\u001b[37m\u001b[0m \u001b[1m2s\u001b[0m 2s/step\n",
      "\u001b[1m1/1\u001b[0m \u001b[32m━━━━━━━━━━━━━━━━━━━━\u001b[0m\u001b[37m\u001b[0m \u001b[1m1s\u001b[0m 1s/step\n",
      "\u001b[1m1/1\u001b[0m \u001b[32m━━━━━━━━━━━━━━━━━━━━\u001b[0m\u001b[37m\u001b[0m \u001b[1m1s\u001b[0m 866ms/step\n",
      "\u001b[1m1/1\u001b[0m \u001b[32m━━━━━━━━━━━━━━━━━━━━\u001b[0m\u001b[37m\u001b[0m \u001b[1m1s\u001b[0m 1s/step\n",
      "\u001b[1m1/1\u001b[0m \u001b[32m━━━━━━━━━━━━━━━━━━━━\u001b[0m\u001b[37m\u001b[0m \u001b[1m2s\u001b[0m 2s/step\n",
      "\u001b[1m1/1\u001b[0m \u001b[32m━━━━━━━━━━━━━━━━━━━━\u001b[0m\u001b[37m\u001b[0m \u001b[1m1s\u001b[0m 1s/step\n",
      "\u001b[1m1/1\u001b[0m \u001b[32m━━━━━━━━━━━━━━━━━━━━\u001b[0m\u001b[37m\u001b[0m \u001b[1m1s\u001b[0m 1s/step\n",
      "\u001b[1m1/1\u001b[0m \u001b[32m━━━━━━━━━━━━━━━━━━━━\u001b[0m\u001b[37m\u001b[0m \u001b[1m1s\u001b[0m 1s/step\n",
      "\u001b[1m1/1\u001b[0m \u001b[32m━━━━━━━━━━━━━━━━━━━━\u001b[0m\u001b[37m\u001b[0m \u001b[1m2s\u001b[0m 2s/step\n",
      "\u001b[1m1/1\u001b[0m \u001b[32m━━━━━━━━━━━━━━━━━━━━\u001b[0m\u001b[37m\u001b[0m \u001b[1m1s\u001b[0m 947ms/step\n",
      "\u001b[1m1/1\u001b[0m \u001b[32m━━━━━━━━━━━━━━━━━━━━\u001b[0m\u001b[37m\u001b[0m \u001b[1m1s\u001b[0m 1s/step\n",
      "\u001b[1m1/1\u001b[0m \u001b[32m━━━━━━━━━━━━━━━━━━━━\u001b[0m\u001b[37m\u001b[0m \u001b[1m2s\u001b[0m 2s/step\n",
      "\u001b[1m1/1\u001b[0m \u001b[32m━━━━━━━━━━━━━━━━━━━━\u001b[0m\u001b[37m\u001b[0m \u001b[1m1s\u001b[0m 1s/step\n",
      "\u001b[1m1/1\u001b[0m \u001b[32m━━━━━━━━━━━━━━━━━━━━\u001b[0m\u001b[37m\u001b[0m \u001b[1m2s\u001b[0m 2s/step\n",
      "\u001b[1m1/1\u001b[0m \u001b[32m━━━━━━━━━━━━━━━━━━━━\u001b[0m\u001b[37m\u001b[0m \u001b[1m1s\u001b[0m 1s/step\n",
      "\u001b[1m1/1\u001b[0m \u001b[32m━━━━━━━━━━━━━━━━━━━━\u001b[0m\u001b[37m\u001b[0m \u001b[1m1s\u001b[0m 1s/step\n",
      "\u001b[1m1/1\u001b[0m \u001b[32m━━━━━━━━━━━━━━━━━━━━\u001b[0m\u001b[37m\u001b[0m \u001b[1m1s\u001b[0m 1s/step\n",
      "\u001b[1m1/1\u001b[0m \u001b[32m━━━━━━━━━━━━━━━━━━━━\u001b[0m\u001b[37m\u001b[0m \u001b[1m1s\u001b[0m 1s/step\n",
      "\u001b[1m1/1\u001b[0m \u001b[32m━━━━━━━━━━━━━━━━━━━━\u001b[0m\u001b[37m\u001b[0m \u001b[1m1s\u001b[0m 987ms/step\n",
      "\u001b[1m1/1\u001b[0m \u001b[32m━━━━━━━━━━━━━━━━━━━━\u001b[0m\u001b[37m\u001b[0m \u001b[1m1s\u001b[0m 1s/step\n",
      "\u001b[1m1/1\u001b[0m \u001b[32m━━━━━━━━━━━━━━━━━━━━\u001b[0m\u001b[37m\u001b[0m \u001b[1m1s\u001b[0m 1s/step\n",
      "\u001b[1m1/1\u001b[0m \u001b[32m━━━━━━━━━━━━━━━━━━━━\u001b[0m\u001b[37m\u001b[0m \u001b[1m1s\u001b[0m 1s/step\n",
      "\u001b[1m1/1\u001b[0m \u001b[32m━━━━━━━━━━━━━━━━━━━━\u001b[0m\u001b[37m\u001b[0m \u001b[1m1s\u001b[0m 1s/step\n",
      "\u001b[1m1/1\u001b[0m \u001b[32m━━━━━━━━━━━━━━━━━━━━\u001b[0m\u001b[37m\u001b[0m \u001b[1m2s\u001b[0m 2s/step\n",
      "\u001b[1m1/1\u001b[0m \u001b[32m━━━━━━━━━━━━━━━━━━━━\u001b[0m\u001b[37m\u001b[0m \u001b[1m1s\u001b[0m 1s/step\n",
      "\u001b[1m1/1\u001b[0m \u001b[32m━━━━━━━━━━━━━━━━━━━━\u001b[0m\u001b[37m\u001b[0m \u001b[1m1s\u001b[0m 846ms/step\n",
      "\u001b[1m1/1\u001b[0m \u001b[32m━━━━━━━━━━━━━━━━━━━━\u001b[0m\u001b[37m\u001b[0m \u001b[1m1s\u001b[0m 1s/step\n",
      "\u001b[1m1/1\u001b[0m \u001b[32m━━━━━━━━━━━━━━━━━━━━\u001b[0m\u001b[37m\u001b[0m \u001b[1m2s\u001b[0m 2s/step\n",
      "\u001b[1m1/1\u001b[0m \u001b[32m━━━━━━━━━━━━━━━━━━━━\u001b[0m\u001b[37m\u001b[0m \u001b[1m1s\u001b[0m 1s/step\n",
      "\u001b[1m1/1\u001b[0m \u001b[32m━━━━━━━━━━━━━━━━━━━━\u001b[0m\u001b[37m\u001b[0m \u001b[1m1s\u001b[0m 1s/step\n",
      "\u001b[1m1/1\u001b[0m \u001b[32m━━━━━━━━━━━━━━━━━━━━\u001b[0m\u001b[37m\u001b[0m \u001b[1m1s\u001b[0m 1s/step\n",
      "\u001b[1m1/1\u001b[0m \u001b[32m━━━━━━━━━━━━━━━━━━━━\u001b[0m\u001b[37m\u001b[0m \u001b[1m1s\u001b[0m 1s/step\n",
      "\u001b[1m1/1\u001b[0m \u001b[32m━━━━━━━━━━━━━━━━━━━━\u001b[0m\u001b[37m\u001b[0m \u001b[1m1s\u001b[0m 1s/step\n",
      "\u001b[1m1/1\u001b[0m \u001b[32m━━━━━━━━━━━━━━━━━━━━\u001b[0m\u001b[37m\u001b[0m \u001b[1m2s\u001b[0m 2s/step\n",
      "\u001b[1m1/1\u001b[0m \u001b[32m━━━━━━━━━━━━━━━━━━━━\u001b[0m\u001b[37m\u001b[0m \u001b[1m1s\u001b[0m 1s/step\n",
      "\u001b[1m1/1\u001b[0m \u001b[32m━━━━━━━━━━━━━━━━━━━━\u001b[0m\u001b[37m\u001b[0m \u001b[1m1s\u001b[0m 1s/step\n",
      "\u001b[1m1/1\u001b[0m \u001b[32m━━━━━━━━━━━━━━━━━━━━\u001b[0m\u001b[37m\u001b[0m \u001b[1m1s\u001b[0m 1s/step\n",
      "\u001b[1m1/1\u001b[0m \u001b[32m━━━━━━━━━━━━━━━━━━━━\u001b[0m\u001b[37m\u001b[0m \u001b[1m1s\u001b[0m 1s/step\n",
      "\u001b[1m1/1\u001b[0m \u001b[32m━━━━━━━━━━━━━━━━━━━━\u001b[0m\u001b[37m\u001b[0m \u001b[1m1s\u001b[0m 1s/step\n",
      "\u001b[1m1/1\u001b[0m \u001b[32m━━━━━━━━━━━━━━━━━━━━\u001b[0m\u001b[37m\u001b[0m \u001b[1m1s\u001b[0m 926ms/step\n",
      "\u001b[1m1/1\u001b[0m \u001b[32m━━━━━━━━━━━━━━━━━━━━\u001b[0m\u001b[37m\u001b[0m \u001b[1m2s\u001b[0m 2s/step\n",
      "\u001b[1m1/1\u001b[0m \u001b[32m━━━━━━━━━━━━━━━━━━━━\u001b[0m\u001b[37m\u001b[0m \u001b[1m2s\u001b[0m 2s/step\n",
      "\u001b[1m1/1\u001b[0m \u001b[32m━━━━━━━━━━━━━━━━━━━━\u001b[0m\u001b[37m\u001b[0m \u001b[1m1s\u001b[0m 914ms/step\n",
      "\u001b[1m1/1\u001b[0m \u001b[32m━━━━━━━━━━━━━━━━━━━━\u001b[0m\u001b[37m\u001b[0m \u001b[1m1s\u001b[0m 864ms/step\n",
      "\u001b[1m1/1\u001b[0m \u001b[32m━━━━━━━━━━━━━━━━━━━━\u001b[0m\u001b[37m\u001b[0m \u001b[1m2s\u001b[0m 2s/step\n",
      "\u001b[1m1/1\u001b[0m \u001b[32m━━━━━━━━━━━━━━━━━━━━\u001b[0m\u001b[37m\u001b[0m \u001b[1m1s\u001b[0m 1s/step\n",
      "\u001b[1m1/1\u001b[0m \u001b[32m━━━━━━━━━━━━━━━━━━━━\u001b[0m\u001b[37m\u001b[0m \u001b[1m1s\u001b[0m 1s/step\n",
      "\u001b[1m1/1\u001b[0m \u001b[32m━━━━━━━━━━━━━━━━━━━━\u001b[0m\u001b[37m\u001b[0m \u001b[1m1s\u001b[0m 1s/step\n",
      "\u001b[1m1/1\u001b[0m \u001b[32m━━━━━━━━━━━━━━━━━━━━\u001b[0m\u001b[37m\u001b[0m \u001b[1m1s\u001b[0m 1s/step\n",
      "\u001b[1m1/1\u001b[0m \u001b[32m━━━━━━━━━━━━━━━━━━━━\u001b[0m\u001b[37m\u001b[0m \u001b[1m2s\u001b[0m 2s/step\n",
      "\u001b[1m1/1\u001b[0m \u001b[32m━━━━━━━━━━━━━━━━━━━━\u001b[0m\u001b[37m\u001b[0m \u001b[1m1s\u001b[0m 1s/step\n",
      "\u001b[1m1/1\u001b[0m \u001b[32m━━━━━━━━━━━━━━━━━━━━\u001b[0m\u001b[37m\u001b[0m \u001b[1m1s\u001b[0m 1s/step\n",
      "\u001b[1m1/1\u001b[0m \u001b[32m━━━━━━━━━━━━━━━━━━━━\u001b[0m\u001b[37m\u001b[0m \u001b[1m1s\u001b[0m 1s/step\n",
      "\u001b[1m1/1\u001b[0m \u001b[32m━━━━━━━━━━━━━━━━━━━━\u001b[0m\u001b[37m\u001b[0m \u001b[1m2s\u001b[0m 2s/step\n",
      "\u001b[1m1/1\u001b[0m \u001b[32m━━━━━━━━━━━━━━━━━━━━\u001b[0m\u001b[37m\u001b[0m \u001b[1m1s\u001b[0m 947ms/step\n",
      "\u001b[1m1/1\u001b[0m \u001b[32m━━━━━━━━━━━━━━━━━━━━\u001b[0m\u001b[37m\u001b[0m \u001b[1m1s\u001b[0m 1s/step\n",
      "\u001b[1m1/1\u001b[0m \u001b[32m━━━━━━━━━━━━━━━━━━━━\u001b[0m\u001b[37m\u001b[0m \u001b[1m1s\u001b[0m 1s/step\n",
      "\u001b[1m1/1\u001b[0m \u001b[32m━━━━━━━━━━━━━━━━━━━━\u001b[0m\u001b[37m\u001b[0m \u001b[1m1s\u001b[0m 1s/step\n",
      "\u001b[1m1/1\u001b[0m \u001b[32m━━━━━━━━━━━━━━━━━━━━\u001b[0m\u001b[37m\u001b[0m \u001b[1m2s\u001b[0m 2s/step\n",
      "\u001b[1m1/1\u001b[0m \u001b[32m━━━━━━━━━━━━━━━━━━━━\u001b[0m\u001b[37m\u001b[0m \u001b[1m1s\u001b[0m 1s/step\n",
      "\u001b[1m1/1\u001b[0m \u001b[32m━━━━━━━━━━━━━━━━━━━━\u001b[0m\u001b[37m\u001b[0m \u001b[1m1s\u001b[0m 1s/step\n",
      "\u001b[1m1/1\u001b[0m \u001b[32m━━━━━━━━━━━━━━━━━━━━\u001b[0m\u001b[37m\u001b[0m \u001b[1m1s\u001b[0m 1s/step\n",
      "\u001b[1m1/1\u001b[0m \u001b[32m━━━━━━━━━━━━━━━━━━━━\u001b[0m\u001b[37m\u001b[0m \u001b[1m1s\u001b[0m 1s/step\n",
      "\u001b[1m1/1\u001b[0m \u001b[32m━━━━━━━━━━━━━━━━━━━━\u001b[0m\u001b[37m\u001b[0m \u001b[1m2s\u001b[0m 2s/step\n",
      "\u001b[1m1/1\u001b[0m \u001b[32m━━━━━━━━━━━━━━━━━━━━\u001b[0m\u001b[37m\u001b[0m \u001b[1m1s\u001b[0m 941ms/step\n",
      "\u001b[1m1/1\u001b[0m \u001b[32m━━━━━━━━━━━━━━━━━━━━\u001b[0m\u001b[37m\u001b[0m \u001b[1m1s\u001b[0m 868ms/step\n",
      "\u001b[1m1/1\u001b[0m \u001b[32m━━━━━━━━━━━━━━━━━━━━\u001b[0m\u001b[37m\u001b[0m \u001b[1m1s\u001b[0m 1s/step\n",
      "\u001b[1m1/1\u001b[0m \u001b[32m━━━━━━━━━━━━━━━━━━━━\u001b[0m\u001b[37m\u001b[0m \u001b[1m2s\u001b[0m 2s/step\n",
      "\u001b[1m1/1\u001b[0m \u001b[32m━━━━━━━━━━━━━━━━━━━━\u001b[0m\u001b[37m\u001b[0m \u001b[1m1s\u001b[0m 1s/step\n",
      "\u001b[1m1/1\u001b[0m \u001b[32m━━━━━━━━━━━━━━━━━━━━\u001b[0m\u001b[37m\u001b[0m \u001b[1m2s\u001b[0m 2s/step\n",
      "\u001b[1m1/1\u001b[0m \u001b[32m━━━━━━━━━━━━━━━━━━━━\u001b[0m\u001b[37m\u001b[0m \u001b[1m1s\u001b[0m 1s/step\n",
      "\u001b[1m1/1\u001b[0m \u001b[32m━━━━━━━━━━━━━━━━━━━━\u001b[0m\u001b[37m\u001b[0m \u001b[1m1s\u001b[0m 1s/step\n",
      "\u001b[1m1/1\u001b[0m \u001b[32m━━━━━━━━━━━━━━━━━━━━\u001b[0m\u001b[37m\u001b[0m \u001b[1m2s\u001b[0m 2s/step\n",
      "\u001b[1m1/1\u001b[0m \u001b[32m━━━━━━━━━━━━━━━━━━━━\u001b[0m\u001b[37m\u001b[0m \u001b[1m1s\u001b[0m 1s/step\n",
      "\u001b[1m1/1\u001b[0m \u001b[32m━━━━━━━━━━━━━━━━━━━━\u001b[0m\u001b[37m\u001b[0m \u001b[1m1s\u001b[0m 1s/step\n",
      "\u001b[1m1/1\u001b[0m \u001b[32m━━━━━━━━━━━━━━━━━━━━\u001b[0m\u001b[37m\u001b[0m \u001b[1m1s\u001b[0m 1s/step\n",
      "\u001b[1m1/1\u001b[0m \u001b[32m━━━━━━━━━━━━━━━━━━━━\u001b[0m\u001b[37m\u001b[0m \u001b[1m2s\u001b[0m 2s/step\n",
      "\u001b[1m1/1\u001b[0m \u001b[32m━━━━━━━━━━━━━━━━━━━━\u001b[0m\u001b[37m\u001b[0m \u001b[1m2s\u001b[0m 2s/step\n",
      "\u001b[1m1/1\u001b[0m \u001b[32m━━━━━━━━━━━━━━━━━━━━\u001b[0m\u001b[37m\u001b[0m \u001b[1m1s\u001b[0m 1s/step\n",
      "\u001b[1m1/1\u001b[0m \u001b[32m━━━━━━━━━━━━━━━━━━━━\u001b[0m\u001b[37m\u001b[0m \u001b[1m2s\u001b[0m 2s/step\n",
      "\u001b[1m1/1\u001b[0m \u001b[32m━━━━━━━━━━━━━━━━━━━━\u001b[0m\u001b[37m\u001b[0m \u001b[1m1s\u001b[0m 1s/step\n",
      "\u001b[1m1/1\u001b[0m \u001b[32m━━━━━━━━━━━━━━━━━━━━\u001b[0m\u001b[37m\u001b[0m \u001b[1m1s\u001b[0m 1s/step\n",
      "\u001b[1m1/1\u001b[0m \u001b[32m━━━━━━━━━━━━━━━━━━━━\u001b[0m\u001b[37m\u001b[0m \u001b[1m2s\u001b[0m 2s/step\n",
      "\u001b[1m1/1\u001b[0m \u001b[32m━━━━━━━━━━━━━━━━━━━━\u001b[0m\u001b[37m\u001b[0m \u001b[1m1s\u001b[0m 1s/step\n",
      "\u001b[1m1/1\u001b[0m \u001b[32m━━━━━━━━━━━━━━━━━━━━\u001b[0m\u001b[37m\u001b[0m \u001b[1m2s\u001b[0m 2s/step\n",
      "\u001b[1m1/1\u001b[0m \u001b[32m━━━━━━━━━━━━━━━━━━━━\u001b[0m\u001b[37m\u001b[0m \u001b[1m2s\u001b[0m 2s/step\n",
      "\u001b[1m1/1\u001b[0m \u001b[32m━━━━━━━━━━━━━━━━━━━━\u001b[0m\u001b[37m\u001b[0m \u001b[1m2s\u001b[0m 2s/step\n",
      "\u001b[1m1/1\u001b[0m \u001b[32m━━━━━━━━━━━━━━━━━━━━\u001b[0m\u001b[37m\u001b[0m \u001b[1m1s\u001b[0m 1s/step\n",
      "\u001b[1m1/1\u001b[0m \u001b[32m━━━━━━━━━━━━━━━━━━━━\u001b[0m\u001b[37m\u001b[0m \u001b[1m1s\u001b[0m 1s/step\n",
      "\u001b[1m1/1\u001b[0m \u001b[32m━━━━━━━━━━━━━━━━━━━━\u001b[0m\u001b[37m\u001b[0m \u001b[1m2s\u001b[0m 2s/step\n",
      "\u001b[1m1/1\u001b[0m \u001b[32m━━━━━━━━━━━━━━━━━━━━\u001b[0m\u001b[37m\u001b[0m \u001b[1m1s\u001b[0m 1s/step\n",
      "\u001b[1m1/1\u001b[0m \u001b[32m━━━━━━━━━━━━━━━━━━━━\u001b[0m\u001b[37m\u001b[0m \u001b[1m1s\u001b[0m 1s/step\n",
      "\u001b[1m1/1\u001b[0m \u001b[32m━━━━━━━━━━━━━━━━━━━━\u001b[0m\u001b[37m\u001b[0m \u001b[1m2s\u001b[0m 2s/step\n",
      "\u001b[1m1/1\u001b[0m \u001b[32m━━━━━━━━━━━━━━━━━━━━\u001b[0m\u001b[37m\u001b[0m \u001b[1m1s\u001b[0m 1s/step\n",
      "\u001b[1m1/1\u001b[0m \u001b[32m━━━━━━━━━━━━━━━━━━━━\u001b[0m\u001b[37m\u001b[0m \u001b[1m1s\u001b[0m 1s/step\n",
      "\u001b[1m1/1\u001b[0m \u001b[32m━━━━━━━━━━━━━━━━━━━━\u001b[0m\u001b[37m\u001b[0m \u001b[1m1s\u001b[0m 1s/step\n",
      "\u001b[1m1/1\u001b[0m \u001b[32m━━━━━━━━━━━━━━━━━━━━\u001b[0m\u001b[37m\u001b[0m \u001b[1m1s\u001b[0m 1s/step\n",
      "\u001b[1m1/1\u001b[0m \u001b[32m━━━━━━━━━━━━━━━━━━━━\u001b[0m\u001b[37m\u001b[0m \u001b[1m1s\u001b[0m 1s/step\n",
      "\u001b[1m1/1\u001b[0m \u001b[32m━━━━━━━━━━━━━━━━━━━━\u001b[0m\u001b[37m\u001b[0m \u001b[1m2s\u001b[0m 2s/step\n",
      "\u001b[1m1/1\u001b[0m \u001b[32m━━━━━━━━━━━━━━━━━━━━\u001b[0m\u001b[37m\u001b[0m \u001b[1m1s\u001b[0m 1s/step\n",
      "\u001b[1m1/1\u001b[0m \u001b[32m━━━━━━━━━━━━━━━━━━━━\u001b[0m\u001b[37m\u001b[0m \u001b[1m1s\u001b[0m 1s/step\n",
      "\u001b[1m1/1\u001b[0m \u001b[32m━━━━━━━━━━━━━━━━━━━━\u001b[0m\u001b[37m\u001b[0m \u001b[1m1s\u001b[0m 1s/step\n",
      "\u001b[1m1/1\u001b[0m \u001b[32m━━━━━━━━━━━━━━━━━━━━\u001b[0m\u001b[37m\u001b[0m \u001b[1m1s\u001b[0m 1s/step\n",
      "\u001b[1m1/1\u001b[0m \u001b[32m━━━━━━━━━━━━━━━━━━━━\u001b[0m\u001b[37m\u001b[0m \u001b[1m1s\u001b[0m 717ms/step\n",
      "----------------------------------------------------------------------------------------------------\n",
      "Word Error Rate: 0.6072\n",
      "----------------------------------------------------------------------------------------------------\n",
      "Target    : कहावकील तो सेठ जी हैं\n",
      "Prediction: कहावतील तो से जी है\n",
      "----------------------------------------------------------------------------------------------------\n",
      "Target    : जैसे पिछले दो दिनों से मौनव्रत धारण कर रखा हो और\n",
      "Prediction: कैसी किसले तोदिना सी मोलवरसता कर रका औ और\n",
      "----------------------------------------------------------------------------------------------------\n",
      "Target    : अगर मुंशी सत्यनाराण की नीयत खराब होती\n",
      "Prediction: पर मुंशी सतेनाराण जीनय करा होती\n",
      "----------------------------------------------------------------------------------------------------\n",
      "Target    : मेरा पे कभी भी बर् से नहीं ढकेगा\n",
      "Prediction: मेरा पे कभी भी बरब से नहीं बठेगा\n",
      "----------------------------------------------------------------------------------------------------\n",
      "Target    : हामिद का दिल बैठ गया\n",
      "Prediction: हम मिद का दिर बेठ गया\n",
      "----------------------------------------------------------------------------------------------------\n"
     ]
    }
   ],
   "source": [
    "predictions = []\n",
    "targets = []\n",
    "for batch in val_dataset:\n",
    "    X, y = batch\n",
    "    batch_predictions = model.predict(X)\n",
    "    batch_predictions = decode_batch_predictions(batch_predictions)\n",
    "    predictions.extend(batch_predictions)\n",
    "    for label in y:\n",
    "        label = tf.strings.reduce_join(num_to_char(label)).numpy().decode(\"utf-8\")\n",
    "        targets.append(label)\n",
    "wer_score = wer(targets, predictions)\n",
    "print(\"-\" * 100)\n",
    "print(f\"Word Error Rate: {wer_score:.4f}\")\n",
    "print(\"-\" * 100)\n",
    "for i in np.random.randint(0, len(predictions), 5):\n",
    "    print(f\"Target    : {targets[i]}\")\n",
    "    print(f\"Prediction: {predictions[i]}\")\n",
    "    print(\"-\" * 100)"
   ]
  },
  {
   "cell_type": "markdown",
   "metadata": {},
   "source": [
    "## Additional\n"
   ]
  },
  {
   "cell_type": "code",
   "execution_count": 58,
   "metadata": {},
   "outputs": [
    {
     "name": "stdout",
     "output_type": "stream",
     "text": [
      "\u001b[1m1/1\u001b[0m \u001b[32m━━━━━━━━━━━━━━━━━━━━\u001b[0m\u001b[37m\u001b[0m \u001b[1m0s\u001b[0m 419ms/step\n",
      "Playing audio for file: 3773_097\n"
     ]
    },
    {
     "data": {
      "text/html": [
       "\n",
       "                <audio  controls=\"controls\" >\n",
       "                    <source src=\"data:audio/x-wav;base64,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\" type=\"audio/x-wav\" />\n",
       "                    Your browser does not support the audio element.\n",
       "                </audio>\n",
       "              "
      ],
      "text/plain": [
       "<IPython.lib.display.Audio object>"
      ]
     },
     "metadata": {},
     "output_type": "display_data"
    },
    {
     "name": "stdout",
     "output_type": "stream",
     "text": [
      "****************************************************************************************************\n",
      "Original Transcription  : पूरे भारत का भ्रमण करेंगे\n",
      "Predicted Transcription : परे धास का दर्मन करेंगे\n",
      "****************************************************************************************************\n",
      "\n",
      "\n",
      "\n",
      "\u001b[1m1/1\u001b[0m \u001b[32m━━━━━━━━━━━━━━━━━━━━\u001b[0m\u001b[37m\u001b[0m \u001b[1m0s\u001b[0m 407ms/step\n",
      "Playing audio for file: 2144_055\n"
     ]
    },
    {
     "data": {
      "text/html": [
       "\n",
       "                <audio  controls=\"controls\" >\n",
       "                    <source src=\"data:audio/x-wav;base64,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\" type=\"audio/x-wav\" />\n",
       "                    Your browser does not support the audio element.\n",
       "                </audio>\n",
       "              "
      ],
      "text/plain": [
       "<IPython.lib.display.Audio object>"
      ]
     },
     "metadata": {},
     "output_type": "display_data"
    },
    {
     "name": "stdout",
     "output_type": "stream",
     "text": [
      "****************************************************************************************************\n",
      "Original Transcription  : वह बहुत दुखी हुए और\n",
      "Predicted Transcription : तो ुी सुें और\n",
      "****************************************************************************************************\n",
      "\n",
      "\n",
      "\n",
      "\u001b[1m1/1\u001b[0m \u001b[32m━━━━━━━━━━━━━━━━━━━━\u001b[0m\u001b[37m\u001b[0m \u001b[1m0s\u001b[0m 413ms/step\n"
     ]
    },
    {
     "ename": "IndexError",
     "evalue": "index 0 is out of bounds for axis 0 with size 0",
     "output_type": "error",
     "traceback": [
      "\u001b[0;31m---------------------------------------------------------------------------\u001b[0m",
      "\u001b[0;31mIndexError\u001b[0m                                Traceback (most recent call last)",
      "Cell \u001b[0;32mIn[58], line 29\u001b[0m\n\u001b[1;32m     26\u001b[0m         \u001b[38;5;28mprint\u001b[39m(\u001b[38;5;124m\"\u001b[39m\u001b[38;5;124m*\u001b[39m\u001b[38;5;124m\"\u001b[39m \u001b[38;5;241m*\u001b[39m \u001b[38;5;241m100\u001b[39m)\n\u001b[1;32m     27\u001b[0m         \u001b[38;5;28mprint\u001b[39m(\u001b[38;5;124m\"\u001b[39m\u001b[38;5;130;01m\\n\u001b[39;00m\u001b[38;5;130;01m\\n\u001b[39;00m\u001b[38;5;124m\"\u001b[39m)\n\u001b[0;32m---> 29\u001b[0m \u001b[43mtest_random_sample_with_audio\u001b[49m\u001b[43m(\u001b[49m\u001b[43mmodel\u001b[49m\u001b[43m,\u001b[49m\u001b[43m \u001b[49m\u001b[43mval_dataset\u001b[49m\u001b[43m,\u001b[49m\u001b[43m \u001b[49m\u001b[43mnum_samples\u001b[49m\u001b[38;5;241;43m=\u001b[39;49m\u001b[38;5;241;43m5\u001b[39;49m\u001b[43m)\u001b[49m\n",
      "Cell \u001b[0;32mIn[58], line 17\u001b[0m, in \u001b[0;36mtest_random_sample_with_audio\u001b[0;34m(model, dataset, num_samples)\u001b[0m\n\u001b[1;32m     13\u001b[0m target_label \u001b[38;5;241m=\u001b[39m tf\u001b[38;5;241m.\u001b[39mstrings\u001b[38;5;241m.\u001b[39mreduce_join(num_to_char(y))\u001b[38;5;241m.\u001b[39mnumpy()\u001b[38;5;241m.\u001b[39mdecode(\u001b[38;5;124m\"\u001b[39m\u001b[38;5;124mutf-8\u001b[39m\u001b[38;5;124m\"\u001b[39m)\n\u001b[1;32m     15\u001b[0m spectrogram, _ \u001b[38;5;241m=\u001b[39m X\u001b[38;5;241m.\u001b[39mnumpy(), y\u001b[38;5;241m.\u001b[39mnumpy()\n\u001b[0;32m---> 17\u001b[0m audio_file_name \u001b[38;5;241m=\u001b[39m \u001b[43mdf_val\u001b[49m\u001b[43m[\u001b[49m\u001b[43mdf_val\u001b[49m\u001b[43m[\u001b[49m\u001b[38;5;124;43m'\u001b[39;49m\u001b[38;5;124;43mtranscription\u001b[39;49m\u001b[38;5;124;43m'\u001b[39;49m\u001b[43m]\u001b[49m\u001b[43m \u001b[49m\u001b[38;5;241;43m==\u001b[39;49m\u001b[43m \u001b[49m\u001b[43mtarget_label\u001b[49m\u001b[43m]\u001b[49m\u001b[43m[\u001b[49m\u001b[38;5;124;43m'\u001b[39;49m\u001b[38;5;124;43mfile_name\u001b[39;49m\u001b[38;5;124;43m'\u001b[39;49m\u001b[43m]\u001b[49m\u001b[38;5;241;43m.\u001b[39;49m\u001b[43mvalues\u001b[49m\u001b[43m[\u001b[49m\u001b[38;5;241;43m0\u001b[39;49m\u001b[43m]\u001b[49m\n\u001b[1;32m     18\u001b[0m audio_path \u001b[38;5;241m=\u001b[39m wavs_path \u001b[38;5;241m+\u001b[39m audio_file_name \u001b[38;5;241m+\u001b[39m \u001b[38;5;124m\"\u001b[39m\u001b[38;5;124m.wav\u001b[39m\u001b[38;5;124m\"\u001b[39m\n\u001b[1;32m     20\u001b[0m \u001b[38;5;28mprint\u001b[39m(\u001b[38;5;124mf\u001b[39m\u001b[38;5;124m\"\u001b[39m\u001b[38;5;124mPlaying audio for file: \u001b[39m\u001b[38;5;132;01m{\u001b[39;00maudio_file_name\u001b[38;5;132;01m}\u001b[39;00m\u001b[38;5;124m\"\u001b[39m)\n",
      "\u001b[0;31mIndexError\u001b[0m: index 0 is out of bounds for axis 0 with size 0"
     ]
    }
   ],
   "source": [
    "import random\n",
    "import IPython.display as ipd\n",
    "\n",
    "def test_random_sample_with_audio(model, dataset, num_samples=5):\n",
    "    val_samples = list(dataset.unbatch().take(num_samples))\n",
    "    \n",
    "    random.shuffle(val_samples)\n",
    "    \n",
    "    for X, y in val_samples:\n",
    "        batch_prediction = model.predict(tf.expand_dims(X, axis=0))\n",
    "        batch_prediction_decoded = decode_batch_predictions(batch_prediction)[0]\n",
    "        \n",
    "        target_label = tf.strings.reduce_join(num_to_char(y)).numpy().decode(\"utf-8\")\n",
    "        \n",
    "        spectrogram, _ = X.numpy(), y.numpy()\n",
    "        \n",
    "        audio_file_name = df_val[df_val['transcription'] == target_label]['file_name'].values[0]\n",
    "        audio_path = wavs_path + audio_file_name + \".wav\"\n",
    "        \n",
    "        print(f\"Playing audio for file: {audio_file_name}\")\n",
    "        ipd.display(ipd.Audio(audio_path))\n",
    "\n",
    "        print(\"*\" * 100)\n",
    "        print(f\"Original Transcription  : {target_label}\")\n",
    "        print(f\"Predicted Transcription : {batch_prediction_decoded}\")\n",
    "        print(\"*\" * 100)\n",
    "        print(\"\\n\\n\")\n",
    "\n",
    "test_random_sample_with_audio(model, val_dataset, num_samples=5)"
   ]
  },
  {
   "cell_type": "code",
   "execution_count": null,
   "metadata": {},
   "outputs": [],
   "source": []
  }
 ],
 "metadata": {
  "kernelspec": {
   "display_name": "Python 3",
   "language": "python",
   "name": "python3"
  },
  "language_info": {
   "codemirror_mode": {
    "name": "ipython",
    "version": 3
   },
   "file_extension": ".py",
   "mimetype": "text/x-python",
   "name": "python",
   "nbconvert_exporter": "python",
   "pygments_lexer": "ipython3",
   "version": "3.10.12"
  }
 },
 "nbformat": 4,
 "nbformat_minor": 2
}
